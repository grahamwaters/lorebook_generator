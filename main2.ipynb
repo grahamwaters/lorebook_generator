{
 "cells": [
  {
   "cell_type": "code",
   "execution_count": 54,
   "metadata": {},
   "outputs": [
    {
     "name": "stderr",
     "output_type": "stream",
     "text": [
      "[nltk_data] Downloading package stopwords to\n",
      "[nltk_data]     /Users/grahamwaters/nltk_data...\n",
      "[nltk_data]   Package stopwords is already up-to-date!\n"
     ]
    }
   ],
   "source": [
    "# Python File\n",
    "import pandas as pd\n",
    "import os\n",
    "from tqdm import tqdm\n",
    "import json\n",
    "import uuid\n",
    "import nltk\n",
    "nltk.download('stopwords')\n",
    "from nltk.tokenize import sent_tokenize\n",
    "from nltk.corpus import stopwords\n",
    "\n",
    "from nltk.tokenize import word_tokenize\n",
    "from nltk.tag import pos_tag\n",
    "import wikipedia\n",
    "import tqdm\n",
    "from tqdm import tqdm\n",
    "import datetime\n",
    "import warnings\n",
    "warnings.filterwarnings('ignore')\n",
    "# get the list of names from the topics file\n",
    "stop_words = set(stopwords.words('english'))\n",
    "\n",
    "# Functions\n",
    "\n",
    "def preprocess(sent):\n",
    "    sent = nltk.word_tokenize(sent)\n",
    "    sent = nltk.pos_tag(sent)\n",
    "    return sent\n",
    "\n",
    "def get_the_entities(content):\n",
    "    # get the entities from the text\n",
    "    entities = []\n",
    "    for sent in sent_tokenize(content):\n",
    "        for chunk in nltk.ne_chunk(preprocess(sent)):\n",
    "            if hasattr(chunk, 'label'):\n",
    "                entities.append(' '.join(c[0] for c in chunk.leaves()))\n",
    "    return entities\n",
    "\n",
    "\n",
    "def generate_entries_from_list(list_of_names):\n",
    "    # enter a list of people's names and get a list of entries, from wikipedia\n",
    "    entries = []\n",
    "    entry_names = []\n",
    "    entry_keywords = []\n",
    "    for name in tqdm(list_of_names):\n",
    "        if name != '':\n",
    "            try:\n",
    "                entry = wikipedia.search(name)[0] # get the first result from wikipedia, which is usually the most relevant\n",
    "                page = wikipedia.page(entry)\n",
    "                entry = page.content\n",
    "                entry = re.sub(r'\\([^)]*\\)', ' ', entry) # remove anything in brackets\n",
    "                # strip the text of all special characters, and any escaped characters using regex\n",
    "                #!entry = re.sub(r'[^\\w\\s]',' ',entry)\n",
    "                # remove any nonalpha characters\n",
    "                entry = re.sub(r\"[^a-zA-Z0-9,.?!'\\;: ]\",' ',entry).strip()\n",
    "                entry = re.sub(r'\\n',' ',entry)\n",
    "\n",
    "                # \\u patterns for unicode characters need to be removed, and replaced with the actual character\n",
    "                # remove all unicode characters\n",
    "                entry = re.sub(r'\\\\u[0-9a-fA-F]{4}',' ',entry)\n",
    "\n",
    "\n",
    "                entry = re.sub(r'\\\\',' ',entry)\n",
    "                entry = entry.replace('  ', ' ')\n",
    "                entry = entry.replace('  ', ' ')\n",
    "                entries.append(entry)\n",
    "                entry_names.append(page.title)\n",
    "                # entry_keywords.append(get_the_entities(entry))\n",
    "                # there may be related links in the wikipedia page, which we can also add to the list of keywords later\n",
    "                related_links = page.links\n",
    "                entry_keywords.append(related_links)\n",
    "            except:\n",
    "                print('could not find entry for', name)\n",
    "                try:\n",
    "                    entry = wikipedia.search(name)[1] # get the second result from wikipedia, which is usually the most relevant\n",
    "                    entries.append(entry)\n",
    "                    entry_names.append(page.title)\n",
    "                    # entry_keywords.append(entry_keywords)\n",
    "                except:\n",
    "                    print('could not find summary for', name)\n",
    "\n",
    "\n",
    "    # generate fake ids for the entries in the format: 642723d1-a4a1-47a3-a63f-d36aee33de1b\n",
    "    ids = []\n",
    "    for i in range(len(entries)):\n",
    "        ids.append(str(uuid.uuid4()))\n",
    "    return entries, entry_names, ids,entry_keywords\n",
    "\n",
    "\n",
    "\n",
    "def prev():\n",
    "    with open('lorebook_generated.lorebook') as f:\n",
    "        lore_dict = json.load(f)\n",
    "\n",
    "    topics_list = []\n",
    "    entry_keys = []\n",
    "    # input_text = 'start'\n",
    "    # while input_text != '':\n",
    "    #     input_text = input('Enter a topic: ')\n",
    "    #     topics_list.append(input_text)\n",
    "    # read in the list of topics from the characters.csv file\n",
    "    topics_list = pd.read_csv('characters.csv')['Name'].tolist()\n",
    "    assert(type(topics_list) == list) # make sure it's a list\n",
    "    # entries, entry_names = generate_entries_from_list(lore_dict['people'])\n",
    "\n",
    "    # generate only the entries in topics_list that are not already in the lorebook\n",
    "    #existing_topics = [entry['name'] for entry in lore_dict['entries']]\n",
    "    #topics_list = [x for x in topics_list if x not in lore_dict]\n",
    "\n",
    "    entries, entry_names, ids,entry_keywords = generate_entries_from_list(topics_list)\n",
    "    # add the entries to the lorebook dictionary. All we have to change is the text, display name, create a random id, and add the keys (which are the words in the text). All other fields can be copied from the first entry.\n",
    "\n",
    "    # create a list of the keys for each entry (all proper nouns, places and dates)\n",
    "    keys = []\n",
    "    keys_dict = {}\n",
    "    entry_id = 0\n",
    "    for entry in tqdm(entries):\n",
    "        print(f'Processing entry {entry[0:50]}...')\n",
    "        keys = [] # reset the keys list, so we don't have duplicate keys\n",
    "        for word, tag in tqdm(preprocess(entry)):\n",
    "            if (tag == 'NNP' or tag == 'NNPS' or tag == 'CD') and word not in keys\\\n",
    "                and word not in stop_words and len(word) > 2: # remove stop words, and numbers greater than 2020 (which are probably years)\n",
    "                try:\n",
    "                    if int(word) < 2020:\n",
    "                        continue\n",
    "                except:\n",
    "                    pass\n",
    "                keys.append(word)\n",
    "        # add further keywords from the related links\n",
    "        # for linklist in entry_keywords:\n",
    "        #     for word in linklist:\n",
    "        #         if word not in keys:\n",
    "        #             keys.append(word)\n",
    "        prev_keys = keys # get the previous keys\n",
    "        keys_dict[entry_id] = prev_keys + entry_keys # add the new keys to the previous keys\n",
    "        # remove dupe keys\n",
    "        res = []\n",
    "        for i in keys_dict[entry_id]:\n",
    "            if i not in res:\n",
    "                res.append(i)\n",
    "\n",
    "\n",
    "\n",
    "        # remove YouTube, Wikipedia, and other website links from res list\n",
    "        res = [i for i in res if not i.startswith('http')]\n",
    "        res = [i for i in res if not i.startswith('www')]\n",
    "        res = [i for i in res if not i.startswith('YouTube')]\n",
    "        res = [i for i in res if not i.startswith('Wikipedia')]\n",
    "        res = [i for i in res if not i.startswith('List')]\n",
    "\n",
    "        # remove stop words from res list\n",
    "        res = [i for i in res if not i in stop_words]\n",
    "        # remove words that are less than 4 characters\n",
    "        res = [i for i in res if len(i) > 3]\n",
    "        copy = res.copy()\n",
    "        copy = [i.lower() for i in copy]\n",
    "        res = [i for i in res if copy.count(i.lower()) < 2]\n",
    "        keys_dict[entry_id] = res\n",
    "        entry_id += 1\n",
    "\n",
    "\n",
    "\n",
    "\n",
    "    context_config = {\n",
    "            \"prefix\": \"\",\n",
    "            \"suffix\": \"\\n\",\n",
    "            \"tokenBudget\": 100, # max 2048\n",
    "            \"reservedTokens\": 0,\n",
    "            \"budgetPriority\": 400,\n",
    "            \"trimDirection\": \"trimBottom\",\n",
    "            \"insertionType\": \"newline\",\n",
    "            \"maximumTrimType\": \"sentence\",\n",
    "            \"insertionPosition\": -1\n",
    "        }\n",
    "\n",
    "    # add the entries to the lorebook dictionary\n",
    "\n",
    "    for i in range(len(entries)):\n",
    "        # append blanks to lore_dict['entries'] to make room for the new entries\n",
    "        try:\n",
    "            lore_dict['entries'][i] = {}\n",
    "        except Exception as e:\n",
    "            print(e)\n",
    "            #lore_dict['entries'].append({'text': entries[i]})\n",
    "            lore_dict['entries'].append({})\n",
    "\n",
    "    for i in tqdm(range(len(entries))):\n",
    "        # lore_dict > entries > text\n",
    "        # add a new entry to the lorebook dictionary\n",
    "        lore_dict['entries'][i]['text'] = str(entries[i])\n",
    "        # lore_dict > entries > contextConfig\n",
    "        lore_dict['entries'][i]['contextConfig'] = context_config\n",
    "        # lore_dict > entries > lastUpdatedAt\n",
    "        lore_dict['entries'][i]['lastUpdatedAt'] = 1649360732691\n",
    "        # lore_dict > entries > displayName\n",
    "        lore_dict['entries'][i]['displayName'] = entry_names[i] # todo - was causing builtin method error for some reason in the final json file\n",
    "        # lore_dict > entries > id\n",
    "        lore_dict['entries'][i]['id'] = str(ids[i])\n",
    "        lore_dict['entries'][i]['searchRange'] = 10000\n",
    "        # lore_dict > entries > keys\n",
    "        lore_dict['entries'][i]['keys'] = keys_dict[i] #\n",
    "        #*lore_dict['entries'][i]['keys'] = [] # blank for now\n",
    "    print(f'Saving {len(entries)} entries to lorebook')\n",
    "\n",
    "    # save the new lorebook dictionary as a json file called lorebook_generated.lorebook\n",
    "\n",
    "    # save the new lorebook dictionary as a json file called lorebook_generated.lorebook\n",
    "    with open('lorebook_generated.lorebook', 'w+') as f:\n",
    "        json.dump(lore_dict, f, indent=4)\n",
    "\n",
    "    return lore_dict\n",
    "\n"
   ]
  },
  {
   "cell_type": "code",
   "execution_count": 55,
   "metadata": {},
   "outputs": [],
   "source": [
    "\n",
    "def create_keys(entries):\n",
    "    # create a list of the keys for each entry (all proper nouns, places and dates)\n",
    "    keys = []\n",
    "    keys_dict = {}\n",
    "    entry_id = 0\n",
    "    for entry in tqdm(entries):\n",
    "        print(f'Processing entry {entry[0:50]}...')\n",
    "        keys = [] # reset the keys list, so we don't have duplicate keys\n",
    "        for word, tag in tqdm(preprocess(entry)):\n",
    "            if (tag == 'NNP' or tag == 'NNPS' or tag == 'CD') and word not in keys\\\n",
    "                and word not in stop_words and len(word) > 2: # remove stop words, and numbers greater than 2020 (which are probably years)\n",
    "                try:\n",
    "                    if int(word) < 2020:\n",
    "                        continue\n",
    "                except:\n",
    "                    pass\n",
    "                keys.append(word)\n",
    "        # add further keywords from the related links\n",
    "        # for linklist in entry_keywords:\n",
    "        #     for word in linklist:\n",
    "        #         if word not in keys:\n",
    "        #             keys.append(word)\n",
    "        #prev_keys = keys # get the previous keys\n",
    "        try:\n",
    "            keys_dict[entry_id] = prev_keys + entry_keys # add the new keys to the previous keys\n",
    "        except:\n",
    "            keys_dict[entry_id] = keys\n",
    "        # remove dupe keys\n",
    "        res = []\n",
    "        for i in keys_dict[entry_id]:\n",
    "            if i not in res:\n",
    "                res.append(i)\n",
    "\n",
    "\n",
    "\n",
    "        # remove YouTube, Wikipedia, and other website links from res list\n",
    "        res = [i for i in res if not i.startswith('http')]\n",
    "        res = [i for i in res if not i.startswith('www')]\n",
    "        res = [i for i in res if not i.startswith('YouTube')]\n",
    "        res = [i for i in res if not i.startswith('Wikipedia')]\n",
    "        res = [i for i in res if not i.startswith('List')]\n",
    "\n",
    "        # remove stop words from res list\n",
    "        res = [i for i in res if not i in stop_words]\n",
    "        # remove words that are less than 4 characters\n",
    "        res = [i for i in res if len(i) > 3]\n",
    "        copy = res.copy()\n",
    "        copy = [i.lower() for i in copy]\n",
    "        res = [i for i in res if copy.count(i.lower()) < 2]\n",
    "        keys_dict[entry_id] = res\n",
    "        entry_id += 1\n",
    "    return keys_dict"
   ]
  },
  {
   "cell_type": "code",
   "execution_count": 56,
   "metadata": {},
   "outputs": [],
   "source": [
    "\n",
    "context_config = {\n",
    "        \"prefix\": \"\",\n",
    "        \"suffix\": \"\\n\",\n",
    "        \"tokenBudget\": 100, # max 2048\n",
    "        \"reservedTokens\": 0,\n",
    "        \"budgetPriority\": 400,\n",
    "        \"trimDirection\": \"trimBottom\",\n",
    "        \"insertionType\": \"newline\",\n",
    "        \"maximumTrimType\": \"sentence\",\n",
    "        \"insertionPosition\": -1\n",
    "    }\n",
    "\n",
    "\n",
    "\n",
    "def generate_lorebook(lore_dict, characters, entries, entry_names, ids):\n",
    "    # add the entries to the lorebook dictionary. All we have to change is the text, display name, create a random id, and add the keys (which are the words in the text). All other fields can be copied from the first entry.\n",
    "    keys_dict = create_keys(entries) # create the keys for each entry in the entries list\n",
    "    global context_config\n",
    "    \n",
    "    for i in range(len(entries)):\n",
    "        # append blanks to lore_dict['entries'] to make room for the new entries\n",
    "        try:\n",
    "            lore_dict['entries'][i] = {}\n",
    "        except Exception as e:\n",
    "            print(e)\n",
    "            #lore_dict['entries'].append({'text': entries[i]})\n",
    "            lore_dict['entries'].append({})\n",
    "    for i in tqdm(range(len(entries))):\n",
    "        # lore_dict > entries > text\n",
    "        # add a new entry to the lorebook dictionary\n",
    "        lore_dict['entries'][i]['text'] = str(entries[i])\n",
    "        # lore_dict > entries > contextConfig\n",
    "        lore_dict['entries'][i]['contextConfig'] = context_config\n",
    "        # lore_dict > entries > lastUpdatedAt\n",
    "        lore_dict['entries'][i]['lastUpdatedAt'] = 1649360732691\n",
    "        # lore_dict > entries > displayName\n",
    "        lore_dict['entries'][i]['displayName'] = entry_names[i]\n",
    "        # lore_dict > entries > id\n",
    "        lore_dict['entries'][i]['id'] = str(uuid.uuid4())\n",
    "        lore_dict['entries'][i]['searchRange'] = 10000\n",
    "        # lore_dict > entries > keys\n",
    "        lore_dict['entries'][i]['keys'] = keys_dict[i] #\n",
    "        #*lore_dict['entries'][i]['keys'] = [] # blank for now\n",
    "    print(f'Saving {len(entries)} entries to lorebook')\n",
    "\n"
   ]
  },
  {
   "cell_type": "code",
   "execution_count": 57,
   "metadata": {},
   "outputs": [],
   "source": [
    "\n",
    "def main():\n",
    "    # generate a lorebook.lorebook file from the articles (text files) in the wikipedia_pages directory.\n",
    "    # Files:\n",
    "    # lorebook_example.lorebook - the example lorebook file\n",
    "    # lorebook_generated.lorebook - the generated lorebook file\n",
    "    # characters.csv - a list of characters to generate entries for (one per line)\n",
    "    # wikipedia_pages - a directory containing the text files of wikipedia articles to generate entries from (one per file), entry name will be the filename\n",
    "\n",
    "    # read in the lorebook_generated.lorebook file (if it exists)\n",
    "    try:\n",
    "        with open('lorebook_generated.lorebook', 'r') as f:\n",
    "            lore_dict = json.load(f)\n",
    "    except:\n",
    "        lore_dict = {}\n",
    "    \n",
    "\n",
    "    # read in the characters.csv file\n",
    "    with open('characters.csv', 'r') as f:\n",
    "        characters = f.read().splitlines()\n",
    "\n",
    "    # read in the wikipedia pages from each file in the wikipedia_pages directory\n",
    "    # each file is a wikipedia article, and the entry name will be the filename\n",
    "    # the text from each file will be added to the entries list\n",
    "    # the entry name will be added to the entry_names list\n",
    "    # the entry id will be added to the ids list\n",
    "    entries = []\n",
    "    entry_names = []\n",
    "    ids = []\n",
    "    for filename in tqdm(os.listdir('wikipedia_pages')):\n",
    "        with open(f'wikipedia_pages/{filename}', 'r') as f:\n",
    "            entries.append(f.read())\n",
    "            entry_names.append(filename)\n",
    "            ids.append(str(uuid.uuid4()))\n",
    "    \n",
    "    # generate the lorebook\n",
    "    lore_dict = generate_lorebook(lore_dict, characters, entries, entry_names, ids)\n",
    "    print('Done')"
   ]
  },
  {
   "cell_type": "code",
   "execution_count": 58,
   "metadata": {},
   "outputs": [
    {
     "name": "stderr",
     "output_type": "stream",
     "text": [
      "100%|██████████| 4109/4109 [00:35<00:00, 117.18it/s] \n",
      "  0%|          | 0/4109 [00:00<?, ?it/s]"
     ]
    },
    {
     "name": "stdout",
     "output_type": "stream",
     "text": [
      "Processing entry In Catholic tradition, the Five Holy Wounds, also ...\n"
     ]
    },
    {
     "name": "stderr",
     "output_type": "stream",
     "text": [
      "100%|██████████| 2470/2470 [00:00<00:00, 505140.71it/s]\n",
      "  0%|          | 1/4109 [00:00<12:42,  5.39it/s]"
     ]
    },
    {
     "name": "stdout",
     "output_type": "stream",
     "text": [
      "Processing entry 1745 was a common year starting on Friday of the G...\n"
     ]
    },
    {
     "name": "stderr",
     "output_type": "stream",
     "text": [
      "100%|██████████| 1952/1952 [00:00<00:00, 276644.08it/s]\n",
      "  0%|          | 2/4109 [00:00<12:02,  5.68it/s]"
     ]
    },
    {
     "name": "stdout",
     "output_type": "stream",
     "text": [
      "Processing entry The New Yorker, A Wyndham Hotel is a 43 story Art ...\n"
     ]
    },
    {
     "name": "stderr",
     "output_type": "stream",
     "text": [
      "100%|██████████| 1597/1597 [00:00<00:00, 508448.72it/s]\n",
      "  0%|          | 3/4109 [00:00<12:03,  5.68it/s]"
     ]
    },
    {
     "name": "stdout",
     "output_type": "stream",
     "text": [
      "Processing entry Bengali , generally known by its endonym Bangla , ...\n"
     ]
    },
    {
     "name": "stderr",
     "output_type": "stream",
     "text": [
      "100%|██████████| 6005/6005 [00:00<00:00, 635516.64it/s]\n",
      "  0%|          | 4/4109 [00:01<20:06,  3.40it/s]"
     ]
    },
    {
     "name": "stdout",
     "output_type": "stream",
     "text": [
      "Processing entry Baron Louis Gerard De Geer af Finsp ng was a Swedi...\n"
     ]
    },
    {
     "name": "stderr",
     "output_type": "stream",
     "text": [
      "100%|██████████| 629/629 [00:00<00:00, 394116.70it/s]\n",
      "  0%|          | 5/4109 [00:01<15:20,  4.46it/s]"
     ]
    },
    {
     "name": "stdout",
     "output_type": "stream",
     "text": [
      "Processing entry Douglas Graham Shearer was a Canadian American pio...\n"
     ]
    },
    {
     "name": "stderr",
     "output_type": "stream",
     "text": [
      "100%|██████████| 653/653 [00:00<00:00, 256786.10it/s]\n"
     ]
    },
    {
     "name": "stdout",
     "output_type": "stream",
     "text": [
      "Processing entry Rhodesia or Zambesia is a historical region in sou...\n"
     ]
    },
    {
     "name": "stderr",
     "output_type": "stream",
     "text": [
      "100%|██████████| 902/902 [00:00<00:00, 418780.41it/s]\n",
      "  0%|          | 7/4109 [00:01<10:38,  6.42it/s]"
     ]
    },
    {
     "name": "stdout",
     "output_type": "stream",
     "text": [
      "Processing entry Jean Paul Charles Aymard Sartre was one of the key...\n"
     ]
    },
    {
     "name": "stderr",
     "output_type": "stream",
     "text": [
      "100%|██████████| 8344/8344 [00:00<00:00, 374574.80it/s]\n",
      "  0%|          | 8/4109 [00:01<19:38,  3.48it/s]"
     ]
    },
    {
     "name": "stdout",
     "output_type": "stream",
     "text": [
      "Processing entry January 1 or 1 January is the first day of the yea...\n"
     ]
    },
    {
     "name": "stderr",
     "output_type": "stream",
     "text": [
      "100%|██████████| 5383/5383 [00:00<00:00, 84877.55it/s]\n",
      "  0%|          | 9/4109 [00:02<25:30,  2.68it/s]"
     ]
    },
    {
     "name": "stdout",
     "output_type": "stream",
     "text": [
      "Processing entry January 2 is the second day of the year in the Gre...\n"
     ]
    },
    {
     "name": "stderr",
     "output_type": "stream",
     "text": [
      "100%|██████████| 2805/2805 [00:00<00:00, 133355.51it/s]\n",
      "  0%|          | 10/4109 [00:02<24:30,  2.79it/s]"
     ]
    },
    {
     "name": "stdout",
     "output_type": "stream",
     "text": [
      "Processing entry March 10 is the 69th day of the year in the Gregor...\n"
     ]
    },
    {
     "name": "stderr",
     "output_type": "stream",
     "text": [
      "100%|██████████| 2695/2695 [00:00<00:00, 171840.21it/s]\n",
      "  0%|          | 11/4109 [00:03<23:07,  2.95it/s]"
     ]
    },
    {
     "name": "stdout",
     "output_type": "stream",
     "text": [
      "Processing entry The Space Trilogy or Cosmic Trilogy is a series of...\n"
     ]
    },
    {
     "name": "stderr",
     "output_type": "stream",
     "text": [
      "100%|██████████| 2740/2740 [00:00<00:00, 621277.60it/s]\n",
      "  0%|          | 12/4109 [00:03<21:07,  3.23it/s]"
     ]
    },
    {
     "name": "stdout",
     "output_type": "stream",
     "text": [
      "Processing entry Harold Bingham Lee was an American religious leade...\n"
     ]
    },
    {
     "name": "stderr",
     "output_type": "stream",
     "text": [
      "100%|██████████| 1354/1354 [00:00<00:00, 474086.95it/s]\n",
      "  0%|          | 13/4109 [00:03<17:26,  3.92it/s]"
     ]
    },
    {
     "name": "stdout",
     "output_type": "stream",
     "text": [
      "Processing entry Hedy Lamarr was an Austrian born American film act...\n"
     ]
    },
    {
     "name": "stderr",
     "output_type": "stream",
     "text": [
      "100%|██████████| 4991/4991 [00:00<00:00, 525709.98it/s]\n",
      "  0%|          | 14/4109 [00:03<20:53,  3.27it/s]"
     ]
    },
    {
     "name": "stdout",
     "output_type": "stream",
     "text": [
      "Processing entry Morning Star  was a great chief of the Northern Ch...\n"
     ]
    },
    {
     "name": "stderr",
     "output_type": "stream",
     "text": [
      "100%|██████████| 964/964 [00:00<00:00, 1108971.22it/s]\n"
     ]
    },
    {
     "name": "stdout",
     "output_type": "stream",
     "text": [
      "Processing entry The following lists events that happened during 18...\n"
     ]
    },
    {
     "name": "stderr",
     "output_type": "stream",
     "text": [
      "100%|██████████| 469/469 [00:00<00:00, 108095.87it/s]\n",
      "  0%|          | 16/4109 [00:04<14:01,  4.86it/s]"
     ]
    },
    {
     "name": "stdout",
     "output_type": "stream",
     "text": [
      "Processing entry The Battle of Colenso was the third and final batt...\n"
     ]
    },
    {
     "name": "stderr",
     "output_type": "stream",
     "text": [
      "100%|██████████| 1839/1839 [00:00<00:00, 513810.62it/s]\n",
      "  0%|          | 17/4109 [00:04<13:12,  5.16it/s]"
     ]
    },
    {
     "name": "stdout",
     "output_type": "stream",
     "text": [
      "Processing entry The Armistice of 11 November 1918 was the armistic...\n"
     ]
    },
    {
     "name": "stderr",
     "output_type": "stream",
     "text": [
      "100%|██████████| 3795/3795 [00:00<00:00, 436906.67it/s]\n",
      "  0%|          | 18/4109 [00:04<16:28,  4.14it/s]"
     ]
    },
    {
     "name": "stdout",
     "output_type": "stream",
     "text": [
      "Processing entry The following events occurred in September 1970:  ...\n"
     ]
    },
    {
     "name": "stderr",
     "output_type": "stream",
     "text": [
      "100%|██████████| 8507/8507 [00:00<00:00, 175438.06it/s]\n",
      "  0%|          | 19/4109 [00:05<23:49,  2.86it/s]"
     ]
    },
    {
     "name": "stdout",
     "output_type": "stream",
     "text": [
      "Processing entry The Convention between the United Kingdom and Chin...\n"
     ]
    },
    {
     "name": "stderr",
     "output_type": "stream",
     "text": [
      "100%|██████████| 1109/1109 [00:00<00:00, 234213.65it/s]\n"
     ]
    },
    {
     "name": "stdout",
     "output_type": "stream",
     "text": [
      "Processing entry John William DiMaggio is an American actor. His va...\n"
     ]
    },
    {
     "name": "stderr",
     "output_type": "stream",
     "text": [
      "100%|██████████| 640/640 [00:00<00:00, 155191.92it/s]\n",
      "  1%|          | 21/4109 [00:05<15:43,  4.33it/s]"
     ]
    },
    {
     "name": "stdout",
     "output_type": "stream",
     "text": [
      "Processing entry April 1 is the 91st day of the year in the Gregori...\n"
     ]
    },
    {
     "name": "stderr",
     "output_type": "stream",
     "text": [
      "100%|██████████| 3854/3854 [00:00<00:00, 104999.27it/s]\n",
      "  1%|          | 22/4109 [00:05<19:08,  3.56it/s]"
     ]
    },
    {
     "name": "stdout",
     "output_type": "stream",
     "text": [
      "Processing entry The following lists events that happened during 18...\n"
     ]
    },
    {
     "name": "stderr",
     "output_type": "stream",
     "text": [
      "100%|██████████| 374/374 [00:00<00:00, 580773.67it/s]\n"
     ]
    },
    {
     "name": "stdout",
     "output_type": "stream",
     "text": [
      "Processing entry 1910 was a common year starting on Saturday of the...\n"
     ]
    },
    {
     "name": "stderr",
     "output_type": "stream",
     "text": [
      "100%|██████████| 4127/4127 [00:00<00:00, 109780.71it/s]\n",
      "  1%|          | 24/4109 [00:06<17:42,  3.84it/s]"
     ]
    },
    {
     "name": "stdout",
     "output_type": "stream",
     "text": [
      "Processing entry HVV Hague Football Club is an amateur football clu...\n"
     ]
    },
    {
     "name": "stderr",
     "output_type": "stream",
     "text": [
      "100%|██████████| 639/639 [00:00<00:00, 445875.94it/s]\n"
     ]
    },
    {
     "name": "stdout",
     "output_type": "stream",
     "text": [
      "Processing entry 1900 was an exceptional common year starting on Mo...\n"
     ]
    },
    {
     "name": "stderr",
     "output_type": "stream",
     "text": [
      "100%|██████████| 6765/6765 [00:00<00:00, 104536.57it/s]\n",
      "  1%|          | 26/4109 [00:07<20:35,  3.30it/s]"
     ]
    },
    {
     "name": "stdout",
     "output_type": "stream",
     "text": [
      "Processing entry Gallup, Inc. is an American analytics and advisory...\n"
     ]
    },
    {
     "name": "stderr",
     "output_type": "stream",
     "text": [
      "100%|██████████| 2546/2546 [00:00<00:00, 693016.94it/s]\n",
      "  1%|          | 27/4109 [00:07<19:20,  3.52it/s]"
     ]
    },
    {
     "name": "stdout",
     "output_type": "stream",
     "text": [
      "Processing entry Uranium is a chemical element with the symbol U an...\n"
     ]
    },
    {
     "name": "stderr",
     "output_type": "stream",
     "text": [
      "100%|██████████| 8190/8190 [00:00<00:00, 269204.88it/s]\n",
      "  1%|          | 28/4109 [00:07<24:59,  2.72it/s]"
     ]
    },
    {
     "name": "stdout",
     "output_type": "stream",
     "text": [
      "Processing entry The American Antiquarian Society , located in Worc...\n"
     ]
    },
    {
     "name": "stderr",
     "output_type": "stream",
     "text": [
      "100%|██████████| 905/905 [00:00<00:00, 436153.64it/s]\n"
     ]
    },
    {
     "name": "stdout",
     "output_type": "stream",
     "text": [
      "Processing entry Horace Fran ois Bastien S bastiani de La Porta was...\n"
     ]
    },
    {
     "name": "stderr",
     "output_type": "stream",
     "text": [
      "100%|██████████| 5515/5515 [00:00<00:00, 400921.84it/s]\n",
      "  1%|          | 30/4109 [00:08<22:36,  3.01it/s]"
     ]
    },
    {
     "name": "stdout",
     "output_type": "stream",
     "text": [
      "Processing entry Europe is a landmass conventionally considered a c...\n"
     ]
    },
    {
     "name": "stderr",
     "output_type": "stream",
     "text": [
      "100%|██████████| 13643/13643 [00:00<00:00, 260596.81it/s]\n",
      "  1%|          | 31/4109 [00:09<32:30,  2.09it/s]"
     ]
    },
    {
     "name": "stdout",
     "output_type": "stream",
     "text": [
      "Processing entry M laga is a municipality of Spain, capital of the ...\n"
     ]
    },
    {
     "name": "stderr",
     "output_type": "stream",
     "text": [
      "100%|██████████| 6347/6347 [00:00<00:00, 371825.90it/s]\n",
      "  1%|          | 32/4109 [00:09<32:41,  2.08it/s]"
     ]
    },
    {
     "name": "stdout",
     "output_type": "stream",
     "text": [
      "Processing entry Anglicanism is a Western Christian tradition that ...\n"
     ]
    },
    {
     "name": "stderr",
     "output_type": "stream",
     "text": [
      "100%|██████████| 14502/14502 [00:00<00:00, 462715.45it/s]\n",
      "  1%|          | 33/4109 [00:11<44:39,  1.52it/s]"
     ]
    },
    {
     "name": "stdout",
     "output_type": "stream",
     "text": [
      "Processing entry John Hasbrouck Van Vleck was an American physicist...\n"
     ]
    },
    {
     "name": "stderr",
     "output_type": "stream",
     "text": [
      "100%|██████████| 1084/1084 [00:00<00:00, 326297.23it/s]\n",
      "  1%|          | 34/4109 [00:11<34:43,  1.96it/s]"
     ]
    },
    {
     "name": "stdout",
     "output_type": "stream",
     "text": [
      "Processing entry The Current War is a 2017 American historical dram...\n"
     ]
    },
    {
     "name": "stderr",
     "output_type": "stream",
     "text": [
      "100%|██████████| 2252/2252 [00:00<00:00, 544633.14it/s]\n",
      "  1%|          | 35/4109 [00:11<29:10,  2.33it/s]"
     ]
    },
    {
     "name": "stdout",
     "output_type": "stream",
     "text": [
      "Processing entry Hatteras is an unincorporated village and census d...\n"
     ]
    },
    {
     "name": "stderr",
     "output_type": "stream",
     "text": [
      "100%|██████████| 600/600 [00:00<00:00, 503215.84it/s]\n"
     ]
    },
    {
     "name": "stdout",
     "output_type": "stream",
     "text": [
      "Processing entry March 23 is the 82nd day of the year in the Gregor...\n"
     ]
    },
    {
     "name": "stderr",
     "output_type": "stream",
     "text": [
      "100%|██████████| 4216/4216 [00:00<00:00, 96746.27it/s]\n",
      "  1%|          | 37/4109 [00:12<24:40,  2.75it/s]"
     ]
    },
    {
     "name": "stdout",
     "output_type": "stream",
     "text": [
      "Processing entry Only Unity Saves the Serbs is a popular motto and ...\n"
     ]
    },
    {
     "name": "stderr",
     "output_type": "stream",
     "text": [
      "100%|██████████| 1053/1053 [00:00<00:00, 1625543.66it/s]\n"
     ]
    },
    {
     "name": "stdout",
     "output_type": "stream",
     "text": [
      "Processing entry Mar , written with a silent final yodh , also Mor ...\n"
     ]
    },
    {
     "name": "stderr",
     "output_type": "stream",
     "text": [
      "100%|██████████| 511/511 [00:00<00:00, 246015.76it/s]\n",
      "  1%|          | 39/4109 [00:12<17:23,  3.90it/s]"
     ]
    },
    {
     "name": "stdout",
     "output_type": "stream",
     "text": [
      "Processing entry 2000 was a century leap year starting on Saturday ...\n"
     ]
    },
    {
     "name": "stderr",
     "output_type": "stream",
     "text": [
      "100%|██████████| 3750/3750 [00:00<00:00, 193488.01it/s]\n",
      "  1%|          | 40/4109 [00:12<19:08,  3.54it/s]"
     ]
    },
    {
     "name": "stdout",
     "output_type": "stream",
     "text": [
      "Processing entry 1820 was a leap year starting on Saturday of the G...\n"
     ]
    },
    {
     "name": "stderr",
     "output_type": "stream",
     "text": [
      "100%|██████████| 2025/2025 [00:00<00:00, 194487.55it/s]\n",
      "  1%|          | 41/4109 [00:12<17:25,  3.89it/s]"
     ]
    },
    {
     "name": "stdout",
     "output_type": "stream",
     "text": [
      "Processing entry Antonio Narciso Luna de San Pedro y Novicio Anchet...\n"
     ]
    },
    {
     "name": "stderr",
     "output_type": "stream",
     "text": [
      "100%|██████████| 6036/6036 [00:00<00:00, 364643.29it/s]\n",
      "  1%|          | 42/4109 [00:13<20:45,  3.26it/s]"
     ]
    },
    {
     "name": "stdout",
     "output_type": "stream",
     "text": [
      "Processing entry North Carolina is a state in the Southeastern regi...\n"
     ]
    },
    {
     "name": "stderr",
     "output_type": "stream",
     "text": [
      "100%|██████████| 13873/13873 [00:00<00:00, 226890.20it/s]\n",
      "  1%|          | 43/4109 [00:14<35:40,  1.90it/s]"
     ]
    },
    {
     "name": "stdout",
     "output_type": "stream",
     "text": [
      "Processing entry This is a list of state leaders in the 19th centur...\n"
     ]
    },
    {
     "name": "stderr",
     "output_type": "stream",
     "text": [
      "100%|██████████| 16607/16607 [00:00<00:00, 40295.34it/s]\n",
      "  1%|          | 44/4109 [00:16<1:06:14,  1.02it/s]"
     ]
    },
    {
     "name": "stdout",
     "output_type": "stream",
     "text": [
      "Processing entry SAGE Publishing, formerly SAGE Publications, is an...\n"
     ]
    },
    {
     "name": "stderr",
     "output_type": "stream",
     "text": [
      "100%|██████████| 495/495 [00:00<00:00, 142820.42it/s]\n"
     ]
    },
    {
     "name": "stdout",
     "output_type": "stream",
     "text": [
      "Processing entry The Virtual International Authority File is an int...\n"
     ]
    },
    {
     "name": "stderr",
     "output_type": "stream",
     "text": [
      "100%|██████████| 469/469 [00:00<00:00, 577548.03it/s]\n",
      "  1%|          | 46/4109 [00:16<38:58,  1.74it/s]  "
     ]
    },
    {
     "name": "stdout",
     "output_type": "stream",
     "text": [
      "Processing entry Jesse Rink Wallace was a United States Navy Captai...\n"
     ]
    },
    {
     "name": "stderr",
     "output_type": "stream",
     "text": [
      "100%|██████████| 133/133 [00:00<00:00, 177543.74it/s]\n"
     ]
    },
    {
     "name": "stdout",
     "output_type": "stream",
     "text": [
      "Processing entry 2011 was a common year starting on Saturday of the...\n"
     ]
    },
    {
     "name": "stderr",
     "output_type": "stream",
     "text": [
      "100%|██████████| 4438/4438 [00:00<00:00, 110403.92it/s]\n",
      "  1%|          | 48/4109 [00:17<30:15,  2.24it/s]"
     ]
    },
    {
     "name": "stdout",
     "output_type": "stream",
     "text": [
      "Processing entry Taher Saifuddin , also known as Tahir Sayf al Din,...\n"
     ]
    },
    {
     "name": "stderr",
     "output_type": "stream",
     "text": [
      "100%|██████████| 2206/2206 [00:00<00:00, 290908.46it/s]\n",
      "  1%|          | 49/4109 [00:17<26:40,  2.54it/s]"
     ]
    },
    {
     "name": "stdout",
     "output_type": "stream",
     "text": [
      "Processing entry A local area network is a computer network that in...\n"
     ]
    },
    {
     "name": "stderr",
     "output_type": "stream",
     "text": [
      "100%|██████████| 1107/1107 [00:00<00:00, 326748.38it/s]\n",
      "  1%|          | 50/4109 [00:17<22:16,  3.04it/s]"
     ]
    },
    {
     "name": "stdout",
     "output_type": "stream",
     "text": [
      "Processing entry Maurice Morton Milligan , a U.S. Attorney for the ...\n"
     ]
    },
    {
     "name": "stderr",
     "output_type": "stream",
     "text": [
      "100%|██████████| 262/262 [00:00<00:00, 328817.37it/s]\n"
     ]
    },
    {
     "name": "stdout",
     "output_type": "stream",
     "text": [
      "Processing entry Heinrich Mache was an Austrian physicist. He won t...\n"
     ]
    },
    {
     "name": "stderr",
     "output_type": "stream",
     "text": [
      "100%|██████████| 406/406 [00:00<00:00, 372867.84it/s]\n",
      "  1%|▏         | 52/4109 [00:17<15:01,  4.50it/s]"
     ]
    },
    {
     "name": "stdout",
     "output_type": "stream",
     "text": [
      "Processing entry A man is an adult male human. Prior to adulthood, ...\n"
     ]
    },
    {
     "name": "stderr",
     "output_type": "stream",
     "text": [
      "100%|██████████| 2128/2128 [00:00<00:00, 716675.68it/s]\n",
      "  1%|▏         | 53/4109 [00:17<15:12,  4.45it/s]"
     ]
    },
    {
     "name": "stdout",
     "output_type": "stream",
     "text": [
      "Processing entry The economy of Venezuela is based primarily on pet...\n"
     ]
    },
    {
     "name": "stderr",
     "output_type": "stream",
     "text": [
      "100%|██████████| 7964/7964 [00:00<00:00, 524675.05it/s]\n",
      "  1%|▏         | 54/4109 [00:18<20:45,  3.26it/s]"
     ]
    },
    {
     "name": "stdout",
     "output_type": "stream",
     "text": [
      "Processing entry The Panic of 1857 was a financial panic in the Uni...\n"
     ]
    },
    {
     "name": "stderr",
     "output_type": "stream",
     "text": [
      "100%|██████████| 2423/2423 [00:00<00:00, 406268.18it/s]\n",
      "  1%|▏         | 55/4109 [00:18<18:45,  3.60it/s]"
     ]
    },
    {
     "name": "stdout",
     "output_type": "stream",
     "text": [
      "Processing entry Osman Achmatowicz was a Polish professor of chemis...\n"
     ]
    },
    {
     "name": "stderr",
     "output_type": "stream",
     "text": [
      "100%|██████████| 2099/2099 [00:00<00:00, 528473.74it/s]\n",
      "  1%|▏         | 56/4109 [00:18<17:10,  3.93it/s]"
     ]
    },
    {
     "name": "stdout",
     "output_type": "stream",
     "text": [
      "Processing entry Chemistry is the scientific study of the propertie...\n"
     ]
    },
    {
     "name": "stderr",
     "output_type": "stream",
     "text": [
      "100%|██████████| 7178/7178 [00:00<00:00, 819408.69it/s]\n",
      "  1%|▏         | 57/4109 [00:19<23:46,  2.84it/s]"
     ]
    },
    {
     "name": "stdout",
     "output_type": "stream",
     "text": [
      "Processing entry The Hague Conventions of 1899 and 1907 are a serie...\n"
     ]
    },
    {
     "name": "stderr",
     "output_type": "stream",
     "text": [
      "100%|██████████| 2619/2619 [00:00<00:00, 565764.43it/s]\n",
      "  1%|▏         | 58/4109 [00:19<21:35,  3.13it/s]"
     ]
    },
    {
     "name": "stdout",
     "output_type": "stream",
     "text": [
      "Processing entry Felix Hoffmann was a German chemist notable for re...\n"
     ]
    },
    {
     "name": "stderr",
     "output_type": "stream",
     "text": [
      "100%|██████████| 709/709 [00:00<00:00, 437639.67it/s]\n"
     ]
    },
    {
     "name": "stdout",
     "output_type": "stream",
     "text": [
      "Processing entry The Panic of 1873 was a financial crisis that trig...\n"
     ]
    },
    {
     "name": "stderr",
     "output_type": "stream",
     "text": [
      "100%|██████████| 3307/3307 [00:00<00:00, 157153.93it/s]\n",
      "  1%|▏         | 60/4109 [00:19<17:25,  3.87it/s]"
     ]
    },
    {
     "name": "stdout",
     "output_type": "stream",
     "text": [
      "Processing entry Buck passing, or passing the buck, or sometimes th...\n"
     ]
    },
    {
     "name": "stderr",
     "output_type": "stream",
     "text": [
      "100%|██████████| 594/594 [00:00<00:00, 425810.39it/s]\n"
     ]
    },
    {
     "name": "stdout",
     "output_type": "stream",
     "text": [
      "Processing entry Toasternets were an early 1990s instantiation of t...\n"
     ]
    },
    {
     "name": "stderr",
     "output_type": "stream",
     "text": [
      "100%|██████████| 595/595 [00:00<00:00, 554456.98it/s]\n",
      "  2%|▏         | 62/4109 [00:20<12:22,  5.45it/s]"
     ]
    },
    {
     "name": "stdout",
     "output_type": "stream",
     "text": [
      "Processing entry October 12 is the 285th day of the year in the Gre...\n"
     ]
    },
    {
     "name": "stderr",
     "output_type": "stream",
     "text": [
      "100%|██████████| 4550/4550 [00:00<00:00, 75179.47it/s]\n",
      "  2%|▏         | 63/4109 [00:20<17:42,  3.81it/s]"
     ]
    },
    {
     "name": "stdout",
     "output_type": "stream",
     "text": [
      "Processing entry The Players is a private social club founded in Ne...\n"
     ]
    },
    {
     "name": "stderr",
     "output_type": "stream",
     "text": [
      "100%|██████████| 1411/1411 [00:00<00:00, 313678.01it/s]\n",
      "  2%|▏         | 64/4109 [00:20<15:40,  4.30it/s]"
     ]
    },
    {
     "name": "stdout",
     "output_type": "stream",
     "text": [
      "Processing entry Guglielmo Giovanni Maria Marconi, 1st Marquis of M...\n"
     ]
    },
    {
     "name": "stderr",
     "output_type": "stream",
     "text": [
      "100%|██████████| 6980/6980 [00:00<00:00, 528738.34it/s]\n",
      "  2%|▏         | 65/4109 [00:21<21:15,  3.17it/s]"
     ]
    },
    {
     "name": "stdout",
     "output_type": "stream",
     "text": [
      "Processing entry Edwin Howard Armstrong was an American electrical ...\n"
     ]
    },
    {
     "name": "stderr",
     "output_type": "stream",
     "text": [
      "100%|██████████| 6411/6411 [00:00<00:00, 345439.26it/s]\n",
      "  2%|▏         | 66/4109 [00:21<25:14,  2.67it/s]"
     ]
    },
    {
     "name": "stdout",
     "output_type": "stream",
     "text": [
      "Processing entry A Chinese Honeymoon is a musical comedy in two act...\n"
     ]
    },
    {
     "name": "stderr",
     "output_type": "stream",
     "text": [
      "100%|██████████| 1063/1063 [00:00<00:00, 173829.20it/s]\n",
      "  2%|▏         | 67/4109 [00:22<21:07,  3.19it/s]"
     ]
    },
    {
     "name": "stdout",
     "output_type": "stream",
     "text": [
      "Processing entry The Battle of Magersfontein was fought on 11 Decem...\n"
     ]
    },
    {
     "name": "stderr",
     "output_type": "stream",
     "text": [
      "100%|██████████| 4153/4153 [00:00<00:00, 553738.26it/s]\n",
      "  2%|▏         | 68/4109 [00:22<21:16,  3.16it/s]"
     ]
    },
    {
     "name": "stdout",
     "output_type": "stream",
     "text": [
      "Processing entry December 4 is the 338th day of the year in the Gre...\n"
     ]
    },
    {
     "name": "stderr",
     "output_type": "stream",
     "text": [
      "100%|██████████| 4150/4150 [00:00<00:00, 149227.66it/s]\n",
      "  2%|▏         | 69/4109 [00:22<23:39,  2.85it/s]"
     ]
    },
    {
     "name": "stdout",
     "output_type": "stream",
     "text": [
      "Processing entry Operation Paperclip was a secret United States int...\n"
     ]
    },
    {
     "name": "stderr",
     "output_type": "stream",
     "text": [
      "100%|██████████| 3783/3783 [00:00<00:00, 227396.59it/s]\n",
      "  2%|▏         | 70/4109 [00:23<23:24,  2.88it/s]"
     ]
    },
    {
     "name": "stdout",
     "output_type": "stream",
     "text": [
      "Processing entry Project Gutenberg is a volunteer effort to digitiz...\n"
     ]
    },
    {
     "name": "stderr",
     "output_type": "stream",
     "text": [
      "100%|██████████| 2855/2855 [00:00<00:00, 580537.06it/s]\n",
      "  2%|▏         | 71/4109 [00:23<21:47,  3.09it/s]"
     ]
    },
    {
     "name": "stdout",
     "output_type": "stream",
     "text": [
      "Processing entry November 1 is the 305th day of the year in the Gre...\n"
     ]
    },
    {
     "name": "stderr",
     "output_type": "stream",
     "text": [
      "100%|██████████| 4780/4780 [00:00<00:00, 47946.71it/s]\n",
      "  2%|▏         | 72/4109 [00:24<27:06,  2.48it/s]"
     ]
    },
    {
     "name": "stdout",
     "output_type": "stream",
     "text": [
      "Processing entry A number of top executives in large businesses and...\n"
     ]
    },
    {
     "name": "stderr",
     "output_type": "stream",
     "text": [
      "100%|██████████| 1173/1173 [00:00<00:00, 215984.84it/s]\n",
      "  2%|▏         | 73/4109 [00:24<22:32,  2.98it/s]"
     ]
    },
    {
     "name": "stdout",
     "output_type": "stream",
     "text": [
      "Processing entry Friedrich August von Hayek ; 8 May 1899 23 March 1...\n"
     ]
    },
    {
     "name": "stderr",
     "output_type": "stream",
     "text": [
      "100%|██████████| 14516/14516 [00:00<00:00, 478490.11it/s]\n",
      "  2%|▏         | 74/4109 [00:25<37:55,  1.77it/s]"
     ]
    },
    {
     "name": "stdout",
     "output_type": "stream",
     "text": [
      "Processing entry This article contains information about the litera...\n"
     ]
    },
    {
     "name": "stderr",
     "output_type": "stream",
     "text": [
      "100%|██████████| 1504/1504 [00:00<00:00, 155069.65it/s]\n",
      "  2%|▏         | 75/4109 [00:25<30:14,  2.22it/s]"
     ]
    },
    {
     "name": "stdout",
     "output_type": "stream",
     "text": [
      "Processing entry Charles Grafton Page was an American scientist who...\n"
     ]
    },
    {
     "name": "stderr",
     "output_type": "stream",
     "text": [
      "100%|██████████| 7001/7001 [00:00<00:00, 469176.06it/s]\n",
      "  2%|▏         | 76/4109 [00:26<32:23,  2.07it/s]"
     ]
    },
    {
     "name": "stdout",
     "output_type": "stream",
     "text": [
      "Processing entry The 3rd World Congress of the Comintern was held i...\n"
     ]
    },
    {
     "name": "stderr",
     "output_type": "stream",
     "text": [
      "100%|██████████| 244/244 [00:00<00:00, 83197.32it/s]\n"
     ]
    },
    {
     "name": "stdout",
     "output_type": "stream",
     "text": [
      "Processing entry The Liang Province rebellion from 184 to 189 start...\n"
     ]
    },
    {
     "name": "stderr",
     "output_type": "stream",
     "text": [
      "100%|██████████| 3392/3392 [00:00<00:00, 354145.30it/s]\n",
      "  2%|▏         | 78/4109 [00:26<22:47,  2.95it/s]"
     ]
    },
    {
     "name": "stdout",
     "output_type": "stream",
     "text": [
      "Processing entry Cannes , locally kan ; Occitan: Canas is a city lo...\n"
     ]
    },
    {
     "name": "stderr",
     "output_type": "stream",
     "text": [
      "100%|██████████| 2719/2719 [00:00<00:00, 356685.72it/s]\n",
      "  2%|▏         | 79/4109 [00:26<20:55,  3.21it/s]"
     ]
    },
    {
     "name": "stdout",
     "output_type": "stream",
     "text": [
      "Processing entry Esporte Clube Vit ria, commonly referred to as Vit...\n"
     ]
    },
    {
     "name": "stderr",
     "output_type": "stream",
     "text": [
      "100%|██████████| 924/924 [00:00<00:00, 487366.31it/s]\n",
      "  2%|▏         | 80/4109 [00:26<17:12,  3.90it/s]"
     ]
    },
    {
     "name": "stdout",
     "output_type": "stream",
     "text": [
      "Processing entry The 1899 Kentucky Derby was the 25th running of th...\n"
     ]
    },
    {
     "name": "stderr",
     "output_type": "stream",
     "text": [
      "100%|██████████| 52/52 [00:00<00:00, 17663.09it/s]\n"
     ]
    },
    {
     "name": "stdout",
     "output_type": "stream",
     "text": [
      "Processing entry Radioactive decay is the process by which an unsta...\n"
     ]
    },
    {
     "name": "stderr",
     "output_type": "stream",
     "text": [
      "100%|██████████| 9034/9034 [00:00<00:00, 1024949.07it/s]\n",
      "  2%|▏         | 82/4109 [00:27<19:47,  3.39it/s]"
     ]
    },
    {
     "name": "stdout",
     "output_type": "stream",
     "text": [
      "Processing entry The book Wizard, the Life and Times of Nikola Tesl...\n"
     ]
    },
    {
     "name": "stderr",
     "output_type": "stream",
     "text": [
      "100%|██████████| 342/342 [00:00<00:00, 237964.83it/s]\n"
     ]
    },
    {
     "name": "stdout",
     "output_type": "stream",
     "text": [
      "Processing entry In plasma physics, waves in plasmas are an interco...\n"
     ]
    },
    {
     "name": "stderr",
     "output_type": "stream",
     "text": [
      "100%|██████████| 514/514 [00:00<00:00, 365774.05it/s]\n",
      "  2%|▏         | 84/4109 [00:27<13:44,  4.88it/s]"
     ]
    },
    {
     "name": "stdout",
     "output_type": "stream",
     "text": [
      "Processing entry Commodore was an early title and later a rank in t...\n"
     ]
    },
    {
     "name": "stderr",
     "output_type": "stream",
     "text": [
      "100%|██████████| 3479/3479 [00:00<00:00, 473781.08it/s]\n",
      "  2%|▏         | 85/4109 [00:27<15:30,  4.32it/s]"
     ]
    },
    {
     "name": "stdout",
     "output_type": "stream",
     "text": [
      "Processing entry 1972 was a leap year starting on Saturday of the G...\n"
     ]
    },
    {
     "name": "stderr",
     "output_type": "stream",
     "text": [
      "100%|██████████| 10114/10114 [00:00<00:00, 75488.99it/s]\n",
      "  2%|▏         | 86/4109 [00:28<28:33,  2.35it/s]"
     ]
    },
    {
     "name": "stdout",
     "output_type": "stream",
     "text": [
      "Processing entry Malietoa Tanumafili II , addressed Susuga Malietoa...\n"
     ]
    },
    {
     "name": "stderr",
     "output_type": "stream",
     "text": [
      "100%|██████████| 2730/2730 [00:00<00:00, 516857.00it/s]\n",
      "  2%|▏         | 87/4109 [00:29<25:07,  2.67it/s]"
     ]
    },
    {
     "name": "stdout",
     "output_type": "stream",
     "text": [
      "Processing entry The fall of man, the fall of Adam, or simply the F...\n"
     ]
    },
    {
     "name": "stderr",
     "output_type": "stream",
     "text": [
      "100%|██████████| 3118/3118 [00:00<00:00, 891893.87it/s]\n",
      "  2%|▏         | 88/4109 [00:29<23:22,  2.87it/s]"
     ]
    },
    {
     "name": "stdout",
     "output_type": "stream",
     "text": [
      "Processing entry This is a list of music related events in 1820.  E...\n"
     ]
    },
    {
     "name": "stderr",
     "output_type": "stream",
     "text": [
      "100%|██████████| 531/531 [00:00<00:00, 259004.00it/s]\n"
     ]
    },
    {
     "name": "stdout",
     "output_type": "stream",
     "text": [
      "Processing entry Southsea is a seaside resort and a geographic area...\n"
     ]
    },
    {
     "name": "stderr",
     "output_type": "stream",
     "text": [
      "100%|██████████| 3538/3538 [00:00<00:00, 802262.40it/s]\n",
      "  2%|▏         | 90/4109 [00:29<18:06,  3.70it/s]"
     ]
    },
    {
     "name": "stdout",
     "output_type": "stream",
     "text": [
      "Processing entry During September 1899 there was a series of severe...\n"
     ]
    },
    {
     "name": "stderr",
     "output_type": "stream",
     "text": [
      "100%|██████████| 866/866 [00:00<00:00, 1235044.97it/s]\n"
     ]
    },
    {
     "name": "stdout",
     "output_type": "stream",
     "text": [
      "Processing entry Elbert Henry Gary was an American lawyer, county j...\n"
     ]
    },
    {
     "name": "stderr",
     "output_type": "stream",
     "text": [
      "100%|██████████| 1547/1547 [00:00<00:00, 507237.98it/s]\n",
      "  2%|▏         | 92/4109 [00:29<14:06,  4.75it/s]"
     ]
    },
    {
     "name": "stdout",
     "output_type": "stream",
     "text": [
      "Processing entry 1999 was a common year starting on Friday of the G...\n"
     ]
    },
    {
     "name": "stderr",
     "output_type": "stream",
     "text": [
      "100%|██████████| 6655/6655 [00:00<00:00, 125461.69it/s]\n",
      "  2%|▏         | 93/4109 [00:30<20:21,  3.29it/s]"
     ]
    },
    {
     "name": "stdout",
     "output_type": "stream",
     "text": [
      "Processing entry 1999 was a common year starting on Friday of the G...\n"
     ]
    },
    {
     "name": "stderr",
     "output_type": "stream",
     "text": [
      "100%|██████████| 6655/6655 [00:00<00:00, 91914.93it/s]\n",
      "  2%|▏         | 94/4109 [00:31<25:58,  2.58it/s]"
     ]
    },
    {
     "name": "stdout",
     "output_type": "stream",
     "text": [
      "Processing entry The Battle of Stormberg was the first British defe...\n"
     ]
    },
    {
     "name": "stderr",
     "output_type": "stream",
     "text": [
      "100%|██████████| 836/836 [00:00<00:00, 561479.29it/s]\n"
     ]
    },
    {
     "name": "stdout",
     "output_type": "stream",
     "text": [
      "Processing entry Azerbaijan , officially the Azerbaijan Soviet Soci...\n"
     ]
    },
    {
     "name": "stderr",
     "output_type": "stream",
     "text": [
      "100%|██████████| 2443/2443 [00:00<00:00, 357737.83it/s]\n",
      "  2%|▏         | 96/4109 [00:31<19:48,  3.38it/s]"
     ]
    },
    {
     "name": "stdout",
     "output_type": "stream",
     "text": [
      "Processing entry 1890 was a common year starting on Wednesday of th...\n"
     ]
    },
    {
     "name": "stderr",
     "output_type": "stream",
     "text": [
      "100%|██████████| 4042/4042 [00:00<00:00, 114362.07it/s]\n",
      "  2%|▏         | 97/4109 [00:32<21:44,  3.08it/s]"
     ]
    },
    {
     "name": "stdout",
     "output_type": "stream",
     "text": [
      "Processing entry The Colony of Natal was a British colony in south ...\n"
     ]
    },
    {
     "name": "stderr",
     "output_type": "stream",
     "text": [
      "100%|██████████| 4193/4193 [00:00<00:00, 950530.57it/s]\n",
      "  2%|▏         | 98/4109 [00:32<21:07,  3.17it/s]"
     ]
    },
    {
     "name": "stdout",
     "output_type": "stream",
     "text": [
      "Processing entry The Remington Rand strike of 1936 1937 was a strik...\n"
     ]
    },
    {
     "name": "stderr",
     "output_type": "stream",
     "text": [
      "100%|██████████| 6337/6337 [00:00<00:00, 499169.99it/s]\n",
      "  2%|▏         | 99/4109 [00:32<24:05,  2.77it/s]"
     ]
    },
    {
     "name": "stdout",
     "output_type": "stream",
     "text": [
      "Processing entry The president of Brazil , officially the president...\n"
     ]
    },
    {
     "name": "stderr",
     "output_type": "stream",
     "text": [
      "100%|██████████| 2340/2340 [00:00<00:00, 627295.88it/s]\n",
      "  2%|▏         | 100/4109 [00:33<21:31,  3.11it/s]"
     ]
    },
    {
     "name": "stdout",
     "output_type": "stream",
     "text": [
      "Processing entry Jakob P schl was an Austrian physicist and univers...\n"
     ]
    },
    {
     "name": "stderr",
     "output_type": "stream",
     "text": [
      "100%|██████████| 451/451 [00:00<00:00, 271708.00it/s]\n"
     ]
    },
    {
     "name": "stdout",
     "output_type": "stream",
     "text": [
      "Processing entry The Chronicles of Narnia is an American film serie...\n"
     ]
    },
    {
     "name": "stderr",
     "output_type": "stream",
     "text": [
      "100%|██████████| 1703/1703 [00:00<00:00, 885556.62it/s]\n",
      "  2%|▏         | 102/4109 [00:33<15:15,  4.38it/s]"
     ]
    },
    {
     "name": "stdout",
     "output_type": "stream",
     "text": [
      "Processing entry Nathan Freudenthal Leopold Jr. and Richard Albert ...\n"
     ]
    },
    {
     "name": "stderr",
     "output_type": "stream",
     "text": [
      "100%|██████████| 4968/4968 [00:00<00:00, 516145.31it/s]\n",
      "  3%|▎         | 103/4109 [00:33<17:28,  3.82it/s]"
     ]
    },
    {
     "name": "stdout",
     "output_type": "stream",
     "text": [
      "Processing entry Narinder Singh Kapany FREng was an Indian American...\n"
     ]
    },
    {
     "name": "stderr",
     "output_type": "stream",
     "text": [
      "100%|██████████| 1140/1140 [00:00<00:00, 286936.30it/s]\n"
     ]
    },
    {
     "name": "stdout",
     "output_type": "stream",
     "text": [
      "Processing entry Manila , known officially as the City of Manila , ...\n"
     ]
    },
    {
     "name": "stderr",
     "output_type": "stream",
     "text": [
      "100%|██████████| 13805/13805 [00:00<00:00, 409172.20it/s]\n",
      "  3%|▎         | 105/4109 [00:34<25:32,  2.61it/s]"
     ]
    },
    {
     "name": "stdout",
     "output_type": "stream",
     "text": [
      "Processing entry Cholera is an infection of the small intestine by ...\n"
     ]
    },
    {
     "name": "stderr",
     "output_type": "stream",
     "text": [
      "100%|██████████| 8757/8757 [00:00<00:00, 527336.58it/s]\n",
      "  3%|▎         | 106/4109 [00:35<30:48,  2.17it/s]"
     ]
    },
    {
     "name": "stdout",
     "output_type": "stream",
     "text": [
      "Processing entry Frano Kr ini was a Croatian sculptor active in for...\n"
     ]
    },
    {
     "name": "stderr",
     "output_type": "stream",
     "text": [
      "100%|██████████| 479/479 [00:00<00:00, 74642.28it/s]\n"
     ]
    },
    {
     "name": "stdout",
     "output_type": "stream",
     "text": [
      "Processing entry Kenneth Stanley Boots Adams was an American busine...\n"
     ]
    },
    {
     "name": "stderr",
     "output_type": "stream",
     "text": [
      "100%|██████████| 2608/2608 [00:00<00:00, 726875.20it/s]\n",
      "  3%|▎         | 108/4109 [00:35<22:56,  2.91it/s]"
     ]
    },
    {
     "name": "stdout",
     "output_type": "stream",
     "text": [
      "Processing entry An optical telegraph is a line of stations, typica...\n"
     ]
    },
    {
     "name": "stderr",
     "output_type": "stream",
     "text": [
      "100%|██████████| 8196/8196 [00:00<00:00, 736650.14it/s]\n",
      "  3%|▎         | 109/4109 [00:36<27:04,  2.46it/s]"
     ]
    },
    {
     "name": "stdout",
     "output_type": "stream",
     "text": [
      "Processing entry Stateside Puerto Ricans , also ambiguously known a...\n"
     ]
    },
    {
     "name": "stderr",
     "output_type": "stream",
     "text": [
      "100%|██████████| 8633/8633 [00:00<00:00, 228489.56it/s]\n",
      "  3%|▎         | 110/4109 [00:37<31:17,  2.13it/s]"
     ]
    },
    {
     "name": "stdout",
     "output_type": "stream",
     "text": [
      "Processing entry April 16 is the 106th day of the year in the Grego...\n"
     ]
    },
    {
     "name": "stderr",
     "output_type": "stream",
     "text": [
      "100%|██████████| 4480/4480 [00:00<00:00, 135232.94it/s]\n",
      "  3%|▎         | 111/4109 [00:37<32:26,  2.05it/s]"
     ]
    },
    {
     "name": "stdout",
     "output_type": "stream",
     "text": [
      "Processing entry Hong Kong was a colony and dependent territory of ...\n"
     ]
    },
    {
     "name": "stderr",
     "output_type": "stream",
     "text": [
      "100%|██████████| 5417/5417 [00:00<00:00, 478085.70it/s]\n",
      "  3%|▎         | 112/4109 [00:38<31:30,  2.11it/s]"
     ]
    },
    {
     "name": "stdout",
     "output_type": "stream",
     "text": [
      "Processing entry 1860 was a leap year starting on Sunday of the Gre...\n"
     ]
    },
    {
     "name": "stderr",
     "output_type": "stream",
     "text": [
      "100%|██████████| 2404/2404 [00:00<00:00, 369615.35it/s]\n",
      "  3%|▎         | 113/4109 [00:38<27:22,  2.43it/s]"
     ]
    },
    {
     "name": "stdout",
     "output_type": "stream",
     "text": [
      "Processing entry 1936 was a leap year starting on Wednesday of the ...\n"
     ]
    },
    {
     "name": "stderr",
     "output_type": "stream",
     "text": [
      "100%|██████████| 5187/5187 [00:00<00:00, 190321.62it/s]\n",
      "  3%|▎         | 114/4109 [00:38<29:20,  2.27it/s]"
     ]
    },
    {
     "name": "stdout",
     "output_type": "stream",
     "text": [
      "Processing entry Express Dairies is a former brand of Dairy Crest, ...\n"
     ]
    },
    {
     "name": "stderr",
     "output_type": "stream",
     "text": [
      "100%|██████████| 454/454 [00:00<00:00, 273279.85it/s]\n"
     ]
    },
    {
     "name": "stdout",
     "output_type": "stream",
     "text": [
      "Processing entry 1972 was a leap year starting on Saturday of the G...\n"
     ]
    },
    {
     "name": "stderr",
     "output_type": "stream",
     "text": [
      "100%|██████████| 10114/10114 [00:00<00:00, 87211.57it/s]\n",
      "  3%|▎         | 116/4109 [00:39<33:32,  1.98it/s]"
     ]
    },
    {
     "name": "stdout",
     "output_type": "stream",
     "text": [
      "Processing entry Carrickfergus is a barony in County Antrim, Northe...\n"
     ]
    },
    {
     "name": "stderr",
     "output_type": "stream",
     "text": [
      "100%|██████████| 691/691 [00:00<00:00, 521927.62it/s]\n"
     ]
    },
    {
     "name": "stdout",
     "output_type": "stream",
     "text": [
      "Processing entry Science, technology, engineering, and mathematics ...\n"
     ]
    },
    {
     "name": "stderr",
     "output_type": "stream",
     "text": [
      "100%|██████████| 6010/6010 [00:00<00:00, 431233.72it/s]\n",
      "  3%|▎         | 118/4109 [00:40<27:31,  2.42it/s]"
     ]
    },
    {
     "name": "stdout",
     "output_type": "stream",
     "text": [
      "Processing entry 1973 was a common year starting on Monday of the G...\n"
     ]
    },
    {
     "name": "stderr",
     "output_type": "stream",
     "text": [
      "100%|██████████| 8110/8110 [00:00<00:00, 69083.62it/s]\n",
      "  3%|▎         | 119/4109 [00:41<34:10,  1.95it/s]"
     ]
    },
    {
     "name": "stdout",
     "output_type": "stream",
     "text": [
      "Processing entry Kansas City, abbreviated as KCK , is the third lar...\n"
     ]
    },
    {
     "name": "stderr",
     "output_type": "stream",
     "text": [
      "100%|██████████| 4240/4240 [00:00<00:00, 258467.39it/s]\n",
      "  3%|▎         | 120/4109 [00:41<31:47,  2.09it/s]"
     ]
    },
    {
     "name": "stdout",
     "output_type": "stream",
     "text": [
      "Processing entry Johann Philipp Reis was a self taught German scien...\n"
     ]
    },
    {
     "name": "stderr",
     "output_type": "stream",
     "text": [
      "100%|██████████| 3315/3315 [00:00<00:00, 608681.77it/s]\n",
      "  3%|▎         | 121/4109 [00:42<28:19,  2.35it/s]"
     ]
    },
    {
     "name": "stdout",
     "output_type": "stream",
     "text": [
      "Processing entry Clive Staples Lewis was a British writer and Angli...\n"
     ]
    },
    {
     "name": "stderr",
     "output_type": "stream",
     "text": [
      "100%|██████████| 8758/8758 [00:00<00:00, 234885.32it/s]\n",
      "  3%|▎         | 122/4109 [00:42<32:45,  2.03it/s]"
     ]
    },
    {
     "name": "stdout",
     "output_type": "stream",
     "text": [
      "Processing entry The Adriatic Sea is a body of water separating the...\n"
     ]
    },
    {
     "name": "stderr",
     "output_type": "stream",
     "text": [
      "100%|██████████| 13861/13861 [00:00<00:00, 446567.23it/s]\n",
      "  3%|▎         | 123/4109 [00:43<42:59,  1.55it/s]"
     ]
    },
    {
     "name": "stdout",
     "output_type": "stream",
     "text": [
      "Processing entry Leon Felhendler  was a Polish resistance fighter k...\n"
     ]
    },
    {
     "name": "stderr",
     "output_type": "stream",
     "text": [
      "100%|██████████| 1291/1291 [00:00<00:00, 484810.32it/s]\n",
      "  3%|▎         | 124/4109 [00:43<33:36,  1.98it/s]"
     ]
    },
    {
     "name": "stdout",
     "output_type": "stream",
     "text": [
      "Processing entry April 2 is the 92nd day of the year in the Gregori...\n"
     ]
    },
    {
     "name": "stderr",
     "output_type": "stream",
     "text": [
      "100%|██████████| 3665/3665 [00:00<00:00, 120725.70it/s]\n",
      "  3%|▎         | 125/4109 [00:44<32:14,  2.06it/s]"
     ]
    },
    {
     "name": "stdout",
     "output_type": "stream",
     "text": [
      "Processing entry Nikolai Ivanovich Bukharin  was a Bolshevik revolu...\n"
     ]
    },
    {
     "name": "stderr",
     "output_type": "stream",
     "text": [
      "100%|██████████| 5828/5828 [00:00<00:00, 436320.21it/s]\n",
      "  3%|▎         | 126/4109 [00:44<32:40,  2.03it/s]"
     ]
    },
    {
     "name": "stdout",
     "output_type": "stream",
     "text": [
      "Processing entry 1967 was a common year starting on Sunday of the G...\n"
     ]
    },
    {
     "name": "stderr",
     "output_type": "stream",
     "text": [
      "100%|██████████| 13228/13228 [00:00<00:00, 83422.80it/s] \n",
      "  3%|▎         | 127/4109 [00:46<50:11,  1.32it/s]"
     ]
    },
    {
     "name": "stdout",
     "output_type": "stream",
     "text": [
      "Processing entry Giovanni Segantini was an Italian painter known fo...\n"
     ]
    },
    {
     "name": "stderr",
     "output_type": "stream",
     "text": [
      "100%|██████████| 3001/3001 [00:00<00:00, 381462.14it/s]\n",
      "  3%|▎         | 128/4109 [00:46<40:09,  1.65it/s]"
     ]
    },
    {
     "name": "stdout",
     "output_type": "stream",
     "text": [
      "Processing entry Ras , known in modern Serbian historiography as St...\n"
     ]
    },
    {
     "name": "stderr",
     "output_type": "stream",
     "text": [
      "100%|██████████| 834/834 [00:00<00:00, 378781.76it/s]\n",
      "  3%|▎         | 129/4109 [00:46<30:37,  2.17it/s]"
     ]
    },
    {
     "name": "stdout",
     "output_type": "stream",
     "text": [
      "Processing entry TESLA was a large, state owned electrotechnical co...\n"
     ]
    },
    {
     "name": "stderr",
     "output_type": "stream",
     "text": [
      "100%|██████████| 893/893 [00:00<00:00, 467371.28it/s]\n"
     ]
    },
    {
     "name": "stdout",
     "output_type": "stream",
     "text": [
      "Processing entry The Bechuanaland Protectorate was a protectorate e...\n"
     ]
    },
    {
     "name": "stderr",
     "output_type": "stream",
     "text": [
      "100%|██████████| 1867/1867 [00:00<00:00, 416264.38it/s]\n",
      "  3%|▎         | 131/4109 [00:46<20:25,  3.25it/s]"
     ]
    },
    {
     "name": "stdout",
     "output_type": "stream",
     "text": [
      "Processing entry 1930 was a common year starting on Wednesday of th...\n"
     ]
    },
    {
     "name": "stderr",
     "output_type": "stream",
     "text": [
      "100%|██████████| 5996/5996 [00:00<00:00, 101397.23it/s]\n",
      "  3%|▎         | 132/4109 [00:47<25:49,  2.57it/s]"
     ]
    },
    {
     "name": "stdout",
     "output_type": "stream",
     "text": [
      "Processing entry Singapore , officially the Republic of Singapore, ...\n"
     ]
    },
    {
     "name": "stderr",
     "output_type": "stream",
     "text": [
      "100%|██████████| 14714/14714 [00:00<00:00, 322831.17it/s]\n",
      "  3%|▎         | 133/4109 [00:48<36:36,  1.81it/s]"
     ]
    },
    {
     "name": "stdout",
     "output_type": "stream",
     "text": [
      "Processing entry In physics, and in particular as measured by radio...\n"
     ]
    },
    {
     "name": "stderr",
     "output_type": "stream",
     "text": [
      "100%|██████████| 775/775 [00:00<00:00, 611242.12it/s]\n"
     ]
    },
    {
     "name": "stdout",
     "output_type": "stream",
     "text": [
      "Processing entry Calhoun County is a county in the east central par...\n"
     ]
    },
    {
     "name": "stderr",
     "output_type": "stream",
     "text": [
      "100%|██████████| 1003/1003 [00:00<00:00, 412925.69it/s]\n",
      "  3%|▎         | 135/4109 [00:48<23:33,  2.81it/s]"
     ]
    },
    {
     "name": "stdout",
     "output_type": "stream",
     "text": [
      "Processing entry The subdivisions of the Kingdom of Yugoslavia exis...\n"
     ]
    },
    {
     "name": "stderr",
     "output_type": "stream",
     "text": [
      "100%|██████████| 789/789 [00:00<00:00, 334374.64it/s]\n"
     ]
    },
    {
     "name": "stdout",
     "output_type": "stream",
     "text": [
      "Processing entry Marie Goegg Pouchoulin , was a pioneer in the wome...\n"
     ]
    },
    {
     "name": "stderr",
     "output_type": "stream",
     "text": [
      "100%|██████████| 555/555 [00:00<00:00, 442554.89it/s]\n",
      "  3%|▎         | 137/4109 [00:48<16:37,  3.98it/s]"
     ]
    },
    {
     "name": "stdout",
     "output_type": "stream",
     "text": [
      "Processing entry Henry Ware Lawton was a U.S. Army officer who serv...\n"
     ]
    },
    {
     "name": "stderr",
     "output_type": "stream",
     "text": [
      "100%|██████████| 3734/3734 [00:00<00:00, 371690.03it/s]\n",
      "  3%|▎         | 138/4109 [00:49<17:44,  3.73it/s]"
     ]
    },
    {
     "name": "stdout",
     "output_type": "stream",
     "text": [
      "Processing entry Anthony Joseph Drexel Sr. was an American banker w...\n"
     ]
    },
    {
     "name": "stderr",
     "output_type": "stream",
     "text": [
      "100%|██████████| 986/986 [00:00<00:00, 569247.59it/s]\n",
      "  3%|▎         | 139/4109 [00:49<15:19,  4.32it/s]"
     ]
    },
    {
     "name": "stdout",
     "output_type": "stream",
     "text": [
      "Processing entry This is a complete list of the 164 shorts in the T...\n"
     ]
    },
    {
     "name": "stderr",
     "output_type": "stream",
     "text": [
      "100%|██████████| 727/727 [00:00<00:00, 460752.34it/s]"
     ]
    },
    {
     "name": "stdout",
     "output_type": "stream",
     "text": [
      "Processing entry John Joseph Carty was an American electrical engin...\n"
     ]
    },
    {
     "name": "stderr",
     "output_type": "stream",
     "text": [
      "\n",
      "100%|██████████| 170/170 [00:00<00:00, 705273.67it/s]\n",
      "  3%|▎         | 141/4109 [00:49<10:46,  6.14it/s]"
     ]
    },
    {
     "name": "stdout",
     "output_type": "stream",
     "text": [
      "Processing entry Plants are predominantly photosynthetic eukaryotes...\n"
     ]
    },
    {
     "name": "stderr",
     "output_type": "stream",
     "text": [
      "100%|██████████| 7428/7428 [00:00<00:00, 652371.17it/s]\n",
      "  3%|▎         | 142/4109 [00:50<17:05,  3.87it/s]"
     ]
    },
    {
     "name": "stdout",
     "output_type": "stream",
     "text": [
      "Processing entry 1848 was a leap year starting on Saturday of the G...\n"
     ]
    },
    {
     "name": "stderr",
     "output_type": "stream",
     "text": [
      "100%|██████████| 3642/3642 [00:00<00:00, 211252.32it/s]\n",
      "  3%|▎         | 143/4109 [00:50<18:40,  3.54it/s]"
     ]
    },
    {
     "name": "stdout",
     "output_type": "stream",
     "text": [
      "Processing entry July is the seventh month of the year in the Julia...\n"
     ]
    },
    {
     "name": "stderr",
     "output_type": "stream",
     "text": [
      "100%|██████████| 1211/1211 [00:00<00:00, 233434.54it/s]\n",
      "  4%|▎         | 144/4109 [00:50<16:00,  4.13it/s]"
     ]
    },
    {
     "name": "stdout",
     "output_type": "stream",
     "text": [
      "Processing entry 1939 was a common year starting on Sunday of the G...\n"
     ]
    },
    {
     "name": "stderr",
     "output_type": "stream",
     "text": [
      "100%|██████████| 9265/9265 [00:00<00:00, 106754.46it/s]\n",
      "  4%|▎         | 145/4109 [00:51<28:25,  2.32it/s]"
     ]
    },
    {
     "name": "stdout",
     "output_type": "stream",
     "text": [
      "Processing entry The Manhattan Company was a New York bank and hold...\n"
     ]
    },
    {
     "name": "stderr",
     "output_type": "stream",
     "text": [
      "100%|██████████| 2166/2166 [00:00<00:00, 394667.99it/s]\n",
      "  4%|▎         | 146/4109 [00:51<23:46,  2.78it/s]"
     ]
    },
    {
     "name": "stdout",
     "output_type": "stream",
     "text": [
      "Processing entry March is the third month of the year in both the J...\n"
     ]
    },
    {
     "name": "stderr",
     "output_type": "stream",
     "text": [
      "100%|██████████| 1954/1954 [00:00<00:00, 214181.89it/s]\n",
      "  4%|▎         | 147/4109 [00:51<21:12,  3.11it/s]"
     ]
    },
    {
     "name": "stdout",
     "output_type": "stream",
     "text": [
      "Processing entry Strange Case of Dr Jekyll and Mr Hyde is a Gothic ...\n"
     ]
    },
    {
     "name": "stderr",
     "output_type": "stream",
     "text": [
      "100%|██████████| 4193/4193 [00:00<00:00, 636277.74it/s]\n",
      "  4%|▎         | 148/4109 [00:52<21:41,  3.04it/s]"
     ]
    },
    {
     "name": "stdout",
     "output_type": "stream",
     "text": [
      "Processing entry mile Justin Louis Combes was a French statesman an...\n"
     ]
    },
    {
     "name": "stderr",
     "output_type": "stream",
     "text": [
      "100%|██████████| 1055/1055 [00:00<00:00, 424540.99it/s]\n",
      "  4%|▎         | 149/4109 [00:52<17:42,  3.73it/s]"
     ]
    },
    {
     "name": "stdout",
     "output_type": "stream",
     "text": [
      "Processing entry 1890 was a common year starting on Wednesday of th...\n"
     ]
    },
    {
     "name": "stderr",
     "output_type": "stream",
     "text": [
      "100%|██████████| 4042/4042 [00:00<00:00, 155737.02it/s]\n",
      "  4%|▎         | 150/4109 [00:52<20:45,  3.18it/s]"
     ]
    },
    {
     "name": "stdout",
     "output_type": "stream",
     "text": [
      "Processing entry This is a list of state leaders in the 20th centur...\n"
     ]
    },
    {
     "name": "stderr",
     "output_type": "stream",
     "text": [
      "100%|██████████| 22358/22358 [00:00<00:00, 39760.35it/s]\n",
      "  4%|▎         | 151/4109 [00:55<1:10:40,  1.07s/it]"
     ]
    },
    {
     "name": "stdout",
     "output_type": "stream",
     "text": [
      "Processing entry Herman is a village in Washington County, Nebraska...\n"
     ]
    },
    {
     "name": "stderr",
     "output_type": "stream",
     "text": [
      "100%|██████████| 695/695 [00:00<00:00, 367735.75it/s]\n"
     ]
    },
    {
     "name": "stdout",
     "output_type": "stream",
     "text": [
      "Processing entry Egba Ake, otherwise known as Egba Alake, is one of...\n"
     ]
    },
    {
     "name": "stderr",
     "output_type": "stream",
     "text": [
      "100%|██████████| 610/610 [00:00<00:00, 382211.75it/s]\n",
      "  4%|▎         | 153/4109 [00:55<39:49,  1.66it/s]  "
     ]
    },
    {
     "name": "stdout",
     "output_type": "stream",
     "text": [
      "Processing entry Hebrew is a Northwest Semitic language of the Afro...\n"
     ]
    },
    {
     "name": "stderr",
     "output_type": "stream",
     "text": [
      "100%|██████████| 7572/7572 [00:00<00:00, 318647.42it/s]\n",
      "  4%|▎         | 154/4109 [00:56<39:43,  1.66it/s]"
     ]
    },
    {
     "name": "stdout",
     "output_type": "stream",
     "text": [
      "Processing entry The Battle of Marilao River was fought on March 27...\n"
     ]
    },
    {
     "name": "stderr",
     "output_type": "stream",
     "text": [
      "100%|██████████| 511/511 [00:00<00:00, 427631.55it/s]\n"
     ]
    },
    {
     "name": "stdout",
     "output_type": "stream",
     "text": [
      "Processing entry Philadelphia College of Osteopathic Medicine is a ...\n"
     ]
    },
    {
     "name": "stderr",
     "output_type": "stream",
     "text": [
      "100%|██████████| 1377/1377 [00:00<00:00, 451462.25it/s]\n",
      "  4%|▍         | 156/4109 [00:56<26:29,  2.49it/s]"
     ]
    },
    {
     "name": "stdout",
     "output_type": "stream",
     "text": [
      "Processing entry This is a list of state leaders in the 20th centur...\n"
     ]
    },
    {
     "name": "stderr",
     "output_type": "stream",
     "text": [
      "100%|██████████| 22358/22358 [00:00<00:00, 37683.51it/s]\n",
      "  4%|▍         | 157/4109 [00:59<1:02:08,  1.06it/s]"
     ]
    },
    {
     "name": "stdout",
     "output_type": "stream",
     "text": [
      "Processing entry Alfred Albert Martineau was a notable historian an...\n"
     ]
    },
    {
     "name": "stderr",
     "output_type": "stream",
     "text": [
      "100%|██████████| 135/135 [00:00<00:00, 729679.18it/s]\n"
     ]
    },
    {
     "name": "stdout",
     "output_type": "stream",
     "text": [
      "Processing entry Spoken English shows great variation across region...\n"
     ]
    },
    {
     "name": "stderr",
     "output_type": "stream",
     "text": [
      "100%|██████████| 5785/5785 [00:00<00:00, 167876.63it/s]\n",
      "  4%|▍         | 159/4109 [00:59<45:15,  1.45it/s]  "
     ]
    },
    {
     "name": "stdout",
     "output_type": "stream",
     "text": [
      "Processing entry A man is an adult male human. Prior to adulthood, ...\n"
     ]
    },
    {
     "name": "stderr",
     "output_type": "stream",
     "text": [
      "100%|██████████| 2128/2128 [00:00<00:00, 390236.05it/s]\n",
      "  4%|▍         | 160/4109 [01:00<38:21,  1.72it/s]"
     ]
    },
    {
     "name": "stdout",
     "output_type": "stream",
     "text": [
      "Processing entry Kolo is a South Slavic circle dance, found under t...\n"
     ]
    },
    {
     "name": "stderr",
     "output_type": "stream",
     "text": [
      "100%|██████████| 353/353 [00:00<00:00, 378473.75it/s]\n"
     ]
    },
    {
     "name": "stdout",
     "output_type": "stream",
     "text": [
      "Processing entry Hayato Ikeda was a Japanese bureaucrat and later p...\n"
     ]
    },
    {
     "name": "stderr",
     "output_type": "stream",
     "text": [
      "100%|██████████| 2537/2537 [00:00<00:00, 534909.23it/s]\n",
      "  4%|▍         | 162/4109 [01:00<26:26,  2.49it/s]"
     ]
    },
    {
     "name": "stdout",
     "output_type": "stream",
     "text": [
      "Processing entry Allegan County is a county in the U.S. state of Mi...\n"
     ]
    },
    {
     "name": "stderr",
     "output_type": "stream",
     "text": [
      "100%|██████████| 1239/1239 [00:00<00:00, 202712.70it/s]\n",
      "  4%|▍         | 163/4109 [01:00<22:44,  2.89it/s]"
     ]
    },
    {
     "name": "stdout",
     "output_type": "stream",
     "text": [
      "Processing entry In the United States before 1865, a slave state wa...\n"
     ]
    },
    {
     "name": "stderr",
     "output_type": "stream",
     "text": [
      "100%|██████████| 3206/3206 [00:00<00:00, 446326.96it/s]\n",
      "  4%|▍         | 164/4109 [01:00<21:49,  3.01it/s]"
     ]
    },
    {
     "name": "stdout",
     "output_type": "stream",
     "text": [
      "Processing entry The coherer was a primitive form of radio signal d...\n"
     ]
    },
    {
     "name": "stderr",
     "output_type": "stream",
     "text": [
      "100%|██████████| 2810/2810 [00:00<00:00, 684515.87it/s]\n",
      "  4%|▍         | 165/4109 [01:01<20:09,  3.26it/s]"
     ]
    },
    {
     "name": "stdout",
     "output_type": "stream",
     "text": [
      "Processing entry Anglo Catholicism comprises beliefs and practices ...\n"
     ]
    },
    {
     "name": "stderr",
     "output_type": "stream",
     "text": [
      "100%|██████████| 3482/3482 [00:00<00:00, 175037.05it/s]\n",
      "  4%|▍         | 166/4109 [01:01<20:06,  3.27it/s]"
     ]
    },
    {
     "name": "stdout",
     "output_type": "stream",
     "text": [
      "Processing entry The following lists events that happened during 18...\n"
     ]
    },
    {
     "name": "stderr",
     "output_type": "stream",
     "text": [
      "100%|██████████| 695/695 [00:00<00:00, 226534.14it/s]\n"
     ]
    },
    {
     "name": "stdout",
     "output_type": "stream",
     "text": [
      "Processing entry The United States Presidential Succession Act is a...\n"
     ]
    },
    {
     "name": "stderr",
     "output_type": "stream",
     "text": [
      "100%|██████████| 4985/4985 [00:00<00:00, 1460200.11it/s]\n",
      "  4%|▍         | 168/4109 [01:01<17:42,  3.71it/s]"
     ]
    },
    {
     "name": "stdout",
     "output_type": "stream",
     "text": [
      "Processing entry The Middle East is a geopolitical region commonly ...\n"
     ]
    },
    {
     "name": "stderr",
     "output_type": "stream",
     "text": [
      "100%|██████████| 4744/4744 [00:00<00:00, 429081.11it/s]\n",
      "  4%|▍         | 169/4109 [01:02<19:45,  3.32it/s]"
     ]
    },
    {
     "name": "stdout",
     "output_type": "stream",
     "text": [
      "Processing entry Patriarch Alexy II was the 15th Patriarch of Mosco...\n"
     ]
    },
    {
     "name": "stderr",
     "output_type": "stream",
     "text": [
      "100%|██████████| 5006/5006 [00:00<00:00, 182600.52it/s]\n",
      "  4%|▍         | 170/4109 [01:02<21:35,  3.04it/s]"
     ]
    },
    {
     "name": "stdout",
     "output_type": "stream",
     "text": [
      "Processing entry Vladimir Kosmich Zworykin was a Russian American i...\n"
     ]
    },
    {
     "name": "stderr",
     "output_type": "stream",
     "text": [
      "100%|██████████| 2015/2015 [00:00<00:00, 385491.82it/s]\n",
      "  4%|▍         | 171/4109 [01:02<18:28,  3.55it/s]"
     ]
    },
    {
     "name": "stdout",
     "output_type": "stream",
     "text": [
      "Processing entry November 3 is the 307th day of the year in the Gre...\n"
     ]
    },
    {
     "name": "stderr",
     "output_type": "stream",
     "text": [
      "100%|██████████| 4758/4758 [00:00<00:00, 74190.76it/s]\n",
      "  4%|▍         | 172/4109 [01:03<22:31,  2.91it/s]"
     ]
    },
    {
     "name": "stdout",
     "output_type": "stream",
     "text": [
      "Processing entry December is the twelfth and final month of the yea...\n"
     ]
    },
    {
     "name": "stderr",
     "output_type": "stream",
     "text": [
      "100%|██████████| 1557/1557 [00:00<00:00, 168612.52it/s]\n",
      "  4%|▍         | 173/4109 [01:03<19:17,  3.40it/s]"
     ]
    },
    {
     "name": "stdout",
     "output_type": "stream",
     "text": [
      "Processing entry Princess Helen of Waldeck and Pyrmont was a member...\n"
     ]
    },
    {
     "name": "stderr",
     "output_type": "stream",
     "text": [
      "100%|██████████| 825/825 [00:00<00:00, 417255.61it/s]\n",
      "  4%|▍         | 174/4109 [01:03<16:11,  4.05it/s]"
     ]
    },
    {
     "name": "stdout",
     "output_type": "stream",
     "text": [
      "Processing entry Lieutenant Colonel Claude Cunningham Bruce Marshal...\n"
     ]
    },
    {
     "name": "stderr",
     "output_type": "stream",
     "text": [
      "100%|██████████| 1369/1369 [00:00<00:00, 453196.70it/s]\n",
      "  4%|▍         | 175/4109 [01:03<14:47,  4.43it/s]"
     ]
    },
    {
     "name": "stdout",
     "output_type": "stream",
     "text": [
      "Processing entry Naturalization is the legal act or process by whic...\n"
     ]
    },
    {
     "name": "stderr",
     "output_type": "stream",
     "text": [
      "100%|██████████| 4899/4899 [00:00<00:00, 652666.37it/s]\n",
      "  4%|▍         | 176/4109 [01:04<16:40,  3.93it/s]"
     ]
    },
    {
     "name": "stdout",
     "output_type": "stream",
     "text": [
      "Processing entry Evelyn Brent was an American film and stage actres...\n"
     ]
    },
    {
     "name": "stderr",
     "output_type": "stream",
     "text": [
      "100%|██████████| 769/769 [00:00<00:00, 402422.93it/s]\n"
     ]
    },
    {
     "name": "stdout",
     "output_type": "stream",
     "text": [
      "Processing entry October 1 is the 274th day of the year in the Greg...\n"
     ]
    },
    {
     "name": "stderr",
     "output_type": "stream",
     "text": [
      "100%|██████████| 4778/4778 [00:00<00:00, 85264.81it/s]\n",
      "  4%|▍         | 178/4109 [01:04<19:15,  3.40it/s]"
     ]
    },
    {
     "name": "stdout",
     "output_type": "stream",
     "text": [
      "Processing entry The New York City borough of Manhattan contains 21...\n"
     ]
    },
    {
     "name": "stderr",
     "output_type": "stream",
     "text": [
      "100%|██████████| 6310/6310 [00:00<00:00, 262492.40it/s]\n",
      "  4%|▍         | 179/4109 [01:05<23:28,  2.79it/s]"
     ]
    },
    {
     "name": "stdout",
     "output_type": "stream",
     "text": [
      "Processing entry The Case Corporation was a manufacturer of agricul...\n"
     ]
    },
    {
     "name": "stderr",
     "output_type": "stream",
     "text": [
      "100%|██████████| 2725/2725 [00:00<00:00, 280870.87it/s]\n",
      "  4%|▍         | 180/4109 [01:05<22:03,  2.97it/s]"
     ]
    },
    {
     "name": "stdout",
     "output_type": "stream",
     "text": [
      "Processing entry Coney Island is a peninsular neighborhood and ente...\n"
     ]
    },
    {
     "name": "stderr",
     "output_type": "stream",
     "text": [
      "100%|██████████| 12142/12142 [00:00<00:00, 317893.90it/s]\n",
      "  4%|▍         | 181/4109 [01:06<32:50,  1.99it/s]"
     ]
    },
    {
     "name": "stdout",
     "output_type": "stream",
     "text": [
      "Processing entry The Lorelei Fountain, also known as the Heinrich H...\n"
     ]
    },
    {
     "name": "stderr",
     "output_type": "stream",
     "text": [
      "100%|██████████| 2055/2055 [00:00<00:00, 725652.02it/s]\n",
      "  4%|▍         | 182/4109 [01:06<26:36,  2.46it/s]"
     ]
    },
    {
     "name": "stdout",
     "output_type": "stream",
     "text": [
      "Processing entry Jos Cipriano Castro Ruiz was a high ranking member...\n"
     ]
    },
    {
     "name": "stderr",
     "output_type": "stream",
     "text": [
      "100%|██████████| 1836/1836 [00:00<00:00, 443386.81it/s]\n",
      "  4%|▍         | 183/4109 [01:06<22:20,  2.93it/s]"
     ]
    },
    {
     "name": "stdout",
     "output_type": "stream",
     "text": [
      "Processing entry The Golubac Fortress was a medieval fortified town...\n"
     ]
    },
    {
     "name": "stderr",
     "output_type": "stream",
     "text": [
      "100%|██████████| 4048/4048 [00:00<00:00, 471298.89it/s]\n",
      "  4%|▍         | 184/4109 [01:07<21:49,  3.00it/s]"
     ]
    },
    {
     "name": "stdout",
     "output_type": "stream",
     "text": [
      "Processing entry Joseph Vissarionovich Stalin was a Georgian revolu...\n"
     ]
    },
    {
     "name": "stderr",
     "output_type": "stream",
     "text": [
      "100%|██████████| 22763/22763 [00:00<00:00, 369703.97it/s]\n",
      "  5%|▍         | 185/4109 [01:08<46:10,  1.42it/s]"
     ]
    },
    {
     "name": "stdout",
     "output_type": "stream",
     "text": [
      "Processing entry The Saqqawists were an armed group in the Kingdom ...\n"
     ]
    },
    {
     "name": "stderr",
     "output_type": "stream",
     "text": [
      "100%|██████████| 965/965 [00:00<00:00, 477243.65it/s]\n"
     ]
    },
    {
     "name": "stdout",
     "output_type": "stream",
     "text": [
      "Processing entry Kolkata ; also known as Calcutta , the official na...\n"
     ]
    },
    {
     "name": "stderr",
     "output_type": "stream",
     "text": [
      "100%|██████████| 9386/9386 [00:00<00:00, 530669.78it/s]\n",
      "  5%|▍         | 187/4109 [01:09<39:09,  1.67it/s]"
     ]
    },
    {
     "name": "stdout",
     "output_type": "stream",
     "text": [
      "Processing entry Delaware DEL wair is a state in the Mid Atlantic r...\n"
     ]
    },
    {
     "name": "stderr",
     "output_type": "stream",
     "text": [
      "100%|██████████| 8949/8949 [00:00<00:00, 309162.71it/s]\n",
      "  5%|▍         | 188/4109 [01:10<40:39,  1.61it/s]"
     ]
    },
    {
     "name": "stdout",
     "output_type": "stream",
     "text": [
      "Processing entry The North Carolina General Assembly is the bicamer...\n"
     ]
    },
    {
     "name": "stderr",
     "output_type": "stream",
     "text": [
      "100%|██████████| 2807/2807 [00:00<00:00, 393141.59it/s]\n",
      "  5%|▍         | 189/4109 [01:10<33:38,  1.94it/s]"
     ]
    },
    {
     "name": "stdout",
     "output_type": "stream",
     "text": [
      "Processing entry The Catholic Church, also known as the Roman Catho...\n"
     ]
    },
    {
     "name": "stderr",
     "output_type": "stream",
     "text": [
      "100%|██████████| 16636/16636 [00:00<00:00, 571525.80it/s]\n",
      "  5%|▍         | 190/4109 [01:11<46:45,  1.40it/s]"
     ]
    },
    {
     "name": "stdout",
     "output_type": "stream",
     "text": [
      "Processing entry The German Empire , also referred to as Imperial G...\n"
     ]
    },
    {
     "name": "stderr",
     "output_type": "stream",
     "text": [
      "100%|██████████| 12341/12341 [00:00<00:00, 365811.11it/s]\n",
      "  5%|▍         | 191/4109 [01:12<49:38,  1.32it/s]"
     ]
    },
    {
     "name": "stdout",
     "output_type": "stream",
     "text": [
      "Processing entry Wireless telegraphy or radiotelegraphy is transmis...\n"
     ]
    },
    {
     "name": "stderr",
     "output_type": "stream",
     "text": [
      "100%|██████████| 3584/3584 [00:00<00:00, 588605.10it/s]\n",
      "  5%|▍         | 192/4109 [01:13<41:22,  1.58it/s]"
     ]
    },
    {
     "name": "stdout",
     "output_type": "stream",
     "text": [
      "Processing entry Mata'afa Iosefo was a Paramount Chief of Samoa who...\n"
     ]
    },
    {
     "name": "stderr",
     "output_type": "stream",
     "text": [
      "100%|██████████| 549/549 [00:00<00:00, 197332.50it/s]\n"
     ]
    },
    {
     "name": "stdout",
     "output_type": "stream",
     "text": [
      "Processing entry Gold is a chemical element with the symbol Au and ...\n"
     ]
    },
    {
     "name": "stderr",
     "output_type": "stream",
     "text": [
      "100%|██████████| 11024/11024 [00:00<00:00, 491334.41it/s]\n",
      "  5%|▍         | 194/4109 [01:13<35:40,  1.83it/s]"
     ]
    },
    {
     "name": "stdout",
     "output_type": "stream",
     "text": [
      "Processing entry 2011 was a common year starting on Saturday of the...\n"
     ]
    },
    {
     "name": "stderr",
     "output_type": "stream",
     "text": [
      "100%|██████████| 4438/4438 [00:00<00:00, 215216.86it/s]\n",
      "  5%|▍         | 195/4109 [01:14<33:43,  1.93it/s]"
     ]
    },
    {
     "name": "stdout",
     "output_type": "stream",
     "text": [
      "Processing entry Ernst Gustav Herter was a German sculptor. He spec...\n"
     ]
    },
    {
     "name": "stderr",
     "output_type": "stream",
     "text": [
      "100%|██████████| 237/237 [00:00<00:00, 307850.74it/s]\n"
     ]
    },
    {
     "name": "stdout",
     "output_type": "stream",
     "text": [
      "Processing entry 2005 was a common year starting on Saturday of the...\n"
     ]
    },
    {
     "name": "stderr",
     "output_type": "stream",
     "text": [
      "100%|██████████| 3311/3311 [00:00<00:00, 188211.05it/s]\n",
      "  5%|▍         | 197/4109 [01:14<24:57,  2.61it/s]"
     ]
    },
    {
     "name": "stdout",
     "output_type": "stream",
     "text": [
      "Processing entry The Lincoln Savings and Loan Association of Irvine...\n"
     ]
    },
    {
     "name": "stderr",
     "output_type": "stream",
     "text": [
      "100%|██████████| 504/504 [00:00<00:00, 125062.37it/s]\n"
     ]
    },
    {
     "name": "stdout",
     "output_type": "stream",
     "text": [
      "Processing entry In cultures where monogamy is mandated, bigamy is ...\n"
     ]
    },
    {
     "name": "stderr",
     "output_type": "stream",
     "text": [
      "100%|██████████| 1256/1256 [00:00<00:00, 246043.89it/s]\n",
      "  5%|▍         | 199/4109 [01:14<17:59,  3.62it/s]"
     ]
    },
    {
     "name": "stdout",
     "output_type": "stream",
     "text": [
      "Processing entry Arthur Brisbane was one of the best known American...\n"
     ]
    },
    {
     "name": "stderr",
     "output_type": "stream",
     "text": [
      "100%|██████████| 1582/1582 [00:00<00:00, 447671.63it/s]\n",
      "  5%|▍         | 200/4109 [01:15<16:31,  3.94it/s]"
     ]
    },
    {
     "name": "stdout",
     "output_type": "stream",
     "text": [
      "Processing entry Josef Mengele ; 16 March 1911 7 February 1979 , al...\n"
     ]
    },
    {
     "name": "stderr",
     "output_type": "stream",
     "text": [
      "100%|██████████| 5333/5333 [00:00<00:00, 394396.95it/s]\n",
      "  5%|▍         | 201/4109 [01:15<20:05,  3.24it/s]"
     ]
    },
    {
     "name": "stdout",
     "output_type": "stream",
     "text": [
      "Processing entry The Constitution of 1921 was the fundamental law o...\n"
     ]
    },
    {
     "name": "stderr",
     "output_type": "stream",
     "text": [
      "100%|██████████| 1344/1344 [00:00<00:00, 668938.48it/s]\n"
     ]
    },
    {
     "name": "stdout",
     "output_type": "stream",
     "text": [
      "Processing entry The Institute of Electrical and Electronics Engine...\n"
     ]
    },
    {
     "name": "stderr",
     "output_type": "stream",
     "text": [
      "100%|██████████| 46/46 [00:00<00:00, 42818.02it/s]\n"
     ]
    },
    {
     "name": "stdout",
     "output_type": "stream",
     "text": [
      "Processing entry Whistled languages use whistling to emulate speech...\n"
     ]
    },
    {
     "name": "stderr",
     "output_type": "stream",
     "text": [
      "100%|██████████| 2568/2568 [00:00<00:00, 539817.20it/s]\n",
      "  5%|▍         | 204/4109 [01:15<13:33,  4.80it/s]"
     ]
    },
    {
     "name": "stdout",
     "output_type": "stream",
     "text": [
      "Processing entry March 12 is the 71st day of the year in the Gregor...\n"
     ]
    },
    {
     "name": "stderr",
     "output_type": "stream",
     "text": [
      "100%|██████████| 3712/3712 [00:00<00:00, 97117.26it/s]\n",
      "  5%|▍         | 205/4109 [01:16<16:48,  3.87it/s]"
     ]
    },
    {
     "name": "stdout",
     "output_type": "stream",
     "text": [
      "Processing entry The Holy Roman Empire , since 1512 also the Holy R...\n"
     ]
    },
    {
     "name": "stderr",
     "output_type": "stream",
     "text": [
      "100%|██████████| 14808/14808 [00:00<00:00, 411314.11it/s]\n",
      "  5%|▌         | 206/4109 [01:17<28:37,  2.27it/s]"
     ]
    },
    {
     "name": "stdout",
     "output_type": "stream",
     "text": [
      "Processing entry The consolidation of the Cuban Revolution is a per...\n"
     ]
    },
    {
     "name": "stderr",
     "output_type": "stream",
     "text": [
      "100%|██████████| 6520/6520 [00:00<00:00, 1486888.98it/s]\n",
      "  5%|▌         | 207/4109 [01:17<27:30,  2.36it/s]"
     ]
    },
    {
     "name": "stdout",
     "output_type": "stream",
     "text": [
      "Processing entry 1908 was a leap year starting on Wednesday of the ...\n"
     ]
    },
    {
     "name": "stderr",
     "output_type": "stream",
     "text": [
      "100%|██████████| 3801/3801 [00:00<00:00, 102480.28it/s]\n",
      "  5%|▌         | 208/4109 [01:18<27:22,  2.38it/s]"
     ]
    },
    {
     "name": "stdout",
     "output_type": "stream",
     "text": [
      "Processing entry Ponce , locally ponse is both a city and a municip...\n"
     ]
    },
    {
     "name": "stderr",
     "output_type": "stream",
     "text": [
      "100%|██████████| 12811/12811 [00:00<00:00, 647903.50it/s]\n",
      "  5%|▌         | 209/4109 [01:19<36:20,  1.79it/s]"
     ]
    },
    {
     "name": "stdout",
     "output_type": "stream",
     "text": [
      "Processing entry Elizabeth Margaret Braddock was a British Labour P...\n"
     ]
    },
    {
     "name": "stderr",
     "output_type": "stream",
     "text": [
      "100%|██████████| 6011/6011 [00:00<00:00, 468180.00it/s]\n",
      "  5%|▌         | 210/4109 [01:19<36:03,  1.80it/s]"
     ]
    },
    {
     "name": "stdout",
     "output_type": "stream",
     "text": [
      "Processing entry J.P. Morgan Co. is a commercial and investment ban...\n"
     ]
    },
    {
     "name": "stderr",
     "output_type": "stream",
     "text": [
      "100%|██████████| 1918/1918 [00:00<00:00, 866229.68it/s]\n",
      "  5%|▌         | 211/4109 [01:19<27:48,  2.34it/s]"
     ]
    },
    {
     "name": "stdout",
     "output_type": "stream",
     "text": [
      "Processing entry 1914 was a common year starting on Thursday of the...\n"
     ]
    },
    {
     "name": "stderr",
     "output_type": "stream",
     "text": [
      "100%|██████████| 8447/8447 [00:00<00:00, 114842.60it/s]\n",
      "  5%|▌         | 212/4109 [01:20<36:42,  1.77it/s]"
     ]
    },
    {
     "name": "stdout",
     "output_type": "stream",
     "text": [
      "Processing entry Shadowlands, also known as C.S. Lewis: Shadowlands...\n"
     ]
    },
    {
     "name": "stderr",
     "output_type": "stream",
     "text": [
      "100%|██████████| 556/556 [00:00<00:00, 368700.87it/s]\n"
     ]
    },
    {
     "name": "stdout",
     "output_type": "stream",
     "text": [
      "Processing entry Gospi is a town in the mountainous and sparsely po...\n"
     ]
    },
    {
     "name": "stderr",
     "output_type": "stream",
     "text": [
      "100%|██████████| 862/862 [00:00<00:00, 376221.65it/s]\n",
      "  5%|▌         | 214/4109 [01:20<22:22,  2.90it/s]"
     ]
    },
    {
     "name": "stdout",
     "output_type": "stream",
     "text": [
      "Processing entry The Anglo Egyptian Treaty of 1936 was a treaty sig...\n"
     ]
    },
    {
     "name": "stderr",
     "output_type": "stream",
     "text": [
      "100%|██████████| 1251/1251 [00:00<00:00, 501201.10it/s]\n",
      "  5%|▌         | 215/4109 [01:21<19:05,  3.40it/s]"
     ]
    },
    {
     "name": "stdout",
     "output_type": "stream",
     "text": [
      "Processing entry The Bolsheviks , also known in English as the Bols...\n"
     ]
    },
    {
     "name": "stderr",
     "output_type": "stream",
     "text": [
      "100%|██████████| 3385/3385 [00:00<00:00, 656906.45it/s]\n",
      "  5%|▌         | 216/4109 [01:21<18:43,  3.46it/s]"
     ]
    },
    {
     "name": "stdout",
     "output_type": "stream",
     "text": [
      "Processing entry The Balinese saka calendar is one of two calendars...\n"
     ]
    },
    {
     "name": "stderr",
     "output_type": "stream",
     "text": [
      "100%|██████████| 608/608 [00:00<00:00, 110548.67it/s]\n"
     ]
    },
    {
     "name": "stdout",
     "output_type": "stream",
     "text": [
      "Processing entry The ambassador of the United Kingdom to Egypt is t...\n"
     ]
    },
    {
     "name": "stderr",
     "output_type": "stream",
     "text": [
      "100%|██████████| 467/467 [00:00<00:00, 256446.71it/s]\n",
      "  5%|▌         | 218/4109 [01:21<12:56,  5.01it/s]"
     ]
    },
    {
     "name": "stdout",
     "output_type": "stream",
     "text": [
      "Processing entry Israel Gutman was a Polish born Israeli historian ...\n"
     ]
    },
    {
     "name": "stderr",
     "output_type": "stream",
     "text": [
      "100%|██████████| 311/311 [00:00<00:00, 170024.58it/s]\n"
     ]
    },
    {
     "name": "stdout",
     "output_type": "stream",
     "text": [
      "Processing entry Edholm's law, proposed by and named after Phil Edh...\n"
     ]
    },
    {
     "name": "stderr",
     "output_type": "stream",
     "text": [
      "100%|██████████| 912/912 [00:00<00:00, 153888.45it/s]\n",
      "  5%|▌         | 220/4109 [01:21<10:24,  6.22it/s]"
     ]
    },
    {
     "name": "stdout",
     "output_type": "stream",
     "text": [
      "Processing entry The Australia national rugby union team, nicknamed...\n"
     ]
    },
    {
     "name": "stderr",
     "output_type": "stream",
     "text": [
      "100%|██████████| 10078/10078 [00:00<00:00, 606232.91it/s]\n",
      "  5%|▌         | 221/4109 [01:22<18:22,  3.53it/s]"
     ]
    },
    {
     "name": "stdout",
     "output_type": "stream",
     "text": [
      "Processing entry March 10 is the 69th day of the year in the Gregor...\n"
     ]
    },
    {
     "name": "stderr",
     "output_type": "stream",
     "text": [
      "100%|██████████| 2695/2695 [00:00<00:00, 116545.68it/s]\n",
      "  5%|▌         | 222/4109 [01:22<19:09,  3.38it/s]"
     ]
    },
    {
     "name": "stdout",
     "output_type": "stream",
     "text": [
      "Processing entry January 1 or 1 January is the first day of the yea...\n"
     ]
    },
    {
     "name": "stderr",
     "output_type": "stream",
     "text": [
      "100%|██████████| 5383/5383 [00:00<00:00, 106093.85it/s]\n",
      "  5%|▌         | 223/4109 [01:23<23:34,  2.75it/s]"
     ]
    },
    {
     "name": "stdout",
     "output_type": "stream",
     "text": [
      "Processing entry Germany , officially the Federal Republic of Germa...\n"
     ]
    },
    {
     "name": "stderr",
     "output_type": "stream",
     "text": [
      "100%|██████████| 9276/9276 [00:00<00:00, 358352.80it/s]\n",
      "  5%|▌         | 224/4109 [01:24<31:04,  2.08it/s]"
     ]
    },
    {
     "name": "stdout",
     "output_type": "stream",
     "text": [
      "Processing entry Emma Hardinge Britten was an English advocate for ...\n"
     ]
    },
    {
     "name": "stderr",
     "output_type": "stream",
     "text": [
      "100%|██████████| 1210/1210 [00:00<00:00, 236800.48it/s]\n",
      "  5%|▌         | 225/4109 [01:24<24:54,  2.60it/s]"
     ]
    },
    {
     "name": "stdout",
     "output_type": "stream",
     "text": [
      "Processing entry Major General Sir William Penn Symons KCB was a Br...\n"
     ]
    },
    {
     "name": "stderr",
     "output_type": "stream",
     "text": [
      "100%|██████████| 1700/1700 [00:00<00:00, 442492.04it/s]\n",
      "  6%|▌         | 226/4109 [01:24<21:21,  3.03it/s]"
     ]
    },
    {
     "name": "stdout",
     "output_type": "stream",
     "text": [
      "Processing entry Count Charles Fran ois Gaston Louis Prosper de Cha...\n"
     ]
    },
    {
     "name": "stderr",
     "output_type": "stream",
     "text": [
      "100%|██████████| 297/297 [00:00<00:00, 928247.61it/s]\n"
     ]
    },
    {
     "name": "stdout",
     "output_type": "stream",
     "text": [
      "Processing entry Chronic kidney disease is a type of kidney disease...\n"
     ]
    },
    {
     "name": "stderr",
     "output_type": "stream",
     "text": [
      "100%|██████████| 4250/4250 [00:00<00:00, 717797.86it/s]\n",
      "  6%|▌         | 228/4109 [01:24<18:06,  3.57it/s]"
     ]
    },
    {
     "name": "stdout",
     "output_type": "stream",
     "text": [
      "Processing entry Am d e Ernest Chausson was a French Romantic compo...\n"
     ]
    },
    {
     "name": "stderr",
     "output_type": "stream",
     "text": [
      "100%|██████████| 1167/1167 [00:00<00:00, 413408.17it/s]\n",
      "  6%|▌         | 229/4109 [01:24<15:38,  4.13it/s]"
     ]
    },
    {
     "name": "stdout",
     "output_type": "stream",
     "text": [
      "Processing entry Frederick Fred Moore Vinson was an American attorn...\n"
     ]
    },
    {
     "name": "stderr",
     "output_type": "stream",
     "text": [
      "100%|██████████| 2198/2198 [00:00<00:00, 300110.04it/s]\n",
      "  6%|▌         | 230/4109 [01:25<15:05,  4.28it/s]"
     ]
    },
    {
     "name": "stdout",
     "output_type": "stream",
     "text": [
      "Processing entry January 4 is the fourth day of the year in the Gre...\n"
     ]
    },
    {
     "name": "stderr",
     "output_type": "stream",
     "text": [
      "100%|██████████| 3093/3093 [00:00<00:00, 314229.92it/s]\n",
      "  6%|▌         | 231/4109 [01:25<18:32,  3.49it/s]"
     ]
    },
    {
     "name": "stdout",
     "output_type": "stream",
     "text": [
      "Processing entry The Liaodong Peninsula is a peninsula in southern ...\n"
     ]
    },
    {
     "name": "stderr",
     "output_type": "stream",
     "text": [
      "100%|██████████| 755/755 [00:00<00:00, 384821.91it/s]\n",
      "  6%|▌         | 232/4109 [01:25<15:13,  4.25it/s]"
     ]
    },
    {
     "name": "stdout",
     "output_type": "stream",
     "text": [
      "Processing entry Ajvar is a condiment made principally from sweet b...\n"
     ]
    },
    {
     "name": "stderr",
     "output_type": "stream",
     "text": [
      "100%|██████████| 775/775 [00:00<00:00, 585796.65it/s]\n",
      "  6%|▌         | 233/4109 [01:25<13:04,  4.94it/s]"
     ]
    },
    {
     "name": "stdout",
     "output_type": "stream",
     "text": [
      "Processing entry The IEEE Vehicular Technology Society was founded ...\n"
     ]
    },
    {
     "name": "stderr",
     "output_type": "stream",
     "text": [
      "100%|██████████| 317/317 [00:00<00:00, 411639.12it/s]\n"
     ]
    },
    {
     "name": "stdout",
     "output_type": "stream",
     "text": [
      "Processing entry 1850 was a common year starting on Tuesday of the ...\n"
     ]
    },
    {
     "name": "stderr",
     "output_type": "stream",
     "text": [
      "100%|██████████| 2837/2837 [00:00<00:00, 139843.00it/s]\n",
      "  6%|▌         | 235/4109 [01:26<11:56,  5.41it/s]"
     ]
    },
    {
     "name": "stdout",
     "output_type": "stream",
     "text": [
      "Processing entry Nokia Bell Labs, originally named Bell Telephone L...\n"
     ]
    },
    {
     "name": "stderr",
     "output_type": "stream",
     "text": [
      "100%|██████████| 7739/7739 [00:00<00:00, 130482.41it/s]\n",
      "  6%|▌         | 236/4109 [01:26<19:35,  3.29it/s]"
     ]
    },
    {
     "name": "stdout",
     "output_type": "stream",
     "text": [
      "Processing entry Simon Schuster is an American publishing company a...\n"
     ]
    },
    {
     "name": "stderr",
     "output_type": "stream",
     "text": [
      "100%|██████████| 3256/3256 [00:00<00:00, 851412.33it/s]\n",
      "  6%|▌         | 237/4109 [01:27<19:31,  3.31it/s]"
     ]
    },
    {
     "name": "stdout",
     "output_type": "stream",
     "text": [
      "Processing entry Telecommunications equipment are hardware which ar...\n"
     ]
    },
    {
     "name": "stderr",
     "output_type": "stream",
     "text": [
      "100%|██████████| 205/205 [00:00<00:00, 245526.08it/s]\n"
     ]
    },
    {
     "name": "stdout",
     "output_type": "stream",
     "text": [
      "Processing entry Jos Luis Bustamante y Rivero was a lawyer, writer,...\n"
     ]
    },
    {
     "name": "stderr",
     "output_type": "stream",
     "text": [
      "100%|██████████| 835/835 [00:00<00:00, 397214.91it/s]\n",
      "  6%|▌         | 239/4109 [01:27<13:13,  4.88it/s]"
     ]
    },
    {
     "name": "stdout",
     "output_type": "stream",
     "text": [
      "Processing entry Year 722 was a common year starting on Thursday of...\n"
     ]
    },
    {
     "name": "stderr",
     "output_type": "stream",
     "text": [
      "100%|██████████| 339/339 [00:00<00:00, 305975.70it/s]"
     ]
    },
    {
     "name": "stdout",
     "output_type": "stream",
     "text": [
      "Processing entry 1750 was a common year starting on Thursday of the...\n"
     ]
    },
    {
     "name": "stderr",
     "output_type": "stream",
     "text": [
      "\n",
      "100%|██████████| 1981/1981 [00:00<00:00, 143757.85it/s]\n",
      "  6%|▌         | 241/4109 [01:27<12:02,  5.35it/s]"
     ]
    },
    {
     "name": "stdout",
     "output_type": "stream",
     "text": [
      "Processing entry January 21 is the 21st day of the year in the Greg...\n"
     ]
    },
    {
     "name": "stderr",
     "output_type": "stream",
     "text": [
      "100%|██████████| 5526/5526 [00:00<00:00, 67116.05it/s]\n",
      "  6%|▌         | 242/4109 [01:28<19:07,  3.37it/s]"
     ]
    },
    {
     "name": "stdout",
     "output_type": "stream",
     "text": [
      "Processing entry Bachelor of Laws is an undergraduate law degree in...\n"
     ]
    },
    {
     "name": "stderr",
     "output_type": "stream",
     "text": [
      "100%|██████████| 7195/7195 [00:00<00:00, 610631.46it/s]\n",
      "  6%|▌         | 243/4109 [01:28<22:08,  2.91it/s]"
     ]
    },
    {
     "name": "stdout",
     "output_type": "stream",
     "text": [
      "Processing entry Shu Qingchun , known by his pen name Lao She, was ...\n"
     ]
    },
    {
     "name": "stderr",
     "output_type": "stream",
     "text": [
      "100%|██████████| 3184/3184 [00:00<00:00, 405387.00it/s]\n",
      "  6%|▌         | 244/4109 [01:29<20:46,  3.10it/s]"
     ]
    },
    {
     "name": "stdout",
     "output_type": "stream",
     "text": [
      "Processing entry Mswati III is the king of Eswatini and head of the...\n"
     ]
    },
    {
     "name": "stderr",
     "output_type": "stream",
     "text": [
      "100%|██████████| 2201/2201 [00:00<00:00, 317544.82it/s]\n",
      "  6%|▌         | 245/4109 [01:29<18:33,  3.47it/s]"
     ]
    },
    {
     "name": "stdout",
     "output_type": "stream",
     "text": [
      "Processing entry Porazava is a town in the Svislach District of Gro...\n"
     ]
    },
    {
     "name": "stderr",
     "output_type": "stream",
     "text": [
      "100%|██████████| 92/92 [00:00<00:00, 186233.58it/s]\n"
     ]
    },
    {
     "name": "stdout",
     "output_type": "stream",
     "text": [
      "Processing entry January 4 is the fourth day of the year in the Gre...\n"
     ]
    },
    {
     "name": "stderr",
     "output_type": "stream",
     "text": [
      "100%|██████████| 3093/3093 [00:00<00:00, 104352.37it/s]\n",
      "  6%|▌         | 247/4109 [01:29<16:37,  3.87it/s]"
     ]
    },
    {
     "name": "stdout",
     "output_type": "stream",
     "text": [
      "Processing entry The Atlantic Ocean is the second largest of the wo...\n"
     ]
    },
    {
     "name": "stderr",
     "output_type": "stream",
     "text": [
      "100%|██████████| 8743/8743 [00:00<00:00, 386325.61it/s]\n",
      "  6%|▌         | 248/4109 [01:30<24:12,  2.66it/s]"
     ]
    },
    {
     "name": "stdout",
     "output_type": "stream",
     "text": [
      "Processing entry The Union Chain Bridge or Union Bridge is a suspen...\n"
     ]
    },
    {
     "name": "stderr",
     "output_type": "stream",
     "text": [
      "100%|██████████| 931/931 [00:00<00:00, 534112.57it/s]\n",
      "  6%|▌         | 249/4109 [01:30<20:20,  3.16it/s]"
     ]
    },
    {
     "name": "stdout",
     "output_type": "stream",
     "text": [
      "Processing entry January 1 or 1 January is the first day of the yea...\n"
     ]
    },
    {
     "name": "stderr",
     "output_type": "stream",
     "text": [
      "100%|██████████| 5383/5383 [00:00<00:00, 117882.61it/s]\n",
      "  6%|▌         | 250/4109 [01:31<24:34,  2.62it/s]"
     ]
    },
    {
     "name": "stdout",
     "output_type": "stream",
     "text": [
      "Processing entry Founded in 1936 by Bill Schroeder and Paul Helms, ...\n"
     ]
    },
    {
     "name": "stderr",
     "output_type": "stream",
     "text": [
      "100%|██████████| 594/594 [00:00<00:00, 640137.87it/s]\n"
     ]
    },
    {
     "name": "stdout",
     "output_type": "stream",
     "text": [
      "Processing entry The Order of Prince Danilo I was an order of the P...\n"
     ]
    },
    {
     "name": "stderr",
     "output_type": "stream",
     "text": [
      "100%|██████████| 212/212 [00:00<00:00, 470223.40it/s]\n"
     ]
    },
    {
     "name": "stdout",
     "output_type": "stream",
     "text": [
      "Processing entry 1920 was a leap year starting on Thursday of the G...\n"
     ]
    },
    {
     "name": "stderr",
     "output_type": "stream",
     "text": [
      "100%|██████████| 9041/9041 [00:00<00:00, 98055.48it/s]\n",
      "  6%|▌         | 253/4109 [01:32<22:38,  2.84it/s]"
     ]
    },
    {
     "name": "stdout",
     "output_type": "stream",
     "text": [
      "Processing entry 1999 was a common year starting on Friday of the G...\n"
     ]
    },
    {
     "name": "stderr",
     "output_type": "stream",
     "text": [
      "100%|██████████| 6655/6655 [00:00<00:00, 109863.36it/s]\n",
      "  6%|▌         | 254/4109 [01:32<26:09,  2.46it/s]"
     ]
    },
    {
     "name": "stdout",
     "output_type": "stream",
     "text": [
      "Processing entry A cable car is a type of cable railway used for ma...\n"
     ]
    },
    {
     "name": "stderr",
     "output_type": "stream",
     "text": [
      "100%|██████████| 2591/2591 [00:00<00:00, 490341.64it/s]\n",
      "  6%|▌         | 255/4109 [01:32<22:58,  2.80it/s]"
     ]
    },
    {
     "name": "stdout",
     "output_type": "stream",
     "text": [
      "Processing entry 1999 was a common year starting on Friday of the G...\n"
     ]
    },
    {
     "name": "stderr",
     "output_type": "stream",
     "text": [
      "100%|██████████| 6655/6655 [00:00<00:00, 115301.91it/s]\n",
      "  6%|▌         | 256/4109 [01:33<27:16,  2.36it/s]"
     ]
    },
    {
     "name": "stdout",
     "output_type": "stream",
     "text": [
      "Processing entry The constitutional law of the United States is the...\n"
     ]
    },
    {
     "name": "stderr",
     "output_type": "stream",
     "text": [
      "100%|██████████| 3359/3359 [00:00<00:00, 450390.56it/s]\n",
      "  6%|▋         | 257/4109 [01:33<24:23,  2.63it/s]"
     ]
    },
    {
     "name": "stdout",
     "output_type": "stream",
     "text": [
      "Processing entry German New Guinea consisted of the northeastern pa...\n"
     ]
    },
    {
     "name": "stderr",
     "output_type": "stream",
     "text": [
      "100%|██████████| 2487/2487 [00:00<00:00, 1095487.72it/s]\n",
      "  6%|▋         | 258/4109 [01:33<20:19,  3.16it/s]"
     ]
    },
    {
     "name": "stdout",
     "output_type": "stream",
     "text": [
      "Processing entry The Kingdom of Serbia was a country located in the...\n"
     ]
    },
    {
     "name": "stderr",
     "output_type": "stream",
     "text": [
      "100%|██████████| 2321/2321 [00:00<00:00, 468884.48it/s]\n",
      "  6%|▋         | 259/4109 [01:34<19:37,  3.27it/s]"
     ]
    },
    {
     "name": "stdout",
     "output_type": "stream",
     "text": [
      "Processing entry The Tamil people, also known as Tamilar , or simpl...\n"
     ]
    },
    {
     "name": "stderr",
     "output_type": "stream",
     "text": [
      "100%|██████████| 8360/8360 [00:00<00:00, 404121.17it/s]\n",
      "  6%|▋         | 260/4109 [01:34<26:54,  2.38it/s]"
     ]
    },
    {
     "name": "stdout",
     "output_type": "stream",
     "text": [
      "Processing entry On 11 April 1951, U.S. President Harry S. Truman r...\n"
     ]
    },
    {
     "name": "stderr",
     "output_type": "stream",
     "text": [
      "100%|██████████| 12386/12386 [00:00<00:00, 438827.97it/s]\n",
      "  6%|▋         | 261/4109 [01:35<36:10,  1.77it/s]"
     ]
    },
    {
     "name": "stdout",
     "output_type": "stream",
     "text": [
      "Processing entry Parliamentary elections were held in Germany took ...\n"
     ]
    },
    {
     "name": "stderr",
     "output_type": "stream",
     "text": [
      "100%|██████████| 323/323 [00:00<00:00, 456917.43it/s]\n"
     ]
    },
    {
     "name": "stdout",
     "output_type": "stream",
     "text": [
      "Processing entry Montreal MUN tree AWL; officially Montr al, French...\n"
     ]
    },
    {
     "name": "stderr",
     "output_type": "stream",
     "text": [
      "100%|██████████| 11105/11105 [00:00<00:00, 293164.90it/s]\n",
      "  6%|▋         | 263/4109 [01:36<32:55,  1.95it/s]"
     ]
    },
    {
     "name": "stdout",
     "output_type": "stream",
     "text": [
      "Processing entry 1900 was an exceptional common year starting on Mo...\n"
     ]
    },
    {
     "name": "stderr",
     "output_type": "stream",
     "text": [
      "100%|██████████| 6765/6765 [00:00<00:00, 202434.73it/s]\n",
      "  6%|▋         | 264/4109 [01:37<34:13,  1.87it/s]"
     ]
    },
    {
     "name": "stdout",
     "output_type": "stream",
     "text": [
      "Processing entry April 2 is the 92nd day of the year in the Gregori...\n"
     ]
    },
    {
     "name": "stderr",
     "output_type": "stream",
     "text": [
      "100%|██████████| 3665/3665 [00:00<00:00, 149695.92it/s]\n",
      "  6%|▋         | 265/4109 [01:37<32:51,  1.95it/s]"
     ]
    },
    {
     "name": "stdout",
     "output_type": "stream",
     "text": [
      "Processing entry 1910 was a common year starting on Saturday of the...\n"
     ]
    },
    {
     "name": "stderr",
     "output_type": "stream",
     "text": [
      "100%|██████████| 4127/4127 [00:00<00:00, 104059.57it/s]\n",
      "  6%|▋         | 266/4109 [01:38<31:55,  2.01it/s]"
     ]
    },
    {
     "name": "stdout",
     "output_type": "stream",
     "text": [
      "Processing entry 1848 was a leap year starting on Saturday of the G...\n"
     ]
    },
    {
     "name": "stderr",
     "output_type": "stream",
     "text": [
      "100%|██████████| 3642/3642 [00:00<00:00, 175840.95it/s]\n",
      "  6%|▋         | 267/4109 [01:38<29:14,  2.19it/s]"
     ]
    },
    {
     "name": "stdout",
     "output_type": "stream",
     "text": [
      "Processing entry ygulski is a Polish surname. Notable people with t...\n"
     ]
    },
    {
     "name": "stderr",
     "output_type": "stream",
     "text": [
      "100%|██████████| 53/53 [00:00<00:00, 297587.83it/s]\n"
     ]
    },
    {
     "name": "stdout",
     "output_type": "stream",
     "text": [
      "Processing entry March 20 is the 79th day of the year in the Gregor...\n"
     ]
    },
    {
     "name": "stderr",
     "output_type": "stream",
     "text": [
      "100%|██████████| 4208/4208 [00:00<00:00, 91111.80it/s]\n",
      "  7%|▋         | 269/4109 [01:39<23:14,  2.75it/s]"
     ]
    },
    {
     "name": "stdout",
     "output_type": "stream",
     "text": [
      "Processing entry Nome is a city in the Nome Census Area in the Unor...\n"
     ]
    },
    {
     "name": "stderr",
     "output_type": "stream",
     "text": [
      "100%|██████████| 4059/4059 [00:00<00:00, 417640.07it/s]\n",
      "  7%|▋         | 270/4109 [01:39<23:39,  2.70it/s]"
     ]
    },
    {
     "name": "stdout",
     "output_type": "stream",
     "text": [
      "Processing entry The Alaska boundary dispute was a territorial disp...\n"
     ]
    },
    {
     "name": "stderr",
     "output_type": "stream",
     "text": [
      "100%|██████████| 2284/2284 [00:00<00:00, 468793.26it/s]\n",
      "  7%|▋         | 271/4109 [01:39<20:27,  3.13it/s]"
     ]
    },
    {
     "name": "stdout",
     "output_type": "stream",
     "text": [
      "Processing entry The Commonwealth was the political structure durin...\n"
     ]
    },
    {
     "name": "stderr",
     "output_type": "stream",
     "text": [
      "100%|██████████| 3335/3335 [00:00<00:00, 1507815.44it/s]\n",
      "  7%|▋         | 272/4109 [01:39<18:34,  3.44it/s]"
     ]
    },
    {
     "name": "stdout",
     "output_type": "stream",
     "text": [
      "Processing entry 2011 was a common year starting on Saturday of the...\n"
     ]
    },
    {
     "name": "stderr",
     "output_type": "stream",
     "text": [
      "100%|██████████| 4438/4438 [00:00<00:00, 228116.68it/s]\n",
      "  7%|▋         | 273/4109 [01:40<20:36,  3.10it/s]"
     ]
    },
    {
     "name": "stdout",
     "output_type": "stream",
     "text": [
      "Processing entry Sir Arthur Ignatius Conan Doyle was a British writ...\n"
     ]
    },
    {
     "name": "stderr",
     "output_type": "stream",
     "text": [
      "100%|██████████| 7077/7077 [00:00<00:00, 278304.18it/s]\n",
      "  7%|▋         | 274/4109 [01:40<25:55,  2.47it/s]"
     ]
    },
    {
     "name": "stdout",
     "output_type": "stream",
     "text": [
      "Processing entry MV Baragoola was a ferry formerly operated by the ...\n"
     ]
    },
    {
     "name": "stderr",
     "output_type": "stream",
     "text": [
      "100%|██████████| 1777/1777 [00:00<00:00, 357505.67it/s]\n",
      "  7%|▋         | 275/4109 [01:41<21:21,  2.99it/s]"
     ]
    },
    {
     "name": "stdout",
     "output_type": "stream",
     "text": [
      "Processing entry This is a list of state leaders in the 19th centur...\n"
     ]
    },
    {
     "name": "stderr",
     "output_type": "stream",
     "text": [
      "100%|██████████| 16607/16607 [00:00<00:00, 45443.71it/s]\n",
      "  7%|▋         | 276/4109 [01:43<54:21,  1.18it/s]"
     ]
    },
    {
     "name": "stdout",
     "output_type": "stream",
     "text": [
      "Processing entry Thomas Augustus Watson was an assistant to Alexand...\n"
     ]
    },
    {
     "name": "stderr",
     "output_type": "stream",
     "text": [
      "100%|██████████| 778/778 [00:00<00:00, 1322727.41it/s]\n"
     ]
    },
    {
     "name": "stdout",
     "output_type": "stream",
     "text": [
      "Processing entry Optical communication, also known as optical telec...\n"
     ]
    },
    {
     "name": "stderr",
     "output_type": "stream",
     "text": [
      "100%|██████████| 2084/2084 [00:00<00:00, 605663.08it/s]\n",
      "  7%|▋         | 278/4109 [01:43<33:41,  1.89it/s]"
     ]
    },
    {
     "name": "stdout",
     "output_type": "stream",
     "text": [
      "Processing entry Michael Almereyda is an American film director, sc...\n"
     ]
    },
    {
     "name": "stderr",
     "output_type": "stream",
     "text": [
      "100%|██████████| 592/592 [00:00<00:00, 325856.69it/s]\n"
     ]
    },
    {
     "name": "stdout",
     "output_type": "stream",
     "text": [
      "Processing entry February 1 is the 32nd day of the year in the Greg...\n"
     ]
    },
    {
     "name": "stderr",
     "output_type": "stream",
     "text": [
      "100%|██████████| 3662/3662 [00:00<00:00, 303416.33it/s]\n",
      "  7%|▋         | 280/4109 [01:43<25:40,  2.49it/s]"
     ]
    },
    {
     "name": "stdout",
     "output_type": "stream",
     "text": [
      "Processing entry 2000 was a century leap year starting on Saturday ...\n"
     ]
    },
    {
     "name": "stderr",
     "output_type": "stream",
     "text": [
      "100%|██████████| 3750/3750 [00:00<00:00, 156113.98it/s]\n",
      "  7%|▋         | 281/4109 [01:44<25:51,  2.47it/s]"
     ]
    },
    {
     "name": "stdout",
     "output_type": "stream",
     "text": [
      "Processing entry The Dominican Republic is a country located on the...\n"
     ]
    },
    {
     "name": "stderr",
     "output_type": "stream",
     "text": [
      "100%|██████████| 19482/19482 [00:00<00:00, 294010.41it/s]\n",
      "  7%|▋         | 282/4109 [01:45<43:25,  1.47it/s]"
     ]
    },
    {
     "name": "stdout",
     "output_type": "stream",
     "text": [
      "Processing entry This is a list of events related to British televi...\n"
     ]
    },
    {
     "name": "stderr",
     "output_type": "stream",
     "text": [
      "100%|██████████| 264/264 [00:00<00:00, 269349.61it/s]\n"
     ]
    },
    {
     "name": "stdout",
     "output_type": "stream",
     "text": [
      "Processing entry A wildfire, forest fire, bushfire, wildland fire o...\n"
     ]
    },
    {
     "name": "stderr",
     "output_type": "stream",
     "text": [
      "100%|██████████| 12000/12000 [00:00<00:00, 677201.51it/s]\n",
      "  7%|▋         | 284/4109 [01:46<39:03,  1.63it/s]"
     ]
    },
    {
     "name": "stdout",
     "output_type": "stream",
     "text": [
      "Processing entry Instead of having a single inventor , the Internet...\n"
     ]
    },
    {
     "name": "stderr",
     "output_type": "stream",
     "text": [
      "100%|██████████| 6510/6510 [00:00<00:00, 307626.40it/s]\n",
      "  7%|▋         | 285/4109 [01:47<37:19,  1.71it/s]"
     ]
    },
    {
     "name": "stdout",
     "output_type": "stream",
     "text": [
      "Processing entry Singapore Standard Time , also known as Singapore ...\n"
     ]
    },
    {
     "name": "stderr",
     "output_type": "stream",
     "text": [
      "100%|██████████| 649/649 [00:00<00:00, 357983.07it/s]\n"
     ]
    },
    {
     "name": "stdout",
     "output_type": "stream",
     "text": [
      "Processing entry The Secret of Nikola Tesla , is a 1980 Yugoslav bi...\n"
     ]
    },
    {
     "name": "stderr",
     "output_type": "stream",
     "text": [
      "100%|██████████| 973/973 [00:00<00:00, 472563.43it/s]\n",
      "  7%|▋         | 287/4109 [01:47<24:52,  2.56it/s]"
     ]
    },
    {
     "name": "stdout",
     "output_type": "stream",
     "text": [
      "Processing entry The curie is a non SI unit of radioactivity origin...\n"
     ]
    },
    {
     "name": "stderr",
     "output_type": "stream",
     "text": [
      "100%|██████████| 829/829 [00:00<00:00, 430012.12it/s]\n",
      "  7%|▋         | 288/4109 [01:47<21:02,  3.03it/s]"
     ]
    },
    {
     "name": "stdout",
     "output_type": "stream",
     "text": [
      "Processing entry The Episcopal Church, based in the United States w...\n"
     ]
    },
    {
     "name": "stderr",
     "output_type": "stream",
     "text": [
      "100%|██████████| 11365/11365 [00:00<00:00, 316054.35it/s]\n",
      "  7%|▋         | 289/4109 [01:48<29:01,  2.19it/s]"
     ]
    },
    {
     "name": "stdout",
     "output_type": "stream",
     "text": [
      "Processing entry 1820 was a leap year starting on Saturday of the G...\n"
     ]
    },
    {
     "name": "stderr",
     "output_type": "stream",
     "text": [
      "100%|██████████| 2025/2025 [00:00<00:00, 216344.42it/s]\n",
      "  7%|▋         | 290/4109 [01:48<24:49,  2.56it/s]"
     ]
    },
    {
     "name": "stdout",
     "output_type": "stream",
     "text": [
      "Processing entry The University of Belgrade School of Electrical En...\n"
     ]
    },
    {
     "name": "stderr",
     "output_type": "stream",
     "text": [
      "100%|██████████| 496/496 [00:00<00:00, 622493.95it/s]\n"
     ]
    },
    {
     "name": "stdout",
     "output_type": "stream",
     "text": [
      "Processing entry Zachary Taylor was an American military leader who...\n"
     ]
    },
    {
     "name": "stderr",
     "output_type": "stream",
     "text": [
      "100%|██████████| 9117/9117 [00:00<00:00, 890926.81it/s]\n",
      "  7%|▋         | 292/4109 [01:49<24:01,  2.65it/s]"
     ]
    },
    {
     "name": "stdout",
     "output_type": "stream",
     "text": [
      "Processing entry Mount Desert Island in Hancock County, Maine, is t...\n"
     ]
    },
    {
     "name": "stderr",
     "output_type": "stream",
     "text": [
      "100%|██████████| 2979/2979 [00:00<00:00, 1043758.38it/s]\n",
      "  7%|▋         | 293/4109 [01:49<23:41,  2.68it/s]"
     ]
    },
    {
     "name": "stdout",
     "output_type": "stream",
     "text": [
      "Processing entry In finance and economics, interest is payment from...\n"
     ]
    },
    {
     "name": "stderr",
     "output_type": "stream",
     "text": [
      "100%|██████████| 9123/9123 [00:00<00:00, 351535.47it/s]\n",
      "  7%|▋         | 294/4109 [01:50<27:43,  2.29it/s]"
     ]
    },
    {
     "name": "stdout",
     "output_type": "stream",
     "text": [
      "Processing entry August 4 is the 216th day of the year in the Grego...\n"
     ]
    },
    {
     "name": "stderr",
     "output_type": "stream",
     "text": [
      "100%|██████████| 4088/4088 [00:00<00:00, 105189.53it/s]\n",
      "  7%|▋         | 295/4109 [01:50<27:47,  2.29it/s]"
     ]
    },
    {
     "name": "stdout",
     "output_type": "stream",
     "text": [
      "Processing entry The year 1899 in archaeology involved some signifi...\n"
     ]
    },
    {
     "name": "stderr",
     "output_type": "stream",
     "text": [
      "100%|██████████| 208/208 [00:00<00:00, 268435.46it/s]\n"
     ]
    },
    {
     "name": "stdout",
     "output_type": "stream",
     "text": [
      "Processing entry October 1 is the 274th day of the year in the Greg...\n"
     ]
    },
    {
     "name": "stderr",
     "output_type": "stream",
     "text": [
      "100%|██████████| 4778/4778 [00:00<00:00, 117288.51it/s]\n",
      "  7%|▋         | 297/4109 [01:51<24:19,  2.61it/s]"
     ]
    },
    {
     "name": "stdout",
     "output_type": "stream",
     "text": [
      "Processing entry The Temple of Saint Sava is a Serbian Orthodox chu...\n"
     ]
    },
    {
     "name": "stderr",
     "output_type": "stream",
     "text": [
      "100%|██████████| 15466/15466 [00:00<00:00, 377007.87it/s]\n",
      "  7%|▋         | 298/4109 [01:52<36:40,  1.73it/s]"
     ]
    },
    {
     "name": "stdout",
     "output_type": "stream",
     "text": [
      "Processing entry Constitutionalism is a compound of ideas, attitude...\n"
     ]
    },
    {
     "name": "stderr",
     "output_type": "stream",
     "text": [
      "100%|██████████| 3340/3340 [00:00<00:00, 1570336.89it/s]\n",
      "  7%|▋         | 299/4109 [01:52<31:53,  1.99it/s]"
     ]
    },
    {
     "name": "stdout",
     "output_type": "stream",
     "text": [
      "Processing entry Sir John Barbirolli was a British conductor and ce...\n"
     ]
    },
    {
     "name": "stderr",
     "output_type": "stream",
     "text": [
      "100%|██████████| 6158/6158 [00:00<00:00, 671306.67it/s]\n",
      "  7%|▋         | 300/4109 [01:53<31:15,  2.03it/s]"
     ]
    },
    {
     "name": "stdout",
     "output_type": "stream",
     "text": [
      "Processing entry Action Fran aise is a French far right monarchist ...\n"
     ]
    },
    {
     "name": "stderr",
     "output_type": "stream",
     "text": [
      "100%|██████████| 3549/3549 [00:00<00:00, 984431.25it/s]\n",
      "  7%|▋         | 301/4109 [01:53<27:49,  2.28it/s]"
     ]
    },
    {
     "name": "stdout",
     "output_type": "stream",
     "text": [
      "Processing entry The 1950s  was a decade that began on January 1, 1...\n"
     ]
    },
    {
     "name": "stderr",
     "output_type": "stream",
     "text": [
      "100%|██████████| 6799/6799 [00:00<00:00, 401926.30it/s]\n",
      "  7%|▋         | 302/4109 [01:54<32:00,  1.98it/s]"
     ]
    },
    {
     "name": "stdout",
     "output_type": "stream",
     "text": [
      "Processing entry Hallelujah is a 1929 American pre Code Metro Goldw...\n"
     ]
    },
    {
     "name": "stderr",
     "output_type": "stream",
     "text": [
      "100%|██████████| 3355/3355 [00:00<00:00, 496730.91it/s]\n",
      "  7%|▋         | 303/4109 [01:54<28:15,  2.25it/s]"
     ]
    },
    {
     "name": "stdout",
     "output_type": "stream",
     "text": [
      "Processing entry Rear Admiral Patricio Montojo y Pasar n was a care...\n"
     ]
    },
    {
     "name": "stderr",
     "output_type": "stream",
     "text": [
      "100%|██████████| 1421/1421 [00:00<00:00, 419164.92it/s]\n",
      "  7%|▋         | 304/4109 [01:54<22:30,  2.82it/s]"
     ]
    },
    {
     "name": "stdout",
     "output_type": "stream",
     "text": [
      "Processing entry Grenville Mellen Dodge 1 was a Union Army officer ...\n"
     ]
    },
    {
     "name": "stderr",
     "output_type": "stream",
     "text": [
      "100%|██████████| 3007/3007 [00:00<00:00, 393998.07it/s]\n",
      "  7%|▋         | 305/4109 [01:55<20:53,  3.04it/s]"
     ]
    },
    {
     "name": "stdout",
     "output_type": "stream",
     "text": [
      "Processing entry Okanogan County is a county located in the U.S. st...\n"
     ]
    },
    {
     "name": "stderr",
     "output_type": "stream",
     "text": [
      "100%|██████████| 1267/1267 [00:00<00:00, 395930.80it/s]\n",
      "  7%|▋         | 306/4109 [01:55<17:02,  3.72it/s]"
     ]
    },
    {
     "name": "stdout",
     "output_type": "stream",
     "text": [
      "Processing entry December 3 is the 337th day of the year in the Gre...\n"
     ]
    },
    {
     "name": "stderr",
     "output_type": "stream",
     "text": [
      "100%|██████████| 3908/3908 [00:00<00:00, 136859.09it/s]\n",
      "  7%|▋         | 307/4109 [01:55<20:42,  3.06it/s]"
     ]
    },
    {
     "name": "stdout",
     "output_type": "stream",
     "text": [
      "Processing entry The Estonian Soviet Socialist Republic was an ethn...\n"
     ]
    },
    {
     "name": "stderr",
     "output_type": "stream",
     "text": [
      "100%|██████████| 7676/7676 [00:00<00:00, 424372.94it/s]\n",
      "  7%|▋         | 308/4109 [01:56<25:32,  2.48it/s]"
     ]
    },
    {
     "name": "stdout",
     "output_type": "stream",
     "text": [
      "Processing entry Kittitas County is a county located in the U.S. st...\n"
     ]
    },
    {
     "name": "stderr",
     "output_type": "stream",
     "text": [
      "100%|██████████| 1515/1515 [00:00<00:00, 340680.39it/s]\n",
      "  8%|▊         | 309/4109 [01:56<20:58,  3.02it/s]"
     ]
    },
    {
     "name": "stdout",
     "output_type": "stream",
     "text": [
      "Processing entry Arnold Joseph Toynbee was an English historian, a ...\n"
     ]
    },
    {
     "name": "stderr",
     "output_type": "stream",
     "text": [
      "100%|██████████| 6469/6469 [00:00<00:00, 220575.18it/s]\n",
      "  8%|▊         | 310/4109 [01:57<25:18,  2.50it/s]"
     ]
    },
    {
     "name": "stdout",
     "output_type": "stream",
     "text": [
      "Processing entry November 4 is the 308th day of the year in the Gre...\n"
     ]
    },
    {
     "name": "stderr",
     "output_type": "stream",
     "text": [
      "100%|██████████| 3927/3927 [00:00<00:00, 80449.71it/s]\n",
      "  8%|▊         | 311/4109 [01:57<26:02,  2.43it/s]"
     ]
    },
    {
     "name": "stdout",
     "output_type": "stream",
     "text": [
      "Processing entry A transmission medium is a system or substance tha...\n"
     ]
    },
    {
     "name": "stderr",
     "output_type": "stream",
     "text": [
      "100%|██████████| 2177/2177 [00:00<00:00, 644799.08it/s]\n",
      "  8%|▊         | 312/4109 [01:57<22:54,  2.76it/s]"
     ]
    },
    {
     "name": "stdout",
     "output_type": "stream",
     "text": [
      "Processing entry The IEEE Edison Medal is presented by the Institut...\n"
     ]
    },
    {
     "name": "stderr",
     "output_type": "stream",
     "text": [
      "100%|██████████| 356/356 [00:00<00:00, 831850.82it/s]\n"
     ]
    },
    {
     "name": "stdout",
     "output_type": "stream",
     "text": [
      "Processing entry Bangladesh , officially the People's Republic of B...\n"
     ]
    },
    {
     "name": "stderr",
     "output_type": "stream",
     "text": [
      "100%|██████████| 17947/17947 [00:00<00:00, 286661.01it/s]\n",
      "  8%|▊         | 314/4109 [01:59<31:55,  1.98it/s]"
     ]
    },
    {
     "name": "stdout",
     "output_type": "stream",
     "text": [
      "Processing entry Robert LeRoy Parker , better known as Butch Cassid...\n"
     ]
    },
    {
     "name": "stderr",
     "output_type": "stream",
     "text": [
      "100%|██████████| 4273/4273 [00:00<00:00, 695577.93it/s]\n",
      "  8%|▊         | 315/4109 [01:59<29:48,  2.12it/s]"
     ]
    },
    {
     "name": "stdout",
     "output_type": "stream",
     "text": [
      "Processing entry Karl Ferdinand Braun ; 6 June 1850 20 April 1918 w...\n"
     ]
    },
    {
     "name": "stderr",
     "output_type": "stream",
     "text": [
      "100%|██████████| 1088/1088 [00:00<00:00, 745775.90it/s]\n",
      "  8%|▊         | 316/4109 [01:59<24:23,  2.59it/s]"
     ]
    },
    {
     "name": "stdout",
     "output_type": "stream",
     "text": [
      "Processing entry The 2020 Sundance Film Festival took place from Ja...\n"
     ]
    },
    {
     "name": "stderr",
     "output_type": "stream",
     "text": [
      "100%|██████████| 1233/1233 [00:00<00:00, 95522.29it/s]\n",
      "  8%|▊         | 317/4109 [01:59<20:39,  3.06it/s]"
     ]
    },
    {
     "name": "stdout",
     "output_type": "stream",
     "text": [
      "Processing entry The Keijin Railway LP , was a privately owned rail...\n"
     ]
    },
    {
     "name": "stderr",
     "output_type": "stream",
     "text": [
      "100%|██████████| 913/913 [00:00<00:00, 1400146.09it/s]\n"
     ]
    },
    {
     "name": "stdout",
     "output_type": "stream",
     "text": [
      "Processing entry The League of Peja , also known as League of pek o...\n"
     ]
    },
    {
     "name": "stderr",
     "output_type": "stream",
     "text": [
      "100%|██████████| 270/270 [00:00<00:00, 534684.65it/s]\n"
     ]
    },
    {
     "name": "stdout",
     "output_type": "stream",
     "text": [
      "Processing entry Eidetic memory is the ability to recall an image f...\n"
     ]
    },
    {
     "name": "stderr",
     "output_type": "stream",
     "text": [
      "100%|██████████| 1724/1724 [00:00<00:00, 1369244.48it/s]\n",
      "  8%|▊         | 320/4109 [01:59<11:17,  5.59it/s]"
     ]
    },
    {
     "name": "stdout",
     "output_type": "stream",
     "text": [
      "Processing entry Electrical engineering is an engineering disciplin...\n"
     ]
    },
    {
     "name": "stderr",
     "output_type": "stream",
     "text": [
      "100%|██████████| 7025/7025 [00:00<00:00, 210467.19it/s]\n",
      "  8%|▊         | 321/4109 [02:00<17:14,  3.66it/s]"
     ]
    },
    {
     "name": "stdout",
     "output_type": "stream",
     "text": [
      "Processing entry July 1 is the 182nd day of the year in the Gregori...\n"
     ]
    },
    {
     "name": "stderr",
     "output_type": "stream",
     "text": [
      "100%|██████████| 5397/5397 [00:00<00:00, 83917.49it/s]\n",
      "  8%|▊         | 322/4109 [02:01<21:38,  2.92it/s]"
     ]
    },
    {
     "name": "stdout",
     "output_type": "stream",
     "text": [
      "Processing entry The Venezuelan War of Independence was one of the ...\n"
     ]
    },
    {
     "name": "stderr",
     "output_type": "stream",
     "text": [
      "100%|██████████| 3068/3068 [00:00<00:00, 807589.10it/s]\n",
      "  8%|▊         | 323/4109 [02:01<20:10,  3.13it/s]"
     ]
    },
    {
     "name": "stdout",
     "output_type": "stream",
     "text": [
      "Processing entry The Military Frontier was a borderland of the Habs...\n"
     ]
    },
    {
     "name": "stderr",
     "output_type": "stream",
     "text": [
      "100%|██████████| 3102/3102 [00:00<00:00, 500971.51it/s]\n",
      "  8%|▊         | 324/4109 [02:01<19:11,  3.29it/s]"
     ]
    },
    {
     "name": "stdout",
     "output_type": "stream",
     "text": [
      "Processing entry The Sun is the star at the center of the Solar Sys...\n"
     ]
    },
    {
     "name": "stderr",
     "output_type": "stream",
     "text": [
      "100%|██████████| 11045/11045 [00:00<00:00, 1111043.93it/s]\n",
      "  8%|▊         | 325/4109 [02:02<27:43,  2.27it/s]"
     ]
    },
    {
     "name": "stdout",
     "output_type": "stream",
     "text": [
      "Processing entry The American Line was a shipping company founded i...\n"
     ]
    },
    {
     "name": "stderr",
     "output_type": "stream",
     "text": [
      "100%|██████████| 492/492 [00:00<00:00, 154622.93it/s]\n"
     ]
    },
    {
     "name": "stdout",
     "output_type": "stream",
     "text": [
      "Processing entry 1880 was a leap year starting on Thursday of the G...\n"
     ]
    },
    {
     "name": "stderr",
     "output_type": "stream",
     "text": [
      "100%|██████████| 2490/2490 [00:00<00:00, 159042.09it/s]\n",
      "  8%|▊         | 327/4109 [02:02<19:25,  3.25it/s]"
     ]
    },
    {
     "name": "stdout",
     "output_type": "stream",
     "text": [
      "Processing entry Parliamentary elections were held in Greece on 26 ...\n"
     ]
    },
    {
     "name": "stderr",
     "output_type": "stream",
     "text": [
      "100%|██████████| 37/37 [00:00<00:00, 65123.48it/s]\n"
     ]
    },
    {
     "name": "stdout",
     "output_type": "stream",
     "text": [
      "Processing entry Wilhelm Conrad R ntgen ; 27 March 1845 10 February...\n"
     ]
    },
    {
     "name": "stderr",
     "output_type": "stream",
     "text": [
      "100%|██████████| 1966/1966 [00:00<00:00, 531177.64it/s]\n",
      "  8%|▊         | 329/4109 [02:02<14:46,  4.26it/s]"
     ]
    },
    {
     "name": "stdout",
     "output_type": "stream",
     "text": [
      "Processing entry lie, 1st Duke of Decazes and Gl cksbierg was a Fre...\n"
     ]
    },
    {
     "name": "stderr",
     "output_type": "stream",
     "text": [
      "100%|██████████| 1281/1281 [00:00<00:00, 461153.84it/s]\n"
     ]
    },
    {
     "name": "stdout",
     "output_type": "stream",
     "text": [
      "Processing entry Italian fascism , also known as classical fascism ...\n"
     ]
    },
    {
     "name": "stderr",
     "output_type": "stream",
     "text": [
      "100%|██████████| 13684/13684 [00:00<00:00, 346405.31it/s]\n",
      "  8%|▊         | 331/4109 [02:04<23:19,  2.70it/s]"
     ]
    },
    {
     "name": "stdout",
     "output_type": "stream",
     "text": [
      "Processing entry Events in the year 1936 in Brazil.  Incumbents   F...\n"
     ]
    },
    {
     "name": "stderr",
     "output_type": "stream",
     "text": [
      "100%|██████████| 387/387 [00:00<00:00, 252913.00it/s]\n"
     ]
    },
    {
     "name": "stdout",
     "output_type": "stream",
     "text": [
      "Processing entry The Studenica Monastery , pronounced m nasti r stu...\n"
     ]
    },
    {
     "name": "stderr",
     "output_type": "stream",
     "text": [
      "100%|██████████| 1438/1438 [00:00<00:00, 1332613.60it/s]\n",
      "  8%|▊         | 333/4109 [02:04<17:52,  3.52it/s]"
     ]
    },
    {
     "name": "stdout",
     "output_type": "stream",
     "text": [
      "Processing entry The following events occurred in October 1970:  Oc...\n"
     ]
    },
    {
     "name": "stderr",
     "output_type": "stream",
     "text": [
      "100%|██████████| 6161/6161 [00:00<00:00, 172920.77it/s]\n",
      "  8%|▊         | 334/4109 [02:04<20:32,  3.06it/s]"
     ]
    },
    {
     "name": "stdout",
     "output_type": "stream",
     "text": [
      "Processing entry A biographical film or biopic is a film that drama...\n"
     ]
    },
    {
     "name": "stderr",
     "output_type": "stream",
     "text": [
      "100%|██████████| 861/861 [00:00<00:00, 354291.74it/s]\n"
     ]
    },
    {
     "name": "stdout",
     "output_type": "stream",
     "text": [
      "Processing entry Josef Mengele ; 16 March 1911 7 February 1979 , al...\n"
     ]
    },
    {
     "name": "stderr",
     "output_type": "stream",
     "text": [
      "100%|██████████| 5333/5333 [00:00<00:00, 427527.20it/s]\n",
      "  8%|▊         | 336/4109 [02:05<19:24,  3.24it/s]"
     ]
    },
    {
     "name": "stdout",
     "output_type": "stream",
     "text": [
      "Processing entry In telecommunications and computer networking, mul...\n"
     ]
    },
    {
     "name": "stderr",
     "output_type": "stream",
     "text": [
      "100%|██████████| 2522/2522 [00:00<00:00, 751280.87it/s]\n",
      "  8%|▊         | 337/4109 [02:05<18:25,  3.41it/s]"
     ]
    },
    {
     "name": "stdout",
     "output_type": "stream",
     "text": [
      "Processing entry 1850 was a common year starting on Tuesday of the ...\n"
     ]
    },
    {
     "name": "stderr",
     "output_type": "stream",
     "text": [
      "100%|██████████| 2837/2837 [00:00<00:00, 317940.48it/s]\n",
      "  8%|▊         | 338/4109 [02:05<17:22,  3.62it/s]"
     ]
    },
    {
     "name": "stdout",
     "output_type": "stream",
     "text": [
      "Processing entry The Electrical Experimenter was an American techni...\n"
     ]
    },
    {
     "name": "stderr",
     "output_type": "stream",
     "text": [
      "100%|██████████| 239/239 [00:00<00:00, 537212.57it/s]\n"
     ]
    },
    {
     "name": "stdout",
     "output_type": "stream",
     "text": [
      "Processing entry A multinational company is a corporate organizatio...\n"
     ]
    },
    {
     "name": "stderr",
     "output_type": "stream",
     "text": [
      "100%|██████████| 3618/3618 [00:00<00:00, 883037.06it/s]\n",
      "  8%|▊         | 340/4109 [02:06<14:50,  4.23it/s]"
     ]
    },
    {
     "name": "stdout",
     "output_type": "stream",
     "text": [
      "Processing entry April 20 is the 110th day of the year in the Grego...\n"
     ]
    },
    {
     "name": "stderr",
     "output_type": "stream",
     "text": [
      "100%|██████████| 3012/3012 [00:00<00:00, 128301.87it/s]\n",
      "  8%|▊         | 341/4109 [02:06<15:50,  3.97it/s]"
     ]
    },
    {
     "name": "stdout",
     "output_type": "stream",
     "text": [
      "Processing entry The Bengali Calendar or Bangla Calendar , colloqui...\n"
     ]
    },
    {
     "name": "stderr",
     "output_type": "stream",
     "text": [
      "100%|██████████| 1651/1651 [00:00<00:00, 500780.73it/s]\n",
      "  8%|▊         | 342/4109 [02:06<14:06,  4.45it/s]"
     ]
    },
    {
     "name": "stdout",
     "output_type": "stream",
     "text": [
      "Processing entry The 1929 Cuman earthquake occurred on January 17 a...\n"
     ]
    },
    {
     "name": "stderr",
     "output_type": "stream",
     "text": [
      "100%|██████████| 537/537 [00:00<00:00, 451551.97it/s]"
     ]
    },
    {
     "name": "stdout",
     "output_type": "stream",
     "text": [
      "Processing entry 1870 was a common year starting on Saturday of the...\n"
     ]
    },
    {
     "name": "stderr",
     "output_type": "stream",
     "text": [
      "\n",
      "100%|██████████| 2919/2919 [00:00<00:00, 196962.25it/s]\n",
      "  8%|▊         | 344/4109 [02:07<12:35,  4.99it/s]"
     ]
    },
    {
     "name": "stdout",
     "output_type": "stream",
     "text": [
      "Processing entry The Glasgow School of Art is a higher education ar...\n"
     ]
    },
    {
     "name": "stderr",
     "output_type": "stream",
     "text": [
      "100%|██████████| 3335/3335 [00:00<00:00, 491669.73it/s]\n",
      "  8%|▊         | 345/4109 [02:07<15:05,  4.16it/s]"
     ]
    },
    {
     "name": "stdout",
     "output_type": "stream",
     "text": [
      "Processing entry 1860 was a leap year starting on Sunday of the Gre...\n"
     ]
    },
    {
     "name": "stderr",
     "output_type": "stream",
     "text": [
      "100%|██████████| 2404/2404 [00:00<00:00, 176401.45it/s]\n",
      "  8%|▊         | 346/4109 [02:07<15:04,  4.16it/s]"
     ]
    },
    {
     "name": "stdout",
     "output_type": "stream",
     "text": [
      "Processing entry April 25 is the 115th day of the year in the Grego...\n"
     ]
    },
    {
     "name": "stderr",
     "output_type": "stream",
     "text": [
      "100%|██████████| 4185/4185 [00:00<00:00, 307453.97it/s]\n",
      "  8%|▊         | 347/4109 [02:08<17:25,  3.60it/s]"
     ]
    },
    {
     "name": "stdout",
     "output_type": "stream",
     "text": [
      "Processing entry The Numbered Treaties are a series of eleven treat...\n"
     ]
    },
    {
     "name": "stderr",
     "output_type": "stream",
     "text": [
      "100%|██████████| 3381/3381 [00:00<00:00, 648835.19it/s]\n",
      "  8%|▊         | 348/4109 [02:08<16:39,  3.76it/s]"
     ]
    },
    {
     "name": "stdout",
     "output_type": "stream",
     "text": [
      "Processing entry Vuk Stefanovi Karad i  7 February 1864 was a Serbi...\n"
     ]
    },
    {
     "name": "stderr",
     "output_type": "stream",
     "text": [
      "100%|██████████| 3380/3380 [00:00<00:00, 1174446.82it/s]\n",
      "  8%|▊         | 349/4109 [02:08<16:45,  3.74it/s]"
     ]
    },
    {
     "name": "stdout",
     "output_type": "stream",
     "text": [
      "Processing entry Maria Gemma Umberta Galgani , also known as Saint ...\n"
     ]
    },
    {
     "name": "stderr",
     "output_type": "stream",
     "text": [
      "100%|██████████| 1246/1246 [00:00<00:00, 596178.73it/s]\n",
      "  9%|▊         | 350/4109 [02:08<14:07,  4.44it/s]"
     ]
    },
    {
     "name": "stdout",
     "output_type": "stream",
     "text": [
      "Processing entry 1964 was a leap year starting on Wednesday of the ...\n"
     ]
    },
    {
     "name": "stderr",
     "output_type": "stream",
     "text": [
      "100%|██████████| 8609/8609 [00:00<00:00, 105560.81it/s]\n",
      "  9%|▊         | 351/4109 [02:09<24:07,  2.60it/s]"
     ]
    },
    {
     "name": "stdout",
     "output_type": "stream",
     "text": [
      "Processing entry Drexel Burnham Lambert was an American multination...\n"
     ]
    },
    {
     "name": "stderr",
     "output_type": "stream",
     "text": [
      "100%|██████████| 4245/4245 [00:00<00:00, 518833.83it/s]\n",
      "  9%|▊         | 352/4109 [02:09<23:21,  2.68it/s]"
     ]
    },
    {
     "name": "stdout",
     "output_type": "stream",
     "text": [
      "Processing entry April 24 is the 114th day of the year in the Grego...\n"
     ]
    },
    {
     "name": "stderr",
     "output_type": "stream",
     "text": [
      "100%|██████████| 3512/3512 [00:00<00:00, 281345.30it/s]\n",
      "  9%|▊         | 353/4109 [02:10<22:41,  2.76it/s]"
     ]
    },
    {
     "name": "stdout",
     "output_type": "stream",
     "text": [
      "Processing entry 1856 was a leap year starting on Tuesday of the Gr...\n"
     ]
    },
    {
     "name": "stderr",
     "output_type": "stream",
     "text": [
      "100%|██████████| 2845/2845 [00:00<00:00, 194307.22it/s]\n",
      "  9%|▊         | 354/4109 [02:10<22:00,  2.84it/s]"
     ]
    },
    {
     "name": "stdout",
     "output_type": "stream",
     "text": [
      "Processing entry A car is a wheeled motor vehicle that is used for ...\n"
     ]
    },
    {
     "name": "stderr",
     "output_type": "stream",
     "text": [
      "100%|██████████| 6154/6154 [00:00<00:00, 488183.89it/s]\n",
      "  9%|▊         | 355/4109 [02:10<25:11,  2.48it/s]"
     ]
    },
    {
     "name": "stdout",
     "output_type": "stream",
     "text": [
      "Processing entry April 20 is the 110th day of the year in the Grego...\n"
     ]
    },
    {
     "name": "stderr",
     "output_type": "stream",
     "text": [
      "100%|██████████| 3012/3012 [00:00<00:00, 140275.86it/s]\n",
      "  9%|▊         | 356/4109 [02:11<23:56,  2.61it/s]"
     ]
    },
    {
     "name": "stdout",
     "output_type": "stream",
     "text": [
      "Processing entry 1920 was a leap year starting on Thursday of the G...\n"
     ]
    },
    {
     "name": "stderr",
     "output_type": "stream",
     "text": [
      "100%|██████████| 9041/9041 [00:00<00:00, 132865.82it/s]\n",
      "  9%|▊         | 357/4109 [02:12<32:20,  1.93it/s]"
     ]
    },
    {
     "name": "stdout",
     "output_type": "stream",
     "text": [
      "Processing entry The President's Committee on Equality of Treatment...\n"
     ]
    },
    {
     "name": "stderr",
     "output_type": "stream",
     "text": [
      "100%|██████████| 277/277 [00:00<00:00, 370360.92it/s]\n"
     ]
    },
    {
     "name": "stdout",
     "output_type": "stream",
     "text": [
      "Processing entry Harcourt was an American publishing firm with a lo...\n"
     ]
    },
    {
     "name": "stderr",
     "output_type": "stream",
     "text": [
      "100%|██████████| 1887/1887 [00:00<00:00, 422994.58it/s]\n",
      "  9%|▊         | 359/4109 [02:12<20:39,  3.02it/s]"
     ]
    },
    {
     "name": "stdout",
     "output_type": "stream",
     "text": [
      "Processing entry 1850 was a common year starting on Tuesday of the ...\n"
     ]
    },
    {
     "name": "stderr",
     "output_type": "stream",
     "text": [
      "100%|██████████| 2837/2837 [00:00<00:00, 208941.89it/s]\n",
      "  9%|▉         | 360/4109 [02:12<20:03,  3.11it/s]"
     ]
    },
    {
     "name": "stdout",
     "output_type": "stream",
     "text": [
      "Processing entry Mobile telephony is the provision of telephone ser...\n"
     ]
    },
    {
     "name": "stderr",
     "output_type": "stream",
     "text": [
      "100%|██████████| 6304/6304 [00:00<00:00, 529612.27it/s]\n",
      "  9%|▉         | 361/4109 [02:13<22:24,  2.79it/s]"
     ]
    },
    {
     "name": "stdout",
     "output_type": "stream",
     "text": [
      "Processing entry The Democratic Party's 1944 nomination for Vice Pr...\n"
     ]
    },
    {
     "name": "stderr",
     "output_type": "stream",
     "text": [
      "100%|██████████| 3063/3063 [00:00<00:00, 802896.89it/s]\n",
      "  9%|▉         | 362/4109 [02:13<20:48,  3.00it/s]"
     ]
    },
    {
     "name": "stdout",
     "output_type": "stream",
     "text": [
      "Processing entry Widener University Delaware Law School is a privat...\n"
     ]
    },
    {
     "name": "stderr",
     "output_type": "stream",
     "text": [
      "100%|██████████| 1353/1353 [00:00<00:00, 247757.84it/s]\n",
      "  9%|▉         | 363/4109 [02:13<16:59,  3.67it/s]"
     ]
    },
    {
     "name": "stdout",
     "output_type": "stream",
     "text": [
      "Processing entry In information theory, data compression, source co...\n"
     ]
    },
    {
     "name": "stderr",
     "output_type": "stream",
     "text": [
      "100%|██████████| 5146/5146 [00:00<00:00, 667777.01it/s]\n",
      "  9%|▉         | 364/4109 [02:13<20:19,  3.07it/s]"
     ]
    },
    {
     "name": "stdout",
     "output_type": "stream",
     "text": [
      "Processing entry April 5 is the 95th day of the year in the Gregori...\n"
     ]
    },
    {
     "name": "stderr",
     "output_type": "stream",
     "text": [
      "100%|██████████| 7512/7512 [00:00<00:00, 85490.04it/s]\n",
      "  9%|▉         | 365/4109 [02:14<33:03,  1.89it/s]"
     ]
    },
    {
     "name": "stdout",
     "output_type": "stream",
     "text": [
      "Processing entry The 1936 Venezuelan presidential election was held...\n"
     ]
    },
    {
     "name": "stderr",
     "output_type": "stream",
     "text": [
      "100%|██████████| 335/335 [00:00<00:00, 898396.32it/s]\n"
     ]
    },
    {
     "name": "stdout",
     "output_type": "stream",
     "text": [
      "Processing entry Alexandre Millerand 10 February 1859 6 April 1943 ...\n"
     ]
    },
    {
     "name": "stderr",
     "output_type": "stream",
     "text": [
      "100%|██████████| 1374/1374 [00:00<00:00, 997744.75it/s]\n",
      "  9%|▉         | 367/4109 [02:15<20:17,  3.07it/s]"
     ]
    },
    {
     "name": "stdout",
     "output_type": "stream",
     "text": [
      "Processing entry 1890 was a common year starting on Wednesday of th...\n"
     ]
    },
    {
     "name": "stderr",
     "output_type": "stream",
     "text": [
      "100%|██████████| 4042/4042 [00:00<00:00, 130152.29it/s]\n",
      "  9%|▉         | 368/4109 [02:15<21:27,  2.91it/s]"
     ]
    },
    {
     "name": "stdout",
     "output_type": "stream",
     "text": [
      "Processing entry The Institute of Electrical and Electronics Engine...\n"
     ]
    },
    {
     "name": "stderr",
     "output_type": "stream",
     "text": [
      "100%|██████████| 1458/1458 [00:00<00:00, 515189.15it/s]\n",
      "  9%|▉         | 369/4109 [02:15<18:38,  3.34it/s]"
     ]
    },
    {
     "name": "stdout",
     "output_type": "stream",
     "text": [
      "Processing entry A flash is a device used in photography that produ...\n"
     ]
    },
    {
     "name": "stderr",
     "output_type": "stream",
     "text": [
      "100%|██████████| 4557/4557 [00:00<00:00, 999970.88it/s]\n",
      "  9%|▉         | 370/4109 [02:16<19:54,  3.13it/s]"
     ]
    },
    {
     "name": "stdout",
     "output_type": "stream",
     "text": [
      "Processing entry Japanese calendar types have included a range of o...\n"
     ]
    },
    {
     "name": "stderr",
     "output_type": "stream",
     "text": [
      "100%|██████████| 3409/3409 [00:00<00:00, 347436.03it/s]\n",
      "  9%|▉         | 371/4109 [02:16<18:54,  3.30it/s]"
     ]
    },
    {
     "name": "stdout",
     "output_type": "stream",
     "text": [
      "Processing entry Le Chevalier C. Auguste Dupin o yst dyp is a ficti...\n"
     ]
    },
    {
     "name": "stderr",
     "output_type": "stream",
     "text": [
      "100%|██████████| 3720/3720 [00:00<00:00, 327041.25it/s]\n",
      "  9%|▉         | 372/4109 [02:16<20:01,  3.11it/s]"
     ]
    },
    {
     "name": "stdout",
     "output_type": "stream",
     "text": [
      "Processing entry The French Revolution of 1830, also known as the J...\n"
     ]
    },
    {
     "name": "stderr",
     "output_type": "stream",
     "text": [
      "100%|██████████| 3905/3905 [00:00<00:00, 462611.41it/s]\n",
      "  9%|▉         | 373/4109 [02:17<20:21,  3.06it/s]"
     ]
    },
    {
     "name": "stdout",
     "output_type": "stream",
     "text": [
      "Processing entry John Warburton was a British actor who appeared in...\n"
     ]
    },
    {
     "name": "stderr",
     "output_type": "stream",
     "text": [
      "100%|██████████| 231/231 [00:00<00:00, 281325.27it/s]\n"
     ]
    },
    {
     "name": "stdout",
     "output_type": "stream",
     "text": [
      "Processing entry John George Trump was an American electrical engin...\n"
     ]
    },
    {
     "name": "stderr",
     "output_type": "stream",
     "text": [
      "100%|██████████| 1089/1089 [00:00<00:00, 25197.34it/s]\n",
      "  9%|▉         | 375/4109 [02:17<13:29,  4.61it/s]"
     ]
    },
    {
     "name": "stdout",
     "output_type": "stream",
     "text": [
      "Processing entry Lieutenant Colonel Sir Alexander Gordon was a Scot...\n"
     ]
    },
    {
     "name": "stderr",
     "output_type": "stream",
     "text": [
      "100%|██████████| 940/940 [00:00<00:00, 412842.49it/s]\n",
      "  9%|▉         | 376/4109 [02:17<12:12,  5.09it/s]"
     ]
    },
    {
     "name": "stdout",
     "output_type": "stream",
     "text": [
      "Processing entry The Union Pacific Railroad , legally Union Pacific...\n"
     ]
    },
    {
     "name": "stderr",
     "output_type": "stream",
     "text": [
      "100%|██████████| 5110/5110 [00:00<00:00, 294137.17it/s]\n",
      "  9%|▉         | 377/4109 [02:17<15:50,  3.93it/s]"
     ]
    },
    {
     "name": "stdout",
     "output_type": "stream",
     "text": [
      "Processing entry Durant Waite Robertson Jr. was a scholar of mediev...\n"
     ]
    },
    {
     "name": "stderr",
     "output_type": "stream",
     "text": [
      "100%|██████████| 1618/1618 [00:00<00:00, 124463.71it/s]\n",
      "  9%|▉         | 378/4109 [02:17<14:21,  4.33it/s]"
     ]
    },
    {
     "name": "stdout",
     "output_type": "stream",
     "text": [
      "Processing entry Gas discharge lamps are a family of artificial lig...\n"
     ]
    },
    {
     "name": "stderr",
     "output_type": "stream",
     "text": [
      "100%|██████████| 1999/1999 [00:00<00:00, 852074.56it/s]\n",
      "  9%|▉         | 379/4109 [02:18<13:21,  4.65it/s]"
     ]
    },
    {
     "name": "stdout",
     "output_type": "stream",
     "text": [
      "Processing entry Mount Aspiring Tititea is New Zealand's 23rd highe...\n"
     ]
    },
    {
     "name": "stderr",
     "output_type": "stream",
     "text": [
      "100%|██████████| 439/439 [00:00<00:00, 228194.26it/s]\n",
      "  9%|▉         | 380/4109 [02:18<11:31,  5.39it/s]"
     ]
    },
    {
     "name": "stdout",
     "output_type": "stream",
     "text": [
      "Processing entry July 1 is the 182nd day of the year in the Gregori...\n"
     ]
    },
    {
     "name": "stderr",
     "output_type": "stream",
     "text": [
      "100%|██████████| 5397/5397 [00:00<00:00, 87246.62it/s]\n",
      "  9%|▉         | 381/4109 [02:18<18:59,  3.27it/s]"
     ]
    },
    {
     "name": "stdout",
     "output_type": "stream",
     "text": [
      "Processing entry The Kingdom of Greece was ruled by the House of Wi...\n"
     ]
    },
    {
     "name": "stderr",
     "output_type": "stream",
     "text": [
      "100%|██████████| 862/862 [00:00<00:00, 584085.63it/s]\n"
     ]
    },
    {
     "name": "stdout",
     "output_type": "stream",
     "text": [
      "Processing entry This is a list of state leaders in the 20th centur...\n"
     ]
    },
    {
     "name": "stderr",
     "output_type": "stream",
     "text": [
      "100%|██████████| 22358/22358 [00:00<00:00, 35962.21it/s]\n",
      "  9%|▉         | 383/4109 [02:21<53:42,  1.16it/s]"
     ]
    },
    {
     "name": "stdout",
     "output_type": "stream",
     "text": [
      "Processing entry 1820 was a leap year starting on Saturday of the G...\n"
     ]
    },
    {
     "name": "stderr",
     "output_type": "stream",
     "text": [
      "100%|██████████| 2025/2025 [00:00<00:00, 528036.41it/s]\n",
      "  9%|▉         | 384/4109 [02:22<42:58,  1.44it/s]"
     ]
    },
    {
     "name": "stdout",
     "output_type": "stream",
     "text": [
      "Processing entry Eintracht Frankfurt e.V. is a professional sports ...\n"
     ]
    },
    {
     "name": "stderr",
     "output_type": "stream",
     "text": [
      "100%|██████████| 3173/3173 [00:00<00:00, 497329.10it/s]\n",
      "  9%|▉         | 385/4109 [02:22<36:17,  1.71it/s]"
     ]
    },
    {
     "name": "stdout",
     "output_type": "stream",
     "text": [
      "Processing entry Lyman Louis Lemnitzer was a United States Army gen...\n"
     ]
    },
    {
     "name": "stderr",
     "output_type": "stream",
     "text": [
      "100%|██████████| 1064/1064 [00:00<00:00, 328892.29it/s]\n",
      "  9%|▉         | 386/4109 [02:22<28:41,  2.16it/s]"
     ]
    },
    {
     "name": "stdout",
     "output_type": "stream",
     "text": [
      "Processing entry Mehdi is a common Arabic masculine given name, mea...\n"
     ]
    },
    {
     "name": "stderr",
     "output_type": "stream",
     "text": [
      "100%|██████████| 1125/1125 [00:00<00:00, 358610.12it/s]\n",
      "  9%|▉         | 387/4109 [02:22<23:27,  2.64it/s]"
     ]
    },
    {
     "name": "stdout",
     "output_type": "stream",
     "text": [
      "Processing entry Georges Auric was a French composer, born in Lod v...\n"
     ]
    },
    {
     "name": "stderr",
     "output_type": "stream",
     "text": [
      "100%|██████████| 1315/1315 [00:00<00:00, 296564.67it/s]\n",
      "  9%|▉         | 388/4109 [02:22<19:19,  3.21it/s]"
     ]
    },
    {
     "name": "stdout",
     "output_type": "stream",
     "text": [
      "Processing entry The United States of America , commonly known as t...\n"
     ]
    },
    {
     "name": "stderr",
     "output_type": "stream",
     "text": [
      "100%|██████████| 14079/14079 [00:00<00:00, 261724.57it/s]\n",
      "  9%|▉         | 389/4109 [02:23<32:07,  1.93it/s]"
     ]
    },
    {
     "name": "stdout",
     "output_type": "stream",
     "text": [
      "Processing entry This is a list of state leaders in the 20th centur...\n"
     ]
    },
    {
     "name": "stderr",
     "output_type": "stream",
     "text": [
      "100%|██████████| 22358/22358 [00:00<00:00, 41520.02it/s]\n",
      "  9%|▉         | 390/4109 [02:26<1:14:25,  1.20s/it]"
     ]
    },
    {
     "name": "stdout",
     "output_type": "stream",
     "text": [
      "Processing entry Wireless communication is the transfer of informat...\n"
     ]
    },
    {
     "name": "stderr",
     "output_type": "stream",
     "text": [
      "100%|██████████| 2356/2356 [00:00<00:00, 701183.58it/s]\n",
      " 10%|▉         | 391/4109 [02:26<56:14,  1.10it/s]  "
     ]
    },
    {
     "name": "stdout",
     "output_type": "stream",
     "text": [
      "Processing entry Elizabeth Angela Marguerite Bowes Lyon was Queen o...\n"
     ]
    },
    {
     "name": "stderr",
     "output_type": "stream",
     "text": [
      "100%|██████████| 6551/6551 [00:00<00:00, 451573.38it/s]\n",
      " 10%|▉         | 392/4109 [02:27<49:13,  1.26it/s]"
     ]
    },
    {
     "name": "stdout",
     "output_type": "stream",
     "text": [
      "Processing entry A well is an excavation or structure created in th...\n"
     ]
    },
    {
     "name": "stderr",
     "output_type": "stream",
     "text": [
      "100%|██████████| 5211/5211 [00:00<00:00, 1617802.97it/s]\n",
      " 10%|▉         | 393/4109 [02:27<42:43,  1.45it/s]"
     ]
    },
    {
     "name": "stdout",
     "output_type": "stream",
     "text": [
      "Processing entry List of Polish Righteous Among the Nations include...\n"
     ]
    },
    {
     "name": "stderr",
     "output_type": "stream",
     "text": [
      "100%|██████████| 2973/2973 [00:00<00:00, 418080.39it/s]\n",
      " 10%|▉         | 394/4109 [02:28<35:03,  1.77it/s]"
     ]
    },
    {
     "name": "stdout",
     "output_type": "stream",
     "text": [
      "Processing entry This article lists the 3,243 counties and county e...\n"
     ]
    },
    {
     "name": "stderr",
     "output_type": "stream",
     "text": [
      "100%|██████████| 587/587 [00:00<00:00, 376288.62it/s]\n"
     ]
    },
    {
     "name": "stdout",
     "output_type": "stream",
     "text": [
      "Processing entry The Battle of Talana Hill, also known as the Battl...\n"
     ]
    },
    {
     "name": "stderr",
     "output_type": "stream",
     "text": [
      "100%|██████████| 833/833 [00:00<00:00, 493203.73it/s]\n",
      " 10%|▉         | 396/4109 [02:28<21:40,  2.85it/s]"
     ]
    },
    {
     "name": "stdout",
     "output_type": "stream",
     "text": [
      "Processing entry Association football, more commonly known as simpl...\n"
     ]
    },
    {
     "name": "stderr",
     "output_type": "stream",
     "text": [
      "100%|██████████| 7274/7274 [00:00<00:00, 742699.85it/s]\n",
      " 10%|▉         | 397/4109 [02:28<23:38,  2.62it/s]"
     ]
    },
    {
     "name": "stdout",
     "output_type": "stream",
     "text": [
      "Processing entry The April Uprising was an insurrection organised b...\n"
     ]
    },
    {
     "name": "stderr",
     "output_type": "stream",
     "text": [
      "100%|██████████| 2950/2950 [00:00<00:00, 576516.48it/s]\n",
      " 10%|▉         | 398/4109 [02:29<21:21,  2.89it/s]"
     ]
    },
    {
     "name": "stdout",
     "output_type": "stream",
     "text": [
      "Processing entry The Wilmington and Weldon Railroad name began use ...\n"
     ]
    },
    {
     "name": "stderr",
     "output_type": "stream",
     "text": [
      "100%|██████████| 947/947 [00:00<00:00, 624725.68it/s]\n",
      " 10%|▉         | 399/4109 [02:29<17:32,  3.52it/s]"
     ]
    },
    {
     "name": "stdout",
     "output_type": "stream",
     "text": [
      "Processing entry The partition of the Ottoman Empire was a geopolit...\n"
     ]
    },
    {
     "name": "stderr",
     "output_type": "stream",
     "text": [
      "100%|██████████| 3748/3748 [00:00<00:00, 695217.20it/s]\n",
      " 10%|▉         | 400/4109 [02:29<18:31,  3.34it/s]"
     ]
    },
    {
     "name": "stdout",
     "output_type": "stream",
     "text": [
      "Processing entry His Last Bow. The War Service of Sherlock Holmes ,...\n"
     ]
    },
    {
     "name": "stderr",
     "output_type": "stream",
     "text": [
      "100%|██████████| 1619/1619 [00:00<00:00, 289096.10it/s]\n",
      " 10%|▉         | 401/4109 [02:29<16:15,  3.80it/s]"
     ]
    },
    {
     "name": "stdout",
     "output_type": "stream",
     "text": [
      "Processing entry A movie theater , cinema , or cinema hall , also k...\n"
     ]
    },
    {
     "name": "stderr",
     "output_type": "stream",
     "text": [
      "100%|██████████| 8650/8650 [00:00<00:00, 525967.75it/s]\n",
      " 10%|▉         | 402/4109 [02:30<23:20,  2.65it/s]"
     ]
    },
    {
     "name": "stdout",
     "output_type": "stream",
     "text": [
      "Processing entry The following events occurred in January 1950:  Ja...\n"
     ]
    },
    {
     "name": "stderr",
     "output_type": "stream",
     "text": [
      "100%|██████████| 4942/4942 [00:00<00:00, 242112.86it/s]\n",
      " 10%|▉         | 403/4109 [02:30<23:49,  2.59it/s]"
     ]
    },
    {
     "name": "stdout",
     "output_type": "stream",
     "text": [
      "Processing entry November 12 is the 316th day of the year in the Gr...\n"
     ]
    },
    {
     "name": "stderr",
     "output_type": "stream",
     "text": [
      "100%|██████████| 3817/3817 [00:00<00:00, 178464.11it/s]\n",
      " 10%|▉         | 404/4109 [02:31<24:46,  2.49it/s]"
     ]
    },
    {
     "name": "stdout",
     "output_type": "stream",
     "text": [
      "Processing entry William Henry Vanderbilt was an American businessm...\n"
     ]
    },
    {
     "name": "stderr",
     "output_type": "stream",
     "text": [
      "100%|██████████| 1353/1353 [00:00<00:00, 431846.38it/s]\n",
      " 10%|▉         | 405/4109 [02:31<19:42,  3.13it/s]"
     ]
    },
    {
     "name": "stdout",
     "output_type": "stream",
     "text": [
      "Processing entry A jubilee is a special year of remission of sins a...\n"
     ]
    },
    {
     "name": "stderr",
     "output_type": "stream",
     "text": [
      "100%|██████████| 3443/3443 [00:00<00:00, 508056.17it/s]\n",
      " 10%|▉         | 406/4109 [02:31<18:26,  3.35it/s]"
     ]
    },
    {
     "name": "stdout",
     "output_type": "stream",
     "text": [
      "Processing entry December 1 is the 335th day of the year in the Gre...\n"
     ]
    },
    {
     "name": "stderr",
     "output_type": "stream",
     "text": [
      "100%|██████████| 4317/4317 [00:00<00:00, 98981.10it/s]\n",
      " 10%|▉         | 407/4109 [02:32<21:45,  2.84it/s]"
     ]
    },
    {
     "name": "stdout",
     "output_type": "stream",
     "text": [
      "Processing entry The Canadian Army is the command responsible for t...\n"
     ]
    },
    {
     "name": "stderr",
     "output_type": "stream",
     "text": [
      "100%|██████████| 3378/3378 [00:00<00:00, 301749.77it/s]\n",
      " 10%|▉         | 408/4109 [02:32<20:40,  2.98it/s]"
     ]
    },
    {
     "name": "stdout",
     "output_type": "stream",
     "text": [
      "Processing entry John Pierpont Morgan Sr. was an American financier...\n"
     ]
    },
    {
     "name": "stderr",
     "output_type": "stream",
     "text": [
      "100%|██████████| 5085/5085 [00:00<00:00, 388729.56it/s]\n",
      " 10%|▉         | 409/4109 [02:32<20:43,  2.98it/s]"
     ]
    },
    {
     "name": "stdout",
     "output_type": "stream",
     "text": [
      "Processing entry Opera is a form of theatre in which music is a fun...\n"
     ]
    },
    {
     "name": "stderr",
     "output_type": "stream",
     "text": [
      "100%|██████████| 11691/11691 [00:00<00:00, 320821.28it/s]\n",
      " 10%|▉         | 410/4109 [02:33<32:59,  1.87it/s]"
     ]
    },
    {
     "name": "stdout",
     "output_type": "stream",
     "text": [
      "Processing entry A DC motor is any of a class of rotary electrical ...\n"
     ]
    },
    {
     "name": "stderr",
     "output_type": "stream",
     "text": [
      "100%|██████████| 2339/2339 [00:00<00:00, 1740372.02it/s]\n",
      " 10%|█         | 411/4109 [02:33<26:19,  2.34it/s]"
     ]
    },
    {
     "name": "stdout",
     "output_type": "stream",
     "text": [
      "Processing entry Colombia , ; Spanish: ko lombja , officially the R...\n"
     ]
    },
    {
     "name": "stderr",
     "output_type": "stream",
     "text": [
      "100%|██████████| 12259/12259 [00:00<00:00, 226105.50it/s]\n",
      " 10%|█         | 412/4109 [02:34<38:05,  1.62it/s]"
     ]
    },
    {
     "name": "stdout",
     "output_type": "stream",
     "text": [
      "Processing entry The Sharif of Mecca or Hejaz was the title of the ...\n"
     ]
    },
    {
     "name": "stderr",
     "output_type": "stream",
     "text": [
      "100%|██████████| 449/449 [00:00<00:00, 148720.09it/s]\n"
     ]
    },
    {
     "name": "stdout",
     "output_type": "stream",
     "text": [
      "Processing entry Manuel Goded Llopis was a Spanish Army general who...\n"
     ]
    },
    {
     "name": "stderr",
     "output_type": "stream",
     "text": [
      "100%|██████████| 628/628 [00:00<00:00, 256227.91it/s]\n",
      " 10%|█         | 414/4109 [02:35<22:12,  2.77it/s]"
     ]
    },
    {
     "name": "stdout",
     "output_type": "stream",
     "text": [
      "Processing entry An exchange is a type of retail store found on Uni...\n"
     ]
    },
    {
     "name": "stderr",
     "output_type": "stream",
     "text": [
      "100%|██████████| 836/836 [00:00<00:00, 396566.18it/s]\n"
     ]
    },
    {
     "name": "stdout",
     "output_type": "stream",
     "text": [
      "Processing entry The Voting Rights Act of 1965 is a landmark piece ...\n"
     ]
    },
    {
     "name": "stderr",
     "output_type": "stream",
     "text": [
      "100%|██████████| 15857/15857 [00:00<00:00, 340271.25it/s]\n",
      " 10%|█         | 416/4109 [02:36<27:13,  2.26it/s]"
     ]
    },
    {
     "name": "stdout",
     "output_type": "stream",
     "text": [
      "Processing entry August 4 is the 216th day of the year in the Grego...\n"
     ]
    },
    {
     "name": "stderr",
     "output_type": "stream",
     "text": [
      "100%|██████████| 4088/4088 [00:00<00:00, 99196.51it/s]\n",
      " 10%|█         | 417/4109 [02:36<27:06,  2.27it/s]"
     ]
    },
    {
     "name": "stdout",
     "output_type": "stream",
     "text": [
      "Processing entry October 1 is the 274th day of the year in the Greg...\n"
     ]
    },
    {
     "name": "stderr",
     "output_type": "stream",
     "text": [
      "100%|██████████| 4778/4778 [00:00<00:00, 106081.49it/s]\n",
      " 10%|█         | 418/4109 [02:37<28:30,  2.16it/s]"
     ]
    },
    {
     "name": "stdout",
     "output_type": "stream",
     "text": [
      "Processing entry John Gilbert was an American actor, screenwriter a...\n"
     ]
    },
    {
     "name": "stderr",
     "output_type": "stream",
     "text": [
      "100%|██████████| 4290/4290 [00:00<00:00, 305529.76it/s]\n",
      " 10%|█         | 419/4109 [02:37<27:15,  2.26it/s]"
     ]
    },
    {
     "name": "stdout",
     "output_type": "stream",
     "text": [
      "Processing entry The Mills Brothers, sometimes billed the Four Mill...\n"
     ]
    },
    {
     "name": "stderr",
     "output_type": "stream",
     "text": [
      "100%|██████████| 2157/2157 [00:00<00:00, 295117.23it/s]\n",
      " 10%|█         | 420/4109 [02:37<23:43,  2.59it/s]"
     ]
    },
    {
     "name": "stdout",
     "output_type": "stream",
     "text": [
      "Processing entry Der Januskopf is a 1920 German silent film directe...\n"
     ]
    },
    {
     "name": "stderr",
     "output_type": "stream",
     "text": [
      "100%|██████████| 1014/1014 [00:00<00:00, 688414.42it/s]\n"
     ]
    },
    {
     "name": "stdout",
     "output_type": "stream",
     "text": [
      "Processing entry This is a list of state leaders in the 19th centur...\n"
     ]
    },
    {
     "name": "stderr",
     "output_type": "stream",
     "text": [
      "100%|██████████| 16607/16607 [00:00<00:00, 34908.02it/s]\n",
      " 10%|█         | 422/4109 [02:39<41:40,  1.47it/s]"
     ]
    },
    {
     "name": "stdout",
     "output_type": "stream",
     "text": [
      "Processing entry Francis David Peat was a holistic physicist and au...\n"
     ]
    },
    {
     "name": "stderr",
     "output_type": "stream",
     "text": [
      "100%|██████████| 1291/1291 [00:00<00:00, 620968.63it/s]\n"
     ]
    },
    {
     "name": "stdout",
     "output_type": "stream",
     "text": [
      "Processing entry Aline Laveen MacMahon was an American actress. Her...\n"
     ]
    },
    {
     "name": "stderr",
     "output_type": "stream",
     "text": [
      "100%|██████████| 1290/1290 [00:00<00:00, 926798.93it/s]\n",
      " 10%|█         | 424/4109 [02:39<27:14,  2.25it/s]"
     ]
    },
    {
     "name": "stdout",
     "output_type": "stream",
     "text": [
      "Processing entry The Shawnee are an Algonquian speaking indigenous ...\n"
     ]
    },
    {
     "name": "stderr",
     "output_type": "stream",
     "text": [
      "100%|██████████| 6426/6426 [00:00<00:00, 372031.93it/s]\n",
      " 10%|█         | 425/4109 [02:40<27:58,  2.20it/s]"
     ]
    },
    {
     "name": "stdout",
     "output_type": "stream",
     "text": [
      "Processing entry The president of Czechoslovakia was the head of st...\n"
     ]
    },
    {
     "name": "stderr",
     "output_type": "stream",
     "text": [
      "100%|██████████| 298/298 [00:00<00:00, 476880.04it/s]\n"
     ]
    },
    {
     "name": "stdout",
     "output_type": "stream",
     "text": [
      "Processing entry A tenement is a type of building shared by multipl...\n"
     ]
    },
    {
     "name": "stderr",
     "output_type": "stream",
     "text": [
      "100%|██████████| 4001/4001 [00:00<00:00, 491518.08it/s]\n",
      " 10%|█         | 427/4109 [02:40<21:41,  2.83it/s]"
     ]
    },
    {
     "name": "stdout",
     "output_type": "stream",
     "text": [
      "Processing entry The Irish War of Independence or Anglo Irish War w...\n"
     ]
    },
    {
     "name": "stderr",
     "output_type": "stream",
     "text": [
      "100%|██████████| 12903/12903 [00:00<00:00, 392511.58it/s]\n",
      " 10%|█         | 428/4109 [02:41<29:40,  2.07it/s]"
     ]
    },
    {
     "name": "stdout",
     "output_type": "stream",
     "text": [
      "Processing entry The electric flash lamp uses electric current to s...\n"
     ]
    },
    {
     "name": "stderr",
     "output_type": "stream",
     "text": [
      "100%|██████████| 657/657 [00:00<00:00, 509269.59it/s]\n"
     ]
    },
    {
     "name": "stdout",
     "output_type": "stream",
     "text": [
      "Processing entry 2020 was a leap year starting on Wednesday of the ...\n"
     ]
    },
    {
     "name": "stderr",
     "output_type": "stream",
     "text": [
      "100%|██████████| 13478/13478 [00:00<00:00, 130307.91it/s]\n",
      " 10%|█         | 430/4109 [02:42<32:18,  1.90it/s]"
     ]
    },
    {
     "name": "stdout",
     "output_type": "stream",
     "text": [
      "Processing entry February 2 is the 33rd day of the year in the Greg...\n"
     ]
    },
    {
     "name": "stderr",
     "output_type": "stream",
     "text": [
      "100%|██████████| 4975/4975 [00:00<00:00, 108218.35it/s]\n",
      " 10%|█         | 431/4109 [02:43<32:34,  1.88it/s]"
     ]
    },
    {
     "name": "stdout",
     "output_type": "stream",
     "text": [
      "Processing entry The Canadian Broadcasting Corporation , branded as...\n"
     ]
    },
    {
     "name": "stderr",
     "output_type": "stream",
     "text": [
      "100%|██████████| 10525/10525 [00:00<00:00, 1049772.89it/s]\n",
      " 11%|█         | 432/4109 [02:44<35:34,  1.72it/s]"
     ]
    },
    {
     "name": "stdout",
     "output_type": "stream",
     "text": [
      "Processing entry .  is the Internationalised Internet country code ...\n"
     ]
    },
    {
     "name": "stderr",
     "output_type": "stream",
     "text": [
      "100%|██████████| 366/366 [00:00<00:00, 494560.33it/s]\n"
     ]
    },
    {
     "name": "stdout",
     "output_type": "stream",
     "text": [
      "Processing entry Abdu'l Bah , born Abb s , was the eldest son of Ba...\n"
     ]
    },
    {
     "name": "stderr",
     "output_type": "stream",
     "text": [
      "100%|██████████| 8371/8371 [00:00<00:00, 366681.83it/s]\n",
      " 11%|█         | 434/4109 [02:45<30:57,  1.98it/s]"
     ]
    },
    {
     "name": "stdout",
     "output_type": "stream",
     "text": [
      "Processing entry Hamilton is a port city in the Canadian province o...\n"
     ]
    },
    {
     "name": "stderr",
     "output_type": "stream",
     "text": [
      "100%|██████████| 5746/5746 [00:00<00:00, 692801.07it/s]\n",
      " 11%|█         | 435/4109 [02:45<30:53,  1.98it/s]"
     ]
    },
    {
     "name": "stdout",
     "output_type": "stream",
     "text": [
      "Processing entry The Institute of Electrical and Electronics Engine...\n"
     ]
    },
    {
     "name": "stderr",
     "output_type": "stream",
     "text": [
      "100%|██████████| 1458/1458 [00:00<00:00, 533109.17it/s]\n",
      " 11%|█         | 436/4109 [02:45<25:21,  2.41it/s]"
     ]
    },
    {
     "name": "stdout",
     "output_type": "stream",
     "text": [
      "Processing entry Puerto Rico , officially the Commonwealth of Puert...\n"
     ]
    },
    {
     "name": "stderr",
     "output_type": "stream",
     "text": [
      "100%|██████████| 20768/20768 [00:00<00:00, 281477.99it/s]\n",
      " 11%|█         | 437/4109 [02:47<45:00,  1.36it/s]"
     ]
    },
    {
     "name": "stdout",
     "output_type": "stream",
     "text": [
      "Processing entry The Auditorium Building in Chicago is one of the b...\n"
     ]
    },
    {
     "name": "stderr",
     "output_type": "stream",
     "text": [
      "100%|██████████| 1549/1549 [00:00<00:00, 538944.58it/s]\n",
      " 11%|█         | 438/4109 [02:47<35:04,  1.74it/s]"
     ]
    },
    {
     "name": "stdout",
     "output_type": "stream",
     "text": [
      "Processing entry This article is part of the history of rail transp...\n"
     ]
    },
    {
     "name": "stderr",
     "output_type": "stream",
     "text": [
      "100%|██████████| 9474/9474 [00:00<00:00, 1046615.12it/s]\n",
      " 11%|█         | 439/4109 [02:48<37:09,  1.65it/s]"
     ]
    },
    {
     "name": "stdout",
     "output_type": "stream",
     "text": [
      "Processing entry March 21 is the 80th day of the year in the Gregor...\n"
     ]
    },
    {
     "name": "stderr",
     "output_type": "stream",
     "text": [
      "100%|██████████| 4561/4561 [00:00<00:00, 130542.50it/s]\n",
      " 11%|█         | 440/4109 [02:48<36:30,  1.68it/s]"
     ]
    },
    {
     "name": "stdout",
     "output_type": "stream",
     "text": [
      "Processing entry Dwight Whitney Morrow was an American businessman,...\n"
     ]
    },
    {
     "name": "stderr",
     "output_type": "stream",
     "text": [
      "100%|██████████| 1637/1637 [00:00<00:00, 445213.05it/s]\n",
      " 11%|█         | 441/4109 [02:48<28:15,  2.16it/s]"
     ]
    },
    {
     "name": "stdout",
     "output_type": "stream",
     "text": [
      "Processing entry Luang Phabang, or Louangphabang , commonly transli...\n"
     ]
    },
    {
     "name": "stderr",
     "output_type": "stream",
     "text": [
      "100%|██████████| 1890/1890 [00:00<00:00, 472252.74it/s]\n",
      " 11%|█         | 442/4109 [02:49<23:24,  2.61it/s]"
     ]
    },
    {
     "name": "stdout",
     "output_type": "stream",
     "text": [
      "Processing entry In the United States, a health maintenance organiz...\n"
     ]
    },
    {
     "name": "stderr",
     "output_type": "stream",
     "text": [
      "100%|██████████| 1980/1980 [00:00<00:00, 446466.42it/s]\n",
      " 11%|█         | 443/4109 [02:49<19:03,  3.21it/s]"
     ]
    },
    {
     "name": "stdout",
     "output_type": "stream",
     "text": [
      "Processing entry Anglo is a prefix indicating a relation to, or des...\n"
     ]
    },
    {
     "name": "stderr",
     "output_type": "stream",
     "text": [
      "100%|██████████| 1041/1041 [00:00<00:00, 479072.91it/s]\n",
      " 11%|█         | 444/4109 [02:49<15:48,  3.86it/s]"
     ]
    },
    {
     "name": "stdout",
     "output_type": "stream",
     "text": [
      "Processing entry 1940 was a leap year starting on Monday of the Gre...\n"
     ]
    },
    {
     "name": "stderr",
     "output_type": "stream",
     "text": [
      "100%|██████████| 11327/11327 [00:00<00:00, 71819.93it/s]\n",
      " 11%|█         | 445/4109 [02:50<33:34,  1.82it/s]"
     ]
    },
    {
     "name": "stdout",
     "output_type": "stream",
     "text": [
      "Processing entry April is the fourth month of the year in the Grego...\n"
     ]
    },
    {
     "name": "stderr",
     "output_type": "stream",
     "text": [
      "100%|██████████| 2609/2609 [00:00<00:00, 169858.11it/s]\n",
      " 11%|█         | 446/4109 [02:50<28:05,  2.17it/s]"
     ]
    },
    {
     "name": "stdout",
     "output_type": "stream",
     "text": [
      "Processing entry Deodato Arellano y de la Cruz was a Filipino propa...\n"
     ]
    },
    {
     "name": "stderr",
     "output_type": "stream",
     "text": [
      "100%|██████████| 943/943 [00:00<00:00, 474817.37it/s]\n"
     ]
    },
    {
     "name": "stdout",
     "output_type": "stream",
     "text": [
      "Processing entry Comic opera, sometimes known as light opera, is a ...\n"
     ]
    },
    {
     "name": "stderr",
     "output_type": "stream",
     "text": [
      "100%|██████████| 2868/2868 [00:00<00:00, 363696.56it/s]\n",
      " 11%|█         | 448/4109 [02:51<20:06,  3.04it/s]"
     ]
    },
    {
     "name": "stdout",
     "output_type": "stream",
     "text": [
      "Processing entry Liberty ships were a class of cargo ship built in ...\n"
     ]
    },
    {
     "name": "stderr",
     "output_type": "stream",
     "text": [
      "100%|██████████| 5808/5808 [00:00<00:00, 180081.45it/s]\n",
      " 11%|█         | 449/4109 [02:51<23:20,  2.61it/s]"
     ]
    },
    {
     "name": "stdout",
     "output_type": "stream",
     "text": [
      "Processing entry Ios, Io or Nio is a Greek island in the Cyclades g...\n"
     ]
    },
    {
     "name": "stderr",
     "output_type": "stream",
     "text": [
      "100%|██████████| 1966/1966 [00:00<00:00, 534102.06it/s]\n",
      " 11%|█         | 450/4109 [02:51<19:55,  3.06it/s]"
     ]
    },
    {
     "name": "stdout",
     "output_type": "stream",
     "text": [
      "Processing entry A normal school or normal college is an institutio...\n"
     ]
    },
    {
     "name": "stderr",
     "output_type": "stream",
     "text": [
      "100%|██████████| 8576/8576 [00:00<00:00, 416617.65it/s]\n",
      " 11%|█         | 451/4109 [02:52<25:30,  2.39it/s]"
     ]
    },
    {
     "name": "stdout",
     "output_type": "stream",
     "text": [
      "Processing entry 1908 was a leap year starting on Wednesday of the ...\n"
     ]
    },
    {
     "name": "stderr",
     "output_type": "stream",
     "text": [
      "100%|██████████| 3801/3801 [00:00<00:00, 293288.01it/s]\n",
      " 11%|█         | 452/4109 [02:52<24:31,  2.49it/s]"
     ]
    },
    {
     "name": "stdout",
     "output_type": "stream",
     "text": [
      "Processing entry In cricket, a batter is not out if they come out t...\n"
     ]
    },
    {
     "name": "stderr",
     "output_type": "stream",
     "text": [
      "100%|██████████| 450/450 [00:00<00:00, 684101.78it/s]\n"
     ]
    },
    {
     "name": "stdout",
     "output_type": "stream",
     "text": [
      "Processing entry Joseph Bell FRCSE was a Scottish surgeon and lectu...\n"
     ]
    },
    {
     "name": "stderr",
     "output_type": "stream",
     "text": [
      "100%|██████████| 1006/1006 [00:00<00:00, 447641.61it/s]\n",
      " 11%|█         | 454/4109 [02:53<15:34,  3.91it/s]"
     ]
    },
    {
     "name": "stdout",
     "output_type": "stream",
     "text": [
      "Processing entry A commutator is a rotary electrical switch in cert...\n"
     ]
    },
    {
     "name": "stderr",
     "output_type": "stream",
     "text": [
      "100%|██████████| 3815/3815 [00:00<00:00, 740490.99it/s]\n",
      " 11%|█         | 455/4109 [02:53<16:48,  3.62it/s]"
     ]
    },
    {
     "name": "stdout",
     "output_type": "stream",
     "text": [
      "Processing entry Madison Square Garden was an indoor arena in New Y...\n"
     ]
    },
    {
     "name": "stderr",
     "output_type": "stream",
     "text": [
      "100%|██████████| 1366/1366 [00:00<00:00, 391166.74it/s]\n",
      " 11%|█         | 456/4109 [02:53<15:04,  4.04it/s]"
     ]
    },
    {
     "name": "stdout",
     "output_type": "stream",
     "text": [
      "Processing entry Edwards v Canada also known as the Persons Case is...\n"
     ]
    },
    {
     "name": "stderr",
     "output_type": "stream",
     "text": [
      "100%|██████████| 2621/2621 [00:00<00:00, 630926.93it/s]\n",
      " 11%|█         | 457/4109 [02:53<14:33,  4.18it/s]"
     ]
    },
    {
     "name": "stdout",
     "output_type": "stream",
     "text": [
      "Processing entry Oskar Ludvig Starck  , Oskar Viktorovich Stark; 16...\n"
     ]
    },
    {
     "name": "stderr",
     "output_type": "stream",
     "text": [
      "100%|██████████| 564/564 [00:00<00:00, 250910.85it/s]\n"
     ]
    },
    {
     "name": "stdout",
     "output_type": "stream",
     "text": [
      "Processing entry William Edward Cotton as Billy Cotton was an Engli...\n"
     ]
    },
    {
     "name": "stderr",
     "output_type": "stream",
     "text": [
      "100%|██████████| 679/679 [00:00<00:00, 509742.69it/s]\n",
      " 11%|█         | 459/4109 [02:53<10:27,  5.82it/s]"
     ]
    },
    {
     "name": "stdout",
     "output_type": "stream",
     "text": [
      "Processing entry 1890 was a common year starting on Wednesday of th...\n"
     ]
    },
    {
     "name": "stderr",
     "output_type": "stream",
     "text": [
      "100%|██████████| 4042/4042 [00:00<00:00, 161162.96it/s]\n",
      " 11%|█         | 460/4109 [02:54<13:42,  4.44it/s]"
     ]
    },
    {
     "name": "stdout",
     "output_type": "stream",
     "text": [
      "Processing entry Dalston Junction is an inter modal rail and bus tr...\n"
     ]
    },
    {
     "name": "stderr",
     "output_type": "stream",
     "text": [
      "100%|██████████| 2096/2096 [00:00<00:00, 374287.35it/s]\n",
      " 11%|█         | 461/4109 [02:54<13:14,  4.59it/s]"
     ]
    },
    {
     "name": "stdout",
     "output_type": "stream",
     "text": [
      "Processing entry A raisin is a dried grape. Raisins are produced in...\n"
     ]
    },
    {
     "name": "stderr",
     "output_type": "stream",
     "text": [
      "100%|██████████| 970/970 [00:00<00:00, 785571.52it/s]\n",
      " 11%|█         | 462/4109 [02:54<11:24,  5.33it/s]"
     ]
    },
    {
     "name": "stdout",
     "output_type": "stream",
     "text": [
      "Processing entry 1939 was a common year starting on Sunday of the G...\n"
     ]
    },
    {
     "name": "stderr",
     "output_type": "stream",
     "text": [
      "100%|██████████| 9265/9265 [00:00<00:00, 190523.99it/s]\n",
      " 11%|█▏        | 463/4109 [02:55<22:31,  2.70it/s]"
     ]
    },
    {
     "name": "stdout",
     "output_type": "stream",
     "text": [
      "Processing entry January 1 or 1 January is the first day of the yea...\n"
     ]
    },
    {
     "name": "stderr",
     "output_type": "stream",
     "text": [
      "100%|██████████| 5383/5383 [00:00<00:00, 133507.21it/s]\n",
      " 11%|█▏        | 464/4109 [02:56<26:43,  2.27it/s]"
     ]
    },
    {
     "name": "stdout",
     "output_type": "stream",
     "text": [
      "Processing entry The Hollywood Roosevelt Hotel is a historic hotel ...\n"
     ]
    },
    {
     "name": "stderr",
     "output_type": "stream",
     "text": [
      "100%|██████████| 1424/1424 [00:00<00:00, 1015763.42it/s]\n"
     ]
    },
    {
     "name": "stdout",
     "output_type": "stream",
     "text": [
      "Processing entry Matthew Anthony Fitzsimons was an American histori...\n"
     ]
    },
    {
     "name": "stderr",
     "output_type": "stream",
     "text": [
      "100%|██████████| 135/135 [00:00<00:00, 808901.49it/s]\n",
      " 11%|█▏        | 466/4109 [02:56<16:59,  3.57it/s]"
     ]
    },
    {
     "name": "stdout",
     "output_type": "stream",
     "text": [
      "Processing entry Truganina is a suburb in Melbourne, Victoria, Aust...\n"
     ]
    },
    {
     "name": "stderr",
     "output_type": "stream",
     "text": [
      "100%|██████████| 1033/1033 [00:00<00:00, 331399.42it/s]\n",
      " 11%|█▏        | 467/4109 [02:56<14:21,  4.23it/s]"
     ]
    },
    {
     "name": "stdout",
     "output_type": "stream",
     "text": [
      "Processing entry 1973 was a common year starting on Monday of the G...\n"
     ]
    },
    {
     "name": "stderr",
     "output_type": "stream",
     "text": [
      "100%|██████████| 8110/8110 [00:00<00:00, 68970.16it/s]\n",
      " 11%|█▏        | 468/4109 [02:57<25:06,  2.42it/s]"
     ]
    },
    {
     "name": "stdout",
     "output_type": "stream",
     "text": [
      "Processing entry Edgar Allan Poe was an American writer, poet, edit...\n"
     ]
    },
    {
     "name": "stderr",
     "output_type": "stream",
     "text": [
      "100%|██████████| 6344/6344 [00:00<00:00, 554693.86it/s]\n",
      " 11%|█▏        | 469/4109 [02:57<27:28,  2.21it/s]"
     ]
    },
    {
     "name": "stdout",
     "output_type": "stream",
     "text": [
      "Processing entry January 1 or 1 January is the first day of the yea...\n"
     ]
    },
    {
     "name": "stderr",
     "output_type": "stream",
     "text": [
      "100%|██████████| 5383/5383 [00:00<00:00, 153588.28it/s]\n",
      " 11%|█▏        | 470/4109 [02:58<30:09,  2.01it/s]"
     ]
    },
    {
     "name": "stdout",
     "output_type": "stream",
     "text": [
      "Processing entry The Massachusetts Institute of Technology is a pri...\n"
     ]
    },
    {
     "name": "stderr",
     "output_type": "stream",
     "text": [
      "100%|██████████| 10851/10851 [00:00<00:00, 243893.04it/s]\n",
      " 11%|█▏        | 471/4109 [02:59<37:00,  1.64it/s]"
     ]
    },
    {
     "name": "stdout",
     "output_type": "stream",
     "text": [
      "Processing entry January 19 is the 19th day of the year in the Greg...\n"
     ]
    },
    {
     "name": "stderr",
     "output_type": "stream",
     "text": [
      "100%|██████████| 3938/3938 [00:00<00:00, 88538.27it/s]\n",
      " 11%|█▏        | 472/4109 [02:59<34:20,  1.76it/s]"
     ]
    },
    {
     "name": "stdout",
     "output_type": "stream",
     "text": [
      "Processing entry 1710 was a common year starting on Wednesday of th...\n"
     ]
    },
    {
     "name": "stderr",
     "output_type": "stream",
     "text": [
      "100%|██████████| 2658/2658 [00:00<00:00, 149057.53it/s]\n",
      " 12%|█▏        | 473/4109 [03:00<29:39,  2.04it/s]"
     ]
    },
    {
     "name": "stdout",
     "output_type": "stream",
     "text": [
      "Processing entry The Chicago Tribune is a daily newspaper based in ...\n"
     ]
    },
    {
     "name": "stderr",
     "output_type": "stream",
     "text": [
      "100%|██████████| 8153/8153 [00:00<00:00, 351754.45it/s]\n",
      " 12%|█▏        | 474/4109 [03:00<32:48,  1.85it/s]"
     ]
    },
    {
     "name": "stdout",
     "output_type": "stream",
     "text": [
      "Processing entry Manuel Antonio Sanclemente Sanclemente was Preside...\n"
     ]
    },
    {
     "name": "stderr",
     "output_type": "stream",
     "text": [
      "100%|██████████| 663/663 [00:00<00:00, 460782.69it/s]\n",
      " 12%|█▏        | 475/4109 [03:00<25:18,  2.39it/s]"
     ]
    },
    {
     "name": "stdout",
     "output_type": "stream",
     "text": [
      "Processing entry Sir Alfred Joseph Hitchcock was an English filmmak...\n"
     ]
    },
    {
     "name": "stderr",
     "output_type": "stream",
     "text": [
      "100%|██████████| 13954/13954 [00:00<00:00, 248672.53it/s]\n",
      " 12%|█▏        | 476/4109 [03:02<41:39,  1.45it/s]"
     ]
    },
    {
     "name": "stdout",
     "output_type": "stream",
     "text": [
      "Processing entry The battle of Kouno was an inconclusive battle tha...\n"
     ]
    },
    {
     "name": "stderr",
     "output_type": "stream",
     "text": [
      "100%|██████████| 763/763 [00:00<00:00, 505969.00it/s]\n"
     ]
    },
    {
     "name": "stdout",
     "output_type": "stream",
     "text": [
      "Processing entry In the British colonies in North America and in th...\n"
     ]
    },
    {
     "name": "stderr",
     "output_type": "stream",
     "text": [
      "100%|██████████| 5551/5551 [00:00<00:00, 1227013.52it/s]\n",
      " 12%|█▏        | 478/4109 [03:02<31:07,  1.94it/s]"
     ]
    },
    {
     "name": "stdout",
     "output_type": "stream",
     "text": [
      "Processing entry Radia Joy Perlman is an American computer programm...\n"
     ]
    },
    {
     "name": "stderr",
     "output_type": "stream",
     "text": [
      "100%|██████████| 1523/1523 [00:00<00:00, 1017347.51it/s]\n",
      " 12%|█▏        | 479/4109 [03:03<26:14,  2.31it/s]"
     ]
    },
    {
     "name": "stdout",
     "output_type": "stream",
     "text": [
      "Processing entry Jean Jacques Marie Ferdinand de B hagle was a Fren...\n"
     ]
    },
    {
     "name": "stderr",
     "output_type": "stream",
     "text": [
      "100%|██████████| 712/712 [00:00<00:00, 1092698.30it/s]\n"
     ]
    },
    {
     "name": "stdout",
     "output_type": "stream",
     "text": [
      "Processing entry January is the first month of the year in the Juli...\n"
     ]
    },
    {
     "name": "stderr",
     "output_type": "stream",
     "text": [
      "100%|██████████| 1956/1956 [00:00<00:00, 367598.29it/s]\n",
      " 12%|█▏        | 481/4109 [03:03<18:15,  3.31it/s]"
     ]
    },
    {
     "name": "stdout",
     "output_type": "stream",
     "text": [
      "Processing entry 1870 was a common year starting on Saturday of the...\n"
     ]
    },
    {
     "name": "stderr",
     "output_type": "stream",
     "text": [
      "100%|██████████| 2919/2919 [00:00<00:00, 219176.04it/s]\n",
      " 12%|█▏        | 482/4109 [03:03<17:53,  3.38it/s]"
     ]
    },
    {
     "name": "stdout",
     "output_type": "stream",
     "text": [
      "Processing entry The Congo Free State, also known as the Independen...\n"
     ]
    },
    {
     "name": "stderr",
     "output_type": "stream",
     "text": [
      "100%|██████████| 9413/9413 [00:00<00:00, 768097.58it/s]\n",
      " 12%|█▏        | 483/4109 [03:04<25:59,  2.33it/s]"
     ]
    },
    {
     "name": "stdout",
     "output_type": "stream",
     "text": [
      "Processing entry Elizabeth Barrett Browning was an English poet of ...\n"
     ]
    },
    {
     "name": "stderr",
     "output_type": "stream",
     "text": [
      "100%|██████████| 5185/5185 [00:00<00:00, 811684.63it/s]\n",
      " 12%|█▏        | 484/4109 [03:04<27:01,  2.23it/s]"
     ]
    },
    {
     "name": "stdout",
     "output_type": "stream",
     "text": [
      "Processing entry Plasma lamps are a type of electrodeless gas disch...\n"
     ]
    },
    {
     "name": "stderr",
     "output_type": "stream",
     "text": [
      "100%|██████████| 892/892 [00:00<00:00, 929058.65it/s]\n",
      " 12%|█▏        | 485/4109 [03:05<21:48,  2.77it/s]"
     ]
    },
    {
     "name": "stdout",
     "output_type": "stream",
     "text": [
      "Processing entry January 1 or 1 January is the first day of the yea...\n"
     ]
    },
    {
     "name": "stderr",
     "output_type": "stream",
     "text": [
      "100%|██████████| 5383/5383 [00:00<00:00, 171508.84it/s]\n",
      " 12%|█▏        | 486/4109 [03:05<26:41,  2.26it/s]"
     ]
    },
    {
     "name": "stdout",
     "output_type": "stream",
     "text": [
      "Processing entry Oracle bones are pieces of ox scapula and turtle p...\n"
     ]
    },
    {
     "name": "stderr",
     "output_type": "stream",
     "text": [
      "100%|██████████| 4483/4483 [00:00<00:00, 552024.69it/s]\n",
      " 12%|█▏        | 487/4109 [03:06<26:38,  2.27it/s]"
     ]
    },
    {
     "name": "stdout",
     "output_type": "stream",
     "text": [
      "Processing entry The Battle of Manila , the first and largest battl...\n"
     ]
    },
    {
     "name": "stderr",
     "output_type": "stream",
     "text": [
      "100%|██████████| 2948/2948 [00:00<00:00, 475880.70it/s]\n",
      " 12%|█▏        | 488/4109 [03:06<24:02,  2.51it/s]"
     ]
    },
    {
     "name": "stdout",
     "output_type": "stream",
     "text": [
      "Processing entry Indiana Michigan Power Center, previously known as...\n"
     ]
    },
    {
     "name": "stderr",
     "output_type": "stream",
     "text": [
      "100%|██████████| 765/765 [00:00<00:00, 588309.97it/s]\n",
      " 12%|█▏        | 489/4109 [03:06<18:46,  3.21it/s]"
     ]
    },
    {
     "name": "stdout",
     "output_type": "stream",
     "text": [
      "Processing entry Jean Sibelius ; born Johan Julius Christian Sibeli...\n"
     ]
    },
    {
     "name": "stderr",
     "output_type": "stream",
     "text": [
      "100%|██████████| 10942/10942 [00:00<00:00, 445465.41it/s]\n",
      " 12%|█▏        | 490/4109 [03:07<27:39,  2.18it/s]"
     ]
    },
    {
     "name": "stdout",
     "output_type": "stream",
     "text": [
      "Processing entry 1850 was a common year starting on Tuesday of the ...\n"
     ]
    },
    {
     "name": "stderr",
     "output_type": "stream",
     "text": [
      "100%|██████████| 2837/2837 [00:00<00:00, 165070.06it/s]\n",
      " 12%|█▏        | 491/4109 [03:07<24:53,  2.42it/s]"
     ]
    },
    {
     "name": "stdout",
     "output_type": "stream",
     "text": [
      "Processing entry 1796 was a leap year starting on Friday of the Gre...\n"
     ]
    },
    {
     "name": "stderr",
     "output_type": "stream",
     "text": [
      "100%|██████████| 2927/2927 [00:00<00:00, 290079.10it/s]\n",
      " 12%|█▏        | 492/4109 [03:07<23:03,  2.62it/s]"
     ]
    },
    {
     "name": "stdout",
     "output_type": "stream",
     "text": [
      "Processing entry The gilbert is an obsolete unit used in practical ...\n"
     ]
    },
    {
     "name": "stderr",
     "output_type": "stream",
     "text": [
      "100%|██████████| 55/55 [00:00<00:00, 283398.92it/s]\n"
     ]
    },
    {
     "name": "stdout",
     "output_type": "stream",
     "text": [
      "Processing entry The Baltic Sea is an arm of the Atlantic Ocean tha...\n"
     ]
    },
    {
     "name": "stderr",
     "output_type": "stream",
     "text": [
      "100%|██████████| 8751/8751 [00:00<00:00, 701763.84it/s]\n",
      " 12%|█▏        | 494/4109 [03:08<23:32,  2.56it/s]"
     ]
    },
    {
     "name": "stdout",
     "output_type": "stream",
     "text": [
      "Processing entry Francis Sherman Hap Farley was a New Jersey State ...\n"
     ]
    },
    {
     "name": "stderr",
     "output_type": "stream",
     "text": [
      "100%|██████████| 1997/1997 [00:00<00:00, 414306.03it/s]\n",
      " 12%|█▏        | 495/4109 [03:08<20:25,  2.95it/s]"
     ]
    },
    {
     "name": "stdout",
     "output_type": "stream",
     "text": [
      "Processing entry Fragments of Olympian Gossip is a poem that Nikola...\n"
     ]
    },
    {
     "name": "stderr",
     "output_type": "stream",
     "text": [
      "100%|██████████| 276/276 [00:00<00:00, 377077.49it/s]\n"
     ]
    },
    {
     "name": "stdout",
     "output_type": "stream",
     "text": [
      "Processing entry 1848 was a leap year starting on Saturday of the G...\n"
     ]
    },
    {
     "name": "stderr",
     "output_type": "stream",
     "text": [
      "100%|██████████| 3642/3642 [00:00<00:00, 355140.43it/s]\n",
      " 12%|█▏        | 497/4109 [03:09<17:17,  3.48it/s]"
     ]
    },
    {
     "name": "stdout",
     "output_type": "stream",
     "text": [
      "Processing entry Anti Slavery International, founded as the British...\n"
     ]
    },
    {
     "name": "stderr",
     "output_type": "stream",
     "text": [
      "100%|██████████| 2015/2015 [00:00<00:00, 613585.20it/s]\n",
      " 12%|█▏        | 498/4109 [03:09<15:55,  3.78it/s]"
     ]
    },
    {
     "name": "stdout",
     "output_type": "stream",
     "text": [
      "Processing entry September 1 is the 244th day of the year in the Gr...\n"
     ]
    },
    {
     "name": "stderr",
     "output_type": "stream",
     "text": [
      "100%|██████████| 3805/3805 [00:00<00:00, 109452.15it/s]\n",
      " 12%|█▏        | 499/4109 [03:10<18:55,  3.18it/s]"
     ]
    },
    {
     "name": "stdout",
     "output_type": "stream",
     "text": [
      "Processing entry 1983 was a common year starting on Saturday of the...\n"
     ]
    },
    {
     "name": "stderr",
     "output_type": "stream",
     "text": [
      "100%|██████████| 8470/8470 [00:00<00:00, 65522.34it/s]\n",
      " 12%|█▏        | 500/4109 [03:11<29:43,  2.02it/s]"
     ]
    },
    {
     "name": "stdout",
     "output_type": "stream",
     "text": [
      "Processing entry 1920 was a leap year starting on Thursday of the G...\n"
     ]
    },
    {
     "name": "stderr",
     "output_type": "stream",
     "text": [
      "100%|██████████| 9041/9041 [00:00<00:00, 191153.77it/s]\n",
      " 12%|█▏        | 501/4109 [03:11<36:07,  1.66it/s]"
     ]
    },
    {
     "name": "stdout",
     "output_type": "stream",
     "text": [
      "Processing entry The Medieval Monuments in Kosovo are a World Herit...\n"
     ]
    },
    {
     "name": "stderr",
     "output_type": "stream",
     "text": [
      "100%|██████████| 399/399 [00:00<00:00, 716714.05it/s]\n"
     ]
    },
    {
     "name": "stdout",
     "output_type": "stream",
     "text": [
      "Processing entry Charles Laughton was a British American actor. He ...\n"
     ]
    },
    {
     "name": "stderr",
     "output_type": "stream",
     "text": [
      "100%|██████████| 4945/4945 [00:00<00:00, 252462.85it/s]\n",
      " 12%|█▏        | 503/4109 [03:12<26:50,  2.24it/s]"
     ]
    },
    {
     "name": "stdout",
     "output_type": "stream",
     "text": [
      "Processing entry Franz Josef Jonas was an Austrian politician who s...\n"
     ]
    },
    {
     "name": "stderr",
     "output_type": "stream",
     "text": [
      "100%|██████████| 182/182 [00:00<00:00, 464050.66it/s]\n"
     ]
    },
    {
     "name": "stdout",
     "output_type": "stream",
     "text": [
      "Processing entry In 1948 more than 700,000 Palestinian Arabs about ...\n"
     ]
    },
    {
     "name": "stderr",
     "output_type": "stream",
     "text": [
      "100%|██████████| 9753/9753 [00:00<00:00, 469273.58it/s]\n",
      " 12%|█▏        | 505/4109 [03:13<26:30,  2.27it/s]"
     ]
    },
    {
     "name": "stdout",
     "output_type": "stream",
     "text": [
      "Processing entry General Kamal Hassan Ali was an Egyptian politicia...\n"
     ]
    },
    {
     "name": "stderr",
     "output_type": "stream",
     "text": [
      "100%|██████████| 238/238 [00:00<00:00, 426600.15it/s]\n"
     ]
    },
    {
     "name": "stdout",
     "output_type": "stream",
     "text": [
      "Processing entry April is the fourth month of the year in the Grego...\n"
     ]
    },
    {
     "name": "stderr",
     "output_type": "stream",
     "text": [
      "100%|██████████| 2609/2609 [00:00<00:00, 176724.20it/s]\n",
      " 12%|█▏        | 507/4109 [03:13<21:25,  2.80it/s]"
     ]
    },
    {
     "name": "stdout",
     "output_type": "stream",
     "text": [
      "Processing entry 1910 was a common year starting on Saturday of the...\n"
     ]
    },
    {
     "name": "stderr",
     "output_type": "stream",
     "text": [
      "100%|██████████| 4127/4127 [00:00<00:00, 114400.19it/s]\n",
      " 12%|█▏        | 508/4109 [03:14<22:51,  2.63it/s]"
     ]
    },
    {
     "name": "stdout",
     "output_type": "stream",
     "text": [
      "Processing entry John Francis Peggotty was an Irish bushranger in A...\n"
     ]
    },
    {
     "name": "stderr",
     "output_type": "stream",
     "text": [
      "100%|██████████| 498/498 [00:00<00:00, 319480.48it/s]\n"
     ]
    },
    {
     "name": "stdout",
     "output_type": "stream",
     "text": [
      "Processing entry Caroline Webster Lina Schermerhorn Astor was a pro...\n"
     ]
    },
    {
     "name": "stderr",
     "output_type": "stream",
     "text": [
      "100%|██████████| 2024/2024 [00:00<00:00, 311144.67it/s]\n",
      " 12%|█▏        | 510/4109 [03:14<18:39,  3.22it/s]"
     ]
    },
    {
     "name": "stdout",
     "output_type": "stream",
     "text": [
      "Processing entry The United Nations General Assembly is one of the ...\n"
     ]
    },
    {
     "name": "stderr",
     "output_type": "stream",
     "text": [
      "100%|██████████| 3748/3748 [00:00<00:00, 525146.20it/s]\n",
      " 12%|█▏        | 511/4109 [03:14<18:55,  3.17it/s]"
     ]
    },
    {
     "name": "stdout",
     "output_type": "stream",
     "text": [
      "Processing entry 1880 was a leap year starting on Thursday of the G...\n"
     ]
    },
    {
     "name": "stderr",
     "output_type": "stream",
     "text": [
      "100%|██████████| 2490/2490 [00:00<00:00, 165041.36it/s]\n",
      " 12%|█▏        | 512/4109 [03:15<17:40,  3.39it/s]"
     ]
    },
    {
     "name": "stdout",
     "output_type": "stream",
     "text": [
      "Processing entry 1936 was a leap year starting on Wednesday of the ...\n"
     ]
    },
    {
     "name": "stderr",
     "output_type": "stream",
     "text": [
      "100%|██████████| 5187/5187 [00:00<00:00, 103479.08it/s]\n",
      " 12%|█▏        | 513/4109 [03:15<20:57,  2.86it/s]"
     ]
    },
    {
     "name": "stdout",
     "output_type": "stream",
     "text": [
      "Processing entry The neck is the part of the body on many vertebrat...\n"
     ]
    },
    {
     "name": "stderr",
     "output_type": "stream",
     "text": [
      "100%|██████████| 1247/1247 [00:00<00:00, 385942.82it/s]\n",
      " 13%|█▎        | 514/4109 [03:15<17:22,  3.45it/s]"
     ]
    },
    {
     "name": "stdout",
     "output_type": "stream",
     "text": [
      "Processing entry Philip George Zimbardo is an American psychologist...\n"
     ]
    },
    {
     "name": "stderr",
     "output_type": "stream",
     "text": [
      "100%|██████████| 3336/3336 [00:00<00:00, 439246.53it/s]\n",
      " 13%|█▎        | 515/4109 [03:16<18:01,  3.32it/s]"
     ]
    },
    {
     "name": "stdout",
     "output_type": "stream",
     "text": [
      "Processing entry 1948 was a leap year starting on Thursday of the G...\n"
     ]
    },
    {
     "name": "stderr",
     "output_type": "stream",
     "text": [
      "100%|██████████| 10681/10681 [00:00<00:00, 90221.07it/s] \n",
      " 13%|█▎        | 516/4109 [03:17<31:15,  1.92it/s]"
     ]
    },
    {
     "name": "stdout",
     "output_type": "stream",
     "text": [
      "Processing entry Don Carlos de Borb n y Austria Este was the Carlis...\n"
     ]
    },
    {
     "name": "stderr",
     "output_type": "stream",
     "text": [
      "100%|██████████| 609/609 [00:00<00:00, 328827.39it/s]\n"
     ]
    },
    {
     "name": "stdout",
     "output_type": "stream",
     "text": [
      "Processing entry In modern English, a cult is a social group that i...\n"
     ]
    },
    {
     "name": "stderr",
     "output_type": "stream",
     "text": [
      "100%|██████████| 7203/7203 [00:00<00:00, 368285.59it/s]\n",
      " 13%|█▎        | 518/4109 [03:17<25:24,  2.36it/s]"
     ]
    },
    {
     "name": "stdout",
     "output_type": "stream",
     "text": [
      "Processing entry Jesus , also referred to as Jesus Christ or Jesus ...\n"
     ]
    },
    {
     "name": "stderr",
     "output_type": "stream",
     "text": [
      "100%|██████████| 15300/15300 [00:00<00:00, 920120.03it/s]\n",
      " 13%|█▎        | 519/4109 [03:18<35:45,  1.67it/s]"
     ]
    },
    {
     "name": "stdout",
     "output_type": "stream",
     "text": [
      "Processing entry The capture of the tanker Tuapse occurred on 23 Ju...\n"
     ]
    },
    {
     "name": "stderr",
     "output_type": "stream",
     "text": [
      "100%|██████████| 4341/4341 [00:00<00:00, 253858.23it/s]\n",
      " 13%|█▎        | 520/4109 [03:19<31:43,  1.89it/s]"
     ]
    },
    {
     "name": "stdout",
     "output_type": "stream",
     "text": [
      "Processing entry Ign c Goldziher , often credited as Ignaz Goldzihe...\n"
     ]
    },
    {
     "name": "stderr",
     "output_type": "stream",
     "text": [
      "100%|██████████| 1442/1442 [00:00<00:00, 334098.57it/s]\n",
      " 13%|█▎        | 521/4109 [03:19<25:34,  2.34it/s]"
     ]
    },
    {
     "name": "stdout",
     "output_type": "stream",
     "text": [
      "Processing entry March 20 is the 79th day of the year in the Gregor...\n"
     ]
    },
    {
     "name": "stderr",
     "output_type": "stream",
     "text": [
      "100%|██████████| 4208/4208 [00:00<00:00, 115516.37it/s]\n",
      " 13%|█▎        | 522/4109 [03:19<27:08,  2.20it/s]"
     ]
    },
    {
     "name": "stdout",
     "output_type": "stream",
     "text": [
      "Processing entry November 1 is the 305th day of the year in the Gre...\n"
     ]
    },
    {
     "name": "stderr",
     "output_type": "stream",
     "text": [
      "100%|██████████| 4780/4780 [00:00<00:00, 138246.43it/s]\n",
      " 13%|█▎        | 523/4109 [03:20<28:43,  2.08it/s]"
     ]
    },
    {
     "name": "stdout",
     "output_type": "stream",
     "text": [
      "Processing entry The East India Company was an English, and later B...\n"
     ]
    },
    {
     "name": "stderr",
     "output_type": "stream",
     "text": [
      "100%|██████████| 7224/7224 [00:00<00:00, 835414.60it/s]\n",
      " 13%|█▎        | 524/4109 [03:20<28:54,  2.07it/s]"
     ]
    },
    {
     "name": "stdout",
     "output_type": "stream",
     "text": [
      "Processing entry 2006 was a common year starting on Sunday of the G...\n"
     ]
    },
    {
     "name": "stderr",
     "output_type": "stream",
     "text": [
      "100%|██████████| 3186/3186 [00:00<00:00, 170564.58it/s]\n",
      " 13%|█▎        | 525/4109 [03:21<26:08,  2.28it/s]"
     ]
    },
    {
     "name": "stdout",
     "output_type": "stream",
     "text": [
      "Processing entry An officer is a person who holds a position of aut...\n"
     ]
    },
    {
     "name": "stderr",
     "output_type": "stream",
     "text": [
      "100%|██████████| 3950/3950 [00:00<00:00, 637800.31it/s]\n",
      " 13%|█▎        | 526/4109 [03:21<23:46,  2.51it/s]"
     ]
    },
    {
     "name": "stdout",
     "output_type": "stream",
     "text": [
      "Processing entry An Amazon Standard Identification Number is a 10 c...\n"
     ]
    },
    {
     "name": "stderr",
     "output_type": "stream",
     "text": [
      "100%|██████████| 178/178 [00:00<00:00, 230783.96it/s]\n"
     ]
    },
    {
     "name": "stdout",
     "output_type": "stream",
     "text": [
      "Processing entry Wireless communication is the transfer of informat...\n"
     ]
    },
    {
     "name": "stderr",
     "output_type": "stream",
     "text": [
      "100%|██████████| 2356/2356 [00:00<00:00, 696832.40it/s]\n",
      " 13%|█▎        | 528/4109 [03:21<16:17,  3.66it/s]"
     ]
    },
    {
     "name": "stdout",
     "output_type": "stream",
     "text": [
      "Processing entry March 25 is the 84th day of the year in the Gregor...\n"
     ]
    },
    {
     "name": "stderr",
     "output_type": "stream",
     "text": [
      "100%|██████████| 4126/4126 [00:00<00:00, 115467.54it/s]\n",
      " 13%|█▎        | 529/4109 [03:22<19:16,  3.09it/s]"
     ]
    },
    {
     "name": "stdout",
     "output_type": "stream",
     "text": [
      "Processing entry The KNVB Beker , branded as the TOTO KNVB Beker fo...\n"
     ]
    },
    {
     "name": "stderr",
     "output_type": "stream",
     "text": [
      "100%|██████████| 586/586 [00:00<00:00, 458556.37it/s]\n"
     ]
    },
    {
     "name": "stdout",
     "output_type": "stream",
     "text": [
      "Processing entry The monarchy of Cambodia is the head of state of t...\n"
     ]
    },
    {
     "name": "stderr",
     "output_type": "stream",
     "text": [
      "100%|██████████| 535/535 [00:00<00:00, 496779.42it/s]\n",
      " 13%|█▎        | 531/4109 [03:22<12:58,  4.60it/s]"
     ]
    },
    {
     "name": "stdout",
     "output_type": "stream",
     "text": [
      "Processing entry March 30 is the 89th day of the year in the Gregor...\n"
     ]
    },
    {
     "name": "stderr",
     "output_type": "stream",
     "text": [
      "100%|██████████| 3885/3885 [00:00<00:00, 176887.44it/s]\n",
      " 13%|█▎        | 532/4109 [03:23<18:06,  3.29it/s]"
     ]
    },
    {
     "name": "stdout",
     "output_type": "stream",
     "text": [
      "Processing entry Earl Van Dorn started his military career as a Uni...\n"
     ]
    },
    {
     "name": "stderr",
     "output_type": "stream",
     "text": [
      "100%|██████████| 5343/5343 [00:00<00:00, 417617.05it/s]\n",
      " 13%|█▎        | 533/4109 [03:23<19:35,  3.04it/s]"
     ]
    },
    {
     "name": "stdout",
     "output_type": "stream",
     "text": [
      "Processing entry Tesla's Egg of Columbus was a device exhibited in ...\n"
     ]
    },
    {
     "name": "stderr",
     "output_type": "stream",
     "text": [
      "100%|██████████| 755/755 [00:00<00:00, 340725.15it/s]\n"
     ]
    },
    {
     "name": "stdout",
     "output_type": "stream",
     "text": [
      "Processing entry Cable Satellite Public Affairs Network is an Ameri...\n"
     ]
    },
    {
     "name": "stderr",
     "output_type": "stream",
     "text": [
      "100%|██████████| 6269/6269 [00:00<00:00, 432796.06it/s]\n",
      " 13%|█▎        | 535/4109 [03:24<18:27,  3.23it/s]"
     ]
    },
    {
     "name": "stdout",
     "output_type": "stream",
     "text": [
      "Processing entry The Westinghouse Electric Corporation was an Ameri...\n"
     ]
    },
    {
     "name": "stderr",
     "output_type": "stream",
     "text": [
      "100%|██████████| 4169/4169 [00:00<00:00, 559070.67it/s]\n",
      " 13%|█▎        | 536/4109 [03:24<18:56,  3.14it/s]"
     ]
    },
    {
     "name": "stdout",
     "output_type": "stream",
     "text": [
      "Processing entry Charles Augustus Lindbergh was an American aviator...\n"
     ]
    },
    {
     "name": "stderr",
     "output_type": "stream",
     "text": [
      "100%|██████████| 12686/12686 [00:00<00:00, 293991.54it/s]\n",
      " 13%|█▎        | 537/4109 [03:25<28:02,  2.12it/s]"
     ]
    },
    {
     "name": "stdout",
     "output_type": "stream",
     "text": [
      "Processing entry Nade da Petrovi was a Serbian painter and one of t...\n"
     ]
    },
    {
     "name": "stderr",
     "output_type": "stream",
     "text": [
      "100%|██████████| 1309/1309 [00:00<00:00, 437791.56it/s]\n",
      " 13%|█▎        | 538/4109 [03:25<22:52,  2.60it/s]"
     ]
    },
    {
     "name": "stdout",
     "output_type": "stream",
     "text": [
      "Processing entry India is the second most populated country in the ...\n"
     ]
    },
    {
     "name": "stderr",
     "output_type": "stream",
     "text": [
      "100%|██████████| 2956/2956 [00:00<00:00, 379027.32it/s]\n",
      " 13%|█▎        | 539/4109 [03:25<21:27,  2.77it/s]"
     ]
    },
    {
     "name": "stdout",
     "output_type": "stream",
     "text": [
      "Processing entry Tesla is the codename for a GPU microarchitecture ...\n"
     ]
    },
    {
     "name": "stderr",
     "output_type": "stream",
     "text": [
      "100%|██████████| 1032/1032 [00:00<00:00, 638990.51it/s]\n"
     ]
    },
    {
     "name": "stdout",
     "output_type": "stream",
     "text": [
      "Processing entry Schizophrenia is a mental disorder characterized b...\n"
     ]
    },
    {
     "name": "stderr",
     "output_type": "stream",
     "text": [
      "100%|██████████| 8516/8516 [00:00<00:00, 803931.87it/s]\n",
      " 13%|█▎        | 541/4109 [03:26<22:15,  2.67it/s]"
     ]
    },
    {
     "name": "stdout",
     "output_type": "stream",
     "text": [
      "Processing entry Tamo daleko is a Serbian folk song which was compo...\n"
     ]
    },
    {
     "name": "stderr",
     "output_type": "stream",
     "text": [
      "100%|██████████| 1080/1080 [00:00<00:00, 448544.24it/s]\n"
     ]
    },
    {
     "name": "stdout",
     "output_type": "stream",
     "text": [
      "Processing entry avolja varo is a rock formation consisting of abou...\n"
     ]
    },
    {
     "name": "stderr",
     "output_type": "stream",
     "text": [
      "100%|██████████| 1138/1138 [00:00<00:00, 1721283.07it/s]\n",
      " 13%|█▎        | 543/4109 [03:26<16:17,  3.65it/s]"
     ]
    },
    {
     "name": "stdout",
     "output_type": "stream",
     "text": [
      "Processing entry The Institute of Electrical and Electronics Engine...\n"
     ]
    },
    {
     "name": "stderr",
     "output_type": "stream",
     "text": [
      "100%|██████████| 1458/1458 [00:00<00:00, 1167263.84it/s]\n"
     ]
    },
    {
     "name": "stdout",
     "output_type": "stream",
     "text": [
      "Processing entry The North Jutlandic Island , Vendsyssel Thy, or Ju...\n"
     ]
    },
    {
     "name": "stderr",
     "output_type": "stream",
     "text": [
      "100%|██████████| 564/564 [00:00<00:00, 45635.11it/s]\n",
      " 13%|█▎        | 545/4109 [03:26<12:40,  4.69it/s]"
     ]
    },
    {
     "name": "stdout",
     "output_type": "stream",
     "text": [
      "Processing entry Events from the year 1922 in Canada.  Incumbents  ...\n"
     ]
    },
    {
     "name": "stderr",
     "output_type": "stream",
     "text": [
      "100%|██████████| 1175/1175 [00:00<00:00, 233414.19it/s]\n",
      " 13%|█▎        | 546/4109 [03:27<12:11,  4.87it/s]"
     ]
    },
    {
     "name": "stdout",
     "output_type": "stream",
     "text": [
      "Processing entry The Metropolitan, formerly known as Chase Tower , ...\n"
     ]
    },
    {
     "name": "stderr",
     "output_type": "stream",
     "text": [
      "100%|██████████| 224/224 [00:00<00:00, 345667.44it/s]"
     ]
    },
    {
     "name": "stdout",
     "output_type": "stream",
     "text": [
      "Processing entry Gyula M ndi, also referred to as M ndi Gyula or Ju...\n"
     ]
    },
    {
     "name": "stderr",
     "output_type": "stream",
     "text": [
      "\n",
      "100%|██████████| 856/856 [00:00<00:00, 312419.44it/s]\n",
      " 13%|█▎        | 548/4109 [03:27<09:12,  6.44it/s]"
     ]
    },
    {
     "name": "stdout",
     "output_type": "stream",
     "text": [
      "Processing entry October 25 is the 298th day of the year in the Gre...\n"
     ]
    },
    {
     "name": "stderr",
     "output_type": "stream",
     "text": [
      "100%|██████████| 5506/5506 [00:00<00:00, 73393.92it/s]\n",
      " 13%|█▎        | 549/4109 [03:27<15:11,  3.91it/s]"
     ]
    },
    {
     "name": "stdout",
     "output_type": "stream",
     "text": [
      "Processing entry Horatio Alger Jr. was an American author who wrote...\n"
     ]
    },
    {
     "name": "stderr",
     "output_type": "stream",
     "text": [
      "100%|██████████| 4823/4823 [00:00<00:00, 447646.12it/s]\n",
      " 13%|█▎        | 550/4109 [03:28<17:22,  3.42it/s]"
     ]
    },
    {
     "name": "stdout",
     "output_type": "stream",
     "text": [
      "Processing entry The Eastern Orthodox Church, also called the Ortho...\n"
     ]
    },
    {
     "name": "stderr",
     "output_type": "stream",
     "text": [
      "100%|██████████| 14041/14041 [00:00<00:00, 732791.10it/s]\n",
      " 13%|█▎        | 551/4109 [03:29<28:51,  2.05it/s]"
     ]
    },
    {
     "name": "stdout",
     "output_type": "stream",
     "text": [
      "Processing entry The siege of Vicksburg was the final major militar...\n"
     ]
    },
    {
     "name": "stderr",
     "output_type": "stream",
     "text": [
      "100%|██████████| 5152/5152 [00:00<00:00, 663485.35it/s]\n",
      " 13%|█▎        | 552/4109 [03:29<28:21,  2.09it/s]"
     ]
    },
    {
     "name": "stdout",
     "output_type": "stream",
     "text": [
      "Processing entry Clark Air Base is a Philippine Air Force base on L...\n"
     ]
    },
    {
     "name": "stderr",
     "output_type": "stream",
     "text": [
      "100%|██████████| 2923/2923 [00:00<00:00, 265481.82it/s]\n",
      " 13%|█▎        | 553/4109 [03:30<24:55,  2.38it/s]"
     ]
    },
    {
     "name": "stdout",
     "output_type": "stream",
     "text": [
      "Processing entry The Internet is the global system of interconnecte...\n"
     ]
    },
    {
     "name": "stderr",
     "output_type": "stream",
     "text": [
      "100%|██████████| 11757/11757 [00:00<00:00, 557360.07it/s]\n",
      " 13%|█▎        | 554/4109 [03:31<33:01,  1.79it/s]"
     ]
    },
    {
     "name": "stdout",
     "output_type": "stream",
     "text": [
      "Processing entry A diving mask is an item of diving equipment that ...\n"
     ]
    },
    {
     "name": "stderr",
     "output_type": "stream",
     "text": [
      "100%|██████████| 3034/3034 [00:00<00:00, 644264.80it/s]\n",
      " 14%|█▎        | 555/4109 [03:31<27:34,  2.15it/s]"
     ]
    },
    {
     "name": "stdout",
     "output_type": "stream",
     "text": [
      "Processing entry December 1 is the 335th day of the year in the Gre...\n"
     ]
    },
    {
     "name": "stderr",
     "output_type": "stream",
     "text": [
      "100%|██████████| 4317/4317 [00:00<00:00, 85768.74it/s]\n",
      " 14%|█▎        | 556/4109 [03:31<27:43,  2.14it/s]"
     ]
    },
    {
     "name": "stdout",
     "output_type": "stream",
     "text": [
      "Processing entry November 17 is the 321st day of the year in the Gr...\n"
     ]
    },
    {
     "name": "stderr",
     "output_type": "stream",
     "text": [
      "100%|██████████| 4396/4396 [00:00<00:00, 108241.37it/s]\n",
      " 14%|█▎        | 557/4109 [03:32<30:11,  1.96it/s]"
     ]
    },
    {
     "name": "stdout",
     "output_type": "stream",
     "text": [
      "Processing entry The Local Government Act 1898 was an Act of the Pa...\n"
     ]
    },
    {
     "name": "stderr",
     "output_type": "stream",
     "text": [
      "100%|██████████| 2823/2823 [00:00<00:00, 566423.66it/s]\n",
      " 14%|█▎        | 558/4109 [03:32<25:27,  2.32it/s]"
     ]
    },
    {
     "name": "stdout",
     "output_type": "stream",
     "text": [
      "Processing entry Aston Villa Football Club is a professional footba...\n"
     ]
    },
    {
     "name": "stderr",
     "output_type": "stream",
     "text": [
      "100%|██████████| 8908/8908 [00:00<00:00, 239732.95it/s]\n",
      " 14%|█▎        | 559/4109 [03:33<31:07,  1.90it/s]"
     ]
    },
    {
     "name": "stdout",
     "output_type": "stream",
     "text": [
      "Processing entry October 10 is the 283rd day of the year in the Gre...\n"
     ]
    },
    {
     "name": "stderr",
     "output_type": "stream",
     "text": [
      "100%|██████████| 4689/4689 [00:00<00:00, 72583.01it/s]\n",
      " 14%|█▎        | 560/4109 [03:33<31:22,  1.89it/s]"
     ]
    },
    {
     "name": "stdout",
     "output_type": "stream",
     "text": [
      "Processing entry 1880 was a leap year starting on Thursday of the G...\n"
     ]
    },
    {
     "name": "stderr",
     "output_type": "stream",
     "text": [
      "100%|██████████| 2490/2490 [00:00<00:00, 165964.55it/s]\n",
      " 14%|█▎        | 561/4109 [03:34<26:37,  2.22it/s]"
     ]
    },
    {
     "name": "stdout",
     "output_type": "stream",
     "text": [
      "Processing entry Asymmetric warfare is the term given to describe a...\n"
     ]
    },
    {
     "name": "stderr",
     "output_type": "stream",
     "text": [
      "100%|██████████| 6344/6344 [00:00<00:00, 655983.64it/s]\n",
      " 14%|█▎        | 562/4109 [03:34<28:07,  2.10it/s]"
     ]
    },
    {
     "name": "stdout",
     "output_type": "stream",
     "text": [
      "Processing entry The Nobel Prize in Literature is a Swedish literat...\n"
     ]
    },
    {
     "name": "stderr",
     "output_type": "stream",
     "text": [
      "100%|██████████| 6293/6293 [00:00<00:00, 448577.61it/s]\n",
      " 14%|█▎        | 563/4109 [03:35<28:17,  2.09it/s]"
     ]
    },
    {
     "name": "stdout",
     "output_type": "stream",
     "text": [
      "Processing entry The Black Album is the fourth studio album by Engl...\n"
     ]
    },
    {
     "name": "stderr",
     "output_type": "stream",
     "text": [
      "100%|██████████| 912/912 [00:00<00:00, 451671.42it/s]\n"
     ]
    },
    {
     "name": "stdout",
     "output_type": "stream",
     "text": [
      "Processing entry The Serbian Cyrillic alphabet is a variation of th...\n"
     ]
    },
    {
     "name": "stderr",
     "output_type": "stream",
     "text": [
      "100%|██████████| 1815/1815 [00:00<00:00, 307259.52it/s]\n",
      " 14%|█▍        | 565/4109 [03:35<19:25,  3.04it/s]"
     ]
    },
    {
     "name": "stdout",
     "output_type": "stream",
     "text": [
      "Processing entry Admiral of the Fleet Sir Edward Hobart Seymour, wa...\n"
     ]
    },
    {
     "name": "stderr",
     "output_type": "stream",
     "text": [
      "100%|██████████| 2082/2082 [00:00<00:00, 420845.35it/s]\n",
      " 14%|█▍        | 566/4109 [03:35<17:11,  3.44it/s]"
     ]
    },
    {
     "name": "stdout",
     "output_type": "stream",
     "text": [
      "Processing entry The 1990s was a decade that began on January 1, 19...\n"
     ]
    },
    {
     "name": "stderr",
     "output_type": "stream",
     "text": [
      "100%|██████████| 18936/18936 [00:00<00:00, 162228.83it/s]\n",
      " 14%|█▍        | 567/4109 [03:37<37:38,  1.57it/s]"
     ]
    },
    {
     "name": "stdout",
     "output_type": "stream",
     "text": [
      "Processing entry Charles Felton Scott was an electrical engineer, p...\n"
     ]
    },
    {
     "name": "stderr",
     "output_type": "stream",
     "text": [
      "100%|██████████| 118/118 [00:00<00:00, 368798.71it/s]\n"
     ]
    },
    {
     "name": "stdout",
     "output_type": "stream",
     "text": [
      "Processing entry Saint Sava , known as the Enlightener, was a Serbi...\n"
     ]
    },
    {
     "name": "stderr",
     "output_type": "stream",
     "text": [
      "100%|██████████| 7245/7245 [00:00<00:00, 1413909.01it/s]\n",
      " 14%|█▍        | 569/4109 [03:37<29:05,  2.03it/s]"
     ]
    },
    {
     "name": "stdout",
     "output_type": "stream",
     "text": [
      "Processing entry George Ivanovich Gurdjieff f ; Armenian:       c. ...\n"
     ]
    },
    {
     "name": "stderr",
     "output_type": "stream",
     "text": [
      "100%|██████████| 8817/8817 [00:00<00:00, 800233.23it/s]\n",
      " 14%|█▍        | 570/4109 [03:38<31:23,  1.88it/s]"
     ]
    },
    {
     "name": "stdout",
     "output_type": "stream",
     "text": [
      "Processing entry The Edwardian era or Edwardian period of British h...\n"
     ]
    },
    {
     "name": "stderr",
     "output_type": "stream",
     "text": [
      "100%|██████████| 6152/6152 [00:00<00:00, 495161.45it/s]\n",
      " 14%|█▍        | 571/4109 [03:38<30:19,  1.94it/s]"
     ]
    },
    {
     "name": "stdout",
     "output_type": "stream",
     "text": [
      "Processing entry The Byzantine calendar, also called Roman calendar...\n"
     ]
    },
    {
     "name": "stderr",
     "output_type": "stream",
     "text": [
      "100%|██████████| 6859/6859 [00:00<00:00, 630367.92it/s]\n",
      " 14%|█▍        | 572/4109 [03:39<31:02,  1.90it/s]"
     ]
    },
    {
     "name": "stdout",
     "output_type": "stream",
     "text": [
      "Processing entry A referendum on restoring the monarchy was held in...\n"
     ]
    },
    {
     "name": "stderr",
     "output_type": "stream",
     "text": [
      "100%|██████████| 318/318 [00:00<00:00, 506373.83it/s]\n"
     ]
    },
    {
     "name": "stdout",
     "output_type": "stream",
     "text": [
      "Processing entry The year 1920 in film involved some significant ev...\n"
     ]
    },
    {
     "name": "stderr",
     "output_type": "stream",
     "text": [
      "100%|██████████| 3441/3441 [00:00<00:00, 131280.64it/s]\n",
      " 14%|█▍        | 574/4109 [03:40<23:52,  2.47it/s]"
     ]
    },
    {
     "name": "stdout",
     "output_type": "stream",
     "text": [
      "Processing entry The Institute of Electrical and Electronics Engine...\n"
     ]
    },
    {
     "name": "stderr",
     "output_type": "stream",
     "text": [
      "100%|██████████| 1458/1458 [00:00<00:00, 570829.39it/s]\n",
      " 14%|█▍        | 575/4109 [03:40<20:37,  2.86it/s]"
     ]
    },
    {
     "name": "stdout",
     "output_type": "stream",
     "text": [
      "Processing entry 1856 was a leap year starting on Tuesday of the Gr...\n"
     ]
    },
    {
     "name": "stderr",
     "output_type": "stream",
     "text": [
      "100%|██████████| 2845/2845 [00:00<00:00, 247240.07it/s]\n",
      " 14%|█▍        | 576/4109 [03:40<19:20,  3.04it/s]"
     ]
    },
    {
     "name": "stdout",
     "output_type": "stream",
     "text": [
      "Processing entry Otto, Prince of Bismarck, Count of Bismarck Sch nh...\n"
     ]
    },
    {
     "name": "stderr",
     "output_type": "stream",
     "text": [
      "100%|██████████| 15895/15895 [00:00<00:00, 365882.03it/s]\n",
      " 14%|█▍        | 577/4109 [03:42<41:28,  1.42it/s]"
     ]
    },
    {
     "name": "stdout",
     "output_type": "stream",
     "text": [
      "Processing entry 1987 was a common year starting on Thursday of the...\n"
     ]
    },
    {
     "name": "stderr",
     "output_type": "stream",
     "text": [
      "100%|██████████| 8446/8446 [00:00<00:00, 82311.00it/s]\n",
      " 14%|█▍        | 578/4109 [03:43<44:06,  1.33it/s]"
     ]
    },
    {
     "name": "stdout",
     "output_type": "stream",
     "text": [
      "Processing entry Socialism is a left wing economic philosophy and m...\n"
     ]
    },
    {
     "name": "stderr",
     "output_type": "stream",
     "text": [
      "100%|██████████| 19299/19299 [00:00<00:00, 906103.76it/s]\n",
      " 14%|█▍        | 579/4109 [03:44<55:37,  1.06it/s]"
     ]
    },
    {
     "name": "stdout",
     "output_type": "stream",
     "text": [
      "Processing entry David Grubin is an American documentary filmmaker....\n"
     ]
    },
    {
     "name": "stderr",
     "output_type": "stream",
     "text": [
      "100%|██████████| 313/313 [00:00<00:00, 8098.06it/s]\n"
     ]
    },
    {
     "name": "stdout",
     "output_type": "stream",
     "text": [
      "Processing entry Jean Marie Straub and Dani le Huillet were a duo o...\n"
     ]
    },
    {
     "name": "stderr",
     "output_type": "stream",
     "text": [
      "100%|██████████| 2215/2215 [00:00<00:00, 869234.97it/s]\n",
      " 14%|█▍        | 581/4109 [03:44<34:08,  1.72it/s]"
     ]
    },
    {
     "name": "stdout",
     "output_type": "stream",
     "text": [
      "Processing entry Sir William Henry Bragg was an English physicist, ...\n"
     ]
    },
    {
     "name": "stderr",
     "output_type": "stream",
     "text": [
      "100%|██████████| 2837/2837 [00:00<00:00, 610875.32it/s]\n",
      " 14%|█▍        | 582/4109 [03:45<29:05,  2.02it/s]"
     ]
    },
    {
     "name": "stdout",
     "output_type": "stream",
     "text": [
      "Processing entry The Sh wa era refers to the period of Japanese his...\n"
     ]
    },
    {
     "name": "stderr",
     "output_type": "stream",
     "text": [
      "100%|██████████| 7009/7009 [00:00<00:00, 372304.10it/s]\n",
      " 14%|█▍        | 583/4109 [03:45<29:47,  1.97it/s]"
     ]
    },
    {
     "name": "stdout",
     "output_type": "stream",
     "text": [
      "Processing entry July 6 is the 187th day of the year in the Gregori...\n"
     ]
    },
    {
     "name": "stderr",
     "output_type": "stream",
     "text": [
      "100%|██████████| 4130/4130 [00:00<00:00, 70039.04it/s]\n",
      " 14%|█▍        | 584/4109 [03:46<28:55,  2.03it/s]"
     ]
    },
    {
     "name": "stdout",
     "output_type": "stream",
     "text": [
      "Processing entry 1988 was a leap year starting on Friday of the Gre...\n"
     ]
    },
    {
     "name": "stderr",
     "output_type": "stream",
     "text": [
      "100%|██████████| 5806/5806 [00:00<00:00, 122618.98it/s]\n",
      " 14%|█▍        | 585/4109 [03:46<30:48,  1.91it/s]"
     ]
    },
    {
     "name": "stdout",
     "output_type": "stream",
     "text": [
      "Processing entry Arthur R. Doc Barker was an American criminal, the...\n"
     ]
    },
    {
     "name": "stderr",
     "output_type": "stream",
     "text": [
      "100%|██████████| 1722/1722 [00:00<00:00, 515457.57it/s]\n",
      " 14%|█▍        | 586/4109 [03:46<24:30,  2.40it/s]"
     ]
    },
    {
     "name": "stdout",
     "output_type": "stream",
     "text": [
      "Processing entry This article is a list of the legal regulatory bod...\n"
     ]
    },
    {
     "name": "stderr",
     "output_type": "stream",
     "text": [
      "100%|██████████| 129/129 [00:00<00:00, 360229.84it/s]"
     ]
    },
    {
     "name": "stdout",
     "output_type": "stream",
     "text": [
      "Processing entry 1870 was a common year starting on Saturday of the...\n"
     ]
    },
    {
     "name": "stderr",
     "output_type": "stream",
     "text": [
      "\n",
      "100%|██████████| 2919/2919 [00:00<00:00, 121169.15it/s]\n",
      " 14%|█▍        | 588/4109 [03:47<17:46,  3.30it/s]"
     ]
    },
    {
     "name": "stdout",
     "output_type": "stream",
     "text": [
      "Processing entry Arthur MacArthur Jr. was a lieutenant general of t...\n"
     ]
    },
    {
     "name": "stderr",
     "output_type": "stream",
     "text": [
      "100%|██████████| 3209/3209 [00:00<00:00, 119984.68it/s]\n",
      " 14%|█▍        | 589/4109 [03:47<17:15,  3.40it/s]"
     ]
    },
    {
     "name": "stdout",
     "output_type": "stream",
     "text": [
      "Processing entry Ach res is a commune in the Yvelines department in...\n"
     ]
    },
    {
     "name": "stderr",
     "output_type": "stream",
     "text": [
      "100%|██████████| 311/311 [00:00<00:00, 256827.83it/s]\n"
     ]
    },
    {
     "name": "stdout",
     "output_type": "stream",
     "text": [
      "Processing entry April 20 is the 110th day of the year in the Grego...\n"
     ]
    },
    {
     "name": "stderr",
     "output_type": "stream",
     "text": [
      "100%|██████████| 3012/3012 [00:00<00:00, 85485.67it/s]\n",
      " 14%|█▍        | 591/4109 [03:47<15:09,  3.87it/s]"
     ]
    },
    {
     "name": "stdout",
     "output_type": "stream",
     "text": [
      "Processing entry Military organization or military organisation is ...\n"
     ]
    },
    {
     "name": "stderr",
     "output_type": "stream",
     "text": [
      "100%|██████████| 2403/2403 [00:00<00:00, 506962.05it/s]\n",
      " 14%|█▍        | 592/4109 [03:47<14:24,  4.07it/s]"
     ]
    },
    {
     "name": "stdout",
     "output_type": "stream",
     "text": [
      "Processing entry Air pollution is the contamination of air due to t...\n"
     ]
    },
    {
     "name": "stderr",
     "output_type": "stream",
     "text": [
      "100%|██████████| 11515/11515 [00:00<00:00, 313121.40it/s]\n",
      " 14%|█▍        | 593/4109 [03:48<23:31,  2.49it/s]"
     ]
    },
    {
     "name": "stdout",
     "output_type": "stream",
     "text": [
      "Processing entry 1940 was a leap year starting on Monday of the Gre...\n"
     ]
    },
    {
     "name": "stderr",
     "output_type": "stream",
     "text": [
      "100%|██████████| 11327/11327 [00:00<00:00, 98227.65it/s] \n",
      " 14%|█▍        | 594/4109 [03:50<36:10,  1.62it/s]"
     ]
    },
    {
     "name": "stdout",
     "output_type": "stream",
     "text": [
      "Processing entry F lix Jules M line was a French statesman, Prime M...\n"
     ]
    },
    {
     "name": "stderr",
     "output_type": "stream",
     "text": [
      "100%|██████████| 405/405 [00:00<00:00, 455169.65it/s]\n"
     ]
    },
    {
     "name": "stdout",
     "output_type": "stream",
     "text": [
      "Processing entry The Orange Free State was an independent Boer sove...\n"
     ]
    },
    {
     "name": "stderr",
     "output_type": "stream",
     "text": [
      "100%|██████████| 6354/6354 [00:00<00:00, 496675.38it/s]\n",
      " 15%|█▍        | 596/4109 [03:50<27:14,  2.15it/s]"
     ]
    },
    {
     "name": "stdout",
     "output_type": "stream",
     "text": [
      "Processing entry Lieutenant Commander is a senior officer rank in t...\n"
     ]
    },
    {
     "name": "stderr",
     "output_type": "stream",
     "text": [
      "100%|██████████| 508/508 [00:00<00:00, 448286.65it/s]\n"
     ]
    },
    {
     "name": "stdout",
     "output_type": "stream",
     "text": [
      "Processing entry Events in the year 1899 in Belgium.  Incumbents Mo...\n"
     ]
    },
    {
     "name": "stderr",
     "output_type": "stream",
     "text": [
      "100%|██████████| 564/564 [00:00<00:00, 147214.35it/s]\n",
      " 15%|█▍        | 598/4109 [03:50<18:20,  3.19it/s]"
     ]
    },
    {
     "name": "stdout",
     "output_type": "stream",
     "text": [
      "Processing entry 1820 was a leap year starting on Saturday of the G...\n"
     ]
    },
    {
     "name": "stderr",
     "output_type": "stream",
     "text": [
      "100%|██████████| 2025/2025 [00:00<00:00, 234729.87it/s]\n",
      " 15%|█▍        | 599/4109 [03:50<17:14,  3.39it/s]"
     ]
    },
    {
     "name": "stdout",
     "output_type": "stream",
     "text": [
      "Processing entry University of Illinois Chicago School of Law is a ...\n"
     ]
    },
    {
     "name": "stderr",
     "output_type": "stream",
     "text": [
      "100%|██████████| 1929/1929 [00:00<00:00, 353295.16it/s]\n",
      " 15%|█▍        | 600/4109 [03:51<15:36,  3.75it/s]"
     ]
    },
    {
     "name": "stdout",
     "output_type": "stream",
     "text": [
      "Processing entry Visva Bharati is a public central university and a...\n"
     ]
    },
    {
     "name": "stderr",
     "output_type": "stream",
     "text": [
      "100%|██████████| 2738/2738 [00:00<00:00, 435280.46it/s]\n",
      " 15%|█▍        | 601/4109 [03:51<15:07,  3.86it/s]"
     ]
    },
    {
     "name": "stdout",
     "output_type": "stream",
     "text": [
      "Processing entry Butch Cassidy's Wild Bunch was one of the loosely ...\n"
     ]
    },
    {
     "name": "stderr",
     "output_type": "stream",
     "text": [
      "100%|██████████| 1142/1142 [00:00<00:00, 389612.43it/s]\n",
      " 15%|█▍        | 602/4109 [03:51<12:59,  4.50it/s]"
     ]
    },
    {
     "name": "stdout",
     "output_type": "stream",
     "text": [
      "Processing entry A polyphase system is a means of distributing alte...\n"
     ]
    },
    {
     "name": "stderr",
     "output_type": "stream",
     "text": [
      "100%|██████████| 951/951 [00:00<00:00, 326815.49it/s]\n",
      " 15%|█▍        | 603/4109 [03:51<11:15,  5.19it/s]"
     ]
    },
    {
     "name": "stdout",
     "output_type": "stream",
     "text": [
      "Processing entry Bhumibol Adulyadej ; ; 5 December 1927 13 October ...\n"
     ]
    },
    {
     "name": "stderr",
     "output_type": "stream",
     "text": [
      "100%|██████████| 9650/9650 [00:00<00:00, 209536.06it/s]\n",
      " 15%|█▍        | 604/4109 [03:52<20:42,  2.82it/s]"
     ]
    },
    {
     "name": "stdout",
     "output_type": "stream",
     "text": [
      "Processing entry Article One of the United States Constitution esta...\n"
     ]
    },
    {
     "name": "stderr",
     "output_type": "stream",
     "text": [
      "100%|██████████| 16272/16272 [00:00<00:00, 581620.83it/s]\n",
      " 15%|█▍        | 605/4109 [03:53<30:40,  1.90it/s]"
     ]
    },
    {
     "name": "stdout",
     "output_type": "stream",
     "text": [
      "Processing entry 1848 was a leap year starting on Saturday of the G...\n"
     ]
    },
    {
     "name": "stderr",
     "output_type": "stream",
     "text": [
      "100%|██████████| 3642/3642 [00:00<00:00, 156631.62it/s]\n",
      " 15%|█▍        | 606/4109 [03:53<27:27,  2.13it/s]"
     ]
    },
    {
     "name": "stdout",
     "output_type": "stream",
     "text": [
      "Processing entry A foot lambert or footlambert is a unit of luminan...\n"
     ]
    },
    {
     "name": "stderr",
     "output_type": "stream",
     "text": [
      "100%|██████████| 389/389 [00:00<00:00, 115127.31it/s]\n"
     ]
    },
    {
     "name": "stdout",
     "output_type": "stream",
     "text": [
      "Processing entry Saint Alban is venerated as the first recorded Bri...\n"
     ]
    },
    {
     "name": "stderr",
     "output_type": "stream",
     "text": [
      "100%|██████████| 6748/6748 [00:00<00:00, 710385.11it/s]\n",
      " 15%|█▍        | 608/4109 [03:54<23:22,  2.50it/s]"
     ]
    },
    {
     "name": "stdout",
     "output_type": "stream",
     "text": [
      "Processing entry April 2 is the 92nd day of the year in the Gregori...\n"
     ]
    },
    {
     "name": "stderr",
     "output_type": "stream",
     "text": [
      "100%|██████████| 3665/3665 [00:00<00:00, 124559.40it/s]\n",
      " 15%|█▍        | 609/4109 [03:54<24:03,  2.43it/s]"
     ]
    },
    {
     "name": "stdout",
     "output_type": "stream",
     "text": [
      "Processing entry Charles Herbert Best was an American Canadian medi...\n"
     ]
    },
    {
     "name": "stderr",
     "output_type": "stream",
     "text": [
      "100%|██████████| 1397/1397 [00:00<00:00, 645242.01it/s]\n",
      " 15%|█▍        | 610/4109 [03:54<19:32,  2.99it/s]"
     ]
    },
    {
     "name": "stdout",
     "output_type": "stream",
     "text": [
      "Processing entry 1860 was a leap year starting on Sunday of the Gre...\n"
     ]
    },
    {
     "name": "stderr",
     "output_type": "stream",
     "text": [
      "100%|██████████| 2404/2404 [00:00<00:00, 97628.84it/s]\n",
      " 15%|█▍        | 611/4109 [03:55<18:18,  3.18it/s]"
     ]
    },
    {
     "name": "stdout",
     "output_type": "stream",
     "text": [
      "Processing entry 1870 was a common year starting on Saturday of the...\n"
     ]
    },
    {
     "name": "stderr",
     "output_type": "stream",
     "text": [
      "100%|██████████| 2919/2919 [00:00<00:00, 431355.86it/s]\n",
      " 15%|█▍        | 612/4109 [03:55<17:31,  3.33it/s]"
     ]
    },
    {
     "name": "stdout",
     "output_type": "stream",
     "text": [
      "Processing entry The Philippine Republic , now officially known as ...\n"
     ]
    },
    {
     "name": "stderr",
     "output_type": "stream",
     "text": [
      "100%|██████████| 2911/2911 [00:00<00:00, 369562.90it/s]\n",
      " 15%|█▍        | 613/4109 [03:55<16:17,  3.58it/s]"
     ]
    },
    {
     "name": "stdout",
     "output_type": "stream",
     "text": [
      "Processing entry Hobson City is a town in Calhoun County, Alabama, ...\n"
     ]
    },
    {
     "name": "stderr",
     "output_type": "stream",
     "text": [
      "100%|██████████| 798/798 [00:00<00:00, 507360.10it/s]\n"
     ]
    },
    {
     "name": "stdout",
     "output_type": "stream",
     "text": [
      "Processing entry Krsto Papi was a Croatian screenwriter and film di...\n"
     ]
    },
    {
     "name": "stderr",
     "output_type": "stream",
     "text": [
      "100%|██████████| 504/504 [00:00<00:00, 372827.02it/s]\n",
      " 15%|█▍        | 615/4109 [03:55<10:48,  5.39it/s]"
     ]
    },
    {
     "name": "stdout",
     "output_type": "stream",
     "text": [
      "Processing entry 1930 was a common year starting on Wednesday of th...\n"
     ]
    },
    {
     "name": "stderr",
     "output_type": "stream",
     "text": [
      "100%|██████████| 5996/5996 [00:00<00:00, 128245.38it/s]\n",
      " 15%|█▍        | 616/4109 [03:56<16:49,  3.46it/s]"
     ]
    },
    {
     "name": "stdout",
     "output_type": "stream",
     "text": [
      "Processing entry Darien is a city in and the county seat of McIntos...\n"
     ]
    },
    {
     "name": "stderr",
     "output_type": "stream",
     "text": [
      "100%|██████████| 2337/2337 [00:00<00:00, 538872.37it/s]\n",
      " 15%|█▌        | 617/4109 [03:56<14:46,  3.94it/s]"
     ]
    },
    {
     "name": "stdout",
     "output_type": "stream",
     "text": [
      "Processing entry Charles Augustus Lindbergh was an American aviator...\n"
     ]
    },
    {
     "name": "stderr",
     "output_type": "stream",
     "text": [
      "100%|██████████| 12686/12686 [00:00<00:00, 478846.47it/s]\n",
      " 15%|█▌        | 618/4109 [03:57<25:28,  2.28it/s]"
     ]
    },
    {
     "name": "stdout",
     "output_type": "stream",
     "text": [
      "Processing entry Gender equality, also known as sexual equality or ...\n"
     ]
    },
    {
     "name": "stderr",
     "output_type": "stream",
     "text": [
      "100%|██████████| 10911/10911 [00:00<00:00, 445110.64it/s]\n",
      " 15%|█▌        | 619/4109 [03:58<31:09,  1.87it/s]"
     ]
    },
    {
     "name": "stdout",
     "output_type": "stream",
     "text": [
      "Processing entry July 5 is the 186th day of the year in the Gregori...\n"
     ]
    },
    {
     "name": "stderr",
     "output_type": "stream",
     "text": [
      "100%|██████████| 4224/4224 [00:00<00:00, 88446.61it/s]\n",
      " 15%|█▌        | 620/4109 [03:58<31:48,  1.83it/s]"
     ]
    },
    {
     "name": "stdout",
     "output_type": "stream",
     "text": [
      "Processing entry Jeralean Talley was an American supercentenarian w...\n"
     ]
    },
    {
     "name": "stderr",
     "output_type": "stream",
     "text": [
      "100%|██████████| 536/536 [00:00<00:00, 103334.57it/s]\n"
     ]
    },
    {
     "name": "stdout",
     "output_type": "stream",
     "text": [
      "Processing entry The Institute of Electrical and Electronics Engine...\n"
     ]
    },
    {
     "name": "stderr",
     "output_type": "stream",
     "text": [
      "100%|██████████| 1458/1458 [00:00<00:00, 256052.22it/s]\n",
      " 15%|█▌        | 622/4109 [03:59<20:11,  2.88it/s]"
     ]
    },
    {
     "name": "stdout",
     "output_type": "stream",
     "text": [
      "Processing entry 1906 was a common year starting on Monday of the G...\n"
     ]
    },
    {
     "name": "stderr",
     "output_type": "stream",
     "text": [
      "100%|██████████| 3680/3680 [00:00<00:00, 209149.70it/s]\n",
      " 15%|█▌        | 623/4109 [03:59<20:49,  2.79it/s]"
     ]
    },
    {
     "name": "stdout",
     "output_type": "stream",
     "text": [
      "Processing entry Corneille Guillaume Cornelis van Beverloo , better...\n"
     ]
    },
    {
     "name": "stderr",
     "output_type": "stream",
     "text": [
      "100%|██████████| 385/385 [00:00<00:00, 606158.80it/s]\n"
     ]
    },
    {
     "name": "stdout",
     "output_type": "stream",
     "text": [
      "Processing entry The League of Nations was the first worldwide inte...\n"
     ]
    },
    {
     "name": "stderr",
     "output_type": "stream",
     "text": [
      "100%|██████████| 13197/13197 [00:00<00:00, 965417.81it/s]\n",
      " 15%|█▌        | 625/4109 [04:00<24:22,  2.38it/s]"
     ]
    },
    {
     "name": "stdout",
     "output_type": "stream",
     "text": [
      "Processing entry Helen Grey Edmonds was an American historian, scho...\n"
     ]
    },
    {
     "name": "stderr",
     "output_type": "stream",
     "text": [
      "100%|██████████| 633/633 [00:00<00:00, 320845.25it/s]\n"
     ]
    },
    {
     "name": "stdout",
     "output_type": "stream",
     "text": [
      "Processing entry Charles University , also known as Charles Univers...\n"
     ]
    },
    {
     "name": "stderr",
     "output_type": "stream",
     "text": [
      "100%|██████████| 3628/3628 [00:00<00:00, 434496.46it/s]\n",
      " 15%|█▌        | 627/4109 [04:00<19:43,  2.94it/s]"
     ]
    },
    {
     "name": "stdout",
     "output_type": "stream",
     "text": [
      "Processing entry El Paso Electric is a Texas based public utility c...\n"
     ]
    },
    {
     "name": "stderr",
     "output_type": "stream",
     "text": [
      "100%|██████████| 1037/1037 [00:00<00:00, 524794.07it/s]\n"
     ]
    },
    {
     "name": "stdout",
     "output_type": "stream",
     "text": [
      "Processing entry land's Autonomy Day is celebrated annually on 9 Ju...\n"
     ]
    },
    {
     "name": "stderr",
     "output_type": "stream",
     "text": [
      "100%|██████████| 190/190 [00:00<00:00, 558456.73it/s]\n",
      " 15%|█▌        | 629/4109 [04:00<14:01,  4.14it/s]"
     ]
    },
    {
     "name": "stdout",
     "output_type": "stream",
     "text": [
      "Processing entry This article lists the heads of state of Panama si...\n"
     ]
    },
    {
     "name": "stderr",
     "output_type": "stream",
     "text": [
      "100%|██████████| 131/131 [00:00<00:00, 284102.29it/s]\n"
     ]
    },
    {
     "name": "stdout",
     "output_type": "stream",
     "text": [
      "Processing entry The Constitutional Convention took place in Philad...\n"
     ]
    },
    {
     "name": "stderr",
     "output_type": "stream",
     "text": [
      "100%|██████████| 12391/12391 [00:00<00:00, 863000.58it/s]\n",
      " 15%|█▌        | 631/4109 [04:01<17:55,  3.23it/s]"
     ]
    },
    {
     "name": "stdout",
     "output_type": "stream",
     "text": [
      "Processing entry The American frontier, also known as the Old West ...\n"
     ]
    },
    {
     "name": "stderr",
     "output_type": "stream",
     "text": [
      "100%|██████████| 26619/26619 [00:00<00:00, 419737.88it/s]\n",
      " 15%|█▌        | 632/4109 [04:03<36:08,  1.60it/s]"
     ]
    },
    {
     "name": "stdout",
     "output_type": "stream",
     "text": [
      "Processing entry 1936 was a leap year starting on Wednesday of the ...\n"
     ]
    },
    {
     "name": "stderr",
     "output_type": "stream",
     "text": [
      "100%|██████████| 5187/5187 [00:00<00:00, 96653.17it/s]\n",
      " 15%|█▌        | 633/4109 [04:04<35:28,  1.63it/s]"
     ]
    },
    {
     "name": "stdout",
     "output_type": "stream",
     "text": [
      "Processing entry T. M. Kaliyannan Gounder was an Indian politician ...\n"
     ]
    },
    {
     "name": "stderr",
     "output_type": "stream",
     "text": [
      "100%|██████████| 544/544 [00:00<00:00, 377515.12it/s]\n"
     ]
    },
    {
     "name": "stdout",
     "output_type": "stream",
     "text": [
      "Processing entry Political entities in the 5th century Political en...\n"
     ]
    },
    {
     "name": "stderr",
     "output_type": "stream",
     "text": [
      "100%|██████████| 61/61 [00:00<00:00, 172291.28it/s]\n"
     ]
    },
    {
     "name": "stdout",
     "output_type": "stream",
     "text": [
      "Processing entry The National Association for the Advancement of Co...\n"
     ]
    },
    {
     "name": "stderr",
     "output_type": "stream",
     "text": [
      "100%|██████████| 7591/7591 [00:00<00:00, 289169.08it/s]\n",
      " 15%|█▌        | 636/4109 [04:05<24:52,  2.33it/s]"
     ]
    },
    {
     "name": "stdout",
     "output_type": "stream",
     "text": [
      "Processing entry Musical theatre is a form of theatrical performanc...\n"
     ]
    },
    {
     "name": "stderr",
     "output_type": "stream",
     "text": [
      "100%|██████████| 12165/12165 [00:00<00:00, 256845.83it/s]\n",
      " 16%|█▌        | 637/4109 [04:06<31:20,  1.85it/s]"
     ]
    },
    {
     "name": "stdout",
     "output_type": "stream",
     "text": [
      "Processing entry The gal , sometimes called galileo after Galileo G...\n"
     ]
    },
    {
     "name": "stderr",
     "output_type": "stream",
     "text": [
      "100%|██████████| 313/313 [00:00<00:00, 425824.57it/s]\n"
     ]
    },
    {
     "name": "stdout",
     "output_type": "stream",
     "text": [
      "Processing entry Calle 25 de Enero is a street and historic Victori...\n"
     ]
    },
    {
     "name": "stderr",
     "output_type": "stream",
     "text": [
      "100%|██████████| 951/951 [00:00<00:00, 529016.33it/s]\n",
      " 16%|█▌        | 639/4109 [04:06<22:20,  2.59it/s]"
     ]
    },
    {
     "name": "stdout",
     "output_type": "stream",
     "text": [
      "Processing entry This is a list of decades, centuries, and millenni...\n"
     ]
    },
    {
     "name": "stderr",
     "output_type": "stream",
     "text": [
      "100%|██████████| 95/95 [00:00<00:00, 177883.43it/s]"
     ]
    },
    {
     "name": "stdout",
     "output_type": "stream",
     "text": [
      "Processing entry Yogyakarta is the capital city of Special Region o...\n"
     ]
    },
    {
     "name": "stderr",
     "output_type": "stream",
     "text": [
      "\n",
      "100%|██████████| 3844/3844 [00:00<00:00, 173747.56it/s]\n",
      " 16%|█▌        | 641/4109 [04:06<18:55,  3.05it/s]"
     ]
    },
    {
     "name": "stdout",
     "output_type": "stream",
     "text": [
      "Processing entry Colt's Manufacturing Company, LLC is an American f...\n"
     ]
    },
    {
     "name": "stderr",
     "output_type": "stream",
     "text": [
      "100%|██████████| 7703/7703 [00:00<00:00, 416553.51it/s]\n",
      " 16%|█▌        | 642/4109 [04:07<23:28,  2.46it/s]"
     ]
    },
    {
     "name": "stdout",
     "output_type": "stream",
     "text": [
      "Processing entry 1856 was a leap year starting on Tuesday of the Gr...\n"
     ]
    },
    {
     "name": "stderr",
     "output_type": "stream",
     "text": [
      "100%|██████████| 2845/2845 [00:00<00:00, 87827.67it/s]\n",
      " 16%|█▌        | 643/4109 [04:07<21:57,  2.63it/s]"
     ]
    },
    {
     "name": "stdout",
     "output_type": "stream",
     "text": [
      "Processing entry The Encyclopedia of Popular Music is an encycloped...\n"
     ]
    },
    {
     "name": "stderr",
     "output_type": "stream",
     "text": [
      "100%|██████████| 1508/1508 [00:00<00:00, 510616.81it/s]\n",
      " 16%|█▌        | 644/4109 [04:07<18:31,  3.12it/s]"
     ]
    },
    {
     "name": "stdout",
     "output_type": "stream",
     "text": [
      "Processing entry Donji grad is one of the 17 city districts of Zagr...\n"
     ]
    },
    {
     "name": "stderr",
     "output_type": "stream",
     "text": [
      "100%|██████████| 79/79 [00:00<00:00, 814127.80it/s]\n"
     ]
    },
    {
     "name": "stdout",
     "output_type": "stream",
     "text": [
      "Processing entry Psychologies is a monthly women's magazine dedicat...\n"
     ]
    },
    {
     "name": "stderr",
     "output_type": "stream",
     "text": [
      "100%|██████████| 204/204 [00:00<00:00, 17142.59it/s]\n",
      " 16%|█▌        | 646/4109 [04:08<12:54,  4.47it/s]"
     ]
    },
    {
     "name": "stdout",
     "output_type": "stream",
     "text": [
      "Processing entry Ignacio Andrade Troconis , was a military man and ...\n"
     ]
    },
    {
     "name": "stderr",
     "output_type": "stream",
     "text": [
      "100%|██████████| 581/581 [00:00<00:00, 335013.83it/s]\n"
     ]
    },
    {
     "name": "stdout",
     "output_type": "stream",
     "text": [
      "Processing entry The lambert is a non SI metric unit of luminance n...\n"
     ]
    },
    {
     "name": "stderr",
     "output_type": "stream",
     "text": [
      "100%|██████████| 103/103 [00:00<00:00, 350660.16it/s]\n",
      " 16%|█▌        | 648/4109 [04:08<09:23,  6.14it/s]"
     ]
    },
    {
     "name": "stdout",
     "output_type": "stream",
     "text": [
      "Processing entry The City College of the City University of New Yor...\n"
     ]
    },
    {
     "name": "stderr",
     "output_type": "stream",
     "text": [
      "100%|██████████| 7371/7371 [00:00<00:00, 179011.69it/s]\n"
     ]
    },
    {
     "name": "stdout",
     "output_type": "stream",
     "text": [
      "Processing entry The Monza Circuit is a historic 5.793 km race trac...\n"
     ]
    },
    {
     "name": "stderr",
     "output_type": "stream",
     "text": [
      "100%|██████████| 3920/3920 [00:00<00:00, 335215.95it/s]\n",
      " 16%|█▌        | 650/4109 [04:09<16:20,  3.53it/s]"
     ]
    },
    {
     "name": "stdout",
     "output_type": "stream",
     "text": [
      "Processing entry The capture of the sloop Anne was the result of a ...\n"
     ]
    },
    {
     "name": "stderr",
     "output_type": "stream",
     "text": [
      "100%|██████████| 7701/7701 [00:00<00:00, 686248.30it/s]\n",
      " 16%|█▌        | 651/4109 [04:09<20:39,  2.79it/s]"
     ]
    },
    {
     "name": "stdout",
     "output_type": "stream",
     "text": [
      "Processing entry October 1 is the 274th day of the year in the Greg...\n"
     ]
    },
    {
     "name": "stderr",
     "output_type": "stream",
     "text": [
      "100%|██████████| 4778/4778 [00:00<00:00, 119042.12it/s]\n",
      " 16%|█▌        | 652/4109 [04:10<23:14,  2.48it/s]"
     ]
    },
    {
     "name": "stdout",
     "output_type": "stream",
     "text": [
      "Processing entry The governor general of the Dutch East Indies repr...\n"
     ]
    },
    {
     "name": "stderr",
     "output_type": "stream",
     "text": [
      "100%|██████████| 679/679 [00:00<00:00, 175311.32it/s]\n"
     ]
    },
    {
     "name": "stdout",
     "output_type": "stream",
     "text": [
      "Processing entry 1856 was a leap year starting on Tuesday of the Gr...\n"
     ]
    },
    {
     "name": "stderr",
     "output_type": "stream",
     "text": [
      "100%|██████████| 2845/2845 [00:00<00:00, 205755.58it/s]\n",
      " 16%|█▌        | 654/4109 [04:10<18:05,  3.18it/s]"
     ]
    },
    {
     "name": "stdout",
     "output_type": "stream",
     "text": [
      "Processing entry The Chronicles of Narnia: Prince Caspian is a 2008...\n"
     ]
    },
    {
     "name": "stderr",
     "output_type": "stream",
     "text": [
      "100%|██████████| 7766/7766 [00:00<00:00, 437350.16it/s]\n",
      " 16%|█▌        | 655/4109 [04:11<22:03,  2.61it/s]"
     ]
    },
    {
     "name": "stdout",
     "output_type": "stream",
     "text": [
      "Processing entry The decade of the 1880s in film involved some sign...\n"
     ]
    },
    {
     "name": "stderr",
     "output_type": "stream",
     "text": [
      "100%|██████████| 303/303 [00:00<00:00, 389480.27it/s]\n"
     ]
    },
    {
     "name": "stdout",
     "output_type": "stream",
     "text": [
      "Processing entry November 16 is the 320th day of the year in the Gr...\n"
     ]
    },
    {
     "name": "stderr",
     "output_type": "stream",
     "text": [
      "100%|██████████| 3912/3912 [00:00<00:00, 104885.08it/s]\n",
      " 16%|█▌        | 657/4109 [04:11<19:16,  2.98it/s]"
     ]
    },
    {
     "name": "stdout",
     "output_type": "stream",
     "text": [
      "Processing entry Helsinki hel SINK ee; Finnish: helsi ki ; Swedish:...\n"
     ]
    },
    {
     "name": "stderr",
     "output_type": "stream",
     "text": [
      "100%|██████████| 8883/8883 [00:00<00:00, 563831.76it/s]\n",
      " 16%|█▌        | 658/4109 [04:12<23:20,  2.46it/s]"
     ]
    },
    {
     "name": "stdout",
     "output_type": "stream",
     "text": [
      "Processing entry The governor of California is the head of governme...\n"
     ]
    },
    {
     "name": "stderr",
     "output_type": "stream",
     "text": [
      "100%|██████████| 1658/1658 [00:00<00:00, 1278572.54it/s]\n"
     ]
    },
    {
     "name": "stdout",
     "output_type": "stream",
     "text": [
      "Processing entry December 1 is the 335th day of the year in the Gre...\n"
     ]
    },
    {
     "name": "stderr",
     "output_type": "stream",
     "text": [
      "100%|██████████| 4317/4317 [00:00<00:00, 101442.69it/s]\n",
      " 16%|█▌        | 660/4109 [04:13<20:30,  2.80it/s]"
     ]
    },
    {
     "name": "stdout",
     "output_type": "stream",
     "text": [
      "Processing entry Charles Sumner Tainter was an American scientific ...\n"
     ]
    },
    {
     "name": "stderr",
     "output_type": "stream",
     "text": [
      "100%|██████████| 1042/1042 [00:00<00:00, 361793.44it/s]\n"
     ]
    },
    {
     "name": "stdout",
     "output_type": "stream",
     "text": [
      "Processing entry The year 1936 in television involved some signific...\n"
     ]
    },
    {
     "name": "stderr",
     "output_type": "stream",
     "text": [
      "100%|██████████| 842/842 [00:00<00:00, 275971.24it/s]\n",
      " 16%|█▌        | 662/4109 [04:13<15:25,  3.72it/s]"
     ]
    },
    {
     "name": "stdout",
     "output_type": "stream",
     "text": [
      "Processing entry The following is a family tree of Korean monarchs....\n"
     ]
    },
    {
     "name": "stderr",
     "output_type": "stream",
     "text": [
      "100%|██████████| 144/144 [00:00<00:00, 225365.59it/s]\n"
     ]
    },
    {
     "name": "stdout",
     "output_type": "stream",
     "text": [
      "Processing entry October 28 is the 301st day of the year in the Gre...\n"
     ]
    },
    {
     "name": "stderr",
     "output_type": "stream",
     "text": [
      "100%|██████████| 3961/3961 [00:00<00:00, 70161.02it/s]\n",
      " 16%|█▌        | 664/4109 [04:13<15:00,  3.83it/s]"
     ]
    },
    {
     "name": "stdout",
     "output_type": "stream",
     "text": [
      "Processing entry The Somme is a river in Picardy, northern France. ...\n"
     ]
    },
    {
     "name": "stderr",
     "output_type": "stream",
     "text": [
      "100%|██████████| 977/977 [00:00<00:00, 1696123.76it/s]\n"
     ]
    },
    {
     "name": "stdout",
     "output_type": "stream",
     "text": [
      "Processing entry Yule is a festival historically observed by the Ge...\n"
     ]
    },
    {
     "name": "stderr",
     "output_type": "stream",
     "text": [
      "100%|██████████| 1803/1803 [00:00<00:00, 667578.58it/s]\n",
      " 16%|█▌        | 666/4109 [04:14<12:50,  4.47it/s]"
     ]
    },
    {
     "name": "stdout",
     "output_type": "stream",
     "text": [
      "Processing entry Brassa was a Hungarian French photographer, sculpt...\n"
     ]
    },
    {
     "name": "stderr",
     "output_type": "stream",
     "text": [
      "100%|██████████| 1254/1254 [00:00<00:00, 172889.92it/s]\n",
      " 16%|█▌        | 667/4109 [04:14<11:48,  4.86it/s]"
     ]
    },
    {
     "name": "stdout",
     "output_type": "stream",
     "text": [
      "Processing entry The Staatliches Hofbr uhaus in M nchen is a brewer...\n"
     ]
    },
    {
     "name": "stderr",
     "output_type": "stream",
     "text": [
      "100%|██████████| 805/805 [00:00<00:00, 485605.45it/s]\n",
      " 16%|█▋        | 668/4109 [04:14<10:35,  5.42it/s]"
     ]
    },
    {
     "name": "stdout",
     "output_type": "stream",
     "text": [
      "Processing entry A four stroke engine is an internal combustion eng...\n"
     ]
    },
    {
     "name": "stderr",
     "output_type": "stream",
     "text": [
      "100%|██████████| 3688/3688 [00:00<00:00, 1391561.10it/s]\n",
      " 16%|█▋        | 669/4109 [04:14<11:58,  4.79it/s]"
     ]
    },
    {
     "name": "stdout",
     "output_type": "stream",
     "text": [
      "Processing entry The 1936 Naval Revolt or Tagus boats mutiny was a ...\n"
     ]
    },
    {
     "name": "stderr",
     "output_type": "stream",
     "text": [
      "100%|██████████| 1399/1399 [00:00<00:00, 1081030.08it/s]\n"
     ]
    },
    {
     "name": "stdout",
     "output_type": "stream",
     "text": [
      "Processing entry The United States Camel Corps was a mid 19th centu...\n"
     ]
    },
    {
     "name": "stderr",
     "output_type": "stream",
     "text": [
      "100%|██████████| 2934/2934 [00:00<00:00, 366514.41it/s]\n",
      " 16%|█▋        | 671/4109 [04:14<11:02,  5.19it/s]"
     ]
    },
    {
     "name": "stdout",
     "output_type": "stream",
     "text": [
      "Processing entry Subhi Bey Barakat al Khalidi or Suphi Bereket was ...\n"
     ]
    },
    {
     "name": "stderr",
     "output_type": "stream",
     "text": [
      "100%|██████████| 251/251 [00:00<00:00, 371216.61it/s]\n"
     ]
    },
    {
     "name": "stdout",
     "output_type": "stream",
     "text": [
      "Processing entry Elizabeth M. Olmsted was an American poet. Her poe...\n"
     ]
    },
    {
     "name": "stderr",
     "output_type": "stream",
     "text": [
      "100%|██████████| 426/426 [00:00<00:00, 284427.49it/s]\n",
      " 16%|█▋        | 673/4109 [04:15<08:07,  7.05it/s]"
     ]
    },
    {
     "name": "stdout",
     "output_type": "stream",
     "text": [
      "Processing entry Events   January  January 10: The Simpsons episode...\n"
     ]
    },
    {
     "name": "stderr",
     "output_type": "stream",
     "text": [
      "100%|██████████| 2013/2013 [00:00<00:00, 289545.06it/s]\n",
      " 16%|█▋        | 674/4109 [04:15<09:00,  6.35it/s]"
     ]
    },
    {
     "name": "stdout",
     "output_type": "stream",
     "text": [
      "Processing entry The Mizoch Ghetto was a World War II ghetto set up...\n"
     ]
    },
    {
     "name": "stderr",
     "output_type": "stream",
     "text": [
      "100%|██████████| 974/974 [00:00<00:00, 377844.26it/s]\n"
     ]
    },
    {
     "name": "stdout",
     "output_type": "stream",
     "text": [
      "Processing entry The SSRN, formerly known as Social Science Researc...\n"
     ]
    },
    {
     "name": "stderr",
     "output_type": "stream",
     "text": [
      "100%|██████████| 506/506 [00:00<00:00, 434634.00it/s]\n",
      " 16%|█▋        | 676/4109 [04:15<07:35,  7.54it/s]"
     ]
    },
    {
     "name": "stdout",
     "output_type": "stream",
     "text": [
      "Processing entry Biological determinism, also known as genetic dete...\n"
     ]
    },
    {
     "name": "stderr",
     "output_type": "stream",
     "text": [
      "100%|██████████| 1253/1253 [00:00<00:00, 605049.84it/s]\n",
      " 16%|█▋        | 677/4109 [04:15<07:45,  7.37it/s]"
     ]
    },
    {
     "name": "stdout",
     "output_type": "stream",
     "text": [
      "Processing entry Harry Alonzo Longabaugh , better known as the Sund...\n"
     ]
    },
    {
     "name": "stderr",
     "output_type": "stream",
     "text": [
      "100%|██████████| 1584/1584 [00:00<00:00, 451282.27it/s]\n",
      " 17%|█▋        | 678/4109 [04:15<07:52,  7.27it/s]"
     ]
    },
    {
     "name": "stdout",
     "output_type": "stream",
     "text": [
      "Processing entry A calendar era is the period of time elapsed since...\n"
     ]
    },
    {
     "name": "stderr",
     "output_type": "stream",
     "text": [
      "100%|██████████| 3681/3681 [00:00<00:00, 428474.82it/s]\n",
      " 17%|█▋        | 679/4109 [04:16<11:07,  5.14it/s]"
     ]
    },
    {
     "name": "stdout",
     "output_type": "stream",
     "text": [
      "Processing entry BITNET was a co operative U.S. university computer...\n"
     ]
    },
    {
     "name": "stderr",
     "output_type": "stream",
     "text": [
      "100%|██████████| 736/736 [00:00<00:00, 507230.98it/s]\n"
     ]
    },
    {
     "name": "stdout",
     "output_type": "stream",
     "text": [
      "Processing entry March 30 is the 89th day of the year in the Gregor...\n"
     ]
    },
    {
     "name": "stderr",
     "output_type": "stream",
     "text": [
      "100%|██████████| 3885/3885 [00:00<00:00, 97710.99it/s]\n",
      " 17%|█▋        | 681/4109 [04:16<13:05,  4.36it/s]"
     ]
    },
    {
     "name": "stdout",
     "output_type": "stream",
     "text": [
      "Processing entry Walter Stacy Keach Jr. is an American actor and na...\n"
     ]
    },
    {
     "name": "stderr",
     "output_type": "stream",
     "text": [
      "100%|██████████| 2444/2444 [00:00<00:00, 654339.27it/s]\n",
      " 17%|█▋        | 682/4109 [04:16<11:39,  4.90it/s]"
     ]
    },
    {
     "name": "stdout",
     "output_type": "stream",
     "text": [
      "Processing entry Hiram Milliken Hiller Jr. was an American physicia...\n"
     ]
    },
    {
     "name": "stderr",
     "output_type": "stream",
     "text": [
      "100%|██████████| 1360/1360 [00:00<00:00, 393288.30it/s]\n",
      " 17%|█▋        | 683/4109 [04:16<11:35,  4.93it/s]"
     ]
    },
    {
     "name": "stdout",
     "output_type": "stream",
     "text": [
      "Processing entry The telautograph is an analog precursor to the mod...\n"
     ]
    },
    {
     "name": "stderr",
     "output_type": "stream",
     "text": [
      "100%|██████████| 759/759 [00:00<00:00, 464199.00it/s]\n"
     ]
    },
    {
     "name": "stdout",
     "output_type": "stream",
     "text": [
      "Processing entry 1920 was a leap year starting on Thursday of the G...\n"
     ]
    },
    {
     "name": "stderr",
     "output_type": "stream",
     "text": [
      "100%|██████████| 9041/9041 [00:00<00:00, 97656.00it/s]\n",
      " 17%|█▋        | 685/4109 [04:17<18:31,  3.08it/s]"
     ]
    },
    {
     "name": "stdout",
     "output_type": "stream",
     "text": [
      "Processing entry Chelan County is a county in the U.S. state of Was...\n"
     ]
    },
    {
     "name": "stderr",
     "output_type": "stream",
     "text": [
      "100%|██████████| 1009/1009 [00:00<00:00, 772554.35it/s]\n",
      " 17%|█▋        | 686/4109 [04:18<16:43,  3.41it/s]"
     ]
    },
    {
     "name": "stdout",
     "output_type": "stream",
     "text": [
      "Processing entry Eugeniusz Bodo was a film director, producer, and ...\n"
     ]
    },
    {
     "name": "stderr",
     "output_type": "stream",
     "text": [
      "100%|██████████| 1045/1045 [00:00<00:00, 198372.83it/s]\n",
      " 17%|█▋        | 687/4109 [04:18<14:25,  3.95it/s]"
     ]
    },
    {
     "name": "stdout",
     "output_type": "stream",
     "text": [
      "Processing entry A convention center is a large building that is de...\n"
     ]
    },
    {
     "name": "stderr",
     "output_type": "stream",
     "text": [
      "100%|██████████| 684/684 [00:00<00:00, 300944.50it/s]\n",
      " 17%|█▋        | 688/4109 [04:18<12:11,  4.68it/s]"
     ]
    },
    {
     "name": "stdout",
     "output_type": "stream",
     "text": [
      "Processing entry Garret Barry was a blind Irish uilleann piper from...\n"
     ]
    },
    {
     "name": "stderr",
     "output_type": "stream",
     "text": [
      "100%|██████████| 2117/2117 [00:00<00:00, 452358.33it/s]\n",
      " 17%|█▋        | 689/4109 [04:18<11:55,  4.78it/s]"
     ]
    },
    {
     "name": "stdout",
     "output_type": "stream",
     "text": [
      "Processing entry March 2 is the 61st day of the year in the Gregori...\n"
     ]
    },
    {
     "name": "stderr",
     "output_type": "stream",
     "text": [
      "100%|██████████| 3764/3764 [00:00<00:00, 332771.81it/s]\n",
      " 17%|█▋        | 690/4109 [04:18<12:37,  4.51it/s]"
     ]
    },
    {
     "name": "stdout",
     "output_type": "stream",
     "text": [
      "Processing entry 2009 was a common year starting on Thursday of the...\n"
     ]
    },
    {
     "name": "stderr",
     "output_type": "stream",
     "text": [
      "100%|██████████| 4332/4332 [00:00<00:00, 271717.14it/s]\n",
      " 17%|█▋        | 691/4109 [04:19<16:37,  3.43it/s]"
     ]
    },
    {
     "name": "stdout",
     "output_type": "stream",
     "text": [
      "Processing entry A birth name is the name of a person given upon bi...\n"
     ]
    },
    {
     "name": "stderr",
     "output_type": "stream",
     "text": [
      "100%|██████████| 316/316 [00:00<00:00, 241245.01it/s]\n"
     ]
    },
    {
     "name": "stdout",
     "output_type": "stream",
     "text": [
      "Processing entry November 4 is the 308th day of the year in the Gre...\n"
     ]
    },
    {
     "name": "stderr",
     "output_type": "stream",
     "text": [
      "100%|██████████| 3927/3927 [00:00<00:00, 108274.43it/s]\n",
      " 17%|█▋        | 693/4109 [04:19<15:43,  3.62it/s]"
     ]
    },
    {
     "name": "stdout",
     "output_type": "stream",
     "text": [
      "Processing entry Heroica Nogales , more commonly known as Nogales, ...\n"
     ]
    },
    {
     "name": "stderr",
     "output_type": "stream",
     "text": [
      "100%|██████████| 1953/1953 [00:00<00:00, 453771.09it/s]\n",
      " 17%|█▋        | 694/4109 [04:20<14:17,  3.98it/s]"
     ]
    },
    {
     "name": "stdout",
     "output_type": "stream",
     "text": [
      "Processing entry Natura Artis Magistra , commonly known just as Art...\n"
     ]
    },
    {
     "name": "stderr",
     "output_type": "stream",
     "text": [
      "100%|██████████| 585/585 [00:00<00:00, 1444183.54it/s]\n"
     ]
    },
    {
     "name": "stdout",
     "output_type": "stream",
     "text": [
      "Processing entry Gallup, Inc. is an American analytics and advisory...\n"
     ]
    },
    {
     "name": "stderr",
     "output_type": "stream",
     "text": [
      "100%|██████████| 2546/2546 [00:00<00:00, 1201338.51it/s]\n",
      " 17%|█▋        | 696/4109 [04:20<11:21,  5.01it/s]"
     ]
    },
    {
     "name": "stdout",
     "output_type": "stream",
     "text": [
      "Processing entry The Hanover Congress of the Social Democratic Part...\n"
     ]
    },
    {
     "name": "stderr",
     "output_type": "stream",
     "text": [
      "100%|██████████| 149/149 [00:00<00:00, 176141.85it/s]\n"
     ]
    },
    {
     "name": "stdout",
     "output_type": "stream",
     "text": [
      "Processing entry Niagara Falls is a city in Ontario, Canada. It is ...\n"
     ]
    },
    {
     "name": "stderr",
     "output_type": "stream",
     "text": [
      "100%|██████████| 3686/3686 [00:00<00:00, 249793.26it/s]\n",
      " 17%|█▋        | 698/4109 [04:20<11:39,  4.88it/s]"
     ]
    },
    {
     "name": "stdout",
     "output_type": "stream",
     "text": [
      "Processing entry Herbert Clark Hoover was an American politician an...\n"
     ]
    },
    {
     "name": "stderr",
     "output_type": "stream",
     "text": [
      "100%|██████████| 11922/11922 [00:00<00:00, 397770.24it/s]\n",
      " 17%|█▋        | 699/4109 [04:21<19:48,  2.87it/s]"
     ]
    },
    {
     "name": "stdout",
     "output_type": "stream",
     "text": [
      "Processing entry The 1885 Alien Contract Labor Law , also known as ...\n"
     ]
    },
    {
     "name": "stderr",
     "output_type": "stream",
     "text": [
      "100%|██████████| 784/784 [00:00<00:00, 226719.14it/s]\n"
     ]
    },
    {
     "name": "stdout",
     "output_type": "stream",
     "text": [
      "Processing entry March 20 is the 79th day of the year in the Gregor...\n"
     ]
    },
    {
     "name": "stderr",
     "output_type": "stream",
     "text": [
      "100%|██████████| 4208/4208 [00:00<00:00, 163920.34it/s]\n",
      " 17%|█▋        | 701/4109 [04:22<18:49,  3.02it/s]"
     ]
    },
    {
     "name": "stdout",
     "output_type": "stream",
     "text": [
      "Processing entry The English Channel , also called the British Chan...\n"
     ]
    },
    {
     "name": "stderr",
     "output_type": "stream",
     "text": [
      "100%|██████████| 6247/6247 [00:00<00:00, 747512.75it/s]\n",
      " 17%|█▋        | 702/4109 [04:22<21:00,  2.70it/s]"
     ]
    },
    {
     "name": "stdout",
     "output_type": "stream",
     "text": [
      "Processing entry There are a number of times in which the canonical...\n"
     ]
    },
    {
     "name": "stderr",
     "output_type": "stream",
     "text": [
      "100%|██████████| 235/235 [00:00<00:00, 385928.52it/s]\n"
     ]
    },
    {
     "name": "stdout",
     "output_type": "stream",
     "text": [
      "Processing entry 1899 was a common year starting on Sunday of the G...\n"
     ]
    },
    {
     "name": "stderr",
     "output_type": "stream",
     "text": [
      "100%|██████████| 19857/19857 [00:00<00:00, 154203.04it/s]\n",
      " 17%|█▋        | 704/4109 [04:24<31:47,  1.79it/s]"
     ]
    },
    {
     "name": "stdout",
     "output_type": "stream",
     "text": [
      "Processing entry 1969 was a common year starting on Wednesday of th...\n"
     ]
    },
    {
     "name": "stderr",
     "output_type": "stream",
     "text": [
      "100%|██████████| 11774/11774 [00:00<00:00, 79453.58it/s]\n",
      " 17%|█▋        | 705/4109 [04:25<39:59,  1.42it/s]"
     ]
    },
    {
     "name": "stdout",
     "output_type": "stream",
     "text": [
      "Processing entry Royal assent is the method by which a monarch form...\n"
     ]
    },
    {
     "name": "stderr",
     "output_type": "stream",
     "text": [
      "100%|██████████| 6573/6573 [00:00<00:00, 587653.16it/s]\n",
      " 17%|█▋        | 706/4109 [04:26<36:59,  1.53it/s]"
     ]
    },
    {
     "name": "stdout",
     "output_type": "stream",
     "text": [
      "Processing entry A.L.A. Schechter Poultry Corp. v. United States, 2...\n"
     ]
    },
    {
     "name": "stderr",
     "output_type": "stream",
     "text": [
      "100%|██████████| 1100/1100 [00:00<00:00, 571077.41it/s]\n"
     ]
    },
    {
     "name": "stdout",
     "output_type": "stream",
     "text": [
      "Processing entry Anukulchandra Chakravarty , popularly known as Sre...\n"
     ]
    },
    {
     "name": "stderr",
     "output_type": "stream",
     "text": [
      "100%|██████████| 52/52 [00:00<00:00, 589469.75it/s]\n"
     ]
    },
    {
     "name": "stdout",
     "output_type": "stream",
     "text": [
      "Processing entry Hans Koch was an SS Unterscharf hrer and member of...\n"
     ]
    },
    {
     "name": "stderr",
     "output_type": "stream",
     "text": [
      "100%|██████████| 540/540 [00:00<00:00, 553771.19it/s]\n",
      " 17%|█▋        | 709/4109 [04:26<20:56,  2.71it/s]"
     ]
    },
    {
     "name": "stdout",
     "output_type": "stream",
     "text": [
      "Processing entry 1910 was a common year starting on Saturday of the...\n"
     ]
    },
    {
     "name": "stderr",
     "output_type": "stream",
     "text": [
      "100%|██████████| 4127/4127 [00:00<00:00, 232036.09it/s]\n",
      " 17%|█▋        | 710/4109 [04:26<21:42,  2.61it/s]"
     ]
    },
    {
     "name": "stdout",
     "output_type": "stream",
     "text": [
      "Processing entry April 6 is the 96th day of the year in the Gregori...\n"
     ]
    },
    {
     "name": "stderr",
     "output_type": "stream",
     "text": [
      "100%|██████████| 4628/4628 [00:00<00:00, 104431.68it/s]\n",
      " 17%|█▋        | 711/4109 [04:27<23:38,  2.40it/s]"
     ]
    },
    {
     "name": "stdout",
     "output_type": "stream",
     "text": [
      "Processing entry 1900 was an exceptional common year starting on Mo...\n"
     ]
    },
    {
     "name": "stderr",
     "output_type": "stream",
     "text": [
      "100%|██████████| 6765/6765 [00:00<00:00, 95031.69it/s]\n",
      " 17%|█▋        | 712/4109 [04:28<27:09,  2.09it/s]"
     ]
    },
    {
     "name": "stdout",
     "output_type": "stream",
     "text": [
      "Processing entry Basilan, officially the Province of Basilan is an ...\n"
     ]
    },
    {
     "name": "stderr",
     "output_type": "stream",
     "text": [
      "100%|██████████| 13187/13187 [00:00<00:00, 241079.06it/s]\n",
      " 17%|█▋        | 713/4109 [04:29<37:41,  1.50it/s]"
     ]
    },
    {
     "name": "stdout",
     "output_type": "stream",
     "text": [
      "Processing entry Charles Alfred Pillsbury was an American businessm...\n"
     ]
    },
    {
     "name": "stderr",
     "output_type": "stream",
     "text": [
      "100%|██████████| 1131/1131 [00:00<00:00, 651167.86it/s]\n",
      " 17%|█▋        | 714/4109 [04:29<29:16,  1.93it/s]"
     ]
    },
    {
     "name": "stdout",
     "output_type": "stream",
     "text": [
      "Processing entry Sir Charles Edward Kingsford Smith , nicknamed Smi...\n"
     ]
    },
    {
     "name": "stderr",
     "output_type": "stream",
     "text": [
      "100%|██████████| 3598/3598 [00:00<00:00, 750353.31it/s]\n",
      " 17%|█▋        | 715/4109 [04:29<25:19,  2.23it/s]"
     ]
    },
    {
     "name": "stdout",
     "output_type": "stream",
     "text": [
      "Processing entry September 2 is the 245th day of the year in the Gr...\n"
     ]
    },
    {
     "name": "stderr",
     "output_type": "stream",
     "text": [
      "100%|██████████| 4090/4090 [00:00<00:00, 115549.46it/s]\n",
      " 17%|█▋        | 716/4109 [04:30<25:38,  2.21it/s]"
     ]
    },
    {
     "name": "stdout",
     "output_type": "stream",
     "text": [
      "Processing entry 1739 was a common year starting on Thursday of the...\n"
     ]
    },
    {
     "name": "stderr",
     "output_type": "stream",
     "text": [
      "100%|██████████| 991/991 [00:00<00:00, 806315.28it/s]\n"
     ]
    },
    {
     "name": "stdout",
     "output_type": "stream",
     "text": [
      "Processing entry The Mur or Mura is a river in Central Europe risin...\n"
     ]
    },
    {
     "name": "stderr",
     "output_type": "stream",
     "text": [
      "100%|██████████| 853/853 [00:00<00:00, 498570.42it/s]\n",
      " 17%|█▋        | 718/4109 [04:30<16:35,  3.41it/s]"
     ]
    },
    {
     "name": "stdout",
     "output_type": "stream",
     "text": [
      "Processing entry The gusle or lahuta is a single stringed musical i...\n"
     ]
    },
    {
     "name": "stderr",
     "output_type": "stream",
     "text": [
      "100%|██████████| 1735/1735 [00:00<00:00, 415502.88it/s]\n",
      " 17%|█▋        | 719/4109 [04:30<14:53,  3.79it/s]"
     ]
    },
    {
     "name": "stdout",
     "output_type": "stream",
     "text": [
      "Processing entry African Americans are an ethnic group consisting o...\n"
     ]
    },
    {
     "name": "stderr",
     "output_type": "stream",
     "text": [
      "100%|██████████| 15179/15179 [00:00<00:00, 453024.47it/s]\n",
      " 18%|█▊        | 720/4109 [04:31<26:15,  2.15it/s]"
     ]
    },
    {
     "name": "stdout",
     "output_type": "stream",
     "text": [
      "Processing entry Alma Lucy Reville, Lady Hitchcock , was an English...\n"
     ]
    },
    {
     "name": "stderr",
     "output_type": "stream",
     "text": [
      "100%|██████████| 1129/1129 [00:00<00:00, 405390.74it/s]\n",
      " 18%|█▊        | 721/4109 [04:31<21:03,  2.68it/s]"
     ]
    },
    {
     "name": "stdout",
     "output_type": "stream",
     "text": [
      "Processing entry Dr. Henry Jekyll, nicknamed in some copies of the ...\n"
     ]
    },
    {
     "name": "stderr",
     "output_type": "stream",
     "text": [
      "100%|██████████| 5328/5328 [00:00<00:00, 448938.32it/s]\n",
      " 18%|█▊        | 722/4109 [04:32<22:22,  2.52it/s]"
     ]
    },
    {
     "name": "stdout",
     "output_type": "stream",
     "text": [
      "Processing entry Lucius Quintus Cincinnatus Lamar II was an America...\n"
     ]
    },
    {
     "name": "stderr",
     "output_type": "stream",
     "text": [
      "100%|██████████| 3315/3315 [00:00<00:00, 440519.52it/s]\n",
      " 18%|█▊        | 723/4109 [04:32<20:47,  2.71it/s]"
     ]
    },
    {
     "name": "stdout",
     "output_type": "stream",
     "text": [
      "Processing entry 1870 was a common year starting on Saturday of the...\n"
     ]
    },
    {
     "name": "stderr",
     "output_type": "stream",
     "text": [
      "100%|██████████| 2919/2919 [00:00<00:00, 140356.69it/s]\n",
      " 18%|█▊        | 724/4109 [04:32<19:49,  2.85it/s]"
     ]
    },
    {
     "name": "stdout",
     "output_type": "stream",
     "text": [
      "Processing entry January 1 or 1 January is the first day of the yea...\n"
     ]
    },
    {
     "name": "stderr",
     "output_type": "stream",
     "text": [
      "100%|██████████| 5383/5383 [00:00<00:00, 153563.21it/s]\n",
      " 18%|█▊        | 725/4109 [04:33<22:51,  2.47it/s]"
     ]
    },
    {
     "name": "stdout",
     "output_type": "stream",
     "text": [
      "Processing entry The Great Blizzard of 1899, also known as the Grea...\n"
     ]
    },
    {
     "name": "stderr",
     "output_type": "stream",
     "text": [
      "100%|██████████| 740/740 [00:00<00:00, 521469.25it/s]\n"
     ]
    },
    {
     "name": "stdout",
     "output_type": "stream",
     "text": [
      "Processing entry Gu rico State is one of the 23 states of Venezuela...\n"
     ]
    },
    {
     "name": "stderr",
     "output_type": "stream",
     "text": [
      "100%|██████████| 3591/3591 [00:00<00:00, 468541.83it/s]\n",
      " 18%|█▊        | 727/4109 [04:33<17:15,  3.26it/s]"
     ]
    },
    {
     "name": "stdout",
     "output_type": "stream",
     "text": [
      "Processing entry Time division multiplexing is a method of transmit...\n"
     ]
    },
    {
     "name": "stderr",
     "output_type": "stream",
     "text": [
      "100%|██████████| 1698/1698 [00:00<00:00, 627040.69it/s]\n",
      " 18%|█▊        | 728/4109 [04:33<15:30,  3.63it/s]"
     ]
    },
    {
     "name": "stdout",
     "output_type": "stream",
     "text": [
      "Processing entry The Chinese Communist Party , officially the Commu...\n"
     ]
    },
    {
     "name": "stderr",
     "output_type": "stream",
     "text": [
      "100%|██████████| 10954/10954 [00:00<00:00, 494919.92it/s]\n",
      " 18%|█▊        | 729/4109 [04:34<23:20,  2.41it/s]"
     ]
    },
    {
     "name": "stdout",
     "output_type": "stream",
     "text": [
      "Processing entry Cecil Louis Troughton Smith , known by his pen nam...\n"
     ]
    },
    {
     "name": "stderr",
     "output_type": "stream",
     "text": [
      "100%|██████████| 1945/1945 [00:00<00:00, 421184.43it/s]\n",
      " 18%|█▊        | 730/4109 [04:34<19:44,  2.85it/s]"
     ]
    },
    {
     "name": "stdout",
     "output_type": "stream",
     "text": [
      "Processing entry Francisco Remigio Morales Berm dez Cerruti was a P...\n"
     ]
    },
    {
     "name": "stderr",
     "output_type": "stream",
     "text": [
      "100%|██████████| 775/775 [00:00<00:00, 595672.64it/s]\n",
      " 18%|█▊        | 731/4109 [04:34<15:49,  3.56it/s]"
     ]
    },
    {
     "name": "stdout",
     "output_type": "stream",
     "text": [
      "Processing entry January 1 or 1 January is the first day of the yea...\n"
     ]
    },
    {
     "name": "stderr",
     "output_type": "stream",
     "text": [
      "100%|██████████| 5383/5383 [00:00<00:00, 85557.49it/s]\n",
      " 18%|█▊        | 732/4109 [04:35<21:36,  2.61it/s]"
     ]
    },
    {
     "name": "stdout",
     "output_type": "stream",
     "text": [
      "Processing entry 1870 was a common year starting on Saturday of the...\n"
     ]
    },
    {
     "name": "stderr",
     "output_type": "stream",
     "text": [
      "100%|██████████| 2919/2919 [00:00<00:00, 160994.82it/s]\n",
      " 18%|█▊        | 733/4109 [04:35<20:01,  2.81it/s]"
     ]
    },
    {
     "name": "stdout",
     "output_type": "stream",
     "text": [
      "Processing entry The National Assembly is the unicameral parliament...\n"
     ]
    },
    {
     "name": "stderr",
     "output_type": "stream",
     "text": [
      "100%|██████████| 1254/1254 [00:00<00:00, 391372.66it/s]\n",
      " 18%|█▊        | 734/4109 [04:35<16:11,  3.47it/s]"
     ]
    },
    {
     "name": "stdout",
     "output_type": "stream",
     "text": [
      "Processing entry or e Vajfert was a Serbian industrialist, Governor...\n"
     ]
    },
    {
     "name": "stderr",
     "output_type": "stream",
     "text": [
      "100%|██████████| 713/713 [00:00<00:00, 213854.32it/s]"
     ]
    },
    {
     "name": "stdout",
     "output_type": "stream",
     "text": [
      "Processing entry Sir Edmund William Gosse was an English poet, auth..."
     ]
    },
    {
     "name": "stderr",
     "output_type": "stream",
     "text": [
      "\n"
     ]
    },
    {
     "name": "stdout",
     "output_type": "stream",
     "text": [
      "\n"
     ]
    },
    {
     "name": "stderr",
     "output_type": "stream",
     "text": [
      "100%|██████████| 1950/1950 [00:00<00:00, 411578.74it/s]\n",
      " 18%|█▊        | 736/4109 [04:36<13:12,  4.25it/s]"
     ]
    },
    {
     "name": "stdout",
     "output_type": "stream",
     "text": [
      "Processing entry 1880 was a leap year starting on Thursday of the G...\n"
     ]
    },
    {
     "name": "stderr",
     "output_type": "stream",
     "text": [
      "100%|██████████| 2490/2490 [00:00<00:00, 151967.54it/s]\n",
      " 18%|█▊        | 737/4109 [04:36<15:08,  3.71it/s]"
     ]
    },
    {
     "name": "stdout",
     "output_type": "stream",
     "text": [
      "Processing entry Kigeli V Ndahindurwa was the last ruling King of R...\n"
     ]
    },
    {
     "name": "stderr",
     "output_type": "stream",
     "text": [
      "100%|██████████| 1802/1802 [00:00<00:00, 391471.27it/s]\n",
      " 18%|█▊        | 738/4109 [04:36<13:18,  4.22it/s]"
     ]
    },
    {
     "name": "stdout",
     "output_type": "stream",
     "text": [
      "Processing entry January 1 or 1 January is the first day of the yea...\n"
     ]
    },
    {
     "name": "stderr",
     "output_type": "stream",
     "text": [
      "100%|██████████| 5383/5383 [00:00<00:00, 105192.25it/s]\n",
      " 18%|█▊        | 739/4109 [04:37<20:29,  2.74it/s]"
     ]
    },
    {
     "name": "stdout",
     "output_type": "stream",
     "text": [
      "Processing entry Anarchism is a political philosophy and movement t...\n"
     ]
    },
    {
     "name": "stderr",
     "output_type": "stream",
     "text": [
      "100%|██████████| 7380/7380 [00:00<00:00, 474754.04it/s]\n",
      " 18%|█▊        | 740/4109 [04:38<24:09,  2.32it/s]"
     ]
    },
    {
     "name": "stdout",
     "output_type": "stream",
     "text": [
      "Processing entry Alexander William Campbell was the final surviving...\n"
     ]
    },
    {
     "name": "stderr",
     "output_type": "stream",
     "text": [
      "100%|██████████| 1463/1463 [00:00<00:00, 309677.86it/s]\n",
      " 18%|█▊        | 741/4109 [04:38<19:17,  2.91it/s]"
     ]
    },
    {
     "name": "stdout",
     "output_type": "stream",
     "text": [
      "Processing entry The Department of the Treasury is the national tre...\n"
     ]
    },
    {
     "name": "stderr",
     "output_type": "stream",
     "text": [
      "100%|██████████| 2219/2219 [00:00<00:00, 520156.52it/s]\n",
      " 18%|█▊        | 742/4109 [04:38<16:24,  3.42it/s]"
     ]
    },
    {
     "name": "stdout",
     "output_type": "stream",
     "text": [
      "Processing entry Pima County is a county in the south central regio...\n"
     ]
    },
    {
     "name": "stderr",
     "output_type": "stream",
     "text": [
      "100%|██████████| 1811/1811 [00:00<00:00, 344110.02it/s]\n",
      " 18%|█▊        | 743/4109 [04:38<14:32,  3.86it/s]"
     ]
    },
    {
     "name": "stdout",
     "output_type": "stream",
     "text": [
      "Processing entry The Free, Independent, and Strictly Neutral City o...\n"
     ]
    },
    {
     "name": "stderr",
     "output_type": "stream",
     "text": [
      "100%|██████████| 1017/1017 [00:00<00:00, 370890.11it/s]\n",
      " 18%|█▊        | 744/4109 [04:38<12:22,  4.53it/s]"
     ]
    },
    {
     "name": "stdout",
     "output_type": "stream",
     "text": [
      "Processing entry Mikhail Sergeyevich Gorbachev was a Soviet politic...\n"
     ]
    },
    {
     "name": "stderr",
     "output_type": "stream",
     "text": [
      "100%|██████████| 19430/19430 [00:00<00:00, 484756.52it/s]\n",
      " 18%|█▊        | 745/4109 [04:40<32:08,  1.74it/s]"
     ]
    },
    {
     "name": "stdout",
     "output_type": "stream",
     "text": [
      "Processing entry Colonia Dignidad was an isolated colony of Germans...\n"
     ]
    },
    {
     "name": "stderr",
     "output_type": "stream",
     "text": [
      "100%|██████████| 4451/4451 [00:00<00:00, 513911.06it/s]\n",
      " 18%|█▊        | 746/4109 [04:40<29:07,  1.92it/s]"
     ]
    },
    {
     "name": "stdout",
     "output_type": "stream",
     "text": [
      "Processing entry April 2 is the 92nd day of the year in the Gregori...\n"
     ]
    },
    {
     "name": "stderr",
     "output_type": "stream",
     "text": [
      "100%|██████████| 3665/3665 [00:00<00:00, 86286.57it/s]\n",
      " 18%|█▊        | 747/4109 [04:41<27:53,  2.01it/s]"
     ]
    },
    {
     "name": "stdout",
     "output_type": "stream",
     "text": [
      "Processing entry Many scientists have been recognized with the assi...\n"
     ]
    },
    {
     "name": "stderr",
     "output_type": "stream",
     "text": [
      "100%|██████████| 172/172 [00:00<00:00, 211312.33it/s]\n"
     ]
    },
    {
     "name": "stdout",
     "output_type": "stream",
     "text": [
      "Processing entry Gymnasium Karlovac , sometimes historically referr...\n"
     ]
    },
    {
     "name": "stderr",
     "output_type": "stream",
     "text": [
      "100%|██████████| 330/330 [00:00<00:00, 261895.99it/s]\n"
     ]
    },
    {
     "name": "stdout",
     "output_type": "stream",
     "text": [
      "Processing entry 1987 was a common year starting on Thursday of the...\n"
     ]
    },
    {
     "name": "stderr",
     "output_type": "stream",
     "text": [
      "100%|██████████| 8453/8453 [00:00<00:00, 64609.01it/s]\n",
      " 18%|█▊        | 750/4109 [04:41<22:11,  2.52it/s]"
     ]
    },
    {
     "name": "stdout",
     "output_type": "stream",
     "text": [
      "Processing entry The Internet Technical Committee is a joint commit...\n"
     ]
    },
    {
     "name": "stderr",
     "output_type": "stream",
     "text": [
      "100%|██████████| 250/250 [00:00<00:00, 388217.70it/s]\n"
     ]
    },
    {
     "name": "stdout",
     "output_type": "stream",
     "text": [
      "Processing entry The Institute of Electrical and Electronics Engine...\n"
     ]
    },
    {
     "name": "stderr",
     "output_type": "stream",
     "text": [
      "100%|██████████| 1458/1458 [00:00<00:00, 349645.24it/s]\n",
      " 18%|█▊        | 752/4109 [04:42<16:10,  3.46it/s]"
     ]
    },
    {
     "name": "stdout",
     "output_type": "stream",
     "text": [
      "Processing entry The Volvo P1800 is a 2 2, front engine, rear drive...\n"
     ]
    },
    {
     "name": "stderr",
     "output_type": "stream",
     "text": [
      "100%|██████████| 2092/2092 [00:00<00:00, 568774.48it/s]\n",
      " 18%|█▊        | 753/4109 [04:42<15:18,  3.66it/s]"
     ]
    },
    {
     "name": "stdout",
     "output_type": "stream",
     "text": [
      "Processing entry Percy Lavon Julian was an American research chemis...\n"
     ]
    },
    {
     "name": "stderr",
     "output_type": "stream",
     "text": [
      "100%|██████████| 4238/4238 [00:00<00:00, 365938.45it/s]\n",
      " 18%|█▊        | 754/4109 [04:42<16:31,  3.38it/s]"
     ]
    },
    {
     "name": "stdout",
     "output_type": "stream",
     "text": [
      "Processing entry Events from the year 1971 in art.  Events July 22 ...\n"
     ]
    },
    {
     "name": "stderr",
     "output_type": "stream",
     "text": [
      "100%|██████████| 502/502 [00:00<00:00, 232066.64it/s]\n"
     ]
    },
    {
     "name": "stdout",
     "output_type": "stream",
     "text": [
      "Processing entry 1900 was an exceptional common year starting on Mo...\n"
     ]
    },
    {
     "name": "stderr",
     "output_type": "stream",
     "text": [
      "100%|██████████| 6765/6765 [00:00<00:00, 86942.76it/s]\n",
      " 18%|█▊        | 756/4109 [04:43<17:22,  3.22it/s]"
     ]
    },
    {
     "name": "stdout",
     "output_type": "stream",
     "text": [
      "Processing entry Leonard C. Bailey was an African American entrepre...\n"
     ]
    },
    {
     "name": "stderr",
     "output_type": "stream",
     "text": [
      "100%|██████████| 297/297 [00:00<00:00, 285909.64it/s]\n"
     ]
    },
    {
     "name": "stdout",
     "output_type": "stream",
     "text": [
      "Processing entry Emma Martina Luigia Morano was an Italian supercen...\n"
     ]
    },
    {
     "name": "stderr",
     "output_type": "stream",
     "text": [
      "100%|██████████| 630/630 [00:00<00:00, 229934.87it/s]\n",
      " 18%|█▊        | 758/4109 [04:43<12:20,  4.52it/s]"
     ]
    },
    {
     "name": "stdout",
     "output_type": "stream",
     "text": [
      "Processing entry Old Style and New Style indicate dating systems be...\n"
     ]
    },
    {
     "name": "stderr",
     "output_type": "stream",
     "text": [
      "100%|██████████| 2209/2209 [00:00<00:00, 349855.29it/s]\n",
      " 18%|█▊        | 759/4109 [04:43<11:53,  4.70it/s]"
     ]
    },
    {
     "name": "stdout",
     "output_type": "stream",
     "text": [
      "Processing entry George O'Hara was an American motion picture actor...\n"
     ]
    },
    {
     "name": "stderr",
     "output_type": "stream",
     "text": [
      "100%|██████████| 435/435 [00:00<00:00, 612666.97it/s]\n"
     ]
    },
    {
     "name": "stdout",
     "output_type": "stream",
     "text": [
      "Processing entry The viscosity of a fluid is a measure of its resis...\n"
     ]
    },
    {
     "name": "stderr",
     "output_type": "stream",
     "text": [
      "100%|██████████| 7578/7578 [00:00<00:00, 1928784.25it/s]\n",
      " 19%|█▊        | 761/4109 [04:44<14:33,  3.83it/s]"
     ]
    },
    {
     "name": "stdout",
     "output_type": "stream",
     "text": [
      "Processing entry Lee de Forest was an American inventor and a funda...\n"
     ]
    },
    {
     "name": "stderr",
     "output_type": "stream",
     "text": [
      "100%|██████████| 7962/7962 [00:00<00:00, 331047.20it/s]\n",
      " 19%|█▊        | 762/4109 [04:45<19:39,  2.84it/s]"
     ]
    },
    {
     "name": "stdout",
     "output_type": "stream",
     "text": [
      "Processing entry Friedrich Panse was a German psychiatrist who was ...\n"
     ]
    },
    {
     "name": "stderr",
     "output_type": "stream",
     "text": [
      "100%|██████████| 55/55 [00:00<00:00, 350587.72it/s]\n"
     ]
    },
    {
     "name": "stdout",
     "output_type": "stream",
     "text": [
      "Processing entry The 1960s was a decade that began January 1, 1960 ...\n"
     ]
    },
    {
     "name": "stderr",
     "output_type": "stream",
     "text": [
      "100%|██████████| 13985/13985 [00:00<00:00, 166761.93it/s]\n",
      " 19%|█▊        | 764/4109 [04:46<24:45,  2.25it/s]"
     ]
    },
    {
     "name": "stdout",
     "output_type": "stream",
     "text": [
      "Processing entry 2008 was a leap year starting on Tuesday of the Gr...\n"
     ]
    },
    {
     "name": "stderr",
     "output_type": "stream",
     "text": [
      "100%|██████████| 3916/3916 [00:00<00:00, 135341.38it/s]\n",
      " 19%|█▊        | 765/4109 [04:46<24:17,  2.29it/s]"
     ]
    },
    {
     "name": "stdout",
     "output_type": "stream",
     "text": [
      "Processing entry Wilhelm Eduard Weber was a German physicist and, t...\n"
     ]
    },
    {
     "name": "stderr",
     "output_type": "stream",
     "text": [
      "100%|██████████| 1019/1019 [00:00<00:00, 262546.58it/s]\n",
      " 19%|█▊        | 766/4109 [04:46<20:04,  2.78it/s]"
     ]
    },
    {
     "name": "stdout",
     "output_type": "stream",
     "text": [
      "Processing entry 2013 was a common year starting on Tuesday of the ...\n"
     ]
    },
    {
     "name": "stderr",
     "output_type": "stream",
     "text": [
      "100%|██████████| 3910/3910 [00:00<00:00, 292857.53it/s]\n",
      " 19%|█▊        | 767/4109 [04:47<19:39,  2.83it/s]"
     ]
    },
    {
     "name": "stdout",
     "output_type": "stream",
     "text": [
      "Processing entry This is a list of television related events that o...\n"
     ]
    },
    {
     "name": "stderr",
     "output_type": "stream",
     "text": [
      "100%|██████████| 30/30 [00:00<00:00, 51442.81it/s]\n",
      " 19%|█▊        | 768/4109 [04:47<16:12,  3.44it/s]"
     ]
    },
    {
     "name": "stdout",
     "output_type": "stream",
     "text": [
      "Processing entry Niagara Falls is a city in Niagara County, New Yor...\n"
     ]
    },
    {
     "name": "stderr",
     "output_type": "stream",
     "text": [
      "100%|██████████| 3715/3715 [00:00<00:00, 257075.16it/s]\n",
      " 19%|█▊        | 769/4109 [04:47<16:42,  3.33it/s]"
     ]
    },
    {
     "name": "stdout",
     "output_type": "stream",
     "text": [
      "Processing entry The mile, sometimes the international mile or stat...\n"
     ]
    },
    {
     "name": "stderr",
     "output_type": "stream",
     "text": [
      "100%|██████████| 5091/5091 [00:00<00:00, 412367.26it/s]\n",
      " 19%|█▊        | 770/4109 [04:47<18:56,  2.94it/s]"
     ]
    },
    {
     "name": "stdout",
     "output_type": "stream",
     "text": [
      "Processing entry South Texas College of Law Houston is a private la...\n"
     ]
    },
    {
     "name": "stderr",
     "output_type": "stream",
     "text": [
      "100%|██████████| 1729/1729 [00:00<00:00, 423150.40it/s]\n",
      " 19%|█▉        | 771/4109 [04:48<15:42,  3.54it/s]"
     ]
    },
    {
     "name": "stdout",
     "output_type": "stream",
     "text": [
      "Processing entry March 26 is the 85th day of the year in the Gregor...\n"
     ]
    },
    {
     "name": "stderr",
     "output_type": "stream",
     "text": [
      "100%|██████████| 4174/4174 [00:00<00:00, 60309.16it/s]\n",
      " 19%|█▉        | 772/4109 [04:48<18:46,  2.96it/s]"
     ]
    },
    {
     "name": "stdout",
     "output_type": "stream",
     "text": [
      "Processing entry The Dingley Act of 1897 , introduced by U.S. Repre...\n"
     ]
    },
    {
     "name": "stderr",
     "output_type": "stream",
     "text": [
      "100%|██████████| 219/219 [00:00<00:00, 86289.58it/s]\n"
     ]
    },
    {
     "name": "stdout",
     "output_type": "stream",
     "text": [
      "Processing entry A star system or stellar system is a small number ...\n"
     ]
    },
    {
     "name": "stderr",
     "output_type": "stream",
     "text": [
      "100%|██████████| 3071/3071 [00:00<00:00, 465865.22it/s]\n",
      " 19%|█▉        | 774/4109 [04:48<14:41,  3.78it/s]"
     ]
    },
    {
     "name": "stdout",
     "output_type": "stream",
     "text": [
      "Processing entry A Grand Master is a title of honour as well as an ...\n"
     ]
    },
    {
     "name": "stderr",
     "output_type": "stream",
     "text": [
      "100%|██████████| 388/388 [00:00<00:00, 119336.36it/s]\n"
     ]
    },
    {
     "name": "stdout",
     "output_type": "stream",
     "text": [
      "Processing entry H.F. Ahmanson Co. was a California holding company...\n"
     ]
    },
    {
     "name": "stderr",
     "output_type": "stream",
     "text": [
      "100%|██████████| 3437/3437 [00:00<00:00, 509483.05it/s]\n",
      " 19%|█▉        | 776/4109 [04:49<12:20,  4.50it/s]"
     ]
    },
    {
     "name": "stdout",
     "output_type": "stream",
     "text": [
      "Processing entry This is a list of state leaders in the 19th centur...\n"
     ]
    },
    {
     "name": "stderr",
     "output_type": "stream",
     "text": [
      "100%|██████████| 14675/14675 [00:00<00:00, 36292.19it/s]\n",
      " 19%|█▉        | 777/4109 [04:51<33:34,  1.65it/s]"
     ]
    },
    {
     "name": "stdout",
     "output_type": "stream",
     "text": [
      "Processing entry Neurosurgery or neurological surgery, known in com...\n"
     ]
    },
    {
     "name": "stderr",
     "output_type": "stream",
     "text": [
      "100%|██████████| 3303/3303 [00:00<00:00, 646497.09it/s]\n",
      " 19%|█▉        | 778/4109 [04:51<29:45,  1.87it/s]"
     ]
    },
    {
     "name": "stdout",
     "output_type": "stream",
     "text": [
      "Processing entry Methamphetamine is a potent central nervous system...\n"
     ]
    },
    {
     "name": "stderr",
     "output_type": "stream",
     "text": [
      "100%|██████████| 5708/5708 [00:00<00:00, 567552.98it/s]\n",
      " 19%|█▉        | 779/4109 [04:52<28:49,  1.93it/s]"
     ]
    },
    {
     "name": "stdout",
     "output_type": "stream",
     "text": [
      "Processing entry The Chamber of Deputies of Portugal, alternatively...\n"
     ]
    },
    {
     "name": "stderr",
     "output_type": "stream",
     "text": [
      "100%|██████████| 107/107 [00:00<00:00, 386555.15it/s]\n"
     ]
    },
    {
     "name": "stdout",
     "output_type": "stream",
     "text": [
      "Processing entry Charles Tyson Yerkes Jr. was an American financier...\n"
     ]
    },
    {
     "name": "stderr",
     "output_type": "stream",
     "text": [
      "100%|██████████| 1425/1425 [00:00<00:00, 367853.47it/s]\n",
      " 19%|█▉        | 781/4109 [04:52<18:21,  3.02it/s]"
     ]
    },
    {
     "name": "stdout",
     "output_type": "stream",
     "text": [
      "Processing entry The following events occurred in May 1970:  May 1,...\n"
     ]
    },
    {
     "name": "stderr",
     "output_type": "stream",
     "text": [
      "100%|██████████| 9165/9165 [00:00<00:00, 177143.26it/s]\n",
      " 19%|█▉        | 782/4109 [04:52<24:37,  2.25it/s]"
     ]
    },
    {
     "name": "stdout",
     "output_type": "stream",
     "text": [
      "Processing entry Enrico Bomba is an Italian movie producer, directo...\n"
     ]
    },
    {
     "name": "stderr",
     "output_type": "stream",
     "text": [
      "100%|██████████| 368/368 [00:00<00:00, 372827.02it/s]\n"
     ]
    },
    {
     "name": "stdout",
     "output_type": "stream",
     "text": [
      "Processing entry Latin rock is a term to describe a subgenre blendi...\n"
     ]
    },
    {
     "name": "stderr",
     "output_type": "stream",
     "text": [
      "100%|██████████| 1274/1274 [00:00<00:00, 870283.92it/s]\n",
      " 19%|█▉        | 784/4109 [04:53<15:59,  3.46it/s]"
     ]
    },
    {
     "name": "stdout",
     "output_type": "stream",
     "text": [
      "Processing entry The Sikkim expedition was an 1888 British military...\n"
     ]
    },
    {
     "name": "stderr",
     "output_type": "stream",
     "text": [
      "100%|██████████| 1762/1762 [00:00<00:00, 238791.68it/s]\n",
      " 19%|█▉        | 785/4109 [04:53<15:18,  3.62it/s]"
     ]
    },
    {
     "name": "stdout",
     "output_type": "stream",
     "text": [
      "Processing entry Atheism, in the broadest sense, is an absence of b...\n"
     ]
    },
    {
     "name": "stderr",
     "output_type": "stream",
     "text": [
      "100%|██████████| 10473/10473 [00:00<00:00, 316310.20it/s]\n",
      " 19%|█▉        | 786/4109 [04:54<22:55,  2.42it/s]"
     ]
    },
    {
     "name": "stdout",
     "output_type": "stream",
     "text": [
      "Processing entry The railway between Jakarta and Anyer Kidul is a r...\n"
     ]
    },
    {
     "name": "stderr",
     "output_type": "stream",
     "text": [
      "100%|██████████| 435/435 [00:00<00:00, 344444.45it/s]\n"
     ]
    },
    {
     "name": "stdout",
     "output_type": "stream",
     "text": [
      "Processing entry The Egger Lohner C.2 Phaeton, erronously called Po...\n"
     ]
    },
    {
     "name": "stderr",
     "output_type": "stream",
     "text": [
      "100%|██████████| 671/671 [00:00<00:00, 608382.62it/s]\n",
      " 19%|█▉        | 788/4109 [04:54<14:54,  3.71it/s]"
     ]
    },
    {
     "name": "stdout",
     "output_type": "stream",
     "text": [
      "Processing entry The Most Excellent Order of the British Empire is ...\n"
     ]
    },
    {
     "name": "stderr",
     "output_type": "stream",
     "text": [
      "100%|██████████| 3677/3677 [00:00<00:00, 513124.03it/s]\n",
      " 19%|█▉        | 789/4109 [04:54<15:51,  3.49it/s]"
     ]
    },
    {
     "name": "stdout",
     "output_type": "stream",
     "text": [
      "Processing entry December is the twelfth and final month of the yea...\n"
     ]
    },
    {
     "name": "stderr",
     "output_type": "stream",
     "text": [
      "100%|██████████| 1557/1557 [00:00<00:00, 197541.71it/s]\n",
      " 19%|█▉        | 790/4109 [04:54<14:17,  3.87it/s]"
     ]
    },
    {
     "name": "stdout",
     "output_type": "stream",
     "text": [
      "Processing entry Edward Elgar composed his Variations on an Origina...\n"
     ]
    },
    {
     "name": "stderr",
     "output_type": "stream",
     "text": [
      "100%|██████████| 5951/5951 [00:00<00:00, 359228.92it/s]\n",
      " 19%|█▉        | 791/4109 [04:55<17:16,  3.20it/s]"
     ]
    },
    {
     "name": "stdout",
     "output_type": "stream",
     "text": [
      "Processing entry Feng Zhanhai , or Feng Chan hai, was one of the le...\n"
     ]
    },
    {
     "name": "stderr",
     "output_type": "stream",
     "text": [
      "100%|██████████| 713/713 [00:00<00:00, 376832.00it/s]\n"
     ]
    },
    {
     "name": "stdout",
     "output_type": "stream",
     "text": [
      "Processing entry November 1 is the 305th day of the year in the Gre...\n"
     ]
    },
    {
     "name": "stderr",
     "output_type": "stream",
     "text": [
      "100%|██████████| 4780/4780 [00:00<00:00, 149500.56it/s]\n",
      " 19%|█▉        | 793/4109 [04:55<16:56,  3.26it/s]"
     ]
    },
    {
     "name": "stdout",
     "output_type": "stream",
     "text": [
      "Processing entry Robert Lomas is a British writer, physicist and bu...\n"
     ]
    },
    {
     "name": "stderr",
     "output_type": "stream",
     "text": [
      "100%|██████████| 985/985 [00:00<00:00, 302422.18it/s]\n"
     ]
    },
    {
     "name": "stdout",
     "output_type": "stream",
     "text": [
      "Processing entry Iran , officially the Islamic Republic of Iran and...\n"
     ]
    },
    {
     "name": "stderr",
     "output_type": "stream",
     "text": [
      "100%|██████████| 18662/18662 [00:00<00:00, 306306.21it/s]\n",
      " 19%|█▉        | 795/4109 [04:57<27:03,  2.04it/s]"
     ]
    },
    {
     "name": "stdout",
     "output_type": "stream",
     "text": [
      "Processing entry Nikola Tesla was a Serbian American inventor, elec...\n"
     ]
    },
    {
     "name": "stderr",
     "output_type": "stream",
     "text": [
      "100%|██████████| 12971/12971 [00:00<00:00, 354351.65it/s]\n",
      " 19%|█▉        | 796/4109 [04:58<32:45,  1.69it/s]"
     ]
    },
    {
     "name": "stdout",
     "output_type": "stream",
     "text": [
      "Processing entry 1920 was a leap year starting on Thursday of the G...\n"
     ]
    },
    {
     "name": "stderr",
     "output_type": "stream",
     "text": [
      "100%|██████████| 9041/9041 [00:00<00:00, 55499.26it/s]\n",
      " 19%|█▉        | 797/4109 [04:59<37:46,  1.46it/s]"
     ]
    },
    {
     "name": "stdout",
     "output_type": "stream",
     "text": [
      "Processing entry Collier's was an American general interest magazin...\n"
     ]
    },
    {
     "name": "stderr",
     "output_type": "stream",
     "text": [
      "100%|██████████| 3363/3363 [00:00<00:00, 289389.94it/s]\n",
      " 19%|█▉        | 798/4109 [04:59<33:01,  1.67it/s]"
     ]
    },
    {
     "name": "stdout",
     "output_type": "stream",
     "text": [
      "Processing entry The Hague Conventions of 1899 and 1907 are a serie...\n"
     ]
    },
    {
     "name": "stderr",
     "output_type": "stream",
     "text": [
      "100%|██████████| 2619/2619 [00:00<00:00, 351021.99it/s]\n",
      " 19%|█▉        | 799/4109 [04:59<27:00,  2.04it/s]"
     ]
    },
    {
     "name": "stdout",
     "output_type": "stream",
     "text": [
      "Processing entry The use of heraldry in Serbia or by Serbs is used ...\n"
     ]
    },
    {
     "name": "stderr",
     "output_type": "stream",
     "text": [
      "100%|██████████| 670/670 [00:00<00:00, 594622.02it/s]\n"
     ]
    },
    {
     "name": "stdout",
     "output_type": "stream",
     "text": [
      "Processing entry November 18 is the 322nd day of the year in the Gr...\n"
     ]
    },
    {
     "name": "stderr",
     "output_type": "stream",
     "text": [
      "100%|██████████| 4133/4133 [00:00<00:00, 219550.62it/s]\n",
      " 19%|█▉        | 801/4109 [05:00<21:44,  2.54it/s]"
     ]
    },
    {
     "name": "stdout",
     "output_type": "stream",
     "text": [
      "Processing entry Sir Henry Hallett Dale was an English pharmacologi...\n"
     ]
    },
    {
     "name": "stderr",
     "output_type": "stream",
     "text": [
      "100%|██████████| 770/770 [00:00<00:00, 421510.58it/s]\n"
     ]
    },
    {
     "name": "stdout",
     "output_type": "stream",
     "text": [
      "Processing entry The Chief of Chaplains of the United States Navy i...\n"
     ]
    },
    {
     "name": "stderr",
     "output_type": "stream",
     "text": [
      "100%|██████████| 366/366 [00:00<00:00, 365242.75it/s]\n",
      " 20%|█▉        | 803/4109 [05:00<14:57,  3.68it/s]"
     ]
    },
    {
     "name": "stdout",
     "output_type": "stream",
     "text": [
      "Processing entry October 16 is the 289th day of the year in the Gre...\n"
     ]
    },
    {
     "name": "stderr",
     "output_type": "stream",
     "text": [
      "100%|██████████| 4441/4441 [00:00<00:00, 123784.08it/s]\n",
      " 20%|█▉        | 804/4109 [05:01<17:40,  3.12it/s]"
     ]
    },
    {
     "name": "stdout",
     "output_type": "stream",
     "text": [
      "Processing entry The Iron Guard was a Romanian militant revolutiona...\n"
     ]
    },
    {
     "name": "stderr",
     "output_type": "stream",
     "text": [
      "100%|██████████| 6138/6138 [00:00<00:00, 630455.20it/s]\n",
      " 20%|█▉        | 805/4109 [05:01<19:52,  2.77it/s]"
     ]
    },
    {
     "name": "stdout",
     "output_type": "stream",
     "text": [
      "Processing entry mile Girardeau was a French engineer, famous for b...\n"
     ]
    },
    {
     "name": "stderr",
     "output_type": "stream",
     "text": [
      "100%|██████████| 290/290 [00:00<00:00, 296164.64it/s]\n"
     ]
    },
    {
     "name": "stdout",
     "output_type": "stream",
     "text": [
      "Processing entry Rights are legal, social, or ethical principles of...\n"
     ]
    },
    {
     "name": "stderr",
     "output_type": "stream",
     "text": [
      "100%|██████████| 3795/3795 [00:00<00:00, 2040167.10it/s]\n",
      " 20%|█▉        | 807/4109 [05:01<15:44,  3.50it/s]"
     ]
    },
    {
     "name": "stdout",
     "output_type": "stream",
     "text": [
      "Processing entry Delta Sigma Phi , commonly known as Delta Sig or D...\n"
     ]
    },
    {
     "name": "stderr",
     "output_type": "stream",
     "text": [
      "100%|██████████| 6159/6159 [00:00<00:00, 325907.33it/s]\n",
      " 20%|█▉        | 808/4109 [05:02<18:21,  3.00it/s]"
     ]
    },
    {
     "name": "stdout",
     "output_type": "stream",
     "text": [
      "Processing entry Carpentry is a skilled trade and a craft in which ...\n"
     ]
    },
    {
     "name": "stderr",
     "output_type": "stream",
     "text": [
      "100%|██████████| 2973/2973 [00:00<00:00, 683606.48it/s]\n",
      " 20%|█▉        | 809/4109 [05:02<17:41,  3.11it/s]"
     ]
    },
    {
     "name": "stdout",
     "output_type": "stream",
     "text": [
      "Processing entry Seyyed Mehdi Tabatabaei Shirazi was an Iranian Shi...\n"
     ]
    },
    {
     "name": "stderr",
     "output_type": "stream",
     "text": [
      "100%|██████████| 94/94 [00:00<00:00, 172469.19it/s]\n"
     ]
    },
    {
     "name": "stdout",
     "output_type": "stream",
     "text": [
      "Processing entry Flowerdew is a surname. Notable people with the su...\n"
     ]
    },
    {
     "name": "stderr",
     "output_type": "stream",
     "text": [
      "100%|██████████| 67/67 [00:00<00:00, 274432.00it/s]\n"
     ]
    },
    {
     "name": "stdout",
     "output_type": "stream",
     "text": [
      "Processing entry The ajka a is the Serbian national hat or cap. Tra...\n"
     ]
    },
    {
     "name": "stderr",
     "output_type": "stream",
     "text": [
      "100%|██████████| 798/798 [00:00<00:00, 650292.32it/s]\n",
      " 20%|█▉        | 812/4109 [05:02<10:09,  5.41it/s]"
     ]
    },
    {
     "name": "stdout",
     "output_type": "stream",
     "text": [
      "Processing entry Laredo is a city in and the county seat of Webb Co...\n"
     ]
    },
    {
     "name": "stderr",
     "output_type": "stream",
     "text": [
      "100%|██████████| 10350/10350 [00:00<00:00, 224264.20it/s]\n",
      " 20%|█▉        | 813/4109 [05:03<17:29,  3.14it/s]"
     ]
    },
    {
     "name": "stdout",
     "output_type": "stream",
     "text": [
      "Processing entry Events in the year 1899 in Norway.  Incumbents Mon...\n"
     ]
    },
    {
     "name": "stderr",
     "output_type": "stream",
     "text": [
      "100%|██████████| 587/587 [00:00<00:00, 357233.96it/s]\n"
     ]
    },
    {
     "name": "stdout",
     "output_type": "stream",
     "text": [
      "Processing entry Mildred Trotter was an American pioneer as a foren...\n"
     ]
    },
    {
     "name": "stderr",
     "output_type": "stream",
     "text": [
      "100%|██████████| 683/683 [00:00<00:00, 300756.92it/s]\n",
      " 20%|█▉        | 815/4109 [05:03<12:42,  4.32it/s]"
     ]
    },
    {
     "name": "stdout",
     "output_type": "stream",
     "text": [
      "Processing entry Cornelis Kees de Jager was a Dutch astronomer who ...\n"
     ]
    },
    {
     "name": "stderr",
     "output_type": "stream",
     "text": [
      "100%|██████████| 1339/1339 [00:00<00:00, 506052.72it/s]\n",
      " 20%|█▉        | 816/4109 [05:04<11:51,  4.63it/s]"
     ]
    },
    {
     "name": "stdout",
     "output_type": "stream",
     "text": [
      "Processing entry Sir George Gabriel Stokes, 1st Baronet, was an Iri...\n"
     ]
    },
    {
     "name": "stderr",
     "output_type": "stream",
     "text": [
      "100%|██████████| 3839/3839 [00:00<00:00, 844447.93it/s]\n",
      " 20%|█▉        | 817/4109 [05:04<13:21,  4.11it/s]"
     ]
    },
    {
     "name": "stdout",
     "output_type": "stream",
     "text": [
      "Processing entry London is the capital and largest city of England ...\n"
     ]
    },
    {
     "name": "stderr",
     "output_type": "stream",
     "text": [
      "100%|██████████| 16868/16868 [00:00<00:00, 219187.37it/s]\n",
      " 20%|█▉        | 818/4109 [05:05<29:03,  1.89it/s]"
     ]
    },
    {
     "name": "stdout",
     "output_type": "stream",
     "text": [
      "Processing entry Charles Proteus Steinmetz was a German born Americ...\n"
     ]
    },
    {
     "name": "stderr",
     "output_type": "stream",
     "text": [
      "100%|██████████| 2522/2522 [00:00<00:00, 406316.15it/s]\n",
      " 20%|█▉        | 819/4109 [05:06<24:36,  2.23it/s]"
     ]
    },
    {
     "name": "stdout",
     "output_type": "stream",
     "text": [
      "Processing entry A variety of types of electrical transformer are m...\n"
     ]
    },
    {
     "name": "stderr",
     "output_type": "stream",
     "text": [
      "100%|██████████| 5821/5821 [00:00<00:00, 757266.95it/s]\n",
      " 20%|█▉        | 820/4109 [05:06<25:07,  2.18it/s]"
     ]
    },
    {
     "name": "stdout",
     "output_type": "stream",
     "text": [
      "Processing entry 1920 was a leap year starting on Thursday of the G...\n"
     ]
    },
    {
     "name": "stderr",
     "output_type": "stream",
     "text": [
      "100%|██████████| 9041/9041 [00:00<00:00, 64967.53it/s]\n",
      " 20%|█▉        | 821/4109 [05:07<33:29,  1.64it/s]"
     ]
    },
    {
     "name": "stdout",
     "output_type": "stream",
     "text": [
      "Processing entry The Indian national calendar, sometimes called the...\n"
     ]
    },
    {
     "name": "stderr",
     "output_type": "stream",
     "text": [
      "100%|██████████| 1148/1148 [00:00<00:00, 291133.74it/s]\n",
      " 20%|██        | 822/4109 [05:07<25:39,  2.14it/s]"
     ]
    },
    {
     "name": "stdout",
     "output_type": "stream",
     "text": [
      "Processing entry The year 1899 in architecture involved some signif...\n"
     ]
    },
    {
     "name": "stderr",
     "output_type": "stream",
     "text": [
      "100%|██████████| 409/409 [00:00<00:00, 201891.30it/s]\n"
     ]
    },
    {
     "name": "stdout",
     "output_type": "stream",
     "text": [
      "Processing entry Suret , also known as Assyrian or Chaldean, refers...\n"
     ]
    },
    {
     "name": "stderr",
     "output_type": "stream",
     "text": [
      "100%|██████████| 6617/6617 [00:00<00:00, 309202.53it/s]\n",
      " 20%|██        | 824/4109 [05:08<21:10,  2.59it/s]"
     ]
    },
    {
     "name": "stdout",
     "output_type": "stream",
     "text": [
      "Processing entry Morgan, Grenfell Co. was a leading London based in...\n"
     ]
    },
    {
     "name": "stderr",
     "output_type": "stream",
     "text": [
      "100%|██████████| 2114/2114 [00:00<00:00, 456273.28it/s]\n",
      " 20%|██        | 825/4109 [05:08<17:56,  3.05it/s]"
     ]
    },
    {
     "name": "stdout",
     "output_type": "stream",
     "text": [
      "Processing entry John Drake Sloat was a commodore in the United Sta...\n"
     ]
    },
    {
     "name": "stderr",
     "output_type": "stream",
     "text": [
      "100%|██████████| 704/704 [00:00<00:00, 324446.77it/s]\n",
      " 20%|██        | 826/4109 [05:08<14:47,  3.70it/s]"
     ]
    },
    {
     "name": "stdout",
     "output_type": "stream",
     "text": [
      "Processing entry The Institute of Electrical and Electronics Engine...\n"
     ]
    },
    {
     "name": "stderr",
     "output_type": "stream",
     "text": [
      "100%|██████████| 1458/1458 [00:00<00:00, 650909.55it/s]\n",
      " 20%|██        | 827/4109 [05:08<13:06,  4.17it/s]"
     ]
    },
    {
     "name": "stdout",
     "output_type": "stream",
     "text": [
      "Processing entry Louis XVI was the last King of France before the f...\n"
     ]
    },
    {
     "name": "stderr",
     "output_type": "stream",
     "text": [
      "100%|██████████| 8701/8701 [00:00<00:00, 263819.21it/s]\n",
      " 20%|██        | 828/4109 [05:09<20:50,  2.62it/s]"
     ]
    },
    {
     "name": "stdout",
     "output_type": "stream",
     "text": [
      "Processing entry Danish television dramas have come to represent an...\n"
     ]
    },
    {
     "name": "stderr",
     "output_type": "stream",
     "text": [
      "100%|██████████| 1414/1414 [00:00<00:00, 839692.18it/s]\n",
      " 20%|██        | 829/4109 [05:09<17:15,  3.17it/s]"
     ]
    },
    {
     "name": "stdout",
     "output_type": "stream",
     "text": [
      "Processing entry Daniel Domingo Salamanca Urey was a Bolivian polit...\n"
     ]
    },
    {
     "name": "stderr",
     "output_type": "stream",
     "text": [
      "100%|██████████| 1090/1090 [00:00<00:00, 962887.82it/s]\n",
      " 20%|██        | 830/4109 [05:09<14:21,  3.81it/s]"
     ]
    },
    {
     "name": "stdout",
     "output_type": "stream",
     "text": [
      "Processing entry July 5 is the 186th day of the year in the Gregori...\n"
     ]
    },
    {
     "name": "stderr",
     "output_type": "stream",
     "text": [
      "100%|██████████| 4224/4224 [00:00<00:00, 175785.73it/s]\n",
      " 20%|██        | 831/4109 [05:10<18:20,  2.98it/s]"
     ]
    },
    {
     "name": "stdout",
     "output_type": "stream",
     "text": [
      "Processing entry 1948 was a leap year starting on Thursday of the G...\n"
     ]
    },
    {
     "name": "stderr",
     "output_type": "stream",
     "text": [
      "100%|██████████| 10681/10681 [00:00<00:00, 68511.87it/s]\n",
      " 20%|██        | 832/4109 [05:11<33:07,  1.65it/s]"
     ]
    },
    {
     "name": "stdout",
     "output_type": "stream",
     "text": [
      "Processing entry This article covers worldwide diplomacy and, more ...\n"
     ]
    },
    {
     "name": "stderr",
     "output_type": "stream",
     "text": [
      "100%|██████████| 24423/24423 [00:00<00:00, 243810.54it/s]\n",
      " 20%|██        | 833/4109 [05:13<59:31,  1.09s/it]"
     ]
    },
    {
     "name": "stdout",
     "output_type": "stream",
     "text": [
      "Processing entry Der Kongress tanzt is a German musical comedy film...\n"
     ]
    },
    {
     "name": "stderr",
     "output_type": "stream",
     "text": [
      "100%|██████████| 749/749 [00:00<00:00, 1002723.81it/s]\n"
     ]
    },
    {
     "name": "stdout",
     "output_type": "stream",
     "text": [
      "Processing entry 1920 was a leap year starting on Thursday of the G...\n"
     ]
    },
    {
     "name": "stderr",
     "output_type": "stream",
     "text": [
      "100%|██████████| 9041/9041 [00:00<00:00, 106929.42it/s]\n",
      " 20%|██        | 835/4109 [05:14<44:17,  1.23it/s]"
     ]
    },
    {
     "name": "stdout",
     "output_type": "stream",
     "text": [
      "Processing entry 1880 was a leap year starting on Thursday of the G...\n"
     ]
    },
    {
     "name": "stderr",
     "output_type": "stream",
     "text": [
      "100%|██████████| 2490/2490 [00:00<00:00, 97425.48it/s]\n",
      " 20%|██        | 836/4109 [05:14<36:33,  1.49it/s]"
     ]
    },
    {
     "name": "stdout",
     "output_type": "stream",
     "text": [
      "Processing entry 1860 was a leap year starting on Sunday of the Gre...\n"
     ]
    },
    {
     "name": "stderr",
     "output_type": "stream",
     "text": [
      "100%|██████████| 2404/2404 [00:00<00:00, 157834.62it/s]\n",
      " 20%|██        | 837/4109 [05:15<30:02,  1.81it/s]"
     ]
    },
    {
     "name": "stdout",
     "output_type": "stream",
     "text": [
      "Processing entry Charles Latour Rogier was a Belgian liberal states...\n"
     ]
    },
    {
     "name": "stderr",
     "output_type": "stream",
     "text": [
      "100%|██████████| 1401/1401 [00:00<00:00, 501255.64it/s]\n",
      " 20%|██        | 838/4109 [05:15<24:11,  2.25it/s]"
     ]
    },
    {
     "name": "stdout",
     "output_type": "stream",
     "text": [
      "Processing entry April 13 is the 103rd day of the year in the Grego...\n"
     ]
    },
    {
     "name": "stderr",
     "output_type": "stream",
     "text": [
      "100%|██████████| 3520/3520 [00:00<00:00, 243080.00it/s]\n",
      " 20%|██        | 839/4109 [05:15<23:57,  2.27it/s]"
     ]
    },
    {
     "name": "stdout",
     "output_type": "stream",
     "text": [
      "Processing entry Duke of York Island is a mountainous ice free isla...\n"
     ]
    },
    {
     "name": "stderr",
     "output_type": "stream",
     "text": [
      "100%|██████████| 178/178 [00:00<00:00, 310172.88it/s]\n"
     ]
    },
    {
     "name": "stdout",
     "output_type": "stream",
     "text": [
      "Processing entry Ghanshyam Das Birla was an Indian businessman and ...\n"
     ]
    },
    {
     "name": "stderr",
     "output_type": "stream",
     "text": [
      "100%|██████████| 987/987 [00:00<00:00, 398784.13it/s]\n",
      " 20%|██        | 841/4109 [05:15<15:04,  3.61it/s]"
     ]
    },
    {
     "name": "stdout",
     "output_type": "stream",
     "text": [
      "Processing entry 1870 was a common year starting on Saturday of the...\n"
     ]
    },
    {
     "name": "stderr",
     "output_type": "stream",
     "text": [
      "100%|██████████| 2919/2919 [00:00<00:00, 215507.09it/s]\n",
      " 20%|██        | 842/4109 [05:16<15:44,  3.46it/s]"
     ]
    },
    {
     "name": "stdout",
     "output_type": "stream",
     "text": [
      "Processing entry 1815 was a common year starting on Sunday of the G...\n"
     ]
    },
    {
     "name": "stderr",
     "output_type": "stream",
     "text": [
      "100%|██████████| 2214/2214 [00:00<00:00, 386666.77it/s]\n",
      " 21%|██        | 843/4109 [05:16<14:25,  3.77it/s]"
     ]
    },
    {
     "name": "stdout",
     "output_type": "stream",
     "text": [
      "Processing entry Joseph Le Brix was a French aviator and a capitain...\n"
     ]
    },
    {
     "name": "stderr",
     "output_type": "stream",
     "text": [
      "100%|██████████| 1553/1553 [00:00<00:00, 420513.50it/s]\n",
      " 21%|██        | 844/4109 [05:16<13:51,  3.92it/s]"
     ]
    },
    {
     "name": "stdout",
     "output_type": "stream",
     "text": [
      "Processing entry James Stuart Gilmore III is an American politician...\n"
     ]
    },
    {
     "name": "stderr",
     "output_type": "stream",
     "text": [
      "100%|██████████| 3186/3186 [00:00<00:00, 987879.98it/s]\n",
      " 21%|██        | 845/4109 [05:16<14:08,  3.85it/s]"
     ]
    },
    {
     "name": "stdout",
     "output_type": "stream",
     "text": [
      "Processing entry Missouri is a state in the Midwestern region of th...\n"
     ]
    },
    {
     "name": "stderr",
     "output_type": "stream",
     "text": [
      "100%|██████████| 11128/11128 [00:00<00:00, 303759.82it/s]\n",
      " 21%|██        | 846/4109 [05:17<26:22,  2.06it/s]"
     ]
    },
    {
     "name": "stdout",
     "output_type": "stream",
     "text": [
      "Processing entry Grenada gr NAY d ; Grenadian Creole French: Gwenad...\n"
     ]
    },
    {
     "name": "stderr",
     "output_type": "stream",
     "text": [
      "100%|██████████| 5704/5704 [00:00<00:00, 529603.53it/s]\n",
      " 21%|██        | 847/4109 [05:18<28:48,  1.89it/s]"
     ]
    },
    {
     "name": "stdout",
     "output_type": "stream",
     "text": [
      "Processing entry Croatia , kroh AY sh ; Croatian: Hrvatska, pronoun...\n"
     ]
    },
    {
     "name": "stderr",
     "output_type": "stream",
     "text": [
      "100%|██████████| 11387/11387 [00:00<00:00, 457713.18it/s]\n",
      " 21%|██        | 848/4109 [05:19<38:41,  1.40it/s]"
     ]
    },
    {
     "name": "stdout",
     "output_type": "stream",
     "text": [
      "Processing entry The Nanakshahi calendar is a tropical solar calend...\n"
     ]
    },
    {
     "name": "stderr",
     "output_type": "stream",
     "text": [
      "100%|██████████| 2158/2158 [00:00<00:00, 1064609.27it/s]\n",
      " 21%|██        | 849/4109 [05:19<31:00,  1.75it/s]"
     ]
    },
    {
     "name": "stdout",
     "output_type": "stream",
     "text": [
      "Processing entry Ross Loos Medical Group was a comprehensive prepai...\n"
     ]
    },
    {
     "name": "stderr",
     "output_type": "stream",
     "text": [
      "100%|██████████| 713/713 [00:00<00:00, 674456.19it/s]\n"
     ]
    },
    {
     "name": "stdout",
     "output_type": "stream",
     "text": [
      "Processing entry Karl Emil Malmelin was a Finnish farmworker and ma...\n"
     ]
    },
    {
     "name": "stderr",
     "output_type": "stream",
     "text": [
      "100%|██████████| 227/227 [00:00<00:00, 328539.34it/s]\n",
      " 21%|██        | 851/4109 [05:20<19:22,  2.80it/s]"
     ]
    },
    {
     "name": "stdout",
     "output_type": "stream",
     "text": [
      "Processing entry The Ottoman Empire , also known as the Turkish Emp...\n"
     ]
    },
    {
     "name": "stderr",
     "output_type": "stream",
     "text": [
      "100%|██████████| 16647/16647 [00:00<00:00, 355182.97it/s]\n",
      " 21%|██        | 852/4109 [05:21<35:30,  1.53it/s]"
     ]
    },
    {
     "name": "stdout",
     "output_type": "stream",
     "text": [
      "Processing entry 1830: The Game of Railroads and Robber Barons is a...\n"
     ]
    },
    {
     "name": "stderr",
     "output_type": "stream",
     "text": [
      "100%|██████████| 396/396 [00:00<00:00, 1225789.21it/s]\n"
     ]
    },
    {
     "name": "stdout",
     "output_type": "stream",
     "text": [
      "Processing entry Mount Kenya is the highest mountain in Kenya and t...\n"
     ]
    },
    {
     "name": "stderr",
     "output_type": "stream",
     "text": [
      "100%|██████████| 7353/7353 [00:00<00:00, 523905.03it/s]\n",
      " 21%|██        | 854/4109 [05:22<28:58,  1.87it/s]"
     ]
    },
    {
     "name": "stdout",
     "output_type": "stream",
     "text": [
      "Processing entry Princess Maria Aloisia Josephine Consolata Immacul...\n"
     ]
    },
    {
     "name": "stderr",
     "output_type": "stream",
     "text": [
      "100%|██████████| 535/535 [00:00<00:00, 234747.63it/s]\n"
     ]
    },
    {
     "name": "stdout",
     "output_type": "stream",
     "text": [
      "Processing entry Madge Bellamy was an American stage and film actre...\n"
     ]
    },
    {
     "name": "stderr",
     "output_type": "stream",
     "text": [
      "100%|██████████| 2333/2333 [00:00<00:00, 319061.96it/s]\n",
      " 21%|██        | 856/4109 [05:22<21:25,  2.53it/s]"
     ]
    },
    {
     "name": "stdout",
     "output_type": "stream",
     "text": [
      "Processing entry Martha M. Place was an American murderer and the f...\n"
     ]
    },
    {
     "name": "stderr",
     "output_type": "stream",
     "text": [
      "100%|██████████| 701/701 [00:00<00:00, 271587.58it/s]\n"
     ]
    },
    {
     "name": "stdout",
     "output_type": "stream",
     "text": [
      "Processing entry An airship or dirigible balloon is a type of aeros...\n"
     ]
    },
    {
     "name": "stderr",
     "output_type": "stream",
     "text": [
      "100%|██████████| 12351/12351 [00:00<00:00, 634011.95it/s]\n",
      " 21%|██        | 858/4109 [05:23<25:00,  2.17it/s]"
     ]
    },
    {
     "name": "stdout",
     "output_type": "stream",
     "text": [
      "Processing entry 1870 was a common year starting on Saturday of the...\n"
     ]
    },
    {
     "name": "stderr",
     "output_type": "stream",
     "text": [
      "100%|██████████| 2919/2919 [00:00<00:00, 181361.54it/s]\n",
      " 21%|██        | 859/4109 [05:24<22:51,  2.37it/s]"
     ]
    },
    {
     "name": "stdout",
     "output_type": "stream",
     "text": [
      "Processing entry The University of Kansas is a public research univ...\n"
     ]
    },
    {
     "name": "stderr",
     "output_type": "stream",
     "text": [
      "100%|██████████| 3601/3601 [00:00<00:00, 319553.34it/s]\n",
      " 21%|██        | 860/4109 [05:24<22:11,  2.44it/s]"
     ]
    },
    {
     "name": "stdout",
     "output_type": "stream",
     "text": [
      "Processing entry N sij rvi is a lake 95 metres above sea level, in ...\n"
     ]
    },
    {
     "name": "stderr",
     "output_type": "stream",
     "text": [
      "100%|██████████| 419/419 [00:00<00:00, 274724.62it/s]\n"
     ]
    },
    {
     "name": "stdout",
     "output_type": "stream",
     "text": [
      "Processing entry Gualtiero De Angelis was an Italian actor and voic...\n"
     ]
    },
    {
     "name": "stderr",
     "output_type": "stream",
     "text": [
      "100%|██████████| 320/320 [00:00<00:00, 118829.33it/s]\n",
      " 21%|██        | 862/4109 [05:24<14:49,  3.65it/s]"
     ]
    },
    {
     "name": "stdout",
     "output_type": "stream",
     "text": [
      "Processing entry Ernst Werner Siemens was a German electrical engin...\n"
     ]
    },
    {
     "name": "stderr",
     "output_type": "stream",
     "text": [
      "100%|██████████| 1352/1352 [00:00<00:00, 965882.99it/s]\n",
      " 21%|██        | 863/4109 [05:24<13:10,  4.11it/s]"
     ]
    },
    {
     "name": "stdout",
     "output_type": "stream",
     "text": [
      "Processing entry Three phase electric power is a common type of alt...\n"
     ]
    },
    {
     "name": "stderr",
     "output_type": "stream",
     "text": [
      "100%|██████████| 5283/5283 [00:00<00:00, 568618.85it/s]\n",
      " 21%|██        | 864/4109 [05:25<16:38,  3.25it/s]"
     ]
    },
    {
     "name": "stdout",
     "output_type": "stream",
     "text": [
      "Processing entry 1861 was a common year starting on Tuesday of the ...\n"
     ]
    },
    {
     "name": "stderr",
     "output_type": "stream",
     "text": [
      "100%|██████████| 3676/3676 [00:00<00:00, 216618.59it/s]\n",
      " 21%|██        | 865/4109 [05:25<17:14,  3.14it/s]"
     ]
    },
    {
     "name": "stdout",
     "output_type": "stream",
     "text": [
      "Processing entry Carlos Pe a Romulo was a Filipino diplomat, states...\n"
     ]
    },
    {
     "name": "stderr",
     "output_type": "stream",
     "text": [
      "100%|██████████| 2208/2208 [00:00<00:00, 415833.29it/s]\n",
      " 21%|██        | 866/4109 [05:25<15:54,  3.40it/s]"
     ]
    },
    {
     "name": "stdout",
     "output_type": "stream",
     "text": [
      "Processing entry April 20 is the 110th day of the year in the Grego...\n"
     ]
    },
    {
     "name": "stderr",
     "output_type": "stream",
     "text": [
      "100%|██████████| 3012/3012 [00:00<00:00, 184152.70it/s]\n",
      " 21%|██        | 867/4109 [05:26<17:28,  3.09it/s]"
     ]
    },
    {
     "name": "stdout",
     "output_type": "stream",
     "text": [
      "Processing entry Samuel Pierpont Langley was an American aviation p...\n"
     ]
    },
    {
     "name": "stderr",
     "output_type": "stream",
     "text": [
      "100%|██████████| 2557/2557 [00:00<00:00, 507252.30it/s]\n",
      " 21%|██        | 868/4109 [05:26<16:20,  3.30it/s]"
     ]
    },
    {
     "name": "stdout",
     "output_type": "stream",
     "text": [
      "Processing entry This is a list of television related events that o...\n"
     ]
    },
    {
     "name": "stderr",
     "output_type": "stream",
     "text": [
      "100%|██████████| 30/30 [00:00<00:00, 111848.11it/s]\n"
     ]
    },
    {
     "name": "stdout",
     "output_type": "stream",
     "text": [
      "Processing entry 1969 was a common year starting on Wednesday of th...\n"
     ]
    },
    {
     "name": "stderr",
     "output_type": "stream",
     "text": [
      "100%|██████████| 11774/11774 [00:00<00:00, 37501.36it/s]\n",
      " 21%|██        | 870/4109 [05:28<28:45,  1.88it/s]"
     ]
    },
    {
     "name": "stdout",
     "output_type": "stream",
     "text": [
      "Processing entry July 4 is the 185th day of the year in the Gregori...\n"
     ]
    },
    {
     "name": "stderr",
     "output_type": "stream",
     "text": [
      "100%|██████████| 5288/5288 [00:00<00:00, 93719.15it/s]\n",
      " 21%|██        | 871/4109 [05:28<30:19,  1.78it/s]"
     ]
    },
    {
     "name": "stdout",
     "output_type": "stream",
     "text": [
      "Processing entry 1899 was a common year starting on Sunday of the G...\n"
     ]
    },
    {
     "name": "stderr",
     "output_type": "stream",
     "text": [
      "100%|██████████| 19857/19857 [00:00<00:00, 120617.55it/s]\n",
      " 21%|██        | 872/4109 [05:31<53:48,  1.00it/s]"
     ]
    },
    {
     "name": "stdout",
     "output_type": "stream",
     "text": [
      "Processing entry An enclave is a territory that is entirely surroun...\n"
     ]
    },
    {
     "name": "stderr",
     "output_type": "stream",
     "text": [
      "100%|██████████| 10287/10287 [00:00<00:00, 278213.92it/s]\n",
      " 21%|██        | 873/4109 [05:32<53:18,  1.01it/s]"
     ]
    },
    {
     "name": "stdout",
     "output_type": "stream",
     "text": [
      "Processing entry Pranav Dhanawade is an Indian cricketer from Kalya...\n"
     ]
    },
    {
     "name": "stderr",
     "output_type": "stream",
     "text": [
      "100%|██████████| 696/696 [00:00<00:00, 653511.44it/s]\n"
     ]
    },
    {
     "name": "stdout",
     "output_type": "stream",
     "text": [
      "Processing entry This article lists the heads of government of Liby...\n"
     ]
    },
    {
     "name": "stderr",
     "output_type": "stream",
     "text": [
      "100%|██████████| 172/172 [00:00<00:00, 190952.96it/s]\n",
      " 21%|██▏       | 875/4109 [05:32<31:20,  1.72it/s]"
     ]
    },
    {
     "name": "stdout",
     "output_type": "stream",
     "text": [
      "Processing entry Jack Robert Lousma is an American astronaut, aeron...\n"
     ]
    },
    {
     "name": "stderr",
     "output_type": "stream",
     "text": [
      "100%|██████████| 1578/1578 [00:00<00:00, 1033350.77it/s]\n",
      " 21%|██▏       | 876/4109 [05:32<25:24,  2.12it/s]"
     ]
    },
    {
     "name": "stdout",
     "output_type": "stream",
     "text": [
      "Processing entry Uganda , officially the Republic of Uganda , is a ...\n"
     ]
    },
    {
     "name": "stderr",
     "output_type": "stream",
     "text": [
      "100%|██████████| 11442/11442 [00:00<00:00, 376655.83it/s]\n",
      " 21%|██▏       | 877/4109 [05:33<31:56,  1.69it/s]"
     ]
    },
    {
     "name": "stdout",
     "output_type": "stream",
     "text": [
      "Processing entry Sir Henry James Sumner Maine, , was a British Whig...\n"
     ]
    },
    {
     "name": "stderr",
     "output_type": "stream",
     "text": [
      "100%|██████████| 2047/2047 [00:00<00:00, 451881.07it/s]\n",
      " 21%|██▏       | 878/4109 [05:33<26:29,  2.03it/s]"
     ]
    },
    {
     "name": "stdout",
     "output_type": "stream",
     "text": [
      "Processing entry Mona Bruns was an American actress on the stage, f...\n"
     ]
    },
    {
     "name": "stderr",
     "output_type": "stream",
     "text": [
      "100%|██████████| 340/340 [00:00<00:00, 318033.76it/s]\n"
     ]
    },
    {
     "name": "stdout",
     "output_type": "stream",
     "text": [
      "Processing entry In physics, the weber is the unit of magnetic flux...\n"
     ]
    },
    {
     "name": "stderr",
     "output_type": "stream",
     "text": [
      "100%|██████████| 701/701 [00:00<00:00, 718350.14it/s]\n",
      " 21%|██▏       | 880/4109 [05:33<16:45,  3.21it/s]"
     ]
    },
    {
     "name": "stdout",
     "output_type": "stream",
     "text": [
      "Processing entry The Waldorf Astoria New York is a luxury hotel in ...\n"
     ]
    },
    {
     "name": "stderr",
     "output_type": "stream",
     "text": [
      "100%|██████████| 11398/11398 [00:00<00:00, 436287.85it/s]\n",
      " 21%|██▏       | 881/4109 [05:34<27:08,  1.98it/s]"
     ]
    },
    {
     "name": "stdout",
     "output_type": "stream",
     "text": [
      "Processing entry Alexander Graham Bell was a Scottish born inventor...\n"
     ]
    },
    {
     "name": "stderr",
     "output_type": "stream",
     "text": [
      "100%|██████████| 11453/11453 [00:00<00:00, 661498.56it/s]\n",
      " 21%|██▏       | 882/4109 [05:35<33:26,  1.61it/s]"
     ]
    },
    {
     "name": "stdout",
     "output_type": "stream",
     "text": [
      "Processing entry Bryant Park is a 9.6 acre public park located in t...\n"
     ]
    },
    {
     "name": "stderr",
     "output_type": "stream",
     "text": [
      "100%|██████████| 6915/6915 [00:00<00:00, 784538.73it/s]\n",
      " 21%|██▏       | 883/4109 [05:36<33:11,  1.62it/s]"
     ]
    },
    {
     "name": "stdout",
     "output_type": "stream",
     "text": [
      "Processing entry Alice Frances Taaffe , known professionally as Ali...\n"
     ]
    },
    {
     "name": "stderr",
     "output_type": "stream",
     "text": [
      "100%|██████████| 1259/1259 [00:00<00:00, 616319.88it/s]\n",
      " 22%|██▏       | 884/4109 [05:36<26:10,  2.05it/s]"
     ]
    },
    {
     "name": "stdout",
     "output_type": "stream",
     "text": [
      "Processing entry 1900 was an exceptional common year starting on Mo...\n"
     ]
    },
    {
     "name": "stderr",
     "output_type": "stream",
     "text": [
      "100%|██████████| 6765/6765 [00:00<00:00, 180994.24it/s]\n",
      " 22%|██▏       | 885/4109 [05:37<30:47,  1.75it/s]"
     ]
    },
    {
     "name": "stdout",
     "output_type": "stream",
     "text": [
      "Processing entry The Spanish Constitution of 1876 , was the constit...\n"
     ]
    },
    {
     "name": "stderr",
     "output_type": "stream",
     "text": [
      "100%|██████████| 69/69 [00:00<00:00, 151999.46it/s]\n"
     ]
    },
    {
     "name": "stdout",
     "output_type": "stream",
     "text": [
      "Processing entry Consumer protection is the practice of safeguardin...\n"
     ]
    },
    {
     "name": "stderr",
     "output_type": "stream",
     "text": [
      "100%|██████████| 2757/2757 [00:00<00:00, 958847.11it/s]\n",
      " 22%|██▏       | 887/4109 [05:37<19:58,  2.69it/s]"
     ]
    },
    {
     "name": "stdout",
     "output_type": "stream",
     "text": [
      "Processing entry The All Cubans were a team of Cuban professional b...\n"
     ]
    },
    {
     "name": "stderr",
     "output_type": "stream",
     "text": [
      "100%|██████████| 729/729 [00:00<00:00, 476491.76it/s]\n"
     ]
    },
    {
     "name": "stdout",
     "output_type": "stream",
     "text": [
      "Processing entry Anna Cabot Quincy Waterston was a 19th century Ame...\n"
     ]
    },
    {
     "name": "stderr",
     "output_type": "stream",
     "text": [
      "100%|██████████| 770/770 [00:00<00:00, 26041.70it/s]\n",
      " 22%|██▏       | 889/4109 [05:37<14:19,  3.75it/s]"
     ]
    },
    {
     "name": "stdout",
     "output_type": "stream",
     "text": [
      "Processing entry Der Januskopf is a 1920 German silent film directe...\n"
     ]
    },
    {
     "name": "stderr",
     "output_type": "stream",
     "text": [
      "100%|██████████| 1014/1014 [00:00<00:00, 335544.32it/s]\n",
      " 22%|██▏       | 890/4109 [05:37<12:32,  4.28it/s]"
     ]
    },
    {
     "name": "stdout",
     "output_type": "stream",
     "text": [
      "Processing entry Czech , historically also Bohemian , is a West Sla...\n"
     ]
    },
    {
     "name": "stderr",
     "output_type": "stream",
     "text": [
      "100%|██████████| 6733/6733 [00:00<00:00, 1254954.84it/s]\n",
      " 22%|██▏       | 891/4109 [05:38<18:09,  2.95it/s]"
     ]
    },
    {
     "name": "stdout",
     "output_type": "stream",
     "text": [
      "Processing entry The Institute of Electrical and Electronics Engine...\n"
     ]
    },
    {
     "name": "stderr",
     "output_type": "stream",
     "text": [
      "100%|██████████| 1458/1458 [00:00<00:00, 548063.74it/s]\n",
      " 22%|██▏       | 892/4109 [05:38<15:31,  3.45it/s]"
     ]
    },
    {
     "name": "stdout",
     "output_type": "stream",
     "text": [
      "Processing entry Sir Isaac Newton was an English mathematician, phy...\n"
     ]
    },
    {
     "name": "stderr",
     "output_type": "stream",
     "text": [
      "100%|██████████| 9083/9083 [00:00<00:00, 676820.34it/s]\n",
      " 22%|██▏       | 893/4109 [05:39<23:38,  2.27it/s]"
     ]
    },
    {
     "name": "stdout",
     "output_type": "stream",
     "text": [
      "Processing entry Oliver Wendell Holmes Sr. was an American physicia...\n"
     ]
    },
    {
     "name": "stderr",
     "output_type": "stream",
     "text": [
      "100%|██████████| 8307/8307 [00:00<00:00, 695547.95it/s]\n",
      " 22%|██▏       | 894/4109 [05:40<27:55,  1.92it/s]"
     ]
    },
    {
     "name": "stdout",
     "output_type": "stream",
     "text": [
      "Processing entry The Institute of Electrical and Electronics Engine...\n"
     ]
    },
    {
     "name": "stderr",
     "output_type": "stream",
     "text": [
      "100%|██████████| 1458/1458 [00:00<00:00, 536617.69it/s]\n",
      " 22%|██▏       | 895/4109 [05:40<22:09,  2.42it/s]"
     ]
    },
    {
     "name": "stdout",
     "output_type": "stream",
     "text": [
      "Processing entry There have been 49 vice presidents of the United S...\n"
     ]
    },
    {
     "name": "stderr",
     "output_type": "stream",
     "text": [
      "100%|██████████| 780/780 [00:00<00:00, 515205.85it/s]\n"
     ]
    },
    {
     "name": "stdout",
     "output_type": "stream",
     "text": [
      "Processing entry A hex key is a simple driver for bolts or screws t...\n"
     ]
    },
    {
     "name": "stderr",
     "output_type": "stream",
     "text": [
      "100%|██████████| 1995/1995 [00:00<00:00, 720478.43it/s]\n",
      " 22%|██▏       | 897/4109 [05:40<15:04,  3.55it/s]"
     ]
    },
    {
     "name": "stdout",
     "output_type": "stream",
     "text": [
      "Processing entry In 1936, a constitutional crisis in the British Em...\n"
     ]
    },
    {
     "name": "stderr",
     "output_type": "stream",
     "text": [
      "100%|██████████| 5181/5181 [00:00<00:00, 1033515.13it/s]\n",
      " 22%|██▏       | 898/4109 [05:40<16:46,  3.19it/s]"
     ]
    },
    {
     "name": "stdout",
     "output_type": "stream",
     "text": [
      "Processing entry A creed, also known as a confession of faith, a sy...\n"
     ]
    },
    {
     "name": "stderr",
     "output_type": "stream",
     "text": [
      "100%|██████████| 2147/2147 [00:00<00:00, 248240.45it/s]\n",
      " 22%|██▏       | 899/4109 [05:41<15:05,  3.54it/s]"
     ]
    },
    {
     "name": "stdout",
     "output_type": "stream",
     "text": [
      "Processing entry The 1899 San Cir aco hurricane, also known as the ...\n"
     ]
    },
    {
     "name": "stderr",
     "output_type": "stream",
     "text": [
      "100%|██████████| 4878/4878 [00:00<00:00, 621161.42it/s]\n",
      " 22%|██▏       | 900/4109 [05:41<18:13,  2.94it/s]"
     ]
    },
    {
     "name": "stdout",
     "output_type": "stream",
     "text": [
      "Processing entry Edward Kennedy Duke Ellington was an American jazz...\n"
     ]
    },
    {
     "name": "stderr",
     "output_type": "stream",
     "text": [
      "100%|██████████| 8879/8879 [00:00<00:00, 653779.21it/s]\n",
      " 22%|██▏       | 901/4109 [05:42<24:06,  2.22it/s]"
     ]
    },
    {
     "name": "stdout",
     "output_type": "stream",
     "text": [
      "Processing entry Dechko Uzunov  was a Bulgarian painter. He was bor...\n"
     ]
    },
    {
     "name": "stderr",
     "output_type": "stream",
     "text": [
      "100%|██████████| 41/41 [00:00<00:00, 91666.56it/s]\n"
     ]
    },
    {
     "name": "stdout",
     "output_type": "stream",
     "text": [
      "Processing entry The New Territories is one of the three main regio...\n"
     ]
    },
    {
     "name": "stderr",
     "output_type": "stream",
     "text": [
      "100%|██████████| 1546/1546 [00:00<00:00, 621884.91it/s]\n",
      " 22%|██▏       | 903/4109 [05:42<15:39,  3.41it/s]"
     ]
    },
    {
     "name": "stdout",
     "output_type": "stream",
     "text": [
      "Processing entry The Patriarchate of Pe Monastery r ija ; Albanian:...\n"
     ]
    },
    {
     "name": "stderr",
     "output_type": "stream",
     "text": [
      "100%|██████████| 1357/1357 [00:00<00:00, 472181.06it/s]\n",
      " 22%|██▏       | 904/4109 [05:42<13:52,  3.85it/s]"
     ]
    },
    {
     "name": "stdout",
     "output_type": "stream",
     "text": [
      "Processing entry The Battle of Modder River was an engagement in th...\n"
     ]
    },
    {
     "name": "stderr",
     "output_type": "stream",
     "text": [
      "100%|██████████| 1312/1312 [00:00<00:00, 1280048.12it/s]\n",
      " 22%|██▏       | 905/4109 [05:42<12:57,  4.12it/s]"
     ]
    },
    {
     "name": "stdout",
     "output_type": "stream",
     "text": [
      "Processing entry Delancey may refer to: Delancey , British property...\n"
     ]
    },
    {
     "name": "stderr",
     "output_type": "stream",
     "text": [
      "100%|██████████| 102/102 [00:00<00:00, 111935.90it/s]\n"
     ]
    },
    {
     "name": "stdout",
     "output_type": "stream",
     "text": [
      "Processing entry October 10 is the 283rd day of the year in the Gre...\n"
     ]
    },
    {
     "name": "stderr",
     "output_type": "stream",
     "text": [
      "100%|██████████| 4689/4689 [00:00<00:00, 79994.03it/s]\n",
      " 22%|██▏       | 907/4109 [05:43<15:58,  3.34it/s]"
     ]
    },
    {
     "name": "stdout",
     "output_type": "stream",
     "text": [
      "Processing entry Harold Frank Bennett was an English actor, active ...\n"
     ]
    },
    {
     "name": "stderr",
     "output_type": "stream",
     "text": [
      "100%|██████████| 438/438 [00:00<00:00, 811083.95it/s]\n"
     ]
    },
    {
     "name": "stdout",
     "output_type": "stream",
     "text": [
      "Processing entry The Buddhist calendar is a set of lunisolar calend...\n"
     ]
    },
    {
     "name": "stderr",
     "output_type": "stream",
     "text": [
      "100%|██████████| 2224/2224 [00:00<00:00, 434877.95it/s]\n",
      " 22%|██▏       | 909/4109 [05:44<14:19,  3.72it/s]"
     ]
    },
    {
     "name": "stdout",
     "output_type": "stream",
     "text": [
      "Processing entry November 29 is the 333rd day of the year in the Gr...\n"
     ]
    },
    {
     "name": "stderr",
     "output_type": "stream",
     "text": [
      "100%|██████████| 3790/3790 [00:00<00:00, 71444.87it/s]\n",
      " 22%|██▏       | 910/4109 [05:44<18:19,  2.91it/s]"
     ]
    },
    {
     "name": "stdout",
     "output_type": "stream",
     "text": [
      "Processing entry Jumna was a 1,048 GRT iron hulled full rigged ship...\n"
     ]
    },
    {
     "name": "stderr",
     "output_type": "stream",
     "text": [
      "100%|██████████| 399/399 [00:00<00:00, 281549.01it/s]\n"
     ]
    },
    {
     "name": "stdout",
     "output_type": "stream",
     "text": [
      "Processing entry 1890 was a common year starting on Wednesday of th...\n"
     ]
    },
    {
     "name": "stderr",
     "output_type": "stream",
     "text": [
      "100%|██████████| 4042/4042 [00:00<00:00, 139336.71it/s]\n",
      " 22%|██▏       | 912/4109 [05:45<17:48,  2.99it/s]"
     ]
    },
    {
     "name": "stdout",
     "output_type": "stream",
     "text": [
      "Processing entry The Ukrainian Orthodox Church Kyiv Patriarchate , ...\n"
     ]
    },
    {
     "name": "stderr",
     "output_type": "stream",
     "text": [
      "100%|██████████| 2080/2080 [00:00<00:00, 630494.49it/s]\n",
      " 22%|██▏       | 913/4109 [05:45<16:13,  3.28it/s]"
     ]
    },
    {
     "name": "stdout",
     "output_type": "stream",
     "text": [
      "Processing entry Baron Lor nd E tv s de V s rosnam ny , also called...\n"
     ]
    },
    {
     "name": "stderr",
     "output_type": "stream",
     "text": [
      "100%|██████████| 1067/1067 [00:00<00:00, 1654462.98it/s]\n"
     ]
    },
    {
     "name": "stdout",
     "output_type": "stream",
     "text": [
      "Processing entry The Illinois Steel Company was an American steel p...\n"
     ]
    },
    {
     "name": "stderr",
     "output_type": "stream",
     "text": [
      "100%|██████████| 802/802 [00:00<00:00, 616425.11it/s]\n",
      " 22%|██▏       | 915/4109 [05:45<11:36,  4.58it/s]"
     ]
    },
    {
     "name": "stdout",
     "output_type": "stream",
     "text": [
      "Processing entry November 10 is the 314th day of the year in the Gr...\n"
     ]
    },
    {
     "name": "stderr",
     "output_type": "stream",
     "text": [
      "100%|██████████| 4805/4805 [00:00<00:00, 120986.88it/s]\n",
      " 22%|██▏       | 916/4109 [05:46<17:33,  3.03it/s]"
     ]
    },
    {
     "name": "stdout",
     "output_type": "stream",
     "text": [
      "Processing entry Lynmouth Lifeboat Station was the base for Royal N...\n"
     ]
    },
    {
     "name": "stderr",
     "output_type": "stream",
     "text": [
      "100%|██████████| 743/743 [00:00<00:00, 321374.43it/s]\n",
      " 22%|██▏       | 917/4109 [05:46<15:07,  3.52it/s]"
     ]
    },
    {
     "name": "stdout",
     "output_type": "stream",
     "text": [
      "Processing entry St. Martin's Press is a book publisher headquarter...\n"
     ]
    },
    {
     "name": "stderr",
     "output_type": "stream",
     "text": [
      "100%|██████████| 347/347 [00:00<00:00, 205481.22it/s]"
     ]
    },
    {
     "name": "stdout",
     "output_type": "stream",
     "text": [
      "Processing entry Jo o Maur cio Vanderlei or Wanderley, first and on...\n"
     ]
    },
    {
     "name": "stderr",
     "output_type": "stream",
     "text": [
      "\n",
      "100%|██████████| 238/238 [00:00<00:00, 44586.38it/s]\n"
     ]
    },
    {
     "name": "stdout",
     "output_type": "stream",
     "text": [
      "Processing entry 1969 was a common year starting on Wednesday of th...\n"
     ]
    },
    {
     "name": "stderr",
     "output_type": "stream",
     "text": [
      "100%|██████████| 11774/11774 [00:00<00:00, 59384.93it/s]\n",
      " 22%|██▏       | 920/4109 [05:48<23:30,  2.26it/s]"
     ]
    },
    {
     "name": "stdout",
     "output_type": "stream",
     "text": [
      "Processing entry Andrew Carnegie was a Scottish American industrial...\n"
     ]
    },
    {
     "name": "stderr",
     "output_type": "stream",
     "text": [
      "100%|██████████| 11989/11989 [00:00<00:00, 465429.89it/s]\n",
      " 22%|██▏       | 921/4109 [05:49<31:16,  1.70it/s]"
     ]
    },
    {
     "name": "stdout",
     "output_type": "stream",
     "text": [
      "Processing entry Charles XIII, or Carl XIII , was King of Sweden fr...\n"
     ]
    },
    {
     "name": "stderr",
     "output_type": "stream",
     "text": [
      "100%|██████████| 2720/2720 [00:00<00:00, 242615.46it/s]\n",
      " 22%|██▏       | 922/4109 [05:49<28:23,  1.87it/s]"
     ]
    },
    {
     "name": "stdout",
     "output_type": "stream",
     "text": [
      "Processing entry Heinrich Rudolf Hertz was a German physicist who f...\n"
     ]
    },
    {
     "name": "stderr",
     "output_type": "stream",
     "text": [
      "100%|██████████| 2510/2510 [00:00<00:00, 459845.51it/s]\n",
      " 22%|██▏       | 923/4109 [05:50<26:09,  2.03it/s]"
     ]
    },
    {
     "name": "stdout",
     "output_type": "stream",
     "text": [
      "Processing entry Mass media refers to a diverse array of media tech...\n"
     ]
    },
    {
     "name": "stderr",
     "output_type": "stream",
     "text": [
      "100%|██████████| 8030/8030 [00:00<00:00, 527283.93it/s]\n",
      " 22%|██▏       | 924/4109 [05:51<28:49,  1.84it/s]"
     ]
    },
    {
     "name": "stdout",
     "output_type": "stream",
     "text": [
      "Processing entry Gross register tonnage or gross registered tonnage...\n"
     ]
    },
    {
     "name": "stderr",
     "output_type": "stream",
     "text": [
      "100%|██████████| 312/312 [00:00<00:00, 347852.96it/s]\n"
     ]
    },
    {
     "name": "stdout",
     "output_type": "stream",
     "text": [
      "Processing entry Alaska  LAS k ; Russian:  , romanized: Alyaska; Al...\n"
     ]
    },
    {
     "name": "stderr",
     "output_type": "stream",
     "text": [
      "100%|██████████| 12319/12319 [00:00<00:00, 259089.15it/s]\n",
      " 23%|██▎       | 926/4109 [05:52<29:54,  1.77it/s]"
     ]
    },
    {
     "name": "stdout",
     "output_type": "stream",
     "text": [
      "Processing entry This article lists the Imerina monarchs, from the ...\n"
     ]
    },
    {
     "name": "stderr",
     "output_type": "stream",
     "text": [
      "100%|██████████| 358/358 [00:00<00:00, 646388.65it/s]\n"
     ]
    },
    {
     "name": "stdout",
     "output_type": "stream",
     "text": [
      "Processing entry Paterson is the largest city in and the county sea...\n"
     ]
    },
    {
     "name": "stderr",
     "output_type": "stream",
     "text": [
      "100%|██████████| 9367/9367 [00:00<00:00, 257694.12it/s]\n",
      " 23%|██▎       | 928/4109 [05:53<26:40,  1.99it/s]"
     ]
    },
    {
     "name": "stdout",
     "output_type": "stream",
     "text": [
      "Processing entry The .338 Lapua Magnum is a rimless, bottlenecked, ...\n"
     ]
    },
    {
     "name": "stderr",
     "output_type": "stream",
     "text": [
      "100%|██████████| 4577/4577 [00:00<00:00, 432693.88it/s]\n",
      " 23%|██▎       | 929/4109 [05:53<24:53,  2.13it/s]"
     ]
    },
    {
     "name": "stdout",
     "output_type": "stream",
     "text": [
      "Processing entry Polo is a ball game played on horseback, a traditi...\n"
     ]
    },
    {
     "name": "stderr",
     "output_type": "stream",
     "text": [
      "100%|██████████| 7167/7167 [00:00<00:00, 419418.70it/s]\n",
      " 23%|██▎       | 930/4109 [05:53<26:22,  2.01it/s]"
     ]
    },
    {
     "name": "stdout",
     "output_type": "stream",
     "text": [
      "Processing entry The following timeline tables list the discoveries...\n"
     ]
    },
    {
     "name": "stderr",
     "output_type": "stream",
     "text": [
      "100%|██████████| 5917/5917 [00:00<00:00, 400253.15it/s]\n",
      " 23%|██▎       | 931/4109 [05:54<27:18,  1.94it/s]"
     ]
    },
    {
     "name": "stdout",
     "output_type": "stream",
     "text": [
      "Processing entry The publications of the Institute of Electrical an...\n"
     ]
    },
    {
     "name": "stderr",
     "output_type": "stream",
     "text": [
      "100%|██████████| 163/163 [00:00<00:00, 46334.91it/s]\n"
     ]
    },
    {
     "name": "stdout",
     "output_type": "stream",
     "text": [
      "Processing entry The Monumento a los h roes de El Polvor n is a mon...\n"
     ]
    },
    {
     "name": "stderr",
     "output_type": "stream",
     "text": [
      "100%|██████████| 589/589 [00:00<00:00, 319426.57it/s]\n",
      " 23%|██▎       | 933/4109 [05:54<17:21,  3.05it/s]"
     ]
    },
    {
     "name": "stdout",
     "output_type": "stream",
     "text": [
      "Processing entry Lotus 1 2 3 is a discontinued spreadsheet program ...\n"
     ]
    },
    {
     "name": "stderr",
     "output_type": "stream",
     "text": [
      "100%|██████████| 4187/4187 [00:00<00:00, 1127981.94it/s]\n",
      " 23%|██▎       | 934/4109 [05:54<17:24,  3.04it/s]"
     ]
    },
    {
     "name": "stdout",
     "output_type": "stream",
     "text": [
      "Processing entry The American Physical Society is a not for profit ...\n"
     ]
    },
    {
     "name": "stderr",
     "output_type": "stream",
     "text": [
      "100%|██████████| 2148/2148 [00:00<00:00, 361256.06it/s]\n",
      " 23%|██▎       | 935/4109 [05:55<15:33,  3.40it/s]"
     ]
    },
    {
     "name": "stdout",
     "output_type": "stream",
     "text": [
      "Processing entry The New Hampshire presidential primary is the firs...\n"
     ]
    },
    {
     "name": "stderr",
     "output_type": "stream",
     "text": [
      "100%|██████████| 4013/4013 [00:00<00:00, 582594.65it/s]\n",
      " 23%|██▎       | 936/4109 [05:55<15:31,  3.41it/s]"
     ]
    },
    {
     "name": "stdout",
     "output_type": "stream",
     "text": [
      "Processing entry Wild Wild West is a 1999 American steampunk Wester...\n"
     ]
    },
    {
     "name": "stderr",
     "output_type": "stream",
     "text": [
      "100%|██████████| 3165/3165 [00:00<00:00, 828081.35it/s]\n",
      " 23%|██▎       | 937/4109 [05:55<14:51,  3.56it/s]"
     ]
    },
    {
     "name": "stdout",
     "output_type": "stream",
     "text": [
      "Processing entry March 27 is the 86th day of the year in the Gregor...\n"
     ]
    },
    {
     "name": "stderr",
     "output_type": "stream",
     "text": [
      "100%|██████████| 5024/5024 [00:00<00:00, 154241.63it/s]\n",
      " 23%|██▎       | 938/4109 [05:56<20:01,  2.64it/s]"
     ]
    },
    {
     "name": "stdout",
     "output_type": "stream",
     "text": [
      "Processing entry Margarito Flores Garc a was a priest of the Cathol...\n"
     ]
    },
    {
     "name": "stderr",
     "output_type": "stream",
     "text": [
      "100%|██████████| 523/523 [00:00<00:00, 419992.53it/s]\n"
     ]
    },
    {
     "name": "stdout",
     "output_type": "stream",
     "text": [
      "Processing entry Kazuno is a city located in Akita Prefecture, Japa...\n"
     ]
    },
    {
     "name": "stderr",
     "output_type": "stream",
     "text": [
      "100%|██████████| 650/650 [00:00<00:00, 289631.11it/s]\n",
      " 23%|██▎       | 940/4109 [05:56<12:40,  4.16it/s]"
     ]
    },
    {
     "name": "stdout",
     "output_type": "stream",
     "text": [
      "Processing entry Nikola Corporation is an American manufacturer of ...\n"
     ]
    },
    {
     "name": "stderr",
     "output_type": "stream",
     "text": [
      "100%|██████████| 2683/2683 [00:00<00:00, 934505.70it/s]\n",
      " 23%|██▎       | 941/4109 [05:56<12:07,  4.36it/s]"
     ]
    },
    {
     "name": "stdout",
     "output_type": "stream",
     "text": [
      "Processing entry John Wesley Snyder was an American businessman and...\n"
     ]
    },
    {
     "name": "stderr",
     "output_type": "stream",
     "text": [
      "100%|██████████| 1063/1063 [00:00<00:00, 535239.51it/s]\n"
     ]
    },
    {
     "name": "stdout",
     "output_type": "stream",
     "text": [
      "Processing entry The Keeper or Master of the Rolls and Records of t...\n"
     ]
    },
    {
     "name": "stderr",
     "output_type": "stream",
     "text": [
      "100%|██████████| 528/528 [00:00<00:00, 677867.31it/s]\n",
      " 23%|██▎       | 943/4109 [05:56<09:02,  5.83it/s]"
     ]
    },
    {
     "name": "stdout",
     "output_type": "stream",
     "text": [
      "Processing entry Marina Ripa di Meana was an Italian socialite, wri...\n"
     ]
    },
    {
     "name": "stderr",
     "output_type": "stream",
     "text": [
      "100%|██████████| 774/774 [00:00<00:00, 404585.16it/s]\n",
      " 23%|██▎       | 944/4109 [05:56<08:12,  6.43it/s]"
     ]
    },
    {
     "name": "stdout",
     "output_type": "stream",
     "text": [
      "Processing entry Hanover ; Low German: Hannober is the capital and ...\n"
     ]
    },
    {
     "name": "stderr",
     "output_type": "stream",
     "text": [
      "100%|██████████| 6742/6742 [00:00<00:00, 306955.82it/s]\n",
      " 23%|██▎       | 945/4109 [05:57<13:21,  3.95it/s]"
     ]
    },
    {
     "name": "stdout",
     "output_type": "stream",
     "text": [
      "Processing entry Hans Karl August Simon von Euler Chelpin was a Ger...\n"
     ]
    },
    {
     "name": "stderr",
     "output_type": "stream",
     "text": [
      "100%|██████████| 748/748 [00:00<00:00, 389586.41it/s]\n"
     ]
    },
    {
     "name": "stdout",
     "output_type": "stream",
     "text": [
      "Processing entry Fremantle  is a port city in Western Australia, lo...\n"
     ]
    },
    {
     "name": "stderr",
     "output_type": "stream",
     "text": [
      "100%|██████████| 5341/5341 [00:00<00:00, 804979.61it/s]\n",
      " 23%|██▎       | 947/4109 [05:58<13:40,  3.86it/s]"
     ]
    },
    {
     "name": "stdout",
     "output_type": "stream",
     "text": [
      "Processing entry In telecommunications, frequency division multiple...\n"
     ]
    },
    {
     "name": "stderr",
     "output_type": "stream",
     "text": [
      "100%|██████████| 1313/1313 [00:00<00:00, 705137.15it/s]\n",
      " 23%|██▎       | 948/4109 [05:58<12:34,  4.19it/s]"
     ]
    },
    {
     "name": "stdout",
     "output_type": "stream",
     "text": [
      "Processing entry 2008 was a leap year starting on Tuesday of the Gr...\n"
     ]
    },
    {
     "name": "stderr",
     "output_type": "stream",
     "text": [
      "100%|██████████| 3916/3916 [00:00<00:00, 126452.34it/s]\n",
      " 23%|██▎       | 949/4109 [05:58<14:34,  3.61it/s]"
     ]
    },
    {
     "name": "stdout",
     "output_type": "stream",
     "text": [
      "Processing entry Joseph William Martin Jr. was an American Republic...\n"
     ]
    },
    {
     "name": "stderr",
     "output_type": "stream",
     "text": [
      "100%|██████████| 2026/2026 [00:00<00:00, 445440.05it/s]\n",
      " 23%|██▎       | 950/4109 [05:58<13:17,  3.96it/s]"
     ]
    },
    {
     "name": "stdout",
     "output_type": "stream",
     "text": [
      "Processing entry Magalang, officially the Municipality of Magalang ...\n"
     ]
    },
    {
     "name": "stderr",
     "output_type": "stream",
     "text": [
      "100%|██████████| 1893/1893 [00:00<00:00, 567819.31it/s]\n",
      " 23%|██▎       | 951/4109 [05:58<12:02,  4.37it/s]"
     ]
    },
    {
     "name": "stdout",
     "output_type": "stream",
     "text": [
      "Processing entry Pljeskavica is a grilled dish consisting of a spic...\n"
     ]
    },
    {
     "name": "stderr",
     "output_type": "stream",
     "text": [
      "100%|██████████| 175/175 [00:00<00:00, 471421.45it/s]\n"
     ]
    },
    {
     "name": "stdout",
     "output_type": "stream",
     "text": [
      "Processing entry S, or s, is the nineteenth letter in the Modern En...\n"
     ]
    },
    {
     "name": "stderr",
     "output_type": "stream",
     "text": [
      "100%|██████████| 1457/1457 [00:00<00:00, 583510.07it/s]\n",
      " 23%|██▎       | 953/4109 [05:59<08:41,  6.05it/s]"
     ]
    },
    {
     "name": "stdout",
     "output_type": "stream",
     "text": [
      "Processing entry Jibanananda Das  was an Indian poet, writer, novel...\n"
     ]
    },
    {
     "name": "stderr",
     "output_type": "stream",
     "text": [
      "100%|██████████| 8527/8527 [00:00<00:00, 457748.81it/s]\n",
      " 23%|██▎       | 954/4109 [05:59<16:55,  3.11it/s]"
     ]
    },
    {
     "name": "stdout",
     "output_type": "stream",
     "text": [
      "Processing entry The Greco Turkish War of 1919 1922 was fought betw...\n"
     ]
    },
    {
     "name": "stderr",
     "output_type": "stream",
     "text": [
      "100%|██████████| 14603/14603 [00:00<00:00, 542659.38it/s]\n",
      " 23%|██▎       | 955/4109 [06:00<26:02,  2.02it/s]"
     ]
    },
    {
     "name": "stdout",
     "output_type": "stream",
     "text": [
      "Processing entry The year 1935 in television involved some signific...\n"
     ]
    },
    {
     "name": "stderr",
     "output_type": "stream",
     "text": [
      "100%|██████████| 504/504 [00:00<00:00, 357022.33it/s]\n"
     ]
    },
    {
     "name": "stdout",
     "output_type": "stream",
     "text": [
      "Processing entry Claude Chappe was a French inventor who in 1792 de...\n"
     ]
    },
    {
     "name": "stderr",
     "output_type": "stream",
     "text": [
      "100%|██████████| 967/967 [00:00<00:00, 652492.27it/s]\n",
      " 23%|██▎       | 957/4109 [06:01<16:33,  3.17it/s]"
     ]
    },
    {
     "name": "stdout",
     "output_type": "stream",
     "text": [
      "Processing entry In patent, industrial design rights and trademark ...\n"
     ]
    },
    {
     "name": "stderr",
     "output_type": "stream",
     "text": [
      "100%|██████████| 2162/2162 [00:00<00:00, 646750.25it/s]\n",
      " 23%|██▎       | 958/4109 [06:01<15:02,  3.49it/s]"
     ]
    },
    {
     "name": "stdout",
     "output_type": "stream",
     "text": [
      "Processing entry Pierre Marie Ren Ernest Waldeck Rousseau was a Fre...\n"
     ]
    },
    {
     "name": "stderr",
     "output_type": "stream",
     "text": [
      "100%|██████████| 1836/1836 [00:00<00:00, 1083238.45it/s]\n",
      " 23%|██▎       | 959/4109 [06:01<13:11,  3.98it/s]"
     ]
    },
    {
     "name": "stdout",
     "output_type": "stream",
     "text": [
      "Processing entry The Third Nepal Tibet War was fought from 1855 to ...\n"
     ]
    },
    {
     "name": "stderr",
     "output_type": "stream",
     "text": [
      "100%|██████████| 807/807 [00:00<00:00, 404107.37it/s]\n"
     ]
    },
    {
     "name": "stdout",
     "output_type": "stream",
     "text": [
      "Processing entry Parliamentary elections were held in Bulgaria on 2...\n"
     ]
    },
    {
     "name": "stderr",
     "output_type": "stream",
     "text": [
      "100%|██████████| 36/36 [00:00<00:00, 37384.24it/s]\n",
      " 23%|██▎       | 961/4109 [06:01<08:50,  5.94it/s]"
     ]
    },
    {
     "name": "stdout",
     "output_type": "stream",
     "text": [
      "Processing entry 1906 was a common year starting on Monday of the G...\n"
     ]
    },
    {
     "name": "stderr",
     "output_type": "stream",
     "text": [
      "100%|██████████| 3680/3680 [00:00<00:00, 172908.68it/s]\n"
     ]
    },
    {
     "name": "stdout",
     "output_type": "stream",
     "text": [
      "Processing entry The 180s decade ran from January 1, 180, to Decemb...\n"
     ]
    },
    {
     "name": "stderr",
     "output_type": "stream",
     "text": [
      "100%|██████████| 1611/1611 [00:00<00:00, 352056.67it/s]\n",
      " 23%|██▎       | 963/4109 [06:02<10:45,  4.88it/s]"
     ]
    },
    {
     "name": "stdout",
     "output_type": "stream",
     "text": [
      "Processing entry Nevil Shute Norway was an English novelist and aer...\n"
     ]
    },
    {
     "name": "stderr",
     "output_type": "stream",
     "text": [
      "100%|██████████| 3446/3446 [00:00<00:00, 343119.64it/s]\n",
      " 23%|██▎       | 964/4109 [06:02<11:33,  4.54it/s]"
     ]
    },
    {
     "name": "stdout",
     "output_type": "stream",
     "text": [
      "Processing entry Colorado Springs is a home rule municipality in, a...\n"
     ]
    },
    {
     "name": "stderr",
     "output_type": "stream",
     "text": [
      "100%|██████████| 5599/5599 [00:00<00:00, 554938.99it/s]\n",
      " 23%|██▎       | 965/4109 [06:02<14:20,  3.65it/s]"
     ]
    },
    {
     "name": "stdout",
     "output_type": "stream",
     "text": [
      "Processing entry The following events occurred in November 1970:  N...\n"
     ]
    },
    {
     "name": "stderr",
     "output_type": "stream",
     "text": [
      "100%|██████████| 6065/6065 [00:00<00:00, 226738.33it/s]\n",
      " 24%|██▎       | 966/4109 [06:03<19:24,  2.70it/s]"
     ]
    },
    {
     "name": "stdout",
     "output_type": "stream",
     "text": [
      "Processing entry Electricity generation is the process of generatin...\n"
     ]
    },
    {
     "name": "stderr",
     "output_type": "stream",
     "text": [
      "100%|██████████| 3114/3114 [00:00<00:00, 570451.72it/s]\n",
      " 24%|██▎       | 967/4109 [06:03<18:20,  2.86it/s]"
     ]
    },
    {
     "name": "stdout",
     "output_type": "stream",
     "text": [
      "Processing entry 1914 was a common year starting on Thursday of the...\n"
     ]
    },
    {
     "name": "stderr",
     "output_type": "stream",
     "text": [
      "100%|██████████| 8447/8447 [00:00<00:00, 190504.61it/s]\n",
      " 24%|██▎       | 968/4109 [06:04<23:53,  2.19it/s]"
     ]
    },
    {
     "name": "stdout",
     "output_type": "stream",
     "text": [
      "Processing entry April 5 is the 95th day of the year in the Gregori...\n"
     ]
    },
    {
     "name": "stderr",
     "output_type": "stream",
     "text": [
      "100%|██████████| 7512/7512 [00:00<00:00, 80620.68it/s]\n",
      " 24%|██▎       | 969/4109 [06:05<30:57,  1.69it/s]"
     ]
    },
    {
     "name": "stdout",
     "output_type": "stream",
     "text": [
      "Processing entry An expatriate is a person who resides outside thei...\n"
     ]
    },
    {
     "name": "stderr",
     "output_type": "stream",
     "text": [
      "100%|██████████| 3125/3125 [00:00<00:00, 469792.11it/s]\n",
      " 24%|██▎       | 970/4109 [06:05<26:16,  1.99it/s]"
     ]
    },
    {
     "name": "stdout",
     "output_type": "stream",
     "text": [
      "Processing entry The International System of Units, known by the in...\n"
     ]
    },
    {
     "name": "stderr",
     "output_type": "stream",
     "text": [
      "100%|██████████| 10174/10174 [00:00<00:00, 1406256.35it/s]\n",
      " 24%|██▎       | 971/4109 [06:06<28:31,  1.83it/s]"
     ]
    },
    {
     "name": "stdout",
     "output_type": "stream",
     "text": [
      "Processing entry Apportionment is the process by which seats in a l...\n"
     ]
    },
    {
     "name": "stderr",
     "output_type": "stream",
     "text": [
      "100%|██████████| 1560/1560 [00:00<00:00, 679451.12it/s]\n",
      " 24%|██▎       | 972/4109 [06:06<22:50,  2.29it/s]"
     ]
    },
    {
     "name": "stdout",
     "output_type": "stream",
     "text": [
      "Processing entry Meningie is a town on the south east side of Lake ...\n"
     ]
    },
    {
     "name": "stderr",
     "output_type": "stream",
     "text": [
      "100%|██████████| 716/716 [00:00<00:00, 570393.48it/s]\n"
     ]
    },
    {
     "name": "stdout",
     "output_type": "stream",
     "text": [
      "Processing entry The governor of Guam is the head of government of ...\n"
     ]
    },
    {
     "name": "stderr",
     "output_type": "stream",
     "text": [
      "100%|██████████| 1325/1325 [00:00<00:00, 636373.85it/s]\n",
      " 24%|██▎       | 974/4109 [06:06<14:49,  3.53it/s]"
     ]
    },
    {
     "name": "stdout",
     "output_type": "stream",
     "text": [
      "Processing entry Bertil Gotthard Ohlin  was a Swedish economist and...\n"
     ]
    },
    {
     "name": "stderr",
     "output_type": "stream",
     "text": [
      "100%|██████████| 1198/1198 [00:00<00:00, 895362.83it/s]\n",
      " 24%|██▎       | 975/4109 [06:06<12:53,  4.05it/s]"
     ]
    },
    {
     "name": "stdout",
     "output_type": "stream",
     "text": [
      "Processing entry IEEEXtreme is an annual hackathon and competitive ...\n"
     ]
    },
    {
     "name": "stderr",
     "output_type": "stream",
     "text": [
      "100%|██████████| 440/440 [00:00<00:00, 1228690.92it/s]\n"
     ]
    },
    {
     "name": "stdout",
     "output_type": "stream",
     "text": [
      "Processing entry The Saka , Shaka : , , aka; Sanskrit :  aka,  ka ,...\n"
     ]
    },
    {
     "name": "stderr",
     "output_type": "stream",
     "text": [
      "100%|██████████| 6908/6908 [00:00<00:00, 431286.41it/s]\n",
      " 24%|██▍       | 977/4109 [06:07<14:29,  3.60it/s]"
     ]
    },
    {
     "name": "stdout",
     "output_type": "stream",
     "text": [
      "Processing entry 1720 was a leap year starting on Monday of the Gre...\n"
     ]
    },
    {
     "name": "stderr",
     "output_type": "stream",
     "text": [
      "100%|██████████| 1814/1814 [00:00<00:00, 217876.56it/s]\n",
      " 24%|██▍       | 978/4109 [06:07<13:07,  3.98it/s]"
     ]
    },
    {
     "name": "stdout",
     "output_type": "stream",
     "text": [
      "Processing entry Polarization division multiplexing is a physical l...\n"
     ]
    },
    {
     "name": "stderr",
     "output_type": "stream",
     "text": [
      "100%|██████████| 1345/1345 [00:00<00:00, 638955.59it/s]\n",
      " 24%|██▍       | 979/4109 [06:07<11:43,  4.45it/s]"
     ]
    },
    {
     "name": "stdout",
     "output_type": "stream",
     "text": [
      "Processing entry Mramorje or Bagru a is a medieval necropolis, loca...\n"
     ]
    },
    {
     "name": "stderr",
     "output_type": "stream",
     "text": [
      "100%|██████████| 318/318 [00:00<00:00, 651582.16it/s]"
     ]
    },
    {
     "name": "stdout",
     "output_type": "stream",
     "text": [
      "Processing entry 1734 was a common year starting on Friday of the G...\n"
     ]
    },
    {
     "name": "stderr",
     "output_type": "stream",
     "text": [
      "\n",
      "100%|██████████| 1237/1237 [00:00<00:00, 250754.15it/s]\n",
      " 24%|██▍       | 981/4109 [06:07<08:56,  5.83it/s]"
     ]
    },
    {
     "name": "stdout",
     "output_type": "stream",
     "text": [
      "Processing entry 1848 was a leap year starting on Saturday of the G...\n"
     ]
    },
    {
     "name": "stderr",
     "output_type": "stream",
     "text": [
      "100%|██████████| 3642/3642 [00:00<00:00, 249879.85it/s]\n",
      " 24%|██▍       | 982/4109 [06:08<10:37,  4.91it/s]"
     ]
    },
    {
     "name": "stdout",
     "output_type": "stream",
     "text": [
      "Processing entry Auto racing is a motorsport involving the racing o...\n"
     ]
    },
    {
     "name": "stderr",
     "output_type": "stream",
     "text": [
      "100%|██████████| 5499/5499 [00:00<00:00, 299838.51it/s]\n",
      " 24%|██▍       | 983/4109 [06:08<13:02,  4.00it/s]"
     ]
    },
    {
     "name": "stdout",
     "output_type": "stream",
     "text": [
      "Processing entry The Teapot Dome scandal was a bribery scandal invo...\n"
     ]
    },
    {
     "name": "stderr",
     "output_type": "stream",
     "text": [
      "100%|██████████| 1293/1293 [00:00<00:00, 166005.54it/s]\n",
      " 24%|██▍       | 984/4109 [06:08<11:23,  4.57it/s]"
     ]
    },
    {
     "name": "stdout",
     "output_type": "stream",
     "text": [
      "Processing entry Cornwall is a historic county and ceremonial count...\n"
     ]
    },
    {
     "name": "stderr",
     "output_type": "stream",
     "text": [
      "100%|██████████| 9817/9817 [00:00<00:00, 246127.95it/s]\n",
      " 24%|██▍       | 985/4109 [06:09<18:46,  2.77it/s]"
     ]
    },
    {
     "name": "stdout",
     "output_type": "stream",
     "text": [
      "Processing entry Computer aided design is the use of computers to a...\n"
     ]
    },
    {
     "name": "stderr",
     "output_type": "stream",
     "text": [
      "100%|██████████| 2274/2274 [00:00<00:00, 578191.52it/s]\n",
      " 24%|██▍       | 986/4109 [06:09<16:42,  3.11it/s]"
     ]
    },
    {
     "name": "stdout",
     "output_type": "stream",
     "text": [
      "Processing entry Anne Isabella Noel Byron, 11th Baroness Wentworth ...\n"
     ]
    },
    {
     "name": "stderr",
     "output_type": "stream",
     "text": [
      "100%|██████████| 2330/2330 [00:00<00:00, 987643.08it/s]\n",
      " 24%|██▍       | 987/4109 [06:10<15:21,  3.39it/s]"
     ]
    },
    {
     "name": "stdout",
     "output_type": "stream",
     "text": [
      "Processing entry Oscar Zariski was a Russian born American mathemat...\n"
     ]
    },
    {
     "name": "stderr",
     "output_type": "stream",
     "text": [
      "100%|██████████| 1255/1255 [00:00<00:00, 452609.76it/s]\n",
      " 24%|██▍       | 988/4109 [06:10<12:42,  4.09it/s]"
     ]
    },
    {
     "name": "stdout",
     "output_type": "stream",
     "text": [
      "Processing entry A communication protocol is a system of rules that...\n"
     ]
    },
    {
     "name": "stderr",
     "output_type": "stream",
     "text": [
      "100%|██████████| 5322/5322 [00:00<00:00, 1084807.60it/s]\n",
      " 24%|██▍       | 989/4109 [06:10<14:58,  3.47it/s]"
     ]
    },
    {
     "name": "stdout",
     "output_type": "stream",
     "text": [
      "Processing entry Neutral Moresnet was a small Belgian Prussian cond...\n"
     ]
    },
    {
     "name": "stderr",
     "output_type": "stream",
     "text": [
      "100%|██████████| 1895/1895 [00:00<00:00, 614235.40it/s]\n",
      " 24%|██▍       | 990/4109 [06:10<13:18,  3.91it/s]"
     ]
    },
    {
     "name": "stdout",
     "output_type": "stream",
     "text": [
      "Processing entry January 1 or 1 January is the first day of the yea...\n"
     ]
    },
    {
     "name": "stderr",
     "output_type": "stream",
     "text": [
      "100%|██████████| 5383/5383 [00:00<00:00, 76224.80it/s]\n",
      " 24%|██▍       | 991/4109 [06:11<17:41,  2.94it/s]"
     ]
    },
    {
     "name": "stdout",
     "output_type": "stream",
     "text": [
      "Processing entry January 1 or 1 January is the first day of the yea...\n"
     ]
    },
    {
     "name": "stderr",
     "output_type": "stream",
     "text": [
      "100%|██████████| 5383/5383 [00:00<00:00, 116050.32it/s]\n",
      " 24%|██▍       | 992/4109 [06:11<21:11,  2.45it/s]"
     ]
    },
    {
     "name": "stdout",
     "output_type": "stream",
     "text": [
      "Processing entry The Principality of Montenegro was a principality ...\n"
     ]
    },
    {
     "name": "stderr",
     "output_type": "stream",
     "text": [
      "100%|██████████| 2745/2745 [00:00<00:00, 633926.03it/s]\n",
      " 24%|██▍       | 993/4109 [06:12<18:31,  2.80it/s]"
     ]
    },
    {
     "name": "stdout",
     "output_type": "stream",
     "text": [
      "Processing entry A teleprinter is an electromechanical device that ...\n"
     ]
    },
    {
     "name": "stderr",
     "output_type": "stream",
     "text": [
      "100%|██████████| 6147/6147 [00:00<00:00, 388195.42it/s]\n",
      " 24%|██▍       | 994/4109 [06:12<21:06,  2.46it/s]"
     ]
    },
    {
     "name": "stdout",
     "output_type": "stream",
     "text": [
      "Processing entry The Medal of Honor is the United States Armed Forc...\n"
     ]
    },
    {
     "name": "stderr",
     "output_type": "stream",
     "text": [
      "100%|██████████| 8412/8412 [00:00<00:00, 346225.79it/s]\n",
      " 24%|██▍       | 995/4109 [06:13<24:37,  2.11it/s]"
     ]
    },
    {
     "name": "stdout",
     "output_type": "stream",
     "text": [
      "Processing entry An application programming interface is a way for ...\n"
     ]
    },
    {
     "name": "stderr",
     "output_type": "stream",
     "text": [
      "100%|██████████| 3813/3813 [00:00<00:00, 501375.67it/s]\n",
      " 24%|██▍       | 996/4109 [06:13<21:55,  2.37it/s]"
     ]
    },
    {
     "name": "stdout",
     "output_type": "stream",
     "text": [
      "Processing entry Forensic science, also known as criminalistics, is...\n"
     ]
    },
    {
     "name": "stderr",
     "output_type": "stream",
     "text": [
      "100%|██████████| 6891/6891 [00:00<00:00, 180115.47it/s]\n",
      " 24%|██▍       | 997/4109 [06:14<24:34,  2.11it/s]"
     ]
    },
    {
     "name": "stdout",
     "output_type": "stream",
     "text": [
      "Processing entry Suez Waters USA Incorporated is an American water ...\n"
     ]
    },
    {
     "name": "stderr",
     "output_type": "stream",
     "text": [
      "100%|██████████| 1501/1501 [00:00<00:00, 1011999.73it/s]\n"
     ]
    },
    {
     "name": "stdout",
     "output_type": "stream",
     "text": [
      "Processing entry 1870 was a common year starting on Saturday of the...\n"
     ]
    },
    {
     "name": "stderr",
     "output_type": "stream",
     "text": [
      "100%|██████████| 2919/2919 [00:00<00:00, 218999.61it/s]\n",
      " 24%|██▍       | 999/4109 [06:14<17:58,  2.88it/s]"
     ]
    },
    {
     "name": "stdout",
     "output_type": "stream",
     "text": [
      "Processing entry 1796 was a leap year starting on Friday of the Gre...\n"
     ]
    },
    {
     "name": "stderr",
     "output_type": "stream",
     "text": [
      "100%|██████████| 2927/2927 [00:00<00:00, 461461.73it/s]\n",
      " 24%|██▍       | 1000/4109 [06:14<18:07,  2.86it/s]"
     ]
    },
    {
     "name": "stdout",
     "output_type": "stream",
     "text": [
      "Processing entry The metal oxide semiconductor field effect transis...\n"
     ]
    },
    {
     "name": "stderr",
     "output_type": "stream",
     "text": [
      "100%|██████████| 10250/10250 [00:00<00:00, 665680.07it/s]\n",
      " 24%|██▍       | 1001/4109 [06:15<23:01,  2.25it/s]"
     ]
    },
    {
     "name": "stdout",
     "output_type": "stream",
     "text": [
      "Processing entry Cendrillon is an opera described as a fairy tale i...\n"
     ]
    },
    {
     "name": "stderr",
     "output_type": "stream",
     "text": [
      "100%|██████████| 1775/1775 [00:00<00:00, 310929.23it/s]\n",
      " 24%|██▍       | 1002/4109 [06:15<20:01,  2.59it/s]"
     ]
    },
    {
     "name": "stdout",
     "output_type": "stream",
     "text": [
      "Processing entry May 15 is the 135th day of the year in the Gregori...\n"
     ]
    },
    {
     "name": "stderr",
     "output_type": "stream",
     "text": [
      "100%|██████████| 4381/4381 [00:00<00:00, 136234.03it/s]\n",
      " 24%|██▍       | 1003/4109 [06:16<21:35,  2.40it/s]"
     ]
    },
    {
     "name": "stdout",
     "output_type": "stream",
     "text": [
      "Processing entry The Anglo Japanese Treaty of Commerce and Navigati...\n"
     ]
    },
    {
     "name": "stderr",
     "output_type": "stream",
     "text": [
      "100%|██████████| 2694/2694 [00:00<00:00, 506588.43it/s]\n",
      " 24%|██▍       | 1004/4109 [06:16<18:02,  2.87it/s]"
     ]
    },
    {
     "name": "stdout",
     "output_type": "stream",
     "text": [
      "Processing entry Ernest Miller Hemingway was an American novelist, ...\n"
     ]
    },
    {
     "name": "stderr",
     "output_type": "stream",
     "text": [
      "100%|██████████| 10745/10745 [00:00<00:00, 376528.26it/s]\n",
      " 24%|██▍       | 1005/4109 [06:17<24:36,  2.10it/s]"
     ]
    },
    {
     "name": "stdout",
     "output_type": "stream",
     "text": [
      "Processing entry May 7 is the 127th day of the year in the Gregoria...\n"
     ]
    },
    {
     "name": "stderr",
     "output_type": "stream",
     "text": [
      "100%|██████████| 3747/3747 [00:00<00:00, 129775.37it/s]\n",
      " 24%|██▍       | 1006/4109 [06:17<25:06,  2.06it/s]"
     ]
    },
    {
     "name": "stdout",
     "output_type": "stream",
     "text": [
      "Processing entry Sir William Conyngham Greene, was a British diplom...\n"
     ]
    },
    {
     "name": "stderr",
     "output_type": "stream",
     "text": [
      "100%|██████████| 769/769 [00:00<00:00, 330304.12it/s]\n"
     ]
    },
    {
     "name": "stdout",
     "output_type": "stream",
     "text": [
      "Processing entry Sheikhu Ahmadu  was the Fulbe founder of the Massi...\n"
     ]
    },
    {
     "name": "stderr",
     "output_type": "stream",
     "text": [
      "100%|██████████| 1260/1260 [00:00<00:00, 561498.41it/s]\n",
      " 25%|██▍       | 1008/4109 [06:17<15:55,  3.25it/s]"
     ]
    },
    {
     "name": "stdout",
     "output_type": "stream",
     "text": [
      "Processing entry The Parliament of the United Kingdom is the suprem...\n"
     ]
    },
    {
     "name": "stderr",
     "output_type": "stream",
     "text": [
      "100%|██████████| 9573/9573 [00:00<00:00, 563522.04it/s]\n",
      " 25%|██▍       | 1009/4109 [06:18<19:46,  2.61it/s]"
     ]
    },
    {
     "name": "stdout",
     "output_type": "stream",
     "text": [
      "Processing entry Institutions are humanly devised structures of rul...\n"
     ]
    },
    {
     "name": "stderr",
     "output_type": "stream",
     "text": [
      "100%|██████████| 3995/3995 [00:00<00:00, 804969.47it/s]\n",
      " 25%|██▍       | 1010/4109 [06:18<18:44,  2.76it/s]"
     ]
    },
    {
     "name": "stdout",
     "output_type": "stream",
     "text": [
      "Processing entry Year 181 was a common year starting on Sunday of t...\n"
     ]
    },
    {
     "name": "stderr",
     "output_type": "stream",
     "text": [
      "100%|██████████| 163/163 [00:00<00:00, 242867.34it/s]\n"
     ]
    },
    {
     "name": "stdout",
     "output_type": "stream",
     "text": [
      "Processing entry May 5 is the 125th day of the year in the Gregoria...\n"
     ]
    },
    {
     "name": "stderr",
     "output_type": "stream",
     "text": [
      "100%|██████████| 3611/3611 [00:00<00:00, 110607.76it/s]\n",
      " 25%|██▍       | 1012/4109 [06:19<15:43,  3.28it/s]"
     ]
    },
    {
     "name": "stdout",
     "output_type": "stream",
     "text": [
      "Processing entry June 23 is the 174th day of the year in the Gregor...\n"
     ]
    },
    {
     "name": "stderr",
     "output_type": "stream",
     "text": [
      "100%|██████████| 4257/4257 [00:00<00:00, 171722.13it/s]\n",
      " 25%|██▍       | 1013/4109 [06:19<18:01,  2.86it/s]"
     ]
    },
    {
     "name": "stdout",
     "output_type": "stream",
     "text": [
      "Processing entry A goal is an idea of the future or desired result ...\n"
     ]
    },
    {
     "name": "stderr",
     "output_type": "stream",
     "text": [
      "100%|██████████| 2286/2286 [00:00<00:00, 755212.58it/s]\n",
      " 25%|██▍       | 1014/4109 [06:20<16:03,  3.21it/s]"
     ]
    },
    {
     "name": "stdout",
     "output_type": "stream",
     "text": [
      "Processing entry 1996 was a leap year starting on Monday of the Gre...\n"
     ]
    },
    {
     "name": "stderr",
     "output_type": "stream",
     "text": [
      "100%|██████████| 7925/7925 [00:00<00:00, 102931.45it/s]\n",
      " 25%|██▍       | 1015/4109 [06:20<23:13,  2.22it/s]"
     ]
    },
    {
     "name": "stdout",
     "output_type": "stream",
     "text": [
      "Processing entry The 1899 Carrabelle hurricane caused significant d...\n"
     ]
    },
    {
     "name": "stderr",
     "output_type": "stream",
     "text": [
      "100%|██████████| 1150/1150 [00:00<00:00, 570417.41it/s]\n",
      " 25%|██▍       | 1016/4109 [06:20<18:17,  2.82it/s]"
     ]
    },
    {
     "name": "stdout",
     "output_type": "stream",
     "text": [
      "Processing entry Noupoort is a small town in the eastern Karoo regi...\n"
     ]
    },
    {
     "name": "stderr",
     "output_type": "stream",
     "text": [
      "100%|██████████| 324/324 [00:00<00:00, 659686.65it/s]\n"
     ]
    },
    {
     "name": "stdout",
     "output_type": "stream",
     "text": [
      "Processing entry Humans are the most abundant and widespread specie...\n"
     ]
    },
    {
     "name": "stderr",
     "output_type": "stream",
     "text": [
      "100%|██████████| 9969/9969 [00:00<00:00, 667672.92it/s]\n",
      " 25%|██▍       | 1018/4109 [06:21<18:14,  2.82it/s]"
     ]
    },
    {
     "name": "stdout",
     "output_type": "stream",
     "text": [
      "Processing entry Djibouti, officially the Republic of Djibouti, is ...\n"
     ]
    },
    {
     "name": "stderr",
     "output_type": "stream",
     "text": [
      "100%|██████████| 10313/10313 [00:00<00:00, 359414.19it/s]\n",
      " 25%|██▍       | 1019/4109 [06:22<25:18,  2.03it/s]"
     ]
    },
    {
     "name": "stdout",
     "output_type": "stream",
     "text": [
      "Processing entry Events from the year 1929 in Scotland.  Incumbents...\n"
     ]
    },
    {
     "name": "stderr",
     "output_type": "stream",
     "text": [
      "100%|██████████| 588/588 [00:00<00:00, 319918.37it/s]\n"
     ]
    },
    {
     "name": "stdout",
     "output_type": "stream",
     "text": [
      "Processing entry Japan is an island country in East Asia. It is sit...\n"
     ]
    },
    {
     "name": "stderr",
     "output_type": "stream",
     "text": [
      "100%|██████████| 8971/8971 [00:00<00:00, 346908.66it/s]\n",
      " 25%|██▍       | 1021/4109 [06:23<21:48,  2.36it/s]"
     ]
    },
    {
     "name": "stdout",
     "output_type": "stream",
     "text": [
      "Processing entry Houghton University is a private Christian liberal...\n"
     ]
    },
    {
     "name": "stderr",
     "output_type": "stream",
     "text": [
      "100%|██████████| 1322/1322 [00:00<00:00, 342064.77it/s]\n",
      " 25%|██▍       | 1022/4109 [06:23<18:27,  2.79it/s]"
     ]
    },
    {
     "name": "stdout",
     "output_type": "stream",
     "text": [
      "Processing entry 1783 was a common year starting on Wednesday of th...\n"
     ]
    },
    {
     "name": "stderr",
     "output_type": "stream",
     "text": [
      "100%|██████████| 2015/2015 [00:00<00:00, 244298.96it/s]\n",
      " 25%|██▍       | 1023/4109 [06:23<16:34,  3.10it/s]"
     ]
    },
    {
     "name": "stdout",
     "output_type": "stream",
     "text": [
      "Processing entry 1969 was a common year starting on Wednesday of th...\n"
     ]
    },
    {
     "name": "stderr",
     "output_type": "stream",
     "text": [
      "100%|██████████| 11774/11774 [00:00<00:00, 84184.24it/s] \n",
      " 25%|██▍       | 1024/4109 [06:24<29:12,  1.76it/s]"
     ]
    },
    {
     "name": "stdout",
     "output_type": "stream",
     "text": [
      "Processing entry 1970 was a common year starting on Thursday of the...\n"
     ]
    },
    {
     "name": "stderr",
     "output_type": "stream",
     "text": [
      "100%|██████████| 8143/8143 [00:00<00:00, 87431.44it/s]\n",
      " 25%|██▍       | 1025/4109 [06:25<31:08,  1.65it/s]"
     ]
    },
    {
     "name": "stdout",
     "output_type": "stream",
     "text": [
      "Processing entry The United States of America , commonly known as t...\n"
     ]
    },
    {
     "name": "stderr",
     "output_type": "stream",
     "text": [
      "100%|██████████| 14079/14079 [00:00<00:00, 304936.72it/s]\n",
      " 25%|██▍       | 1026/4109 [06:26<35:39,  1.44it/s]"
     ]
    },
    {
     "name": "stdout",
     "output_type": "stream",
     "text": [
      "Processing entry This is a demography of the population of South Ko...\n"
     ]
    },
    {
     "name": "stderr",
     "output_type": "stream",
     "text": [
      "100%|██████████| 5040/5040 [00:00<00:00, 820433.60it/s]\n",
      " 25%|██▍       | 1027/4109 [06:26<30:41,  1.67it/s]"
     ]
    },
    {
     "name": "stdout",
     "output_type": "stream",
     "text": [
      "Processing entry September 12 is the 255th day of the year in the G...\n"
     ]
    },
    {
     "name": "stderr",
     "output_type": "stream",
     "text": [
      "100%|██████████| 4617/4617 [00:00<00:00, 136062.54it/s]\n",
      " 25%|██▌       | 1028/4109 [06:27<29:53,  1.72it/s]"
     ]
    },
    {
     "name": "stdout",
     "output_type": "stream",
     "text": [
      "Processing entry 1880 was a leap year starting on Thursday of the G...\n"
     ]
    },
    {
     "name": "stderr",
     "output_type": "stream",
     "text": [
      "100%|██████████| 2490/2490 [00:00<00:00, 241962.26it/s]\n",
      " 25%|██▌       | 1029/4109 [06:27<24:44,  2.08it/s]"
     ]
    },
    {
     "name": "stdout",
     "output_type": "stream",
     "text": [
      "Processing entry August 12 is the 224th day of the year in the Greg...\n"
     ]
    },
    {
     "name": "stderr",
     "output_type": "stream",
     "text": [
      "100%|██████████| 4286/4286 [00:00<00:00, 114628.87it/s]\n",
      " 25%|██▌       | 1030/4109 [06:28<25:14,  2.03it/s]"
     ]
    },
    {
     "name": "stdout",
     "output_type": "stream",
     "text": [
      "Processing entry Oklahoma ; Choctaw: Oklahumma oklah mma ; Cherokee...\n"
     ]
    },
    {
     "name": "stderr",
     "output_type": "stream",
     "text": [
      "100%|██████████| 11829/11829 [00:00<00:00, 370899.03it/s]\n",
      " 25%|██▌       | 1031/4109 [06:28<30:14,  1.70it/s]"
     ]
    },
    {
     "name": "stdout",
     "output_type": "stream",
     "text": [
      "Processing entry A pager is a wireless telecommunications device th...\n"
     ]
    },
    {
     "name": "stderr",
     "output_type": "stream",
     "text": [
      "100%|██████████| 2783/2783 [00:00<00:00, 619671.29it/s]\n",
      " 25%|██▌       | 1032/4109 [06:29<24:43,  2.07it/s]"
     ]
    },
    {
     "name": "stdout",
     "output_type": "stream",
     "text": [
      "Processing entry 1968 was a leap year starting on Monday of the Gre...\n"
     ]
    },
    {
     "name": "stderr",
     "output_type": "stream",
     "text": [
      "100%|██████████| 11066/11066 [00:00<00:00, 121161.14it/s]\n",
      " 25%|██▌       | 1033/4109 [06:30<36:26,  1.41it/s]"
     ]
    },
    {
     "name": "stdout",
     "output_type": "stream",
     "text": [
      "Processing entry February 2 is the 33rd day of the year in the Greg...\n"
     ]
    },
    {
     "name": "stderr",
     "output_type": "stream",
     "text": [
      "100%|██████████| 4975/4975 [00:00<00:00, 106110.67it/s]\n",
      " 25%|██▌       | 1034/4109 [06:31<34:03,  1.51it/s]"
     ]
    },
    {
     "name": "stdout",
     "output_type": "stream",
     "text": [
      "Processing entry A county corporate or corporate county was a type ...\n"
     ]
    },
    {
     "name": "stderr",
     "output_type": "stream",
     "text": [
      "100%|██████████| 1182/1182 [00:00<00:00, 564461.72it/s]\n"
     ]
    },
    {
     "name": "stdout",
     "output_type": "stream",
     "text": [
      "Processing entry The U.S.A. trilogy is a series of three novels by ...\n"
     ]
    },
    {
     "name": "stderr",
     "output_type": "stream",
     "text": [
      "100%|██████████| 1270/1270 [00:00<00:00, 520039.64it/s]\n",
      " 25%|██▌       | 1036/4109 [06:31<21:09,  2.42it/s]"
     ]
    },
    {
     "name": "stdout",
     "output_type": "stream",
     "text": [
      "Processing entry Joshua Lionel Cowen was an American electrical eng...\n"
     ]
    },
    {
     "name": "stderr",
     "output_type": "stream",
     "text": [
      "100%|██████████| 2297/2297 [00:00<00:00, 664618.95it/s]\n",
      " 25%|██▌       | 1037/4109 [06:31<18:26,  2.78it/s]"
     ]
    },
    {
     "name": "stdout",
     "output_type": "stream",
     "text": [
      "Processing entry The war of the currents was a series of events sur...\n"
     ]
    },
    {
     "name": "stderr",
     "output_type": "stream",
     "text": [
      "100%|██████████| 8812/8812 [00:00<00:00, 988452.26it/s]\n",
      " 25%|██▌       | 1038/4109 [06:32<23:23,  2.19it/s]"
     ]
    },
    {
     "name": "stdout",
     "output_type": "stream",
     "text": [
      "Processing entry The Hawaiian Kingdom, or Kingdom of Hawai i , was ...\n"
     ]
    },
    {
     "name": "stderr",
     "output_type": "stream",
     "text": [
      "100%|██████████| 5969/5969 [00:00<00:00, 412941.22it/s]\n",
      " 25%|██▌       | 1039/4109 [06:32<23:24,  2.19it/s]"
     ]
    },
    {
     "name": "stdout",
     "output_type": "stream",
     "text": [
      "Processing entry February 24 is the 55th day of the year in the Gre...\n"
     ]
    },
    {
     "name": "stderr",
     "output_type": "stream",
     "text": [
      "100%|██████████| 3716/3716 [00:00<00:00, 156741.22it/s]\n",
      " 25%|██▌       | 1040/4109 [06:33<23:03,  2.22it/s]"
     ]
    },
    {
     "name": "stdout",
     "output_type": "stream",
     "text": [
      "Processing entry The 1960s was a decade that began January 1, 1960 ...\n"
     ]
    },
    {
     "name": "stderr",
     "output_type": "stream",
     "text": [
      "100%|██████████| 13985/13985 [00:00<00:00, 322926.52it/s]\n",
      " 25%|██▌       | 1041/4109 [06:34<35:07,  1.46it/s]"
     ]
    },
    {
     "name": "stdout",
     "output_type": "stream",
     "text": [
      "Processing entry Op ra comique is a genre of French opera that cont...\n"
     ]
    },
    {
     "name": "stderr",
     "output_type": "stream",
     "text": [
      "100%|██████████| 1562/1562 [00:00<00:00, 598857.66it/s]\n",
      " 25%|██▌       | 1042/4109 [06:34<26:51,  1.90it/s]"
     ]
    },
    {
     "name": "stdout",
     "output_type": "stream",
     "text": [
      "Processing entry 1998 was a common year starting on Thursday of the...\n"
     ]
    },
    {
     "name": "stderr",
     "output_type": "stream",
     "text": [
      "100%|██████████| 5469/5469 [00:00<00:00, 148500.01it/s]\n",
      " 25%|██▌       | 1043/4109 [06:35<28:04,  1.82it/s]"
     ]
    },
    {
     "name": "stdout",
     "output_type": "stream",
     "text": [
      "Processing entry Behaviorism is a systematic approach to understand...\n"
     ]
    },
    {
     "name": "stderr",
     "output_type": "stream",
     "text": [
      "100%|██████████| 6402/6402 [00:00<00:00, 997768.07it/s]\n",
      " 25%|██▌       | 1044/4109 [06:35<29:52,  1.71it/s]"
     ]
    },
    {
     "name": "stdout",
     "output_type": "stream",
     "text": [
      "Processing entry Globe is a city in Gila County, Arizona, United St...\n"
     ]
    },
    {
     "name": "stderr",
     "output_type": "stream",
     "text": [
      "100%|██████████| 2657/2657 [00:00<00:00, 203961.74it/s]\n",
      " 25%|██▌       | 1045/4109 [06:35<24:28,  2.09it/s]"
     ]
    },
    {
     "name": "stdout",
     "output_type": "stream",
     "text": [
      "Processing entry A urinary tract infection is an infection that aff...\n"
     ]
    },
    {
     "name": "stderr",
     "output_type": "stream",
     "text": [
      "100%|██████████| 4139/4139 [00:00<00:00, 761948.04it/s]\n",
      " 25%|██▌       | 1046/4109 [06:36<21:55,  2.33it/s]"
     ]
    },
    {
     "name": "stdout",
     "output_type": "stream",
     "text": [
      "Processing entry Sylvester Pussycat, Sr. is a fictional character, ...\n"
     ]
    },
    {
     "name": "stderr",
     "output_type": "stream",
     "text": [
      "100%|██████████| 2401/2401 [00:00<00:00, 397855.72it/s]\n",
      " 25%|██▌       | 1047/4109 [06:36<18:38,  2.74it/s]"
     ]
    },
    {
     "name": "stdout",
     "output_type": "stream",
     "text": [
      "Processing entry Harry Bates was a British sculptor. He was elected...\n"
     ]
    },
    {
     "name": "stderr",
     "output_type": "stream",
     "text": [
      "100%|██████████| 967/967 [00:00<00:00, 475374.12it/s]\n"
     ]
    },
    {
     "name": "stdout",
     "output_type": "stream",
     "text": [
      "Processing entry John Joseph O'Neill , of the New York Herald Tribu...\n"
     ]
    },
    {
     "name": "stderr",
     "output_type": "stream",
     "text": [
      "100%|██████████| 159/159 [00:00<00:00, 323264.34it/s]\n",
      " 26%|██▌       | 1049/4109 [06:36<11:28,  4.44it/s]"
     ]
    },
    {
     "name": "stdout",
     "output_type": "stream",
     "text": [
      "Processing entry George Baldwin Selden was a patent lawyer and inve...\n"
     ]
    },
    {
     "name": "stderr",
     "output_type": "stream",
     "text": [
      "100%|██████████| 900/900 [00:00<00:00, 570998.88it/s]"
     ]
    },
    {
     "name": "stdout",
     "output_type": "stream",
     "text": [
      "Processing entry GE Power is an American energy technology company,...\n"
     ]
    },
    {
     "name": "stderr",
     "output_type": "stream",
     "text": [
      "\n",
      "100%|██████████| 793/793 [00:00<00:00, 390660.45it/s]\n",
      " 26%|██▌       | 1051/4109 [06:36<08:27,  6.02it/s]"
     ]
    },
    {
     "name": "stdout",
     "output_type": "stream",
     "text": [
      "Processing entry U.S. Figure Skating is the national governing body...\n"
     ]
    },
    {
     "name": "stderr",
     "output_type": "stream",
     "text": [
      "100%|██████████| 3136/3136 [00:00<00:00, 431539.94it/s]\n",
      " 26%|██▌       | 1052/4109 [06:37<09:46,  5.22it/s]"
     ]
    },
    {
     "name": "stdout",
     "output_type": "stream",
     "text": [
      "Processing entry Land, also called ground or dry land, is the solid...\n"
     ]
    },
    {
     "name": "stderr",
     "output_type": "stream",
     "text": [
      "100%|██████████| 7906/7906 [00:00<00:00, 1347974.29it/s]\n",
      " 26%|██▌       | 1053/4109 [06:37<15:30,  3.28it/s]"
     ]
    },
    {
     "name": "stdout",
     "output_type": "stream",
     "text": [
      "Processing entry The decimal numeral system is the standard system ...\n"
     ]
    },
    {
     "name": "stderr",
     "output_type": "stream",
     "text": [
      "100%|██████████| 3611/3611 [00:00<00:00, 713071.17it/s]\n",
      " 26%|██▌       | 1054/4109 [06:38<15:15,  3.34it/s]"
     ]
    },
    {
     "name": "stdout",
     "output_type": "stream",
     "text": [
      "Processing entry M.S. Dhoni: The Untold Story is a 2016 Indian Hind...\n"
     ]
    },
    {
     "name": "stderr",
     "output_type": "stream",
     "text": [
      "100%|██████████| 3944/3944 [00:00<00:00, 681315.28it/s]\n",
      " 26%|██▌       | 1055/4109 [06:38<15:00,  3.39it/s]"
     ]
    },
    {
     "name": "stdout",
     "output_type": "stream",
     "text": [
      "Processing entry The following events occurred in May 1956:  May 1,...\n"
     ]
    },
    {
     "name": "stderr",
     "output_type": "stream",
     "text": [
      "100%|██████████| 1619/1619 [00:00<00:00, 254366.88it/s]\n",
      " 26%|██▌       | 1056/4109 [06:38<12:47,  3.98it/s]"
     ]
    },
    {
     "name": "stdout",
     "output_type": "stream",
     "text": [
      "Processing entry This is a list of all reigning monarchs in the his...\n"
     ]
    },
    {
     "name": "stderr",
     "output_type": "stream",
     "text": [
      "100%|██████████| 1838/1838 [00:00<00:00, 527841.89it/s]\n",
      " 26%|██▌       | 1057/4109 [06:38<11:42,  4.34it/s]"
     ]
    },
    {
     "name": "stdout",
     "output_type": "stream",
     "text": [
      "Processing entry Jakob Herman Schell was a German philosopher and t...\n"
     ]
    },
    {
     "name": "stderr",
     "output_type": "stream",
     "text": [
      "100%|██████████| 797/797 [00:00<00:00, 340725.75it/s]\n"
     ]
    },
    {
     "name": "stdout",
     "output_type": "stream",
     "text": [
      "Processing entry This is a list of state leaders in the 19th centur...\n"
     ]
    },
    {
     "name": "stderr",
     "output_type": "stream",
     "text": [
      "100%|██████████| 14675/14675 [00:00<00:00, 49388.15it/s]\n",
      " 26%|██▌       | 1059/4109 [06:40<27:19,  1.86it/s]"
     ]
    },
    {
     "name": "stdout",
     "output_type": "stream",
     "text": [
      "Processing entry The Battle of Balantang, also known as the Second ...\n"
     ]
    },
    {
     "name": "stderr",
     "output_type": "stream",
     "text": [
      "100%|██████████| 143/143 [00:00<00:00, 468948.77it/s]\n"
     ]
    },
    {
     "name": "stdout",
     "output_type": "stream",
     "text": [
      "Processing entry Englewood is a city in Bergen County, New Jersey, ...\n"
     ]
    },
    {
     "name": "stderr",
     "output_type": "stream",
     "text": [
      "100%|██████████| 4069/4069 [00:00<00:00, 267292.45it/s]\n",
      " 26%|██▌       | 1061/4109 [06:40<20:15,  2.51it/s]"
     ]
    },
    {
     "name": "stdout",
     "output_type": "stream",
     "text": [
      "Processing entry Antonio Santi Giuseppe Meucci was an Italian inven...\n"
     ]
    },
    {
     "name": "stderr",
     "output_type": "stream",
     "text": [
      "100%|██████████| 5845/5845 [00:00<00:00, 445877.94it/s]\n",
      " 26%|██▌       | 1062/4109 [06:41<21:21,  2.38it/s]"
     ]
    },
    {
     "name": "stdout",
     "output_type": "stream",
     "text": [
      "Processing entry Store and forward is a telecommunications techniqu...\n"
     ]
    },
    {
     "name": "stderr",
     "output_type": "stream",
     "text": [
      "100%|██████████| 845/845 [00:00<00:00, 588442.12it/s]\n"
     ]
    },
    {
     "name": "stdout",
     "output_type": "stream",
     "text": [
      "Processing entry Charles W. Batchelor was an inventor and close ass...\n"
     ]
    },
    {
     "name": "stderr",
     "output_type": "stream",
     "text": [
      "100%|██████████| 718/718 [00:00<00:00, 447010.58it/s]\n",
      " 26%|██▌       | 1064/4109 [06:41<15:01,  3.38it/s]"
     ]
    },
    {
     "name": "stdout",
     "output_type": "stream",
     "text": [
      "Processing entry The New York Herald Tribune was a newspaper publis...\n"
     ]
    },
    {
     "name": "stderr",
     "output_type": "stream",
     "text": [
      "100%|██████████| 10150/10150 [00:00<00:00, 455040.09it/s]\n",
      " 26%|██▌       | 1065/4109 [06:42<19:21,  2.62it/s]"
     ]
    },
    {
     "name": "stdout",
     "output_type": "stream",
     "text": [
      "Processing entry The New York Central Railroad was a railroad prima...\n"
     ]
    },
    {
     "name": "stderr",
     "output_type": "stream",
     "text": [
      "100%|██████████| 6157/6157 [00:00<00:00, 465244.56it/s]\n",
      " 26%|██▌       | 1066/4109 [06:42<20:11,  2.51it/s]"
     ]
    },
    {
     "name": "stdout",
     "output_type": "stream",
     "text": [
      "Processing entry The Nikola Tesla Memorial Center is a cultural his...\n"
     ]
    },
    {
     "name": "stderr",
     "output_type": "stream",
     "text": [
      "100%|██████████| 431/431 [00:00<00:00, 432268.06it/s]\n"
     ]
    },
    {
     "name": "stdout",
     "output_type": "stream",
     "text": [
      "Processing entry The Hashemite Kingdom of Hejaz was a state in the ...\n"
     ]
    },
    {
     "name": "stderr",
     "output_type": "stream",
     "text": [
      "100%|██████████| 1060/1060 [00:00<00:00, 277560.38it/s]\n",
      " 26%|██▌       | 1068/4109 [06:42<13:39,  3.71it/s]"
     ]
    },
    {
     "name": "stdout",
     "output_type": "stream",
     "text": [
      "Processing entry The Democratic Party is one of the two major polit...\n"
     ]
    },
    {
     "name": "stderr",
     "output_type": "stream",
     "text": [
      "100%|██████████| 17737/17737 [00:00<00:00, 390185.72it/s]\n",
      " 26%|██▌       | 1069/4109 [06:44<24:20,  2.08it/s]"
     ]
    },
    {
     "name": "stdout",
     "output_type": "stream",
     "text": [
      "Processing entry Haxhi Zek Byberi mostly known as Haxhi Zeka was an...\n"
     ]
    },
    {
     "name": "stderr",
     "output_type": "stream",
     "text": [
      "100%|██████████| 1171/1171 [00:00<00:00, 475048.84it/s]\n",
      " 26%|██▌       | 1070/4109 [06:44<19:49,  2.55it/s]"
     ]
    },
    {
     "name": "stdout",
     "output_type": "stream",
     "text": [
      "Processing entry Alfred Lewis Vail was an American machinist and in...\n"
     ]
    },
    {
     "name": "stderr",
     "output_type": "stream",
     "text": [
      "100%|██████████| 1066/1066 [00:00<00:00, 403750.05it/s]"
     ]
    },
    {
     "name": "stdout",
     "output_type": "stream",
     "text": [
      "Processing entry Leopold II was the second King of the Belgians fro...\n"
     ]
    },
    {
     "name": "stderr",
     "output_type": "stream",
     "text": [
      "\n",
      "100%|██████████| 5454/5454 [00:00<00:00, 450079.37it/s]\n",
      " 26%|██▌       | 1072/4109 [06:44<17:22,  2.91it/s]"
     ]
    },
    {
     "name": "stdout",
     "output_type": "stream",
     "text": [
      "Processing entry Medicine Bow is a town in Carbon County, Wyoming, ...\n"
     ]
    },
    {
     "name": "stderr",
     "output_type": "stream",
     "text": [
      "100%|██████████| 852/852 [00:00<00:00, 399457.52it/s]\n"
     ]
    },
    {
     "name": "stdout",
     "output_type": "stream",
     "text": [
      "Processing entry The following events occurred in January 1941:  Ja...\n"
     ]
    },
    {
     "name": "stderr",
     "output_type": "stream",
     "text": [
      "100%|██████████| 3391/3391 [00:00<00:00, 353926.36it/s]\n",
      " 26%|██▌       | 1074/4109 [06:45<14:57,  3.38it/s]"
     ]
    },
    {
     "name": "stdout",
     "output_type": "stream",
     "text": [
      "Processing entry Includes coverage of New York Journal American and...\n"
     ]
    },
    {
     "name": "stderr",
     "output_type": "stream",
     "text": [
      "100%|██████████| 2308/2308 [00:00<00:00, 428604.16it/s]\n",
      " 26%|██▌       | 1075/4109 [06:45<13:32,  3.73it/s]"
     ]
    },
    {
     "name": "stdout",
     "output_type": "stream",
     "text": [
      "Processing entry The music of Mexico is very diverse and features a...\n"
     ]
    },
    {
     "name": "stderr",
     "output_type": "stream",
     "text": [
      "100%|██████████| 6150/6150 [00:00<00:00, 332161.14it/s]\n",
      " 26%|██▌       | 1076/4109 [06:45<15:22,  3.29it/s]"
     ]
    },
    {
     "name": "stdout",
     "output_type": "stream",
     "text": [
      "Processing entry Morgan, Grenfell Co. was a leading London based in...\n"
     ]
    },
    {
     "name": "stderr",
     "output_type": "stream",
     "text": [
      "100%|██████████| 2114/2114 [00:00<00:00, 614169.06it/s]\n",
      " 26%|██▌       | 1077/4109 [06:45<13:27,  3.75it/s]"
     ]
    },
    {
     "name": "stdout",
     "output_type": "stream",
     "text": [
      "Processing entry Alfred Milner, 1st Viscount Milner, was a British ...\n"
     ]
    },
    {
     "name": "stderr",
     "output_type": "stream",
     "text": [
      "100%|██████████| 11924/11924 [00:00<00:00, 414055.05it/s]\n",
      " 26%|██▌       | 1078/4109 [06:46<21:04,  2.40it/s]"
     ]
    },
    {
     "name": "stdout",
     "output_type": "stream",
     "text": [
      "Processing entry Ghazi Amanullah Khan was the sovereign of Afghanis...\n"
     ]
    },
    {
     "name": "stderr",
     "output_type": "stream",
     "text": [
      "100%|██████████| 2942/2942 [00:00<00:00, 416710.87it/s]\n",
      " 26%|██▋       | 1079/4109 [06:46<18:55,  2.67it/s]"
     ]
    },
    {
     "name": "stdout",
     "output_type": "stream",
     "text": [
      "Processing entry Columbia College is the oldest undergraduate colle...\n"
     ]
    },
    {
     "name": "stderr",
     "output_type": "stream",
     "text": [
      "100%|██████████| 2934/2934 [00:00<00:00, 356853.35it/s]\n",
      " 26%|██▋       | 1080/4109 [06:47<15:58,  3.16it/s]"
     ]
    },
    {
     "name": "stdout",
     "output_type": "stream",
     "text": [
      "Processing entry Angela Maria , the stage name of Abelim Maria da C...\n"
     ]
    },
    {
     "name": "stderr",
     "output_type": "stream",
     "text": [
      "100%|██████████| 244/244 [00:00<00:00, 255788.60it/s]\n",
      " 26%|██▋       | 1081/4109 [06:47<14:11,  3.55it/s]"
     ]
    },
    {
     "name": "stdout",
     "output_type": "stream",
     "text": [
      "Processing entry Frederik Willem de Klerk was a South African polit...\n"
     ]
    },
    {
     "name": "stderr",
     "output_type": "stream",
     "text": [
      "100%|██████████| 7164/7164 [00:00<00:00, 632203.37it/s]\n",
      " 26%|██▋       | 1082/4109 [06:47<17:50,  2.83it/s]"
     ]
    },
    {
     "name": "stdout",
     "output_type": "stream",
     "text": [
      "Processing entry Camille Jenatzy was a Belgian race car driver. He ...\n"
     ]
    },
    {
     "name": "stderr",
     "output_type": "stream",
     "text": [
      "100%|██████████| 315/315 [00:00<00:00, 349710.37it/s]\n"
     ]
    },
    {
     "name": "stdout",
     "output_type": "stream",
     "text": [
      "Processing entry The IEEE Professional Communication Society is a p...\n"
     ]
    },
    {
     "name": "stderr",
     "output_type": "stream",
     "text": [
      "100%|██████████| 227/227 [00:00<00:00, 55435.63it/s]\n"
     ]
    },
    {
     "name": "stdout",
     "output_type": "stream",
     "text": [
      "Processing entry Burial, also known as interment or inhumation, is ...\n"
     ]
    },
    {
     "name": "stderr",
     "output_type": "stream",
     "text": [
      "100%|██████████| 9157/9157 [00:00<00:00, 347926.35it/s]\n",
      " 26%|██▋       | 1085/4109 [06:48<15:06,  3.33it/s]"
     ]
    },
    {
     "name": "stdout",
     "output_type": "stream",
     "text": [
      "Processing entry Hammer Film Productions Ltd. is a British film pro...\n"
     ]
    },
    {
     "name": "stderr",
     "output_type": "stream",
     "text": [
      "100%|██████████| 8262/8262 [00:00<00:00, 749991.12it/s]\n",
      " 26%|██▋       | 1086/4109 [06:49<17:42,  2.85it/s]"
     ]
    },
    {
     "name": "stdout",
     "output_type": "stream",
     "text": [
      "Processing entry George Sylvester Viereck was a German American poe...\n"
     ]
    },
    {
     "name": "stderr",
     "output_type": "stream",
     "text": [
      "100%|██████████| 1792/1792 [00:00<00:00, 457467.61it/s]\n",
      " 26%|██▋       | 1087/4109 [06:49<16:44,  3.01it/s]"
     ]
    },
    {
     "name": "stdout",
     "output_type": "stream",
     "text": [
      "Processing entry Ahn Jae hyun is a South Korean model and actor. He...\n"
     ]
    },
    {
     "name": "stderr",
     "output_type": "stream",
     "text": [
      "100%|██████████| 634/634 [00:00<00:00, 563029.59it/s]\n"
     ]
    },
    {
     "name": "stdout",
     "output_type": "stream",
     "text": [
      "Processing entry The Tomb of the Unknown Soldier is a historic monu...\n"
     ]
    },
    {
     "name": "stderr",
     "output_type": "stream",
     "text": [
      "100%|██████████| 4816/4816 [00:00<00:00, 1131576.27it/s]\n",
      " 27%|██▋       | 1089/4109 [06:49<14:30,  3.47it/s]"
     ]
    },
    {
     "name": "stdout",
     "output_type": "stream",
     "text": [
      "Processing entry October 3 is the 276th day of the year in the Greg...\n"
     ]
    },
    {
     "name": "stderr",
     "output_type": "stream",
     "text": [
      "100%|██████████| 3609/3609 [00:00<00:00, 66384.43it/s]\n",
      " 27%|██▋       | 1090/4109 [06:50<16:06,  3.12it/s]"
     ]
    },
    {
     "name": "stdout",
     "output_type": "stream",
     "text": [
      "Processing entry July 4 is the 185th day of the year in the Gregori...\n"
     ]
    },
    {
     "name": "stderr",
     "output_type": "stream",
     "text": [
      "100%|██████████| 5288/5288 [00:00<00:00, 92210.48it/s]\n",
      " 27%|██▋       | 1091/4109 [06:50<20:35,  2.44it/s]"
     ]
    },
    {
     "name": "stdout",
     "output_type": "stream",
     "text": [
      "Processing entry The 28th Infantry Division is a unit of the Army N...\n"
     ]
    },
    {
     "name": "stderr",
     "output_type": "stream",
     "text": [
      "100%|██████████| 6976/6976 [00:00<00:00, 227196.22it/s]\n",
      " 27%|██▋       | 1092/4109 [06:51<23:31,  2.14it/s]"
     ]
    },
    {
     "name": "stdout",
     "output_type": "stream",
     "text": [
      "Processing entry Johanna Friederike Charlotte Dorothea Eleonore, Pr...\n"
     ]
    },
    {
     "name": "stderr",
     "output_type": "stream",
     "text": [
      "100%|██████████| 492/492 [00:00<00:00, 421142.36it/s]\n"
     ]
    },
    {
     "name": "stdout",
     "output_type": "stream",
     "text": [
      "Processing entry Charilaos Trikoupis was a Greek politician who ser...\n"
     ]
    },
    {
     "name": "stderr",
     "output_type": "stream",
     "text": [
      "100%|██████████| 1799/1799 [00:00<00:00, 1307494.87it/s]\n",
      " 27%|██▋       | 1094/4109 [06:51<15:28,  3.25it/s]"
     ]
    },
    {
     "name": "stdout",
     "output_type": "stream",
     "text": [
      "Processing entry Nikola Tesla was a Serbian American inventor, elec...\n"
     ]
    },
    {
     "name": "stderr",
     "output_type": "stream",
     "text": [
      "100%|██████████| 12971/12971 [00:00<00:00, 616898.94it/s]\n",
      " 27%|██▋       | 1095/4109 [06:52<21:56,  2.29it/s]"
     ]
    },
    {
     "name": "stdout",
     "output_type": "stream",
     "text": [
      "Processing entry An electric battery is a source of electric power ...\n"
     ]
    },
    {
     "name": "stderr",
     "output_type": "stream",
     "text": [
      "100%|██████████| 6116/6116 [00:00<00:00, 1542535.37it/s]\n",
      " 27%|██▋       | 1096/4109 [06:53<22:49,  2.20it/s]"
     ]
    },
    {
     "name": "stdout",
     "output_type": "stream",
     "text": [
      "Processing entry United States Steel Corporation, more commonly kno...\n"
     ]
    },
    {
     "name": "stderr",
     "output_type": "stream",
     "text": [
      "100%|██████████| 5407/5407 [00:00<00:00, 316828.75it/s]\n",
      " 27%|██▋       | 1097/4109 [06:53<20:28,  2.45it/s]"
     ]
    },
    {
     "name": "stdout",
     "output_type": "stream",
     "text": [
      "Processing entry Muskogee is the eleventh largest city in Oklahoma ...\n"
     ]
    },
    {
     "name": "stderr",
     "output_type": "stream",
     "text": [
      "100%|██████████| 3685/3685 [00:00<00:00, 268585.31it/s]\n",
      " 27%|██▋       | 1098/4109 [06:53<18:02,  2.78it/s]"
     ]
    },
    {
     "name": "stdout",
     "output_type": "stream",
     "text": [
      "Processing entry Petar Pera Bo ovi is a Serbian actor.  Selected fi...\n"
     ]
    },
    {
     "name": "stderr",
     "output_type": "stream",
     "text": [
      "100%|██████████| 20/20 [00:00<00:00, 46192.78it/s]\n"
     ]
    },
    {
     "name": "stdout",
     "output_type": "stream",
     "text": [
      "Processing entry Lexington Avenue, often colloquially abbreviated a...\n"
     ]
    },
    {
     "name": "stderr",
     "output_type": "stream",
     "text": [
      "100%|██████████| 1565/1565 [00:00<00:00, 62146.96it/s]\n",
      " 27%|██▋       | 1100/4109 [06:53<12:33,  3.99it/s]"
     ]
    },
    {
     "name": "stdout",
     "output_type": "stream",
     "text": [
      "Processing entry Fernand Gustave Gaston Labori was a French attorne...\n"
     ]
    },
    {
     "name": "stderr",
     "output_type": "stream",
     "text": [
      "100%|██████████| 342/342 [00:00<00:00, 210083.77it/s]\n"
     ]
    },
    {
     "name": "stdout",
     "output_type": "stream",
     "text": [
      "Processing entry A breed registry, also known as a herdbook, studbo...\n"
     ]
    },
    {
     "name": "stderr",
     "output_type": "stream",
     "text": [
      "100%|██████████| 2933/2933 [00:00<00:00, 768340.12it/s]\n",
      " 27%|██▋       | 1102/4109 [06:54<10:44,  4.67it/s]"
     ]
    },
    {
     "name": "stdout",
     "output_type": "stream",
     "text": [
      "Processing entry A submarine communications cable is a cable laid o...\n"
     ]
    },
    {
     "name": "stderr",
     "output_type": "stream",
     "text": [
      "100%|██████████| 8030/8030 [00:00<00:00, 457165.02it/s]\n",
      " 27%|██▋       | 1103/4109 [06:54<15:53,  3.15it/s]"
     ]
    },
    {
     "name": "stdout",
     "output_type": "stream",
     "text": [
      "Processing entry The fighting machine is one of the fictional machi...\n"
     ]
    },
    {
     "name": "stderr",
     "output_type": "stream",
     "text": [
      "100%|██████████| 1207/1207 [00:00<00:00, 375085.20it/s]\n",
      " 27%|██▋       | 1104/4109 [06:55<13:38,  3.67it/s]"
     ]
    },
    {
     "name": "stdout",
     "output_type": "stream",
     "text": [
      "Processing entry Events in the year 1899 in Portugal.  Incumbents M...\n"
     ]
    },
    {
     "name": "stderr",
     "output_type": "stream",
     "text": [
      "100%|██████████| 180/180 [00:00<00:00, 340231.96it/s]\n"
     ]
    },
    {
     "name": "stdout",
     "output_type": "stream",
     "text": [
      "Processing entry Water is an inorganic, transparent, tasteless, odo...\n"
     ]
    },
    {
     "name": "stderr",
     "output_type": "stream",
     "text": [
      "100%|██████████| 10584/10584 [00:00<00:00, 418576.16it/s]\n",
      " 27%|██▋       | 1106/4109 [06:55<15:26,  3.24it/s]"
     ]
    },
    {
     "name": "stdout",
     "output_type": "stream",
     "text": [
      "Processing entry An International Standard Serial Number is an eigh...\n"
     ]
    },
    {
     "name": "stderr",
     "output_type": "stream",
     "text": [
      "100%|██████████| 1739/1739 [00:00<00:00, 176015.22it/s]\n",
      " 27%|██▋       | 1107/4109 [06:55<13:29,  3.71it/s]"
     ]
    },
    {
     "name": "stdout",
     "output_type": "stream",
     "text": [
      "Processing entry Dry goods is a historic term describing the type o...\n"
     ]
    },
    {
     "name": "stderr",
     "output_type": "stream",
     "text": [
      "100%|██████████| 514/514 [00:00<00:00, 576744.85it/s]\n"
     ]
    },
    {
     "name": "stdout",
     "output_type": "stream",
     "text": [
      "Processing entry The 20th century began on January 1, 1901 , and en...\n"
     ]
    },
    {
     "name": "stderr",
     "output_type": "stream",
     "text": [
      "100%|██████████| 8540/8540 [00:00<00:00, 410635.87it/s]\n",
      " 27%|██▋       | 1109/4109 [06:56<14:25,  3.47it/s]"
     ]
    },
    {
     "name": "stdout",
     "output_type": "stream",
     "text": [
      "Processing entry The World Chess Championship is played to determin...\n"
     ]
    },
    {
     "name": "stderr",
     "output_type": "stream",
     "text": [
      "100%|██████████| 7058/7058 [00:00<00:00, 1121170.95it/s]\n",
      " 27%|██▋       | 1110/4109 [06:57<16:49,  2.97it/s]"
     ]
    },
    {
     "name": "stdout",
     "output_type": "stream",
     "text": [
      "Processing entry Anthropomorphism is the attribution of human trait...\n"
     ]
    },
    {
     "name": "stderr",
     "output_type": "stream",
     "text": [
      "100%|██████████| 5892/5892 [00:00<00:00, 531333.22it/s]\n",
      " 27%|██▋       | 1111/4109 [06:57<17:55,  2.79it/s]"
     ]
    },
    {
     "name": "stdout",
     "output_type": "stream",
     "text": [
      "Processing entry 1888 was a leap year starting on Sunday of the Gre...\n"
     ]
    },
    {
     "name": "stderr",
     "output_type": "stream",
     "text": [
      "100%|██████████| 4862/4862 [00:00<00:00, 145687.16it/s]\n",
      " 27%|██▋       | 1112/4109 [06:57<19:18,  2.59it/s]"
     ]
    },
    {
     "name": "stdout",
     "output_type": "stream",
     "text": [
      "Processing entry Klondike Haynes was an African American boxer bill...\n"
     ]
    },
    {
     "name": "stderr",
     "output_type": "stream",
     "text": [
      "100%|██████████| 784/784 [00:00<00:00, 956189.11it/s]\n"
     ]
    },
    {
     "name": "stdout",
     "output_type": "stream",
     "text": [
      "Processing entry The following events occurred in April 1940:  Apri...\n"
     ]
    },
    {
     "name": "stderr",
     "output_type": "stream",
     "text": [
      "100%|██████████| 3841/3841 [00:00<00:00, 201532.69it/s]\n",
      " 27%|██▋       | 1114/4109 [06:58<16:01,  3.11it/s]"
     ]
    },
    {
     "name": "stdout",
     "output_type": "stream",
     "text": [
      "Processing entry John Napier of Merchiston , nicknamed Marvellous M...\n"
     ]
    },
    {
     "name": "stderr",
     "output_type": "stream",
     "text": [
      "100%|██████████| 2512/2512 [00:00<00:00, 485511.80it/s]\n",
      " 27%|██▋       | 1115/4109 [06:58<15:58,  3.12it/s]"
     ]
    },
    {
     "name": "stdout",
     "output_type": "stream",
     "text": [
      "Processing entry Infrastructure is the set of facilities and system...\n"
     ]
    },
    {
     "name": "stderr",
     "output_type": "stream",
     "text": [
      "100%|██████████| 5269/5269 [00:00<00:00, 1505025.05it/s]\n",
      " 27%|██▋       | 1116/4109 [06:59<16:46,  2.97it/s]"
     ]
    },
    {
     "name": "stdout",
     "output_type": "stream",
     "text": [
      "Processing entry The following events occurred in October 1970:  Oc...\n"
     ]
    },
    {
     "name": "stderr",
     "output_type": "stream",
     "text": [
      "100%|██████████| 6161/6161 [00:00<00:00, 311744.28it/s]\n",
      " 27%|██▋       | 1117/4109 [06:59<19:35,  2.54it/s]"
     ]
    },
    {
     "name": "stdout",
     "output_type": "stream",
     "text": [
      "Processing entry 2244 Tesla, provisional designation 1952 UW1, is a...\n"
     ]
    },
    {
     "name": "stderr",
     "output_type": "stream",
     "text": [
      "100%|██████████| 357/357 [00:00<00:00, 493691.57it/s]\n"
     ]
    },
    {
     "name": "stdout",
     "output_type": "stream",
     "text": [
      "Processing entry Samuel Finley Breese Morse was an American invento...\n"
     ]
    },
    {
     "name": "stderr",
     "output_type": "stream",
     "text": [
      "100%|██████████| 6255/6255 [00:00<00:00, 555069.75it/s]\n",
      " 27%|██▋       | 1119/4109 [07:00<16:49,  2.96it/s]"
     ]
    },
    {
     "name": "stdout",
     "output_type": "stream",
     "text": [
      "Processing entry Louis Harold Gray FRS was an English physicist who...\n"
     ]
    },
    {
     "name": "stderr",
     "output_type": "stream",
     "text": [
      "100%|██████████| 243/243 [00:00<00:00, 349285.77it/s]\n"
     ]
    },
    {
     "name": "stdout",
     "output_type": "stream",
     "text": [
      "Processing entry 1806 was a common year starting on Wednesday of th...\n"
     ]
    },
    {
     "name": "stderr",
     "output_type": "stream",
     "text": [
      "100%|██████████| 1957/1957 [00:00<00:00, 187364.54it/s]\n",
      " 27%|██▋       | 1121/4109 [07:00<12:17,  4.05it/s]"
     ]
    },
    {
     "name": "stdout",
     "output_type": "stream",
     "text": [
      "Processing entry The Balkans , also known as the Balkan Peninsula, ...\n"
     ]
    },
    {
     "name": "stderr",
     "output_type": "stream",
     "text": [
      "100%|██████████| 7995/7995 [00:00<00:00, 400074.69it/s]\n",
      " 27%|██▋       | 1122/4109 [07:01<16:18,  3.05it/s]"
     ]
    },
    {
     "name": "stdout",
     "output_type": "stream",
     "text": [
      "Processing entry The National Defense Research Committee was an org...\n"
     ]
    },
    {
     "name": "stderr",
     "output_type": "stream",
     "text": [
      "100%|██████████| 1754/1754 [00:00<00:00, 474694.10it/s]\n",
      " 27%|██▋       | 1123/4109 [07:01<13:40,  3.64it/s]"
     ]
    },
    {
     "name": "stdout",
     "output_type": "stream",
     "text": [
      "Processing entry Edward Dean Adams was an American businessman, ban...\n"
     ]
    },
    {
     "name": "stderr",
     "output_type": "stream",
     "text": [
      "100%|██████████| 496/496 [00:00<00:00, 181075.36it/s]\n",
      " 27%|██▋       | 1124/4109 [07:01<11:31,  4.32it/s]"
     ]
    },
    {
     "name": "stdout",
     "output_type": "stream",
     "text": [
      "Processing entry The Chancellor of Germany, officially the Federal ...\n"
     ]
    },
    {
     "name": "stderr",
     "output_type": "stream",
     "text": [
      "100%|██████████| 4297/4297 [00:00<00:00, 587831.84it/s]\n",
      " 27%|██▋       | 1125/4109 [07:01<12:07,  4.10it/s]"
     ]
    },
    {
     "name": "stdout",
     "output_type": "stream",
     "text": [
      "Processing entry Leonardo Leo Najo Alan s was one of the first Mexi...\n"
     ]
    },
    {
     "name": "stderr",
     "output_type": "stream",
     "text": [
      "100%|██████████| 2431/2431 [00:00<00:00, 495931.57it/s]\n",
      " 27%|██▋       | 1126/4109 [07:01<11:25,  4.35it/s]"
     ]
    },
    {
     "name": "stdout",
     "output_type": "stream",
     "text": [
      "Processing entry 1810 was a common year starting on Monday of the G...\n"
     ]
    },
    {
     "name": "stderr",
     "output_type": "stream",
     "text": [
      "100%|██████████| 1886/1886 [00:00<00:00, 201150.83it/s]\n",
      " 27%|██▋       | 1127/4109 [07:01<10:31,  4.72it/s]"
     ]
    },
    {
     "name": "stdout",
     "output_type": "stream",
     "text": [
      "Processing entry General Electric Company is an American multinatio...\n"
     ]
    },
    {
     "name": "stderr",
     "output_type": "stream",
     "text": [
      "100%|██████████| 7830/7830 [00:00<00:00, 255398.21it/s]\n",
      " 27%|██▋       | 1128/4109 [07:02<14:31,  3.42it/s]"
     ]
    },
    {
     "name": "stdout",
     "output_type": "stream",
     "text": [
      "Processing entry San Andr s Hueyapan is a small town in the rural n...\n"
     ]
    },
    {
     "name": "stderr",
     "output_type": "stream",
     "text": [
      "100%|██████████| 1267/1267 [00:00<00:00, 415690.17it/s]\n",
      " 27%|██▋       | 1129/4109 [07:02<12:11,  4.08it/s]"
     ]
    },
    {
     "name": "stdout",
     "output_type": "stream",
     "text": [
      "Processing entry The year 1972 in archaeology involved some signifi...\n"
     ]
    },
    {
     "name": "stderr",
     "output_type": "stream",
     "text": [
      "100%|██████████| 408/408 [00:00<00:00, 205979.30it/s]\n"
     ]
    },
    {
     "name": "stdout",
     "output_type": "stream",
     "text": [
      "Processing entry The history of Berlin starts with its foundation i...\n"
     ]
    },
    {
     "name": "stderr",
     "output_type": "stream",
     "text": [
      "100%|██████████| 9023/9023 [00:00<00:00, 520595.42it/s]\n",
      " 28%|██▊       | 1131/4109 [07:03<14:51,  3.34it/s]"
     ]
    },
    {
     "name": "stdout",
     "output_type": "stream",
     "text": [
      "Processing entry 1815 was a common year starting on Sunday of the G...\n"
     ]
    },
    {
     "name": "stderr",
     "output_type": "stream",
     "text": [
      "100%|██████████| 2214/2214 [00:00<00:00, 131286.96it/s]\n",
      " 28%|██▊       | 1132/4109 [07:03<13:50,  3.59it/s]"
     ]
    },
    {
     "name": "stdout",
     "output_type": "stream",
     "text": [
      "Processing entry Kansas City is the largest city in Missouri by pop...\n"
     ]
    },
    {
     "name": "stderr",
     "output_type": "stream",
     "text": [
      "100%|██████████| 12455/12455 [00:00<00:00, 129249.48it/s]\n",
      " 28%|██▊       | 1133/4109 [07:04<24:29,  2.03it/s]"
     ]
    },
    {
     "name": "stdout",
     "output_type": "stream",
     "text": [
      "Processing entry The Julian calendar, proposed by Julius Caesar in ...\n"
     ]
    },
    {
     "name": "stderr",
     "output_type": "stream",
     "text": [
      "100%|██████████| 9125/9125 [00:00<00:00, 797986.41it/s]\n",
      " 28%|██▊       | 1134/4109 [07:05<24:58,  1.99it/s]"
     ]
    },
    {
     "name": "stdout",
     "output_type": "stream",
     "text": [
      "Processing entry 1894 was a common year starting on Monday of the G...\n"
     ]
    },
    {
     "name": "stderr",
     "output_type": "stream",
     "text": [
      "100%|██████████| 3614/3614 [00:00<00:00, 243889.41it/s]\n",
      " 28%|██▊       | 1135/4109 [07:05<22:37,  2.19it/s]"
     ]
    },
    {
     "name": "stdout",
     "output_type": "stream",
     "text": [
      "Processing entry GE Aerospace was a business group of General Elect...\n"
     ]
    },
    {
     "name": "stderr",
     "output_type": "stream",
     "text": [
      "100%|██████████| 165/165 [00:00<00:00, 457107.11it/s]\n"
     ]
    },
    {
     "name": "stdout",
     "output_type": "stream",
     "text": [
      "Processing entry The following events occurred in October 1941:  Oc...\n"
     ]
    },
    {
     "name": "stderr",
     "output_type": "stream",
     "text": [
      "100%|██████████| 3299/3299 [00:00<00:00, 239299.39it/s]\n",
      " 28%|██▊       | 1137/4109 [07:05<16:16,  3.04it/s]"
     ]
    },
    {
     "name": "stdout",
     "output_type": "stream",
     "text": [
      "Processing entry Independence National Historical Park is a federal...\n"
     ]
    },
    {
     "name": "stderr",
     "output_type": "stream",
     "text": [
      "100%|██████████| 3620/3620 [00:00<00:00, 440698.36it/s]\n",
      " 28%|██▊       | 1138/4109 [07:05<15:29,  3.20it/s]"
     ]
    },
    {
     "name": "stdout",
     "output_type": "stream",
     "text": [
      "Processing entry Alcoholism is, broadly, any drinking of alcohol th...\n"
     ]
    },
    {
     "name": "stderr",
     "output_type": "stream",
     "text": [
      "100%|██████████| 7829/7829 [00:00<00:00, 636811.91it/s]\n",
      " 28%|██▊       | 1139/4109 [07:06<18:51,  2.62it/s]"
     ]
    },
    {
     "name": "stdout",
     "output_type": "stream",
     "text": [
      "Processing entry The Institute of Electrical and Electronics Engine...\n"
     ]
    },
    {
     "name": "stderr",
     "output_type": "stream",
     "text": [
      "100%|██████████| 1458/1458 [00:00<00:00, 899440.39it/s]\n",
      " 28%|██▊       | 1140/4109 [07:06<15:08,  3.27it/s]"
     ]
    },
    {
     "name": "stdout",
     "output_type": "stream",
     "text": [
      "Processing entry General Register Office or General Registry Office...\n"
     ]
    },
    {
     "name": "stderr",
     "output_type": "stream",
     "text": [
      "100%|██████████| 1542/1542 [00:00<00:00, 549360.13it/s]\n",
      " 28%|██▊       | 1141/4109 [07:06<12:54,  3.83it/s]"
     ]
    },
    {
     "name": "stdout",
     "output_type": "stream",
     "text": [
      "Processing entry Truck classifications are typically based upon the...\n"
     ]
    },
    {
     "name": "stderr",
     "output_type": "stream",
     "text": [
      "100%|██████████| 1018/1018 [00:00<00:00, 591467.17it/s]\n",
      " 28%|██▊       | 1142/4109 [07:06<10:51,  4.55it/s]"
     ]
    },
    {
     "name": "stdout",
     "output_type": "stream",
     "text": [
      "Processing entry The following events occurred in April 1939:  Apri...\n"
     ]
    },
    {
     "name": "stderr",
     "output_type": "stream",
     "text": [
      "100%|██████████| 2157/2157 [00:00<00:00, 397238.80it/s]\n",
      " 28%|██▊       | 1143/4109 [07:07<10:19,  4.78it/s]"
     ]
    },
    {
     "name": "stdout",
     "output_type": "stream",
     "text": [
      "Processing entry 1855 was a common year starting on Monday of the G...\n"
     ]
    },
    {
     "name": "stderr",
     "output_type": "stream",
     "text": [
      "100%|██████████| 1787/1787 [00:00<00:00, 173067.82it/s]\n",
      " 28%|██▊       | 1144/4109 [07:07<09:43,  5.08it/s]"
     ]
    },
    {
     "name": "stdout",
     "output_type": "stream",
     "text": [
      "Processing entry The IEEE Registration Authority is the administrat...\n"
     ]
    },
    {
     "name": "stderr",
     "output_type": "stream",
     "text": [
      "100%|██████████| 164/164 [00:00<00:00, 170474.81it/s]\n"
     ]
    },
    {
     "name": "stdout",
     "output_type": "stream",
     "text": [
      "Processing entry Houston Street is a major east west thoroughfare i...\n"
     ]
    },
    {
     "name": "stderr",
     "output_type": "stream",
     "text": [
      "100%|██████████| 1029/1029 [00:00<00:00, 541591.02it/s]\n",
      " 28%|██▊       | 1146/4109 [07:07<07:01,  7.02it/s]"
     ]
    },
    {
     "name": "stdout",
     "output_type": "stream",
     "text": [
      "Processing entry Ida Kami ska was a Polish actress and director. Kn...\n"
     ]
    },
    {
     "name": "stderr",
     "output_type": "stream",
     "text": [
      "100%|██████████| 999/999 [00:00<00:00, 402199.05it/s]\n",
      " 28%|██▊       | 1147/4109 [07:07<06:57,  7.09it/s]"
     ]
    },
    {
     "name": "stdout",
     "output_type": "stream",
     "text": [
      "Processing entry Prince Franz Anton von Thun und Hohenstein was an ...\n"
     ]
    },
    {
     "name": "stderr",
     "output_type": "stream",
     "text": [
      "100%|██████████| 508/508 [00:00<00:00, 630946.53it/s]\n"
     ]
    },
    {
     "name": "stdout",
     "output_type": "stream",
     "text": [
      "Processing entry Christian X was King of Denmark from 1912 to his d...\n"
     ]
    },
    {
     "name": "stderr",
     "output_type": "stream",
     "text": [
      "100%|██████████| 3472/3472 [00:00<00:00, 466287.45it/s]\n",
      " 28%|██▊       | 1149/4109 [07:07<07:35,  6.50it/s]"
     ]
    },
    {
     "name": "stdout",
     "output_type": "stream",
     "text": [
      "Processing entry Sir Ernest Mason Satow, , was a British scholar, d...\n"
     ]
    },
    {
     "name": "stderr",
     "output_type": "stream",
     "text": [
      "100%|██████████| 2926/2926 [00:00<00:00, 315497.40it/s]\n",
      " 28%|██▊       | 1150/4109 [07:08<08:54,  5.53it/s]"
     ]
    },
    {
     "name": "stdout",
     "output_type": "stream",
     "text": [
      "Processing entry Frank Comerford Walker was an American lawyer and ...\n"
     ]
    },
    {
     "name": "stderr",
     "output_type": "stream",
     "text": [
      "100%|██████████| 543/543 [00:00<00:00, 381300.36it/s]\n"
     ]
    },
    {
     "name": "stdout",
     "output_type": "stream",
     "text": [
      "Processing entry In astronomy, a conjunction occurs when two astron...\n"
     ]
    },
    {
     "name": "stderr",
     "output_type": "stream",
     "text": [
      "100%|██████████| 2768/2768 [00:00<00:00, 719365.11it/s]\n",
      " 28%|██▊       | 1152/4109 [07:08<08:25,  5.85it/s]"
     ]
    },
    {
     "name": "stdout",
     "output_type": "stream",
     "text": [
      "Processing entry Visual thinking, also called visual or spatial lea...\n"
     ]
    },
    {
     "name": "stderr",
     "output_type": "stream",
     "text": [
      "100%|██████████| 1624/1624 [00:00<00:00, 1866689.42it/s]\n",
      " 28%|██▊       | 1153/4109 [07:08<07:51,  6.27it/s]"
     ]
    },
    {
     "name": "stdout",
     "output_type": "stream",
     "text": [
      "Processing entry The Third Bruce ministry was the 18th ministry of ...\n"
     ]
    },
    {
     "name": "stderr",
     "output_type": "stream",
     "text": [
      "100%|██████████| 136/136 [00:00<00:00, 453438.27it/s]\n"
     ]
    },
    {
     "name": "stdout",
     "output_type": "stream",
     "text": [
      "Processing entry The Warsaw Ghetto Uprising was the 1943 act of Jew...\n"
     ]
    },
    {
     "name": "stderr",
     "output_type": "stream",
     "text": [
      "100%|██████████| 5674/5674 [00:00<00:00, 596378.42it/s]\n",
      " 28%|██▊       | 1155/4109 [07:09<09:15,  5.32it/s]"
     ]
    },
    {
     "name": "stdout",
     "output_type": "stream",
     "text": [
      "Processing entry Jos Manuel Guti rrez Guerra, known as the last Oli...\n"
     ]
    },
    {
     "name": "stderr",
     "output_type": "stream",
     "text": [
      "100%|██████████| 826/826 [00:00<00:00, 489404.59it/s]\n"
     ]
    },
    {
     "name": "stdout",
     "output_type": "stream",
     "text": [
      "Processing entry Year 1150 was a common year starting on Sunday of ...\n"
     ]
    },
    {
     "name": "stderr",
     "output_type": "stream",
     "text": [
      "100%|██████████| 835/835 [00:00<00:00, 345934.79it/s]\n",
      " 28%|██▊       | 1157/4109 [07:09<07:18,  6.74it/s]"
     ]
    },
    {
     "name": "stdout",
     "output_type": "stream",
     "text": [
      "Processing entry Field Marshal Maharaja Sri Teen Chandra Shumsher J...\n"
     ]
    },
    {
     "name": "stderr",
     "output_type": "stream",
     "text": [
      "100%|██████████| 1436/1436 [00:00<00:00, 470217.86it/s]\n",
      " 28%|██▊       | 1158/4109 [07:09<07:08,  6.89it/s]"
     ]
    },
    {
     "name": "stdout",
     "output_type": "stream",
     "text": [
      "Processing entry In Judaism, shechita is slaughtering of certain ma...\n"
     ]
    },
    {
     "name": "stderr",
     "output_type": "stream",
     "text": [
      "100%|██████████| 4775/4775 [00:00<00:00, 629527.93it/s]\n",
      " 28%|██▊       | 1159/4109 [07:09<10:04,  4.88it/s]"
     ]
    },
    {
     "name": "stdout",
     "output_type": "stream",
     "text": [
      "Processing entry Benjamin Garver Lamme was an American electrical e...\n"
     ]
    },
    {
     "name": "stderr",
     "output_type": "stream",
     "text": [
      "100%|██████████| 1148/1148 [00:00<00:00, 295040.50it/s]\n",
      " 28%|██▊       | 1160/4109 [07:09<08:49,  5.57it/s]"
     ]
    },
    {
     "name": "stdout",
     "output_type": "stream",
     "text": [
      "Processing entry Ian Sinclair is an American voice actor and voice ...\n"
     ]
    },
    {
     "name": "stderr",
     "output_type": "stream",
     "text": [
      "100%|██████████| 248/248 [00:00<00:00, 226029.42it/s]\n"
     ]
    },
    {
     "name": "stdout",
     "output_type": "stream",
     "text": [
      "Processing entry On October 10, 1898 a French military expedition c...\n"
     ]
    },
    {
     "name": "stderr",
     "output_type": "stream",
     "text": [
      "100%|██████████| 600/600 [00:00<00:00, 556519.77it/s]\n"
     ]
    },
    {
     "name": "stdout",
     "output_type": "stream",
     "text": [
      "Processing entry Throughout history, women in Iran have played nume...\n"
     ]
    },
    {
     "name": "stderr",
     "output_type": "stream",
     "text": [
      "100%|██████████| 9780/9780 [00:00<00:00, 203877.18it/s]\n",
      " 28%|██▊       | 1163/4109 [07:10<11:05,  4.43it/s]"
     ]
    },
    {
     "name": "stdout",
     "output_type": "stream",
     "text": [
      "Processing entry A Crookes tube is an early experimental electrical...\n"
     ]
    },
    {
     "name": "stderr",
     "output_type": "stream",
     "text": [
      "100%|██████████| 3857/3857 [00:00<00:00, 1604903.82it/s]\n",
      " 28%|██▊       | 1164/4109 [07:10<11:41,  4.20it/s]"
     ]
    },
    {
     "name": "stdout",
     "output_type": "stream",
     "text": [
      "Processing entry Illinois Wesleyan University is a private liberal ...\n"
     ]
    },
    {
     "name": "stderr",
     "output_type": "stream",
     "text": [
      "100%|██████████| 2559/2559 [00:00<00:00, 322241.62it/s]\n",
      " 28%|██▊       | 1165/4109 [07:11<11:22,  4.32it/s]"
     ]
    },
    {
     "name": "stdout",
     "output_type": "stream",
     "text": [
      "Processing entry In Search of Nikola Tesla is a book by David Peat ...\n"
     ]
    },
    {
     "name": "stderr",
     "output_type": "stream",
     "text": [
      "100%|██████████| 109/109 [00:00<00:00, 405660.28it/s]\n"
     ]
    },
    {
     "name": "stdout",
     "output_type": "stream",
     "text": [
      "Processing entry Italian supercentenarians are citizens, residents ...\n"
     ]
    },
    {
     "name": "stderr",
     "output_type": "stream",
     "text": [
      "100%|██████████| 717/717 [00:00<00:00, 284972.61it/s]\n",
      " 28%|██▊       | 1167/4109 [07:11<08:12,  5.97it/s]"
     ]
    },
    {
     "name": "stdout",
     "output_type": "stream",
     "text": [
      "Processing entry October 1 is the 274th day of the year in the Greg...\n"
     ]
    },
    {
     "name": "stderr",
     "output_type": "stream",
     "text": [
      "100%|██████████| 4778/4778 [00:00<00:00, 105010.90it/s]\n",
      " 28%|██▊       | 1168/4109 [07:11<11:17,  4.34it/s]"
     ]
    },
    {
     "name": "stdout",
     "output_type": "stream",
     "text": [
      "Processing entry The Carnegie Museum of Natural History is a natura...\n"
     ]
    },
    {
     "name": "stderr",
     "output_type": "stream",
     "text": [
      "100%|██████████| 508/508 [00:00<00:00, 305477.62it/s]\n"
     ]
    },
    {
     "name": "stdout",
     "output_type": "stream",
     "text": [
      "Processing entry Demobilization or demobilisation is the process of...\n"
     ]
    },
    {
     "name": "stderr",
     "output_type": "stream",
     "text": [
      "100%|██████████| 577/577 [00:00<00:00, 400415.85it/s]\n",
      " 28%|██▊       | 1170/4109 [07:11<08:17,  5.90it/s]"
     ]
    },
    {
     "name": "stdout",
     "output_type": "stream",
     "text": [
      "Processing entry The Driftpile First Nation  is a Treaty 8 First Na...\n"
     ]
    },
    {
     "name": "stderr",
     "output_type": "stream",
     "text": [
      "100%|██████████| 45/45 [00:00<00:00, 117450.95it/s]"
     ]
    },
    {
     "name": "stdout",
     "output_type": "stream",
     "text": [
      "Processing entry A force free magnetic field is a magnetic field in...\n"
     ]
    },
    {
     "name": "stderr",
     "output_type": "stream",
     "text": [
      "\n",
      "100%|██████████| 635/635 [00:00<00:00, 750460.14it/s]\n"
     ]
    },
    {
     "name": "stdout",
     "output_type": "stream",
     "text": [
      "Processing entry Cevdet Sunay was a Turkish politician and army off...\n"
     ]
    },
    {
     "name": "stderr",
     "output_type": "stream",
     "text": [
      "100%|██████████| 457/457 [00:00<00:00, 463554.28it/s]\n",
      " 29%|██▊       | 1173/4109 [07:12<05:40,  8.62it/s]"
     ]
    },
    {
     "name": "stdout",
     "output_type": "stream",
     "text": [
      "Processing entry July 20 is the 201st day of the year in the Gregor...\n"
     ]
    },
    {
     "name": "stderr",
     "output_type": "stream",
     "text": [
      "100%|██████████| 4549/4549 [00:00<00:00, 205753.02it/s]\n"
     ]
    },
    {
     "name": "stdout",
     "output_type": "stream",
     "text": [
      "Processing entry Venezuela , officially the Bolivarian Republic of ...\n"
     ]
    },
    {
     "name": "stderr",
     "output_type": "stream",
     "text": [
      "100%|██████████| 16297/16297 [00:00<00:00, 339796.94it/s]\n",
      " 29%|██▊       | 1175/4109 [07:13<15:41,  3.12it/s]"
     ]
    },
    {
     "name": "stdout",
     "output_type": "stream",
     "text": [
      "Processing entry David Kelly was an Irish actor who had regular rol...\n"
     ]
    },
    {
     "name": "stderr",
     "output_type": "stream",
     "text": [
      "100%|██████████| 816/816 [00:00<00:00, 335807.70it/s]\n",
      " 29%|██▊       | 1176/4109 [07:13<13:47,  3.54it/s]"
     ]
    },
    {
     "name": "stdout",
     "output_type": "stream",
     "text": [
      "Processing entry The Russian famine of 1921 1922, also known as the...\n"
     ]
    },
    {
     "name": "stderr",
     "output_type": "stream",
     "text": [
      "100%|██████████| 2851/2851 [00:00<00:00, 556184.22it/s]\n",
      " 29%|██▊       | 1177/4109 [07:14<13:18,  3.67it/s]"
     ]
    },
    {
     "name": "stdout",
     "output_type": "stream",
     "text": [
      "Processing entry The Bulgarian Crisis refers to a series of events ...\n"
     ]
    },
    {
     "name": "stderr",
     "output_type": "stream",
     "text": [
      "100%|██████████| 1491/1491 [00:00<00:00, 430074.08it/s]\n",
      " 29%|██▊       | 1178/4109 [07:14<11:54,  4.10it/s]"
     ]
    },
    {
     "name": "stdout",
     "output_type": "stream",
     "text": [
      "Processing entry China, officially the People's Republic of China ,...\n"
     ]
    },
    {
     "name": "stderr",
     "output_type": "stream",
     "text": [
      "100%|██████████| 17598/17598 [00:00<00:00, 414714.84it/s]\n",
      " 29%|██▊       | 1179/4109 [07:15<24:16,  2.01it/s]"
     ]
    },
    {
     "name": "stdout",
     "output_type": "stream",
     "text": [
      "Processing entry K, or k, is the eleventh letter of the modern Engl...\n"
     ]
    },
    {
     "name": "stderr",
     "output_type": "stream",
     "text": [
      "100%|██████████| 1052/1052 [00:00<00:00, 954653.36it/s]\n"
     ]
    },
    {
     "name": "stdout",
     "output_type": "stream",
     "text": [
      "Processing entry The Institute of Electrical and Electronics Engine...\n"
     ]
    },
    {
     "name": "stderr",
     "output_type": "stream",
     "text": [
      "100%|██████████| 1458/1458 [00:00<00:00, 531302.80it/s]\n",
      " 29%|██▊       | 1181/4109 [07:15<16:34,  2.94it/s]"
     ]
    },
    {
     "name": "stdout",
     "output_type": "stream",
     "text": [
      "Processing entry John William Bricker was an American politician an...\n"
     ]
    },
    {
     "name": "stderr",
     "output_type": "stream",
     "text": [
      "100%|██████████| 1488/1488 [00:00<00:00, 490770.18it/s]\n",
      " 29%|██▉       | 1182/4109 [07:15<14:39,  3.33it/s]"
     ]
    },
    {
     "name": "stdout",
     "output_type": "stream",
     "text": [
      "Processing entry Clyde Samuel Kilby was an American writer and Engl...\n"
     ]
    },
    {
     "name": "stderr",
     "output_type": "stream",
     "text": [
      "100%|██████████| 697/697 [00:00<00:00, 486023.26it/s]\n"
     ]
    },
    {
     "name": "stdout",
     "output_type": "stream",
     "text": [
      "Processing entry This is a list of prime ministers of Somalia. The ...\n"
     ]
    },
    {
     "name": "stderr",
     "output_type": "stream",
     "text": [
      "100%|██████████| 259/259 [00:00<00:00, 327502.18it/s]\n",
      " 29%|██▉       | 1184/4109 [07:15<10:04,  4.84it/s]"
     ]
    },
    {
     "name": "stdout",
     "output_type": "stream",
     "text": [
      "Processing entry William Billy Batts Bentvena , also known as Willi...\n"
     ]
    },
    {
     "name": "stderr",
     "output_type": "stream",
     "text": [
      "100%|██████████| 924/924 [00:00<00:00, 311138.16it/s]\n",
      " 29%|██▉       | 1185/4109 [07:16<09:09,  5.32it/s]"
     ]
    },
    {
     "name": "stdout",
     "output_type": "stream",
     "text": [
      "Processing entry The Cherokee Nation was a legal, autonomous, triba...\n"
     ]
    },
    {
     "name": "stderr",
     "output_type": "stream",
     "text": [
      "100%|██████████| 3150/3150 [00:00<00:00, 421504.47it/s]\n",
      " 29%|██▉       | 1186/4109 [07:16<10:26,  4.67it/s]"
     ]
    },
    {
     "name": "stdout",
     "output_type": "stream",
     "text": [
      "Processing entry The degree Celsius is the unit of temperature on t...\n"
     ]
    },
    {
     "name": "stderr",
     "output_type": "stream",
     "text": [
      "100%|██████████| 2219/2219 [00:00<00:00, 548124.89it/s]\n",
      " 29%|██▉       | 1187/4109 [07:16<10:10,  4.78it/s]"
     ]
    },
    {
     "name": "stdout",
     "output_type": "stream",
     "text": [
      "Processing entry Alpha Sigma Tau is a national sorority founded on ...\n"
     ]
    },
    {
     "name": "stderr",
     "output_type": "stream",
     "text": [
      "100%|██████████| 2074/2074 [00:00<00:00, 542229.41it/s]\n",
      " 29%|██▉       | 1188/4109 [07:16<09:26,  5.15it/s]"
     ]
    },
    {
     "name": "stdout",
     "output_type": "stream",
     "text": [
      "Processing entry Italians are the citizens and nationals of Italy a...\n"
     ]
    },
    {
     "name": "stderr",
     "output_type": "stream",
     "text": [
      "100%|██████████| 11590/11590 [00:00<00:00, 408260.48it/s]\n",
      " 29%|██▉       | 1189/4109 [07:17<18:12,  2.67it/s]"
     ]
    },
    {
     "name": "stdout",
     "output_type": "stream",
     "text": [
      "Processing entry William John Macquorn Rankine was a Scottish mecha...\n"
     ]
    },
    {
     "name": "stderr",
     "output_type": "stream",
     "text": [
      "100%|██████████| 2310/2310 [00:00<00:00, 467811.42it/s]\n",
      " 29%|██▉       | 1190/4109 [07:17<15:41,  3.10it/s]"
     ]
    },
    {
     "name": "stdout",
     "output_type": "stream",
     "text": [
      "Processing entry Uusi Suomi was a Finnish daily newspaper that was ...\n"
     ]
    },
    {
     "name": "stderr",
     "output_type": "stream",
     "text": [
      "100%|██████████| 420/420 [00:00<00:00, 327923.99it/s]\n"
     ]
    },
    {
     "name": "stdout",
     "output_type": "stream",
     "text": [
      "Processing entry Felipe Horacio V squez Lajara was a Dominican gene...\n"
     ]
    },
    {
     "name": "stderr",
     "output_type": "stream",
     "text": [
      "100%|██████████| 157/157 [00:00<00:00, 452581.26it/s]\n",
      " 29%|██▉       | 1192/4109 [07:17<09:48,  4.96it/s]"
     ]
    },
    {
     "name": "stdout",
     "output_type": "stream",
     "text": [
      "Processing entry Robert Michael Ballantyne was a Scottish author of...\n"
     ]
    },
    {
     "name": "stderr",
     "output_type": "stream",
     "text": [
      "100%|██████████| 761/761 [00:00<00:00, 392699.97it/s]\n"
     ]
    },
    {
     "name": "stdout",
     "output_type": "stream",
     "text": [
      "Processing entry Praise as a form of social interaction expresses r...\n"
     ]
    },
    {
     "name": "stderr",
     "output_type": "stream",
     "text": [
      "100%|██████████| 2695/2695 [00:00<00:00, 1094148.61it/s]\n",
      " 29%|██▉       | 1194/4109 [07:18<08:34,  5.67it/s]"
     ]
    },
    {
     "name": "stdout",
     "output_type": "stream",
     "text": [
      "Processing entry Ingwavuma is a town in the Umkhanyakude District M...\n"
     ]
    },
    {
     "name": "stderr",
     "output_type": "stream",
     "text": [
      "100%|██████████| 824/824 [00:00<00:00, 409928.42it/s]\n",
      " 29%|██▉       | 1195/4109 [07:18<08:04,  6.01it/s]"
     ]
    },
    {
     "name": "stdout",
     "output_type": "stream",
     "text": [
      "Processing entry June 1 is the 152nd day of the year in the Gregori...\n"
     ]
    },
    {
     "name": "stderr",
     "output_type": "stream",
     "text": [
      "100%|██████████| 4394/4394 [00:00<00:00, 98909.84it/s]\n",
      " 29%|██▉       | 1196/4109 [07:18<11:26,  4.25it/s]"
     ]
    },
    {
     "name": "stdout",
     "output_type": "stream",
     "text": [
      "Processing entry Frank Billings Kellogg was an American lawyer, pol...\n"
     ]
    },
    {
     "name": "stderr",
     "output_type": "stream",
     "text": [
      "100%|██████████| 1435/1435 [00:00<00:00, 355806.71it/s]\n",
      " 29%|██▉       | 1197/4109 [07:18<09:53,  4.90it/s]"
     ]
    },
    {
     "name": "stdout",
     "output_type": "stream",
     "text": [
      "Processing entry The Battle of Elandslaagte was a battle of the Sec...\n"
     ]
    },
    {
     "name": "stderr",
     "output_type": "stream",
     "text": [
      "100%|██████████| 903/903 [00:00<00:00, 627062.34it/s]\n",
      " 29%|██▉       | 1198/4109 [07:18<08:34,  5.65it/s]"
     ]
    },
    {
     "name": "stdout",
     "output_type": "stream",
     "text": [
      "Processing entry The Engineering and Technology History Wiki is a M...\n"
     ]
    },
    {
     "name": "stderr",
     "output_type": "stream",
     "text": [
      "100%|██████████| 313/313 [00:00<00:00, 589500.29it/s]\n"
     ]
    },
    {
     "name": "stdout",
     "output_type": "stream",
     "text": [
      "Processing entry An arc lamp or arc light is a lamp that produces l...\n"
     ]
    },
    {
     "name": "stderr",
     "output_type": "stream",
     "text": [
      "100%|██████████| 2298/2298 [00:00<00:00, 298055.25it/s]\n",
      " 29%|██▉       | 1200/4109 [07:19<07:32,  6.44it/s]"
     ]
    },
    {
     "name": "stdout",
     "output_type": "stream",
     "text": [
      "Processing entry Only Unity Saves the Serbs is a popular motto and ...\n"
     ]
    },
    {
     "name": "stderr",
     "output_type": "stream",
     "text": [
      "100%|██████████| 1053/1053 [00:00<00:00, 244038.13it/s]\n",
      " 29%|██▉       | 1201/4109 [07:19<07:25,  6.53it/s]"
     ]
    },
    {
     "name": "stdout",
     "output_type": "stream",
     "text": [
      "Processing entry South Korea, officially the Republic of Korea , is...\n"
     ]
    },
    {
     "name": "stderr",
     "output_type": "stream",
     "text": [
      "100%|██████████| 17441/17441 [00:00<00:00, 424003.25it/s]\n",
      " 29%|██▉       | 1202/4109 [07:20<20:10,  2.40it/s]"
     ]
    },
    {
     "name": "stdout",
     "output_type": "stream",
     "text": [
      "Processing entry The Gra anica Monastery is a Serbian Orthodox mona...\n"
     ]
    },
    {
     "name": "stderr",
     "output_type": "stream",
     "text": [
      "100%|██████████| 1485/1485 [00:00<00:00, 525482.28it/s]\n",
      " 29%|██▉       | 1203/4109 [07:20<16:16,  2.98it/s]"
     ]
    },
    {
     "name": "stdout",
     "output_type": "stream",
     "text": [
      "Processing entry The Antique Wireless Association is chartered as a...\n"
     ]
    },
    {
     "name": "stderr",
     "output_type": "stream",
     "text": [
      "100%|██████████| 179/179 [00:00<00:00, 256764.85it/s]\n"
     ]
    },
    {
     "name": "stdout",
     "output_type": "stream",
     "text": [
      "Processing entry Johnson Publishing Company, Inc. was an American p...\n"
     ]
    },
    {
     "name": "stderr",
     "output_type": "stream",
     "text": [
      "100%|██████████| 2468/2468 [00:00<00:00, 347845.77it/s]\n",
      " 29%|██▉       | 1205/4109 [07:20<11:39,  4.15it/s]"
     ]
    },
    {
     "name": "stdout",
     "output_type": "stream",
     "text": [
      "Processing entry December 16 is the 350th day of the year in the Gr...\n"
     ]
    },
    {
     "name": "stderr",
     "output_type": "stream",
     "text": [
      "100%|██████████| 4242/4242 [00:00<00:00, 162223.96it/s]\n",
      " 29%|██▉       | 1206/4109 [07:21<13:36,  3.56it/s]"
     ]
    },
    {
     "name": "stdout",
     "output_type": "stream",
     "text": [
      "Processing entry 1936 was a leap year starting on Wednesday of the ...\n"
     ]
    },
    {
     "name": "stderr",
     "output_type": "stream",
     "text": [
      "100%|██████████| 5187/5187 [00:00<00:00, 117747.51it/s]\n",
      " 29%|██▉       | 1207/4109 [07:21<17:46,  2.72it/s]"
     ]
    },
    {
     "name": "stdout",
     "output_type": "stream",
     "text": [
      "Processing entry Tokyo Electric Power Company Holdings, Incorporate...\n"
     ]
    },
    {
     "name": "stderr",
     "output_type": "stream",
     "text": [
      "100%|██████████| 3655/3655 [00:00<00:00, 1060618.59it/s]\n",
      " 29%|██▉       | 1208/4109 [07:22<15:34,  3.10it/s]"
     ]
    },
    {
     "name": "stdout",
     "output_type": "stream",
     "text": [
      "Processing entry I Monster are an English electronic music duo, com...\n"
     ]
    },
    {
     "name": "stderr",
     "output_type": "stream",
     "text": [
      "100%|██████████| 890/890 [00:00<00:00, 423186.78it/s]\n",
      " 29%|██▉       | 1209/4109 [07:22<15:31,  3.11it/s]"
     ]
    },
    {
     "name": "stdout",
     "output_type": "stream",
     "text": [
      "Processing entry A natural disaster is the negative impact followin...\n"
     ]
    },
    {
     "name": "stderr",
     "output_type": "stream",
     "text": [
      "100%|██████████| 4892/4892 [00:00<00:00, 669402.82it/s]\n",
      " 29%|██▉       | 1210/4109 [07:22<15:11,  3.18it/s]"
     ]
    },
    {
     "name": "stdout",
     "output_type": "stream",
     "text": [
      "Processing entry Pope Benedict XVI is a retired prelate of the Cath...\n"
     ]
    },
    {
     "name": "stderr",
     "output_type": "stream",
     "text": [
      "100%|██████████| 15657/15657 [00:00<00:00, 379904.07it/s]\n",
      " 29%|██▉       | 1211/4109 [07:23<26:54,  1.79it/s]"
     ]
    },
    {
     "name": "stdout",
     "output_type": "stream",
     "text": [
      "Processing entry The Russian famine of 1921 1922, also known as the...\n"
     ]
    },
    {
     "name": "stderr",
     "output_type": "stream",
     "text": [
      "100%|██████████| 2851/2851 [00:00<00:00, 947165.20it/s]\n",
      " 29%|██▉       | 1212/4109 [07:24<21:41,  2.23it/s]"
     ]
    },
    {
     "name": "stdout",
     "output_type": "stream",
     "text": [
      "Processing entry Family is a group of people related either by cons...\n"
     ]
    },
    {
     "name": "stderr",
     "output_type": "stream",
     "text": [
      "100%|██████████| 8744/8744 [00:00<00:00, 1592695.28it/s]\n",
      " 30%|██▉       | 1213/4109 [07:24<22:24,  2.15it/s]"
     ]
    },
    {
     "name": "stdout",
     "output_type": "stream",
     "text": [
      "Processing entry February 5 is the 36th day of the year in the Greg...\n"
     ]
    },
    {
     "name": "stderr",
     "output_type": "stream",
     "text": [
      "100%|██████████| 3968/3968 [00:00<00:00, 94379.63it/s]\n",
      " 30%|██▉       | 1214/4109 [07:24<21:22,  2.26it/s]"
     ]
    },
    {
     "name": "stdout",
     "output_type": "stream",
     "text": [
      "Processing entry The Arabs , also known as the Arab people, are an ...\n"
     ]
    },
    {
     "name": "stderr",
     "output_type": "stream",
     "text": [
      "100%|██████████| 13504/13504 [00:00<00:00, 346353.50it/s]\n",
      " 30%|██▉       | 1215/4109 [07:26<29:56,  1.61it/s]"
     ]
    },
    {
     "name": "stdout",
     "output_type": "stream",
     "text": [
      "Processing entry Eye color is a polygenic phenotypic character dete...\n"
     ]
    },
    {
     "name": "stderr",
     "output_type": "stream",
     "text": [
      "100%|██████████| 4334/4334 [00:00<00:00, 807413.77it/s]\n",
      " 30%|██▉       | 1216/4109 [07:26<25:16,  1.91it/s]"
     ]
    },
    {
     "name": "stdout",
     "output_type": "stream",
     "text": [
      "Processing entry The Screwtape Letters is a Christian apologetic no...\n"
     ]
    },
    {
     "name": "stderr",
     "output_type": "stream",
     "text": [
      "100%|██████████| 3090/3090 [00:00<00:00, 914765.62it/s]\n",
      " 30%|██▉       | 1217/4109 [07:26<21:01,  2.29it/s]"
     ]
    },
    {
     "name": "stdout",
     "output_type": "stream",
     "text": [
      "Processing entry The following events occurred in December 1940:  D...\n"
     ]
    },
    {
     "name": "stderr",
     "output_type": "stream",
     "text": [
      "100%|██████████| 2562/2562 [00:00<00:00, 234118.54it/s]\n",
      " 30%|██▉       | 1218/4109 [07:26<17:48,  2.70it/s]"
     ]
    },
    {
     "name": "stdout",
     "output_type": "stream",
     "text": [
      "Processing entry PeerJ is an open access peer reviewed scientific m...\n"
     ]
    },
    {
     "name": "stderr",
     "output_type": "stream",
     "text": [
      "100%|██████████| 577/577 [00:00<00:00, 370557.86it/s]\n"
     ]
    },
    {
     "name": "stdout",
     "output_type": "stream",
     "text": [
      "Processing entry American Experience is a television program airing...\n"
     ]
    },
    {
     "name": "stderr",
     "output_type": "stream",
     "text": [
      "100%|██████████| 352/352 [00:00<00:00, 401303.35it/s]\n",
      " 30%|██▉       | 1220/4109 [07:26<10:54,  4.41it/s]"
     ]
    },
    {
     "name": "stdout",
     "output_type": "stream",
     "text": [
      "Processing entry The Nobel Prize in Physiology or Medicine is award...\n"
     ]
    },
    {
     "name": "stderr",
     "output_type": "stream",
     "text": [
      "100%|██████████| 3838/3838 [00:00<00:00, 495665.82it/s]\n",
      " 30%|██▉       | 1221/4109 [07:27<12:07,  3.97it/s]"
     ]
    },
    {
     "name": "stdout",
     "output_type": "stream",
     "text": [
      "Processing entry Events from the year 1899 in the United States.  I...\n"
     ]
    },
    {
     "name": "stderr",
     "output_type": "stream",
     "text": [
      "100%|██████████| 1376/1376 [00:00<00:00, 257535.13it/s]\n",
      " 30%|██▉       | 1222/4109 [07:27<10:47,  4.46it/s]"
     ]
    },
    {
     "name": "stdout",
     "output_type": "stream",
     "text": [
      "Processing entry Muskegon is a city in the U.S. state of Michigan. ...\n"
     ]
    },
    {
     "name": "stderr",
     "output_type": "stream",
     "text": [
      "100%|██████████| 4874/4874 [00:00<00:00, 224165.95it/s]\n",
      " 30%|██▉       | 1223/4109 [07:27<13:30,  3.56it/s]"
     ]
    },
    {
     "name": "stdout",
     "output_type": "stream",
     "text": [
      "Processing entry Juan Isidro Jimenes Pereyra was a Dominican politi...\n"
     ]
    },
    {
     "name": "stderr",
     "output_type": "stream",
     "text": [
      "100%|██████████| 111/111 [00:00<00:00, 351371.88it/s]\n"
     ]
    },
    {
     "name": "stdout",
     "output_type": "stream",
     "text": [
      "Processing entry Tariq Ali is a Pakistani British political activis...\n"
     ]
    },
    {
     "name": "stderr",
     "output_type": "stream",
     "text": [
      "100%|██████████| 1514/1514 [00:00<00:00, 229878.96it/s]\n",
      " 30%|██▉       | 1225/4109 [07:27<09:14,  5.20it/s]"
     ]
    },
    {
     "name": "stdout",
     "output_type": "stream",
     "text": [
      "Processing entry Rowman Littlefield Publishing Group is an independ...\n"
     ]
    },
    {
     "name": "stderr",
     "output_type": "stream",
     "text": [
      "100%|██████████| 355/355 [00:00<00:00, 302330.54it/s]\n"
     ]
    },
    {
     "name": "stdout",
     "output_type": "stream",
     "text": [
      "Processing entry February 1 is the 32nd day of the year in the Greg...\n"
     ]
    },
    {
     "name": "stderr",
     "output_type": "stream",
     "text": [
      "100%|██████████| 3662/3662 [00:00<00:00, 142902.05it/s]\n",
      " 30%|██▉       | 1227/4109 [07:28<10:45,  4.47it/s]"
     ]
    },
    {
     "name": "stdout",
     "output_type": "stream",
     "text": [
      "Processing entry The Charter of the United Nations is the foundatio...\n"
     ]
    },
    {
     "name": "stderr",
     "output_type": "stream",
     "text": [
      "100%|██████████| 4037/4037 [00:00<00:00, 563530.64it/s]\n",
      " 30%|██▉       | 1228/4109 [07:28<10:55,  4.40it/s]"
     ]
    },
    {
     "name": "stdout",
     "output_type": "stream",
     "text": [
      "Processing entry The Baring crisis or the Panic of 1890 was an acut...\n"
     ]
    },
    {
     "name": "stderr",
     "output_type": "stream",
     "text": [
      "100%|██████████| 391/391 [00:00<00:00, 77889.95it/s]\n"
     ]
    },
    {
     "name": "stdout",
     "output_type": "stream",
     "text": [
      "Processing entry The 1936 Constitution of the Soviet Union, also kn...\n"
     ]
    },
    {
     "name": "stderr",
     "output_type": "stream",
     "text": [
      "100%|██████████| 1553/1553 [00:00<00:00, 644670.83it/s]\n",
      " 30%|██▉       | 1230/4109 [07:28<08:15,  5.81it/s]"
     ]
    },
    {
     "name": "stdout",
     "output_type": "stream",
     "text": [
      "Processing entry August 2 is the 214th day of the year in the Grego...\n"
     ]
    },
    {
     "name": "stderr",
     "output_type": "stream",
     "text": [
      "100%|██████████| 4132/4132 [00:00<00:00, 138337.04it/s]\n",
      " 30%|██▉       | 1231/4109 [07:29<11:11,  4.29it/s]"
     ]
    },
    {
     "name": "stdout",
     "output_type": "stream",
     "text": [
      "Processing entry Lily is a feminine given name derived from lily, t...\n"
     ]
    },
    {
     "name": "stderr",
     "output_type": "stream",
     "text": [
      "100%|██████████| 1567/1567 [00:00<00:00, 589618.23it/s]\n",
      " 30%|██▉       | 1232/4109 [07:29<10:57,  4.38it/s]"
     ]
    },
    {
     "name": "stdout",
     "output_type": "stream",
     "text": [
      "Processing entry September 3 is the 246th day of the year in the Gr...\n"
     ]
    },
    {
     "name": "stderr",
     "output_type": "stream",
     "text": [
      "100%|██████████| 4256/4256 [00:00<00:00, 86708.17it/s]\n",
      " 30%|███       | 1233/4109 [07:30<13:41,  3.50it/s]"
     ]
    },
    {
     "name": "stdout",
     "output_type": "stream",
     "text": [
      "Processing entry 1968 was a leap year starting on Monday of the Gre...\n"
     ]
    },
    {
     "name": "stderr",
     "output_type": "stream",
     "text": [
      "100%|██████████| 11066/11066 [00:00<00:00, 95516.16it/s] \n",
      " 30%|███       | 1234/4109 [07:31<25:04,  1.91it/s]"
     ]
    },
    {
     "name": "stdout",
     "output_type": "stream",
     "text": [
      "Processing entry This is a list of the oldest people by country and...\n"
     ]
    },
    {
     "name": "stderr",
     "output_type": "stream",
     "text": [
      "100%|██████████| 345/345 [00:00<00:00, 690050.01it/s]\n"
     ]
    },
    {
     "name": "stdout",
     "output_type": "stream",
     "text": [
      "Processing entry 1980 was a leap year starting on Tuesday of the Gr...\n"
     ]
    },
    {
     "name": "stderr",
     "output_type": "stream",
     "text": [
      "100%|██████████| 8860/8860 [00:00<00:00, 158067.59it/s]\n",
      " 30%|███       | 1236/4109 [07:32<24:00,  2.00it/s]"
     ]
    },
    {
     "name": "stdout",
     "output_type": "stream",
     "text": [
      "Processing entry Negros is the fourth largest and third most populo...\n"
     ]
    },
    {
     "name": "stderr",
     "output_type": "stream",
     "text": [
      "100%|██████████| 3548/3548 [00:00<00:00, 464462.88it/s]\n",
      " 30%|███       | 1237/4109 [07:32<21:14,  2.25it/s]"
     ]
    },
    {
     "name": "stdout",
     "output_type": "stream",
     "text": [
      "Processing entry The Government of Japan consists of legislative, e...\n"
     ]
    },
    {
     "name": "stderr",
     "output_type": "stream",
     "text": [
      "100%|██████████| 5711/5711 [00:00<00:00, 565398.44it/s]\n",
      " 30%|███       | 1238/4109 [07:32<20:14,  2.36it/s]"
     ]
    },
    {
     "name": "stdout",
     "output_type": "stream",
     "text": [
      "Processing entry Wireless power transfer , wireless power transmiss...\n"
     ]
    },
    {
     "name": "stderr",
     "output_type": "stream",
     "text": [
      "100%|██████████| 7932/7932 [00:00<00:00, 727768.72it/s]\n",
      " 30%|███       | 1239/4109 [07:33<22:54,  2.09it/s]"
     ]
    },
    {
     "name": "stdout",
     "output_type": "stream",
     "text": [
      "Processing entry K nosuke Matsushita was a Japanese industrialist w...\n"
     ]
    },
    {
     "name": "stderr",
     "output_type": "stream",
     "text": [
      "100%|██████████| 1590/1590 [00:00<00:00, 444092.92it/s]\n",
      " 30%|███       | 1240/4109 [07:33<18:31,  2.58it/s]"
     ]
    },
    {
     "name": "stdout",
     "output_type": "stream",
     "text": [
      "Processing entry 1950 was a common year starting on Sunday of the G...\n"
     ]
    },
    {
     "name": "stderr",
     "output_type": "stream",
     "text": [
      "100%|██████████| 7122/7122 [00:00<00:00, 135631.25it/s]\n",
      " 30%|███       | 1241/4109 [07:34<22:25,  2.13it/s]"
     ]
    },
    {
     "name": "stdout",
     "output_type": "stream",
     "text": [
      "Processing entry 1790 was a common year starting on Friday of the G...\n"
     ]
    },
    {
     "name": "stderr",
     "output_type": "stream",
     "text": [
      "100%|██████████| 2321/2321 [00:00<00:00, 369406.88it/s]\n",
      " 30%|███       | 1242/4109 [07:34<18:30,  2.58it/s]"
     ]
    },
    {
     "name": "stdout",
     "output_type": "stream",
     "text": [
      "Processing entry The conservative coalition, founded in 1937, was a...\n"
     ]
    },
    {
     "name": "stderr",
     "output_type": "stream",
     "text": [
      "100%|██████████| 2776/2776 [00:00<00:00, 655965.52it/s]\n",
      " 30%|███       | 1243/4109 [07:34<16:55,  2.82it/s]"
     ]
    },
    {
     "name": "stdout",
     "output_type": "stream",
     "text": [
      "Processing entry The American juvenile justice system is the primar...\n"
     ]
    },
    {
     "name": "stderr",
     "output_type": "stream",
     "text": [
      "100%|██████████| 4158/4158 [00:00<00:00, 682099.34it/s]\n",
      " 30%|███       | 1244/4109 [07:35<16:47,  2.84it/s]"
     ]
    },
    {
     "name": "stdout",
     "output_type": "stream",
     "text": [
      "Processing entry Anders Jonas ngstr m was a Swedish physicist and o...\n"
     ]
    },
    {
     "name": "stderr",
     "output_type": "stream",
     "text": [
      "100%|██████████| 762/762 [00:00<00:00, 543178.05it/s]\n"
     ]
    },
    {
     "name": "stdout",
     "output_type": "stream",
     "text": [
      "Processing entry 1793 was a common year starting on Tuesday of the ...\n"
     ]
    },
    {
     "name": "stderr",
     "output_type": "stream",
     "text": [
      "100%|██████████| 2241/2241 [00:00<00:00, 260979.43it/s]\n",
      " 30%|███       | 1246/4109 [07:35<12:18,  3.88it/s]"
     ]
    },
    {
     "name": "stdout",
     "output_type": "stream",
     "text": [
      "Processing entry The following events occurred in September 1942:  ...\n"
     ]
    },
    {
     "name": "stderr",
     "output_type": "stream",
     "text": [
      "100%|██████████| 2866/2866 [00:00<00:00, 249935.03it/s]\n",
      " 30%|███       | 1247/4109 [07:35<12:44,  3.74it/s]"
     ]
    },
    {
     "name": "stdout",
     "output_type": "stream",
     "text": [
      "Processing entry 1848 was a leap year starting on Saturday of the G...\n"
     ]
    },
    {
     "name": "stderr",
     "output_type": "stream",
     "text": [
      "100%|██████████| 3642/3642 [00:00<00:00, 186452.19it/s]\n",
      " 30%|███       | 1248/4109 [07:35<13:17,  3.59it/s]"
     ]
    },
    {
     "name": "stdout",
     "output_type": "stream",
     "text": [
      "Processing entry The Battle of the Magdalena River , also known as ...\n"
     ]
    },
    {
     "name": "stderr",
     "output_type": "stream",
     "text": [
      "100%|██████████| 672/672 [00:00<00:00, 395256.25it/s]\n"
     ]
    },
    {
     "name": "stdout",
     "output_type": "stream",
     "text": [
      "Processing entry 1907 was a common year starting on Tuesday of the ...\n"
     ]
    },
    {
     "name": "stderr",
     "output_type": "stream",
     "text": [
      "100%|██████████| 4566/4566 [00:00<00:00, 101581.67it/s]\n",
      " 30%|███       | 1250/4109 [07:36<12:59,  3.67it/s]"
     ]
    },
    {
     "name": "stdout",
     "output_type": "stream",
     "text": [
      "Processing entry The 1825 Dee, or Great Miramichi Fire, or Great Fi...\n"
     ]
    },
    {
     "name": "stderr",
     "output_type": "stream",
     "text": [
      "100%|██████████| 442/442 [00:00<00:00, 555886.77it/s]\n"
     ]
    },
    {
     "name": "stdout",
     "output_type": "stream",
     "text": [
      "Processing entry June 20 is the 171st day of the year in the Gregor...\n"
     ]
    },
    {
     "name": "stderr",
     "output_type": "stream",
     "text": [
      "100%|██████████| 3536/3536 [00:00<00:00, 119560.96it/s]\n",
      " 30%|███       | 1252/4109 [07:36<12:06,  3.93it/s]"
     ]
    },
    {
     "name": "stdout",
     "output_type": "stream",
     "text": [
      "Processing entry February is the second month of the year in the Ju...\n"
     ]
    },
    {
     "name": "stderr",
     "output_type": "stream",
     "text": [
      "100%|██████████| 1992/1992 [00:00<00:00, 298661.43it/s]\n",
      " 30%|███       | 1253/4109 [07:37<11:24,  4.17it/s]"
     ]
    },
    {
     "name": "stdout",
     "output_type": "stream",
     "text": [
      "Processing entry The newton is the unit of force in the Internation...\n"
     ]
    },
    {
     "name": "stderr",
     "output_type": "stream",
     "text": [
      "100%|██████████| 645/645 [00:00<00:00, 280199.49it/s]\n"
     ]
    },
    {
     "name": "stdout",
     "output_type": "stream",
     "text": [
      "Processing entry Paul Michael Kelly was an American stage, film, an...\n"
     ]
    },
    {
     "name": "stderr",
     "output_type": "stream",
     "text": [
      "100%|██████████| 816/816 [00:00<00:00, 362059.88it/s]\n",
      " 31%|███       | 1255/4109 [07:37<08:48,  5.40it/s]"
     ]
    },
    {
     "name": "stdout",
     "output_type": "stream",
     "text": [
      "Processing entry Ann Arbor is a city in the U.S. state of Michigan ...\n"
     ]
    },
    {
     "name": "stderr",
     "output_type": "stream",
     "text": [
      "100%|██████████| 7013/7013 [00:00<00:00, 369605.12it/s]\n",
      " 31%|███       | 1256/4109 [07:37<11:51,  4.01it/s]"
     ]
    },
    {
     "name": "stdout",
     "output_type": "stream",
     "text": [
      "Processing entry Martha Ellen Young Truman was the mother of U.S. p...\n"
     ]
    },
    {
     "name": "stderr",
     "output_type": "stream",
     "text": [
      "100%|██████████| 510/510 [00:00<00:00, 136109.38it/s]\n"
     ]
    },
    {
     "name": "stdout",
     "output_type": "stream",
     "text": [
      "Processing entry The year 1935 in television involved some signific...\n"
     ]
    },
    {
     "name": "stderr",
     "output_type": "stream",
     "text": [
      "100%|██████████| 504/504 [00:00<00:00, 313453.32it/s]\n",
      " 31%|███       | 1258/4109 [07:37<08:38,  5.50it/s]"
     ]
    },
    {
     "name": "stdout",
     "output_type": "stream",
     "text": [
      "Processing entry May 10 is the 130th day of the year in the Gregori...\n"
     ]
    },
    {
     "name": "stderr",
     "output_type": "stream",
     "text": [
      "100%|██████████| 2901/2901 [00:00<00:00, 77535.69it/s]\n",
      " 31%|███       | 1259/4109 [07:38<10:07,  4.69it/s]"
     ]
    },
    {
     "name": "stdout",
     "output_type": "stream",
     "text": [
      "Processing entry 1815 was a common year starting on Sunday of the G...\n"
     ]
    },
    {
     "name": "stderr",
     "output_type": "stream",
     "text": [
      "100%|██████████| 2214/2214 [00:00<00:00, 237753.83it/s]\n",
      " 31%|███       | 1260/4109 [07:38<09:53,  4.80it/s]"
     ]
    },
    {
     "name": "stdout",
     "output_type": "stream",
     "text": [
      "Processing entry The Edison Machine Works was a manufacturing compa...\n"
     ]
    },
    {
     "name": "stderr",
     "output_type": "stream",
     "text": [
      "100%|██████████| 519/519 [00:00<00:00, 139621.82it/s]\n"
     ]
    },
    {
     "name": "stdout",
     "output_type": "stream",
     "text": [
      "Processing entry May 6 is the 126th day of the year in the Gregoria...\n"
     ]
    },
    {
     "name": "stderr",
     "output_type": "stream",
     "text": [
      "100%|██████████| 3911/3911 [00:00<00:00, 116160.28it/s]\n",
      " 31%|███       | 1262/4109 [07:38<10:46,  4.40it/s]"
     ]
    },
    {
     "name": "stdout",
     "output_type": "stream",
     "text": [
      "Processing entry 1843 was a common year starting on Sunday of the G...\n"
     ]
    },
    {
     "name": "stderr",
     "output_type": "stream",
     "text": [
      "100%|██████████| 3852/3852 [00:00<00:00, 120262.75it/s]\n",
      " 31%|███       | 1263/4109 [07:39<12:25,  3.82it/s]"
     ]
    },
    {
     "name": "stdout",
     "output_type": "stream",
     "text": [
      "Processing entry 1759 was a common year starting on Monday of the G...\n"
     ]
    },
    {
     "name": "stderr",
     "output_type": "stream",
     "text": [
      "100%|██████████| 1797/1797 [00:00<00:00, 509027.10it/s]\n",
      " 31%|███       | 1264/4109 [07:39<11:29,  4.12it/s]"
     ]
    },
    {
     "name": "stdout",
     "output_type": "stream",
     "text": [
      "Processing entry Sir Frank Macfarlane Burnet, , usually known as Ma...\n"
     ]
    },
    {
     "name": "stderr",
     "output_type": "stream",
     "text": [
      "100%|██████████| 9017/9017 [00:00<00:00, 1361069.53it/s]\n",
      " 31%|███       | 1265/4109 [07:40<16:28,  2.88it/s]"
     ]
    },
    {
     "name": "stdout",
     "output_type": "stream",
     "text": [
      "Processing entry May 14 is the 134th day of the year in the Gregori...\n"
     ]
    },
    {
     "name": "stderr",
     "output_type": "stream",
     "text": [
      "100%|██████████| 4491/4491 [00:00<00:00, 105313.70it/s]\n",
      " 31%|███       | 1266/4109 [07:40<18:26,  2.57it/s]"
     ]
    },
    {
     "name": "stdout",
     "output_type": "stream",
     "text": [
      "Processing entry 1999 was a common year starting on Friday of the G...\n"
     ]
    },
    {
     "name": "stderr",
     "output_type": "stream",
     "text": [
      "100%|██████████| 6655/6655 [00:00<00:00, 70532.31it/s]\n",
      " 31%|███       | 1267/4109 [07:41<21:58,  2.15it/s]"
     ]
    },
    {
     "name": "stdout",
     "output_type": "stream",
     "text": [
      "Processing entry The IEEE Nikola Tesla Award is a Technical Field A...\n"
     ]
    },
    {
     "name": "stderr",
     "output_type": "stream",
     "text": [
      "100%|██████████| 1553/1553 [00:00<00:00, 592968.06it/s]\n",
      " 31%|███       | 1268/4109 [07:41<17:21,  2.73it/s]"
     ]
    },
    {
     "name": "stdout",
     "output_type": "stream",
     "text": [
      "Processing entry May 4 is the 124th day of the year in the Gregoria...\n"
     ]
    },
    {
     "name": "stderr",
     "output_type": "stream",
     "text": [
      "100%|██████████| 3961/3961 [00:00<00:00, 145496.28it/s]\n",
      " 31%|███       | 1269/4109 [07:41<19:14,  2.46it/s]"
     ]
    },
    {
     "name": "stdout",
     "output_type": "stream",
     "text": [
      "Processing entry Major General Terry de la Mesa Allen Sr. was a sen...\n"
     ]
    },
    {
     "name": "stderr",
     "output_type": "stream",
     "text": [
      "100%|██████████| 5253/5253 [00:00<00:00, 384185.93it/s]\n",
      " 31%|███       | 1270/4109 [07:42<18:57,  2.49it/s]"
     ]
    },
    {
     "name": "stdout",
     "output_type": "stream",
     "text": [
      "Processing entry 1888 was a leap year starting on Sunday of the Gre...\n"
     ]
    },
    {
     "name": "stderr",
     "output_type": "stream",
     "text": [
      "100%|██████████| 4862/4862 [00:00<00:00, 181370.07it/s]\n",
      " 31%|███       | 1271/4109 [07:42<19:12,  2.46it/s]"
     ]
    },
    {
     "name": "stdout",
     "output_type": "stream",
     "text": [
      "Processing entry May 16 is the 136th day of the year in the Gregori...\n"
     ]
    },
    {
     "name": "stderr",
     "output_type": "stream",
     "text": [
      "100%|██████████| 3716/3716 [00:00<00:00, 93993.12it/s]\n",
      " 31%|███       | 1272/4109 [07:43<19:59,  2.37it/s]"
     ]
    },
    {
     "name": "stdout",
     "output_type": "stream",
     "text": [
      "Processing entry Carrabelle is a city in Franklin County along Flor...\n"
     ]
    },
    {
     "name": "stderr",
     "output_type": "stream",
     "text": [
      "100%|██████████| 1814/1814 [00:00<00:00, 313195.88it/s]\n",
      " 31%|███       | 1273/4109 [07:43<15:57,  2.96it/s]"
     ]
    },
    {
     "name": "stdout",
     "output_type": "stream",
     "text": [
      "Processing entry Sobhuza II, was the Paramount Chief and later Ngwe...\n"
     ]
    },
    {
     "name": "stderr",
     "output_type": "stream",
     "text": [
      "100%|██████████| 1316/1316 [00:00<00:00, 961453.42it/s]\n"
     ]
    },
    {
     "name": "stdout",
     "output_type": "stream",
     "text": [
      "Processing entry 1750 was a common year starting on Thursday of the...\n"
     ]
    },
    {
     "name": "stderr",
     "output_type": "stream",
     "text": [
      "100%|██████████| 1981/1981 [00:00<00:00, 220970.06it/s]\n",
      " 31%|███       | 1275/4109 [07:43<12:12,  3.87it/s]"
     ]
    },
    {
     "name": "stdout",
     "output_type": "stream",
     "text": [
      "Processing entry June 20 is the 171st day of the year in the Gregor...\n"
     ]
    },
    {
     "name": "stderr",
     "output_type": "stream",
     "text": [
      "100%|██████████| 3536/3536 [00:00<00:00, 108376.94it/s]\n",
      " 31%|███       | 1276/4109 [07:44<13:38,  3.46it/s]"
     ]
    },
    {
     "name": "stdout",
     "output_type": "stream",
     "text": [
      "Processing entry An audio coding format is a content representation...\n"
     ]
    },
    {
     "name": "stderr",
     "output_type": "stream",
     "text": [
      "100%|██████████| 893/893 [00:00<00:00, 467021.63it/s]\n",
      " 31%|███       | 1277/4109 [07:44<11:21,  4.16it/s]"
     ]
    },
    {
     "name": "stdout",
     "output_type": "stream",
     "text": [
      "Processing entry The Zone Rouge is a chain of non contiguous areas ...\n"
     ]
    },
    {
     "name": "stderr",
     "output_type": "stream",
     "text": [
      "100%|██████████| 576/576 [00:00<00:00, 496489.75it/s]\n"
     ]
    },
    {
     "name": "stdout",
     "output_type": "stream",
     "text": [
      "Processing entry The Institute of Electrical and Electronics Engine...\n"
     ]
    },
    {
     "name": "stderr",
     "output_type": "stream",
     "text": [
      "100%|██████████| 1458/1458 [00:00<00:00, 260913.70it/s]\n",
      " 31%|███       | 1279/4109 [07:44<08:26,  5.58it/s]"
     ]
    },
    {
     "name": "stdout",
     "output_type": "stream",
     "text": [
      "Processing entry Phebe Novakovic is an American businesswoman and f...\n"
     ]
    },
    {
     "name": "stderr",
     "output_type": "stream",
     "text": [
      "100%|██████████| 200/200 [00:00<00:00, 180322.61it/s]\n"
     ]
    },
    {
     "name": "stdout",
     "output_type": "stream",
     "text": [
      "Processing entry A demon is a malevolent supernatural entity. Histo...\n"
     ]
    },
    {
     "name": "stderr",
     "output_type": "stream",
     "text": [
      "100%|██████████| 8791/8791 [00:00<00:00, 665874.35it/s]\n",
      " 31%|███       | 1281/4109 [07:45<12:14,  3.85it/s]"
     ]
    },
    {
     "name": "stdout",
     "output_type": "stream",
     "text": [
      "Processing entry A borough is an administrative division in various...\n"
     ]
    },
    {
     "name": "stderr",
     "output_type": "stream",
     "text": [
      "100%|██████████| 2847/2847 [00:00<00:00, 525094.92it/s]\n",
      " 31%|███       | 1282/4109 [07:45<12:04,  3.90it/s]"
     ]
    },
    {
     "name": "stdout",
     "output_type": "stream",
     "text": [
      "Processing entry 1810 was a common year starting on Monday of the G...\n"
     ]
    },
    {
     "name": "stderr",
     "output_type": "stream",
     "text": [
      "100%|██████████| 1886/1886 [00:00<00:00, 420054.02it/s]\n",
      " 31%|███       | 1283/4109 [07:45<10:34,  4.46it/s]"
     ]
    },
    {
     "name": "stdout",
     "output_type": "stream",
     "text": [
      "Processing entry The Emir of the State of Kuwait is the monarch and...\n"
     ]
    },
    {
     "name": "stderr",
     "output_type": "stream",
     "text": [
      "100%|██████████| 206/206 [00:00<00:00, 280255.15it/s]\n"
     ]
    },
    {
     "name": "stdout",
     "output_type": "stream",
     "text": [
      "Processing entry The Library of Congress Control Number is a serial...\n"
     ]
    },
    {
     "name": "stderr",
     "output_type": "stream",
     "text": [
      "100%|██████████| 447/447 [00:00<00:00, 1056255.71it/s]\n"
     ]
    },
    {
     "name": "stdout",
     "output_type": "stream",
     "text": [
      "Processing entry 1774 was a common year starting on Saturday of the...\n"
     ]
    },
    {
     "name": "stderr",
     "output_type": "stream",
     "text": [
      "100%|██████████| 7015/7015 [00:00<00:00, 105398.49it/s]\n",
      " 31%|███▏      | 1286/4109 [07:46<11:01,  4.27it/s]"
     ]
    },
    {
     "name": "stdout",
     "output_type": "stream",
     "text": [
      "Processing entry The Baghdad railway, also known as the Berlin Bagh...\n"
     ]
    },
    {
     "name": "stderr",
     "output_type": "stream",
     "text": [
      "100%|██████████| 4545/4545 [00:00<00:00, 314624.72it/s]\n",
      " 31%|███▏      | 1287/4109 [07:46<12:17,  3.83it/s]"
     ]
    },
    {
     "name": "stdout",
     "output_type": "stream",
     "text": [
      "Processing entry 1783 was a common year starting on Wednesday of th...\n"
     ]
    },
    {
     "name": "stderr",
     "output_type": "stream",
     "text": [
      "100%|██████████| 2015/2015 [00:00<00:00, 495051.70it/s]\n",
      " 31%|███▏      | 1288/4109 [07:46<11:45,  4.00it/s]"
     ]
    },
    {
     "name": "stdout",
     "output_type": "stream",
     "text": [
      "Processing entry The Biographical Memoirs of Fellows of the Royal S...\n"
     ]
    },
    {
     "name": "stderr",
     "output_type": "stream",
     "text": [
      "100%|██████████| 206/206 [00:00<00:00, 103056.61it/s]\n"
     ]
    },
    {
     "name": "stdout",
     "output_type": "stream",
     "text": [
      "Processing entry Sir Edward James Reed, KCB, FRS was a British nava...\n"
     ]
    },
    {
     "name": "stderr",
     "output_type": "stream",
     "text": [
      "100%|██████████| 1262/1262 [00:00<00:00, 378600.36it/s]\n",
      " 31%|███▏      | 1290/4109 [07:46<08:36,  5.46it/s]"
     ]
    },
    {
     "name": "stdout",
     "output_type": "stream",
     "text": [
      "Processing entry The electric power industry covers the generation,...\n"
     ]
    },
    {
     "name": "stderr",
     "output_type": "stream",
     "text": [
      "100%|██████████| 2621/2621 [00:00<00:00, 415907.64it/s]\n",
      " 31%|███▏      | 1291/4109 [07:47<08:52,  5.29it/s]"
     ]
    },
    {
     "name": "stdout",
     "output_type": "stream",
     "text": [
      "Processing entry Georgios Theotokis was a Greek politician and Prim...\n"
     ]
    },
    {
     "name": "stderr",
     "output_type": "stream",
     "text": [
      "100%|██████████| 668/668 [00:00<00:00, 397586.93it/s]\n"
     ]
    },
    {
     "name": "stdout",
     "output_type": "stream",
     "text": [
      "Processing entry Paniqui, officially the Municipality of Paniqui , ...\n"
     ]
    },
    {
     "name": "stderr",
     "output_type": "stream",
     "text": [
      "100%|██████████| 664/664 [00:00<00:00, 290347.98it/s]\n",
      " 31%|███▏      | 1293/4109 [07:47<06:31,  7.19it/s]"
     ]
    },
    {
     "name": "stdout",
     "output_type": "stream",
     "text": [
      "Processing entry The following events occurred in September 1940:  ...\n"
     ]
    },
    {
     "name": "stderr",
     "output_type": "stream",
     "text": [
      "100%|██████████| 2744/2744 [00:00<00:00, 756933.26it/s]\n",
      " 31%|███▏      | 1294/4109 [07:47<07:23,  6.35it/s]"
     ]
    },
    {
     "name": "stdout",
     "output_type": "stream",
     "text": [
      "Processing entry 1790 was a common year starting on Friday of the G...\n"
     ]
    },
    {
     "name": "stderr",
     "output_type": "stream",
     "text": [
      "100%|██████████| 2321/2321 [00:00<00:00, 289120.60it/s]\n",
      " 32%|███▏      | 1295/4109 [07:47<07:54,  5.93it/s]"
     ]
    },
    {
     "name": "stdout",
     "output_type": "stream",
     "text": [
      "Processing entry William Thomas Green Morton was an American dentis...\n"
     ]
    },
    {
     "name": "stderr",
     "output_type": "stream",
     "text": [
      "100%|██████████| 1439/1439 [00:00<00:00, 363021.98it/s]\n",
      " 32%|███▏      | 1296/4109 [07:47<07:26,  6.29it/s]"
     ]
    },
    {
     "name": "stdout",
     "output_type": "stream",
     "text": [
      "Processing entry The 1899 VFL Grand Final was an Australian rules f...\n"
     ]
    },
    {
     "name": "stderr",
     "output_type": "stream",
     "text": [
      "100%|██████████| 676/676 [00:00<00:00, 477733.70it/s]"
     ]
    },
    {
     "name": "stdout",
     "output_type": "stream",
     "text": [
      "Processing entry 1968 was a leap year starting on Monday of the Gre...\n"
     ]
    },
    {
     "name": "stderr",
     "output_type": "stream",
     "text": [
      "\n",
      "100%|██████████| 11066/11066 [00:00<00:00, 124902.57it/s]\n",
      " 32%|███▏      | 1298/4109 [07:48<15:14,  3.07it/s]"
     ]
    },
    {
     "name": "stdout",
     "output_type": "stream",
     "text": [
      "Processing entry Ghettos were established by Nazi Germany in hundre...\n"
     ]
    },
    {
     "name": "stderr",
     "output_type": "stream",
     "text": [
      "100%|██████████| 1025/1025 [00:00<00:00, 682948.63it/s]\n",
      " 32%|███▏      | 1299/4109 [07:49<12:54,  3.63it/s]"
     ]
    },
    {
     "name": "stdout",
     "output_type": "stream",
     "text": [
      "Processing entry 1856 was a leap year starting on Tuesday of the Gr...\n"
     ]
    },
    {
     "name": "stderr",
     "output_type": "stream",
     "text": [
      "100%|██████████| 2845/2845 [00:00<00:00, 158687.11it/s]\n",
      " 32%|███▏      | 1300/4109 [07:49<12:40,  3.70it/s]"
     ]
    },
    {
     "name": "stdout",
     "output_type": "stream",
     "text": [
      "Processing entry Hans Jeschonnek was a German military aviator in t...\n"
     ]
    },
    {
     "name": "stderr",
     "output_type": "stream",
     "text": [
      "100%|██████████| 12774/12774 [00:00<00:00, 472098.96it/s]\n",
      " 32%|███▏      | 1301/4109 [07:50<22:16,  2.10it/s]"
     ]
    },
    {
     "name": "stdout",
     "output_type": "stream",
     "text": [
      "Processing entry China, officially the People's Republic of China ,...\n"
     ]
    },
    {
     "name": "stderr",
     "output_type": "stream",
     "text": [
      "100%|██████████| 17598/17598 [00:00<00:00, 758860.87it/s]\n",
      " 32%|███▏      | 1302/4109 [07:51<31:08,  1.50it/s]"
     ]
    },
    {
     "name": "stdout",
     "output_type": "stream",
     "text": [
      "Processing entry September 1 is the 244th day of the year in the Gr...\n"
     ]
    },
    {
     "name": "stderr",
     "output_type": "stream",
     "text": [
      "100%|██████████| 3805/3805 [00:00<00:00, 133476.02it/s]\n",
      " 32%|███▏      | 1303/4109 [07:52<28:24,  1.65it/s]"
     ]
    },
    {
     "name": "stdout",
     "output_type": "stream",
     "text": [
      "Processing entry Sweden, officially the Kingdom of Sweden, is a Nor...\n"
     ]
    },
    {
     "name": "stderr",
     "output_type": "stream",
     "text": [
      "100%|██████████| 21044/21044 [00:00<00:00, 461347.13it/s]\n",
      " 32%|███▏      | 1304/4109 [07:53<40:08,  1.16it/s]"
     ]
    },
    {
     "name": "stdout",
     "output_type": "stream",
     "text": [
      "Processing entry In English literature, Don Juan , by Lord Byron, i...\n"
     ]
    },
    {
     "name": "stderr",
     "output_type": "stream",
     "text": [
      "100%|██████████| 5279/5279 [00:00<00:00, 740897.80it/s]\n",
      " 32%|███▏      | 1305/4109 [07:53<33:49,  1.38it/s]"
     ]
    },
    {
     "name": "stdout",
     "output_type": "stream",
     "text": [
      "Processing entry August 3 is the 215th day of the year in the Grego...\n"
     ]
    },
    {
     "name": "stderr",
     "output_type": "stream",
     "text": [
      "100%|██████████| 3990/3990 [00:00<00:00, 189893.03it/s]\n",
      " 32%|███▏      | 1306/4109 [07:54<29:24,  1.59it/s]"
     ]
    },
    {
     "name": "stdout",
     "output_type": "stream",
     "text": [
      "Processing entry Marcel Achard was a French playwright and screenwr...\n"
     ]
    },
    {
     "name": "stderr",
     "output_type": "stream",
     "text": [
      "100%|██████████| 1506/1506 [00:00<00:00, 277653.71it/s]\n",
      " 32%|███▏      | 1307/4109 [07:54<22:38,  2.06it/s]"
     ]
    },
    {
     "name": "stdout",
     "output_type": "stream",
     "text": [
      "Processing entry Guillaume Marie Anne Brune, 1st Count Brune was a ...\n"
     ]
    },
    {
     "name": "stderr",
     "output_type": "stream",
     "text": [
      "100%|██████████| 978/978 [00:00<00:00, 359039.76it/s]\n"
     ]
    },
    {
     "name": "stdout",
     "output_type": "stream",
     "text": [
      "Processing entry Alexandra Feodorovna , Princess Alix of Hesse and ...\n"
     ]
    },
    {
     "name": "stderr",
     "output_type": "stream",
     "text": [
      "100%|██████████| 13429/13429 [00:00<00:00, 426735.98it/s]\n",
      " 32%|███▏      | 1309/4109 [07:55<25:00,  1.87it/s]"
     ]
    },
    {
     "name": "stdout",
     "output_type": "stream",
     "text": [
      "Processing entry 1970 was a common year starting on Thursday of the...\n"
     ]
    },
    {
     "name": "stderr",
     "output_type": "stream",
     "text": [
      "100%|██████████| 8143/8143 [00:00<00:00, 92157.26it/s]\n",
      " 32%|███▏      | 1310/4109 [07:56<27:13,  1.71it/s]"
     ]
    },
    {
     "name": "stdout",
     "output_type": "stream",
     "text": [
      "Processing entry The 1899 Spanish general election was held on Sund...\n"
     ]
    },
    {
     "name": "stderr",
     "output_type": "stream",
     "text": [
      "100%|██████████| 1118/1118 [00:00<00:00, 603582.43it/s]\n",
      " 32%|███▏      | 1311/4109 [07:56<21:21,  2.18it/s]"
     ]
    },
    {
     "name": "stdout",
     "output_type": "stream",
     "text": [
      "Processing entry Bangladesh , officially the People's Republic of B...\n"
     ]
    },
    {
     "name": "stderr",
     "output_type": "stream",
     "text": [
      "100%|██████████| 17947/17947 [00:00<00:00, 247620.59it/s]\n",
      " 32%|███▏      | 1312/4109 [07:57<32:21,  1.44it/s]"
     ]
    },
    {
     "name": "stdout",
     "output_type": "stream",
     "text": [
      "Processing entry Europe is a landmass conventionally considered a c...\n"
     ]
    },
    {
     "name": "stderr",
     "output_type": "stream",
     "text": [
      "100%|██████████| 13643/13643 [00:00<00:00, 310668.10it/s]\n",
      " 32%|███▏      | 1313/4109 [07:58<35:57,  1.30it/s]"
     ]
    },
    {
     "name": "stdout",
     "output_type": "stream",
     "text": [
      "Processing entry The Mitsubishi Group is a group of autonomous Japa...\n"
     ]
    },
    {
     "name": "stderr",
     "output_type": "stream",
     "text": [
      "100%|██████████| 1575/1575 [00:00<00:00, 574187.64it/s]\n",
      " 32%|███▏      | 1314/4109 [07:58<27:23,  1.70it/s]"
     ]
    },
    {
     "name": "stdout",
     "output_type": "stream",
     "text": [
      "Processing entry British Columbia is the westernmost province of Ca...\n"
     ]
    },
    {
     "name": "stderr",
     "output_type": "stream",
     "text": [
      "100%|██████████| 15047/15047 [00:00<00:00, 341907.57it/s]\n",
      " 32%|███▏      | 1315/4109 [08:00<46:45,  1.00s/it]"
     ]
    },
    {
     "name": "stdout",
     "output_type": "stream",
     "text": [
      "Processing entry Bathurst Bay is a bay in the localities of Lakefie...\n"
     ]
    },
    {
     "name": "stderr",
     "output_type": "stream",
     "text": [
      "100%|██████████| 294/294 [00:00<00:00, 481125.78it/s]\n"
     ]
    },
    {
     "name": "stdout",
     "output_type": "stream",
     "text": [
      "Processing entry The Gare de l'Est , officially Paris Est, is one o...\n"
     ]
    },
    {
     "name": "stderr",
     "output_type": "stream",
     "text": [
      "100%|██████████| 883/883 [00:00<00:00, 235222.00it/s]\n",
      " 32%|███▏      | 1317/4109 [08:01<27:12,  1.71it/s]"
     ]
    },
    {
     "name": "stdout",
     "output_type": "stream",
     "text": [
      "Processing entry The Cathedral of St. John the Divine is the cathed...\n"
     ]
    },
    {
     "name": "stderr",
     "output_type": "stream",
     "text": [
      "100%|██████████| 13529/13529 [00:00<00:00, 475755.11it/s]\n",
      " 32%|███▏      | 1318/4109 [08:02<31:26,  1.48it/s]"
     ]
    },
    {
     "name": "stdout",
     "output_type": "stream",
     "text": [
      "Processing entry Princeton University Press is an independent publi...\n"
     ]
    },
    {
     "name": "stderr",
     "output_type": "stream",
     "text": [
      "100%|██████████| 767/767 [00:00<00:00, 211354.78it/s]\n"
     ]
    },
    {
     "name": "stdout",
     "output_type": "stream",
     "text": [
      "Processing entry The United States Army Reserve is a reserve force ...\n"
     ]
    },
    {
     "name": "stderr",
     "output_type": "stream",
     "text": [
      "100%|██████████| 3893/3893 [00:00<00:00, 399736.23it/s]\n",
      " 32%|███▏      | 1320/4109 [08:02<22:14,  2.09it/s]"
     ]
    },
    {
     "name": "stdout",
     "output_type": "stream",
     "text": [
      "Processing entry The Dakota are a Native American tribe and First N...\n"
     ]
    },
    {
     "name": "stderr",
     "output_type": "stream",
     "text": [
      "100%|██████████| 1529/1529 [00:00<00:00, 693457.05it/s]\n",
      " 32%|███▏      | 1321/4109 [08:02<18:49,  2.47it/s]"
     ]
    },
    {
     "name": "stdout",
     "output_type": "stream",
     "text": [
      "Processing entry Maharaja Jung Bahadur Kunwar Ranaji, , 18 June 181...\n"
     ]
    },
    {
     "name": "stderr",
     "output_type": "stream",
     "text": [
      "100%|██████████| 4320/4320 [00:00<00:00, 899984.77it/s]\n",
      " 32%|███▏      | 1322/4109 [08:02<18:22,  2.53it/s]"
     ]
    },
    {
     "name": "stdout",
     "output_type": "stream",
     "text": [
      "Processing entry February 27 is the 58th day of the year in the Gre...\n"
     ]
    },
    {
     "name": "stderr",
     "output_type": "stream",
     "text": [
      "100%|██████████| 3973/3973 [00:00<00:00, 98870.15it/s]\n",
      " 32%|███▏      | 1323/4109 [08:03<18:53,  2.46it/s]"
     ]
    },
    {
     "name": "stdout",
     "output_type": "stream",
     "text": [
      "Processing entry Religious fanaticism, or religious extremism, is a...\n"
     ]
    },
    {
     "name": "stderr",
     "output_type": "stream",
     "text": [
      "100%|██████████| 1874/1874 [00:00<00:00, 469345.30it/s]\n",
      " 32%|███▏      | 1324/4109 [08:03<15:47,  2.94it/s]"
     ]
    },
    {
     "name": "stdout",
     "output_type": "stream",
     "text": [
      "Processing entry A learned society is an organization that exists t...\n"
     ]
    },
    {
     "name": "stderr",
     "output_type": "stream",
     "text": [
      "100%|██████████| 612/612 [00:00<00:00, 161268.71it/s]"
     ]
    },
    {
     "name": "stdout",
     "output_type": "stream",
     "text": [
      "Processing entry The Nobel Prize in Physics is a yearly award given...\n"
     ]
    },
    {
     "name": "stderr",
     "output_type": "stream",
     "text": [
      "\n",
      "100%|██████████| 1368/1368 [00:00<00:00, 374995.61it/s]\n",
      " 32%|███▏      | 1326/4109 [08:03<10:44,  4.32it/s]"
     ]
    },
    {
     "name": "stdout",
     "output_type": "stream",
     "text": [
      "Processing entry The Kansas Jayhawks men's basketball program is th...\n"
     ]
    },
    {
     "name": "stderr",
     "output_type": "stream",
     "text": [
      "100%|██████████| 12803/12803 [00:00<00:00, 78514.72it/s]\n",
      " 32%|███▏      | 1327/4109 [08:04<21:42,  2.14it/s]"
     ]
    },
    {
     "name": "stdout",
     "output_type": "stream",
     "text": [
      "Processing entry Konstantinos D. Tsatsos was a Greek diplomat, prof...\n"
     ]
    },
    {
     "name": "stderr",
     "output_type": "stream",
     "text": [
      "100%|██████████| 716/716 [00:00<00:00, 322534.82it/s]\n"
     ]
    },
    {
     "name": "stdout",
     "output_type": "stream",
     "text": [
      "Processing entry Image compression is a type of data compression ap...\n"
     ]
    },
    {
     "name": "stderr",
     "output_type": "stream",
     "text": [
      "100%|██████████| 1209/1209 [00:00<00:00, 557917.65it/s]\n",
      " 32%|███▏      | 1329/4109 [08:05<14:34,  3.18it/s]"
     ]
    },
    {
     "name": "stdout",
     "output_type": "stream",
     "text": [
      "Processing entry A hydraulic telegraph refers to two different sema...\n"
     ]
    },
    {
     "name": "stderr",
     "output_type": "stream",
     "text": [
      "100%|██████████| 1289/1289 [00:00<00:00, 731492.07it/s]\n",
      " 32%|███▏      | 1330/4109 [08:05<12:48,  3.62it/s]"
     ]
    },
    {
     "name": "stdout",
     "output_type": "stream",
     "text": [
      "Processing entry Baron Adrien Victor Joseph de Gerlache de Gomery w...\n"
     ]
    },
    {
     "name": "stderr",
     "output_type": "stream",
     "text": [
      "100%|██████████| 923/923 [00:00<00:00, 517697.59it/s]\n",
      " 32%|███▏      | 1331/4109 [08:05<11:04,  4.18it/s]"
     ]
    },
    {
     "name": "stdout",
     "output_type": "stream",
     "text": [
      "Processing entry Joseph Patrick O'Neil was a United States Army off...\n"
     ]
    },
    {
     "name": "stderr",
     "output_type": "stream",
     "text": [
      "100%|██████████| 481/481 [00:00<00:00, 464210.82it/s]\n"
     ]
    },
    {
     "name": "stdout",
     "output_type": "stream",
     "text": [
      "Processing entry This is a list of television related events that o...\n"
     ]
    },
    {
     "name": "stderr",
     "output_type": "stream",
     "text": [
      "100%|██████████| 30/30 [00:00<00:00, 252162.57it/s]\n"
     ]
    },
    {
     "name": "stdout",
     "output_type": "stream",
     "text": [
      "Processing entry Jun ichi Nishizawa was a Japanese engineer and inv...\n"
     ]
    },
    {
     "name": "stderr",
     "output_type": "stream",
     "text": [
      "100%|██████████| 434/434 [00:00<00:00, 547467.05it/s]\n",
      " 32%|███▏      | 1334/4109 [08:05<06:27,  7.17it/s]"
     ]
    },
    {
     "name": "stdout",
     "output_type": "stream",
     "text": [
      "Processing entry December 14 is the 348th day of the year in the Gr...\n"
     ]
    },
    {
     "name": "stderr",
     "output_type": "stream",
     "text": [
      "100%|██████████| 4193/4193 [00:00<00:00, 110578.38it/s]\n"
     ]
    },
    {
     "name": "stdout",
     "output_type": "stream",
     "text": [
      "Processing entry Max Theiler was a South African American virologis...\n"
     ]
    },
    {
     "name": "stderr",
     "output_type": "stream",
     "text": [
      "100%|██████████| 975/975 [00:00<00:00, 459901.75it/s]\n",
      " 33%|███▎      | 1336/4109 [08:06<08:43,  5.30it/s]"
     ]
    },
    {
     "name": "stdout",
     "output_type": "stream",
     "text": [
      "Processing entry Aleksander Zawadzki, alias Kazik, Wacek, Bronek, O...\n"
     ]
    },
    {
     "name": "stderr",
     "output_type": "stream",
     "text": [
      "100%|██████████| 762/762 [00:00<00:00, 396435.08it/s]\n"
     ]
    },
    {
     "name": "stdout",
     "output_type": "stream",
     "text": [
      "Processing entry 1999 was a common year starting on Friday of the G...\n"
     ]
    },
    {
     "name": "stderr",
     "output_type": "stream",
     "text": [
      "100%|██████████| 6655/6655 [00:00<00:00, 113647.57it/s]\n",
      " 33%|███▎      | 1338/4109 [08:06<11:20,  4.07it/s]"
     ]
    },
    {
     "name": "stdout",
     "output_type": "stream",
     "text": [
      "Processing entry The Political Constitution of 1899 , informally kn...\n"
     ]
    },
    {
     "name": "stderr",
     "output_type": "stream",
     "text": [
      "100%|██████████| 2123/2123 [00:00<00:00, 445158.60it/s]\n",
      " 33%|███▎      | 1339/4109 [08:06<10:19,  4.47it/s]"
     ]
    },
    {
     "name": "stdout",
     "output_type": "stream",
     "text": [
      "Processing entry Fifth Avenue is a major thoroughfare in the boroug...\n"
     ]
    },
    {
     "name": "stderr",
     "output_type": "stream",
     "text": [
      "100%|██████████| 5048/5048 [00:00<00:00, 483707.54it/s]\n",
      " 33%|███▎      | 1340/4109 [08:07<11:54,  3.87it/s]"
     ]
    },
    {
     "name": "stdout",
     "output_type": "stream",
     "text": [
      "Processing entry December 2 is the 336th day of the year in the Gre...\n"
     ]
    },
    {
     "name": "stderr",
     "output_type": "stream",
     "text": [
      "100%|██████████| 4075/4075 [00:00<00:00, 136008.57it/s]\n",
      " 33%|███▎      | 1341/4109 [08:07<13:46,  3.35it/s]"
     ]
    },
    {
     "name": "stdout",
     "output_type": "stream",
     "text": [
      "Processing entry The San Mateo Hayward Bridge is a bridge crossing ...\n"
     ]
    },
    {
     "name": "stderr",
     "output_type": "stream",
     "text": [
      "100%|██████████| 3291/3291 [00:00<00:00, 948951.91it/s]\n",
      " 33%|███▎      | 1342/4109 [08:08<13:19,  3.46it/s]"
     ]
    },
    {
     "name": "stdout",
     "output_type": "stream",
     "text": [
      "Processing entry 1848 was a leap year starting on Saturday of the G...\n"
     ]
    },
    {
     "name": "stderr",
     "output_type": "stream",
     "text": [
      "100%|██████████| 3642/3642 [00:00<00:00, 166695.64it/s]\n",
      " 33%|███▎      | 1343/4109 [08:08<14:05,  3.27it/s]"
     ]
    },
    {
     "name": "stdout",
     "output_type": "stream",
     "text": [
      "Processing entry June 3 is the 154th day of the year in the Gregori...\n"
     ]
    },
    {
     "name": "stderr",
     "output_type": "stream",
     "text": [
      "100%|██████████| 3596/3596 [00:00<00:00, 360614.88it/s]\n",
      " 33%|███▎      | 1344/4109 [08:08<14:41,  3.14it/s]"
     ]
    },
    {
     "name": "stdout",
     "output_type": "stream",
     "text": [
      "Processing entry Georg Leo Graf von Caprivi de Caprara de Montecucc...\n"
     ]
    },
    {
     "name": "stderr",
     "output_type": "stream",
     "text": [
      "100%|██████████| 1987/1987 [00:00<00:00, 337248.38it/s]\n",
      " 33%|███▎      | 1345/4109 [08:08<12:42,  3.63it/s]"
     ]
    },
    {
     "name": "stdout",
     "output_type": "stream",
     "text": [
      "Processing entry The Hotel Pennsylvania was a hotel at 401 Seventh ...\n"
     ]
    },
    {
     "name": "stderr",
     "output_type": "stream",
     "text": [
      "100%|██████████| 2624/2624 [00:00<00:00, 411218.57it/s]\n",
      " 33%|███▎      | 1346/4109 [08:09<11:45,  3.92it/s]"
     ]
    },
    {
     "name": "stdout",
     "output_type": "stream",
     "text": [
      "Processing entry Junius Brutus Booth was an English stage actor. He...\n"
     ]
    },
    {
     "name": "stderr",
     "output_type": "stream",
     "text": [
      "100%|██████████| 2250/2250 [00:00<00:00, 1128984.81it/s]\n",
      " 33%|███▎      | 1347/4109 [08:09<10:39,  4.32it/s]"
     ]
    },
    {
     "name": "stdout",
     "output_type": "stream",
     "text": [
      "Processing entry Margaret Heafield Hamilton is an American computer...\n"
     ]
    },
    {
     "name": "stderr",
     "output_type": "stream",
     "text": [
      "100%|██████████| 2877/2877 [00:00<00:00, 412181.06it/s]\n",
      " 33%|███▎      | 1348/4109 [08:09<11:14,  4.09it/s]"
     ]
    },
    {
     "name": "stdout",
     "output_type": "stream",
     "text": [
      "Processing entry Ernst Gunther II, Duke of Schleswig Holstein , was...\n"
     ]
    },
    {
     "name": "stderr",
     "output_type": "stream",
     "text": [
      "100%|██████████| 175/175 [00:00<00:00, 426746.05it/s]\n"
     ]
    },
    {
     "name": "stdout",
     "output_type": "stream",
     "text": [
      "Processing entry Eugenics 'good, well', and   'come into being, gro...\n"
     ]
    },
    {
     "name": "stderr",
     "output_type": "stream",
     "text": [
      "100%|██████████| 6327/6327 [00:00<00:00, 333455.15it/s]\n",
      " 33%|███▎      | 1350/4109 [08:10<11:48,  3.90it/s]"
     ]
    },
    {
     "name": "stdout",
     "output_type": "stream",
     "text": [
      "Processing entry City of York was a 1,194 ton iron ship which sank ...\n"
     ]
    },
    {
     "name": "stderr",
     "output_type": "stream",
     "text": [
      "100%|██████████| 1328/1328 [00:00<00:00, 588923.21it/s]\n",
      " 33%|███▎      | 1351/4109 [08:10<10:11,  4.51it/s]"
     ]
    },
    {
     "name": "stdout",
     "output_type": "stream",
     "text": [
      "Processing entry The American Psychological Association is the larg...\n"
     ]
    },
    {
     "name": "stderr",
     "output_type": "stream",
     "text": [
      "100%|██████████| 5165/5165 [00:00<00:00, 539754.34it/s]\n",
      " 33%|███▎      | 1352/4109 [08:10<12:58,  3.54it/s]"
     ]
    },
    {
     "name": "stdout",
     "output_type": "stream",
     "text": [
      "Processing entry A bracket is either of two tall fore or back facin...\n"
     ]
    },
    {
     "name": "stderr",
     "output_type": "stream",
     "text": [
      "100%|██████████| 4433/4433 [00:00<00:00, 584972.46it/s]\n",
      " 33%|███▎      | 1353/4109 [08:11<14:14,  3.22it/s]"
     ]
    },
    {
     "name": "stdout",
     "output_type": "stream",
     "text": [
      "Processing entry The First Republic of New Granada , known despecti...\n"
     ]
    },
    {
     "name": "stderr",
     "output_type": "stream",
     "text": [
      "100%|██████████| 2441/2441 [00:00<00:00, 432725.95it/s]\n",
      " 33%|███▎      | 1354/4109 [08:11<12:36,  3.64it/s]"
     ]
    },
    {
     "name": "stdout",
     "output_type": "stream",
     "text": [
      "Processing entry Eric Robert Russell Linklater CBE was a Welsh born...\n"
     ]
    },
    {
     "name": "stderr",
     "output_type": "stream",
     "text": [
      "100%|██████████| 1503/1503 [00:00<00:00, 199703.45it/s]\n",
      " 33%|███▎      | 1355/4109 [08:11<11:12,  4.10it/s]"
     ]
    },
    {
     "name": "stdout",
     "output_type": "stream",
     "text": [
      "Processing entry Donald Watts Davies, was a Welsh computer scientis...\n"
     ]
    },
    {
     "name": "stderr",
     "output_type": "stream",
     "text": [
      "100%|██████████| 1842/1842 [00:00<00:00, 477940.49it/s]\n",
      " 33%|███▎      | 1356/4109 [08:11<10:14,  4.48it/s]"
     ]
    },
    {
     "name": "stdout",
     "output_type": "stream",
     "text": [
      "Processing entry Colt's Manufacturing Company, LLC is an American f...\n"
     ]
    },
    {
     "name": "stderr",
     "output_type": "stream",
     "text": [
      "100%|██████████| 7703/7703 [00:00<00:00, 337713.61it/s]\n",
      " 33%|███▎      | 1357/4109 [08:12<15:27,  2.97it/s]"
     ]
    },
    {
     "name": "stdout",
     "output_type": "stream",
     "text": [
      "Processing entry Time is an American news magazine and news website...\n"
     ]
    },
    {
     "name": "stderr",
     "output_type": "stream",
     "text": [
      "100%|██████████| 4632/4632 [00:00<00:00, 242604.56it/s]\n",
      " 33%|███▎      | 1358/4109 [08:12<16:13,  2.83it/s]"
     ]
    },
    {
     "name": "stdout",
     "output_type": "stream",
     "text": [
      "Processing entry The following events occurred in January 1942:  Ja...\n"
     ]
    },
    {
     "name": "stderr",
     "output_type": "stream",
     "text": [
      "100%|██████████| 4348/4348 [00:00<00:00, 216491.77it/s]\n",
      " 33%|███▎      | 1359/4109 [08:12<16:10,  2.83it/s]"
     ]
    },
    {
     "name": "stdout",
     "output_type": "stream",
     "text": [
      "Processing entry The Dark Tower is an incomplete manuscript written...\n"
     ]
    },
    {
     "name": "stderr",
     "output_type": "stream",
     "text": [
      "100%|██████████| 2181/2181 [00:00<00:00, 518669.67it/s]\n",
      " 33%|███▎      | 1360/4109 [08:13<13:43,  3.34it/s]"
     ]
    },
    {
     "name": "stdout",
     "output_type": "stream",
     "text": [
      "Processing entry The Arctic Ocean is the smallest and shallowest of...\n"
     ]
    },
    {
     "name": "stderr",
     "output_type": "stream",
     "text": [
      "100%|██████████| 4844/4844 [00:00<00:00, 568599.81it/s]\n",
      " 33%|███▎      | 1361/4109 [08:13<14:42,  3.11it/s]"
     ]
    },
    {
     "name": "stdout",
     "output_type": "stream",
     "text": [
      "Processing entry Jind State was a princely state located in the Pun...\n"
     ]
    },
    {
     "name": "stderr",
     "output_type": "stream",
     "text": [
      "100%|██████████| 166/166 [00:00<00:00, 258063.18it/s]\n"
     ]
    },
    {
     "name": "stdout",
     "output_type": "stream",
     "text": [
      "Processing entry George Peabody was an American financier and phila...\n"
     ]
    },
    {
     "name": "stderr",
     "output_type": "stream",
     "text": [
      "100%|██████████| 3564/3564 [00:00<00:00, 340994.10it/s]\n",
      " 33%|███▎      | 1363/4109 [08:13<11:25,  4.01it/s]"
     ]
    },
    {
     "name": "stdout",
     "output_type": "stream",
     "text": [
      "Processing entry The history of videotelephony covers the historica...\n"
     ]
    },
    {
     "name": "stderr",
     "output_type": "stream",
     "text": [
      "100%|██████████| 5040/5040 [00:00<00:00, 1153261.98it/s]\n",
      " 33%|███▎      | 1364/4109 [08:14<13:05,  3.49it/s]"
     ]
    },
    {
     "name": "stdout",
     "output_type": "stream",
     "text": [
      "Processing entry The 129th Field Artillery Regiment is a regiment o...\n"
     ]
    },
    {
     "name": "stderr",
     "output_type": "stream",
     "text": [
      "100%|██████████| 1056/1056 [00:00<00:00, 612612.04it/s]\n",
      " 33%|███▎      | 1365/4109 [08:14<12:31,  3.65it/s]"
     ]
    },
    {
     "name": "stdout",
     "output_type": "stream",
     "text": [
      "Processing entry The Smederevo Fortress is a medieval fortified cit...\n"
     ]
    },
    {
     "name": "stderr",
     "output_type": "stream",
     "text": [
      "100%|██████████| 3229/3229 [00:00<00:00, 458709.83it/s]\n",
      " 33%|███▎      | 1366/4109 [08:14<12:06,  3.78it/s]"
     ]
    },
    {
     "name": "stdout",
     "output_type": "stream",
     "text": [
      "Processing entry The 19th century began on 1 January 1801 , and end...\n"
     ]
    },
    {
     "name": "stderr",
     "output_type": "stream",
     "text": [
      "100%|██████████| 8801/8801 [00:00<00:00, 183607.33it/s]\n",
      " 33%|███▎      | 1367/4109 [08:15<18:15,  2.50it/s]"
     ]
    },
    {
     "name": "stdout",
     "output_type": "stream",
     "text": [
      "Processing entry The year 1936 in television involved some signific...\n"
     ]
    },
    {
     "name": "stderr",
     "output_type": "stream",
     "text": [
      "100%|██████████| 842/842 [00:00<00:00, 254383.34it/s]\n"
     ]
    },
    {
     "name": "stdout",
     "output_type": "stream",
     "text": [
      "Processing entry Nancy Hanks Lincoln was the mother of U.S. Preside...\n"
     ]
    },
    {
     "name": "stderr",
     "output_type": "stream",
     "text": [
      "100%|██████████| 2015/2015 [00:00<00:00, 505141.51it/s]\n",
      " 33%|███▎      | 1369/4109 [08:15<13:22,  3.41it/s]"
     ]
    },
    {
     "name": "stdout",
     "output_type": "stream",
     "text": [
      "Processing entry July 10 is the 191st day of the year in the Gregor...\n"
     ]
    },
    {
     "name": "stderr",
     "output_type": "stream",
     "text": [
      "100%|██████████| 4555/4555 [00:00<00:00, 22330.52it/s]\n",
      " 33%|███▎      | 1370/4109 [08:16<17:12,  2.65it/s]"
     ]
    },
    {
     "name": "stdout",
     "output_type": "stream",
     "text": [
      "Processing entry The Philadelphia City Council, the legislative bod...\n"
     ]
    },
    {
     "name": "stderr",
     "output_type": "stream",
     "text": [
      "100%|██████████| 780/780 [00:00<00:00, 609341.99it/s]\n"
     ]
    },
    {
     "name": "stdout",
     "output_type": "stream",
     "text": [
      "Processing entry The Institute of Electrical and Electronics Engine...\n"
     ]
    },
    {
     "name": "stderr",
     "output_type": "stream",
     "text": [
      "100%|██████████| 1458/1458 [00:00<00:00, 244915.50it/s]\n",
      " 33%|███▎      | 1372/4109 [08:16<12:07,  3.76it/s]"
     ]
    },
    {
     "name": "stdout",
     "output_type": "stream",
     "text": [
      "Processing entry Edward II , also called Edward of Caernarfon, was ...\n"
     ]
    },
    {
     "name": "stderr",
     "output_type": "stream",
     "text": [
      "100%|██████████| 13494/13494 [00:00<00:00, 657305.39it/s]\n",
      " 33%|███▎      | 1373/4109 [08:17<18:00,  2.53it/s]"
     ]
    },
    {
     "name": "stdout",
     "output_type": "stream",
     "text": [
      "Processing entry Lasc r Catargiu or Lasc r Catargi; 1 November 1823...\n"
     ]
    },
    {
     "name": "stderr",
     "output_type": "stream",
     "text": [
      "100%|██████████| 450/450 [00:00<00:00, 391665.66it/s]\n"
     ]
    },
    {
     "name": "stdout",
     "output_type": "stream",
     "text": [
      "Processing entry 1920 was a leap year starting on Thursday of the G...\n"
     ]
    },
    {
     "name": "stderr",
     "output_type": "stream",
     "text": [
      "100%|██████████| 9041/9041 [00:00<00:00, 81120.92it/s]\n",
      " 33%|███▎      | 1375/4109 [08:18<19:49,  2.30it/s]"
     ]
    },
    {
     "name": "stdout",
     "output_type": "stream",
     "text": [
      "Processing entry George Dewey was Admiral of the Navy, the only per...\n"
     ]
    },
    {
     "name": "stderr",
     "output_type": "stream",
     "text": [
      "100%|██████████| 5692/5692 [00:00<00:00, 373223.36it/s]\n",
      " 33%|███▎      | 1376/4109 [08:18<19:57,  2.28it/s]"
     ]
    },
    {
     "name": "stdout",
     "output_type": "stream",
     "text": [
      "Processing entry The Marconi Company was a British telecommunicatio...\n"
     ]
    },
    {
     "name": "stderr",
     "output_type": "stream",
     "text": [
      "100%|██████████| 1076/1076 [00:00<00:00, 433490.64it/s]\n",
      " 34%|███▎      | 1377/4109 [08:19<16:26,  2.77it/s]"
     ]
    },
    {
     "name": "stdout",
     "output_type": "stream",
     "text": [
      "Processing entry The Prestige is a 2006 science fantasy psychologic...\n"
     ]
    },
    {
     "name": "stderr",
     "output_type": "stream",
     "text": [
      "100%|██████████| 4171/4171 [00:00<00:00, 177300.75it/s]\n",
      " 34%|███▎      | 1378/4109 [08:19<16:58,  2.68it/s]"
     ]
    },
    {
     "name": "stdout",
     "output_type": "stream",
     "text": [
      "Processing entry Spits was a tabloid format newspaper freely distri...\n"
     ]
    },
    {
     "name": "stderr",
     "output_type": "stream",
     "text": [
      "100%|██████████| 28/28 [00:00<00:00, 321754.83it/s]\n"
     ]
    },
    {
     "name": "stdout",
     "output_type": "stream",
     "text": [
      "Processing entry Alfred Thompson Tom Denning, Baron Denning, was an...\n"
     ]
    },
    {
     "name": "stderr",
     "output_type": "stream",
     "text": [
      "100%|██████████| 10037/10037 [00:00<00:00, 412776.30it/s]\n",
      " 34%|███▎      | 1380/4109 [08:20<17:38,  2.58it/s]"
     ]
    },
    {
     "name": "stdout",
     "output_type": "stream",
     "text": [
      "Processing entry Marshal of France is a French military distinction...\n"
     ]
    },
    {
     "name": "stderr",
     "output_type": "stream",
     "text": [
      "100%|██████████| 5651/5651 [00:00<00:00, 320275.82it/s]\n",
      " 34%|███▎      | 1381/4109 [08:20<17:58,  2.53it/s]"
     ]
    },
    {
     "name": "stdout",
     "output_type": "stream",
     "text": [
      "Processing entry The Privileges and Immunities Clause prevents a st...\n"
     ]
    },
    {
     "name": "stderr",
     "output_type": "stream",
     "text": [
      "100%|██████████| 2480/2480 [00:00<00:00, 547121.50it/s]\n",
      " 34%|███▎      | 1382/4109 [08:20<15:17,  2.97it/s]"
     ]
    },
    {
     "name": "stdout",
     "output_type": "stream",
     "text": [
      "Processing entry The sulfate or sulphate ion is a polyatomic anion ...\n"
     ]
    },
    {
     "name": "stderr",
     "output_type": "stream",
     "text": [
      "100%|██████████| 1606/1606 [00:00<00:00, 791917.73it/s]\n",
      " 34%|███▎      | 1383/4109 [08:20<13:10,  3.45it/s]"
     ]
    },
    {
     "name": "stdout",
     "output_type": "stream",
     "text": [
      "Processing entry The Interstate Commerce Act of 1887 is a United St...\n"
     ]
    },
    {
     "name": "stderr",
     "output_type": "stream",
     "text": [
      "100%|██████████| 941/941 [00:00<00:00, 580844.75it/s]\n"
     ]
    },
    {
     "name": "stdout",
     "output_type": "stream",
     "text": [
      "Processing entry Mihajlo Idvorski Pupin , also known as Michael Pup...\n"
     ]
    },
    {
     "name": "stderr",
     "output_type": "stream",
     "text": [
      "100%|██████████| 3158/3158 [00:00<00:00, 403055.47it/s]\n",
      " 34%|███▎      | 1385/4109 [08:21<10:49,  4.19it/s]"
     ]
    },
    {
     "name": "stdout",
     "output_type": "stream",
     "text": [
      "Processing entry The United States Government Publishing Office is ...\n"
     ]
    },
    {
     "name": "stderr",
     "output_type": "stream",
     "text": [
      "100%|██████████| 1921/1921 [00:00<00:00, 337674.78it/s]\n",
      " 34%|███▎      | 1386/4109 [08:21<10:02,  4.52it/s]"
     ]
    },
    {
     "name": "stdout",
     "output_type": "stream",
     "text": [
      "Processing entry The Seventeenth Amendment to the United States Con...\n"
     ]
    },
    {
     "name": "stderr",
     "output_type": "stream",
     "text": [
      "100%|██████████| 5216/5216 [00:00<00:00, 1022551.52it/s]\n",
      " 34%|███▍      | 1387/4109 [08:21<11:52,  3.82it/s]"
     ]
    },
    {
     "name": "stdout",
     "output_type": "stream",
     "text": [
      "Processing entry Ehrenfried Pfeiffer was a German scientist, soil s...\n"
     ]
    },
    {
     "name": "stderr",
     "output_type": "stream",
     "text": [
      "100%|██████████| 1554/1554 [00:00<00:00, 389852.77it/s]\n",
      " 34%|███▍      | 1388/4109 [08:22<10:24,  4.36it/s]"
     ]
    },
    {
     "name": "stdout",
     "output_type": "stream",
     "text": [
      "Processing entry Franklin Delano Roosevelt , often referred to by h...\n"
     ]
    },
    {
     "name": "stderr",
     "output_type": "stream",
     "text": [
      "100%|██████████| 17335/17335 [00:00<00:00, 586536.68it/s]\n",
      " 34%|███▍      | 1389/4109 [08:23<21:48,  2.08it/s]"
     ]
    },
    {
     "name": "stdout",
     "output_type": "stream",
     "text": [
      "Processing entry Year 181 was a common year starting on Sunday of t...\n"
     ]
    },
    {
     "name": "stderr",
     "output_type": "stream",
     "text": [
      "100%|██████████| 163/163 [00:00<00:00, 376263.93it/s]\n"
     ]
    },
    {
     "name": "stdout",
     "output_type": "stream",
     "text": [
      "Processing entry Geology 'earth', and o  'study of, discourse' is a...\n"
     ]
    },
    {
     "name": "stderr",
     "output_type": "stream",
     "text": [
      "100%|██████████| 6523/6523 [00:00<00:00, 1733915.01it/s]\n",
      " 34%|███▍      | 1391/4109 [08:23<17:56,  2.52it/s]"
     ]
    },
    {
     "name": "stdout",
     "output_type": "stream",
     "text": [
      "Processing entry The president of Venezuela , officially known as t...\n"
     ]
    },
    {
     "name": "stderr",
     "output_type": "stream",
     "text": [
      "100%|██████████| 2161/2161 [00:00<00:00, 569304.12it/s]\n",
      " 34%|███▍      | 1392/4109 [08:23<15:15,  2.97it/s]"
     ]
    },
    {
     "name": "stdout",
     "output_type": "stream",
     "text": [
      "Processing entry MusicBrainz is a MetaBrainz project that aims to c...\n"
     ]
    },
    {
     "name": "stderr",
     "output_type": "stream",
     "text": [
      "100%|██████████| 1045/1045 [00:00<00:00, 305566.63it/s]\n",
      " 34%|███▍      | 1393/4109 [08:24<12:48,  3.53it/s]"
     ]
    },
    {
     "name": "stdout",
     "output_type": "stream",
     "text": [
      "Processing entry 1860 was a leap year starting on Sunday of the Gre...\n"
     ]
    },
    {
     "name": "stderr",
     "output_type": "stream",
     "text": [
      "100%|██████████| 2404/2404 [00:00<00:00, 158126.69it/s]\n",
      " 34%|███▍      | 1394/4109 [08:24<12:22,  3.66it/s]"
     ]
    },
    {
     "name": "stdout",
     "output_type": "stream",
     "text": [
      "Processing entry Manuel dos Reis Machado, commonly called Mestre Bi...\n"
     ]
    },
    {
     "name": "stderr",
     "output_type": "stream",
     "text": [
      "100%|██████████| 2436/2436 [00:00<00:00, 1222314.22it/s]\n",
      " 34%|███▍      | 1395/4109 [08:24<11:39,  3.88it/s]"
     ]
    },
    {
     "name": "stdout",
     "output_type": "stream",
     "text": [
      "Processing entry The Nobel Memorial Prize in Economic Sciences, off...\n"
     ]
    },
    {
     "name": "stderr",
     "output_type": "stream",
     "text": [
      "100%|██████████| 1681/1681 [00:00<00:00, 1156408.89it/s]\n",
      " 34%|███▍      | 1396/4109 [08:24<10:01,  4.51it/s]"
     ]
    },
    {
     "name": "stdout",
     "output_type": "stream",
     "text": [
      "Processing entry Thailand , historically known as Siam and official...\n"
     ]
    },
    {
     "name": "stderr",
     "output_type": "stream",
     "text": [
      "100%|██████████| 15880/15880 [00:00<00:00, 624114.95it/s]\n",
      " 34%|███▍      | 1397/4109 [08:25<21:39,  2.09it/s]"
     ]
    },
    {
     "name": "stdout",
     "output_type": "stream",
     "text": [
      "Processing entry 1907 was a common year starting on Tuesday of the ...\n"
     ]
    },
    {
     "name": "stderr",
     "output_type": "stream",
     "text": [
      "100%|██████████| 4566/4566 [00:00<00:00, 82947.61it/s]\n",
      " 34%|███▍      | 1398/4109 [08:26<22:25,  2.02it/s]"
     ]
    },
    {
     "name": "stdout",
     "output_type": "stream",
     "text": [
      "Processing entry County Wicklow is a county in Ireland. The last of...\n"
     ]
    },
    {
     "name": "stderr",
     "output_type": "stream",
     "text": [
      "100%|██████████| 4503/4503 [00:00<00:00, 381154.16it/s]\n",
      " 34%|███▍      | 1399/4109 [08:26<20:24,  2.21it/s]"
     ]
    },
    {
     "name": "stdout",
     "output_type": "stream",
     "text": [
      "Processing entry 1815 was a common year starting on Sunday of the G...\n"
     ]
    },
    {
     "name": "stderr",
     "output_type": "stream",
     "text": [
      "100%|██████████| 2214/2214 [00:00<00:00, 224613.33it/s]\n",
      " 34%|███▍      | 1400/4109 [08:26<16:39,  2.71it/s]"
     ]
    },
    {
     "name": "stdout",
     "output_type": "stream",
     "text": [
      "Processing entry Peter Lieou also known as Liu Wenyuan Petrus Baidu...\n"
     ]
    },
    {
     "name": "stderr",
     "output_type": "stream",
     "text": [
      "100%|██████████| 231/231 [00:00<00:00, 542184.79it/s]\n"
     ]
    },
    {
     "name": "stdout",
     "output_type": "stream",
     "text": [
      "Processing entry The history of the lands that became the United St...\n"
     ]
    },
    {
     "name": "stderr",
     "output_type": "stream",
     "text": [
      "100%|██████████| 23590/23590 [00:00<00:00, 204050.40it/s]\n",
      " 34%|███▍      | 1402/4109 [08:28<27:57,  1.61it/s]"
     ]
    },
    {
     "name": "stdout",
     "output_type": "stream",
     "text": [
      "Processing entry Dennis Bell was a Buffalo Soldier in the United St...\n"
     ]
    },
    {
     "name": "stderr",
     "output_type": "stream",
     "text": [
      "100%|██████████| 583/583 [00:00<00:00, 97491.40it/s]\n"
     ]
    },
    {
     "name": "stdout",
     "output_type": "stream",
     "text": [
      "Processing entry Michael Anthony Doyle was an Irish television and ...\n"
     ]
    },
    {
     "name": "stderr",
     "output_type": "stream",
     "text": [
      "100%|██████████| 389/389 [00:00<00:00, 392585.24it/s]\n",
      " 34%|███▍      | 1404/4109 [08:28<18:07,  2.49it/s]"
     ]
    },
    {
     "name": "stdout",
     "output_type": "stream",
     "text": [
      "Processing entry The following events occurred in October 1942:  Oc...\n"
     ]
    },
    {
     "name": "stderr",
     "output_type": "stream",
     "text": [
      "100%|██████████| 3447/3447 [00:00<00:00, 251164.22it/s]\n",
      " 34%|███▍      | 1405/4109 [08:29<17:33,  2.57it/s]"
     ]
    },
    {
     "name": "stdout",
     "output_type": "stream",
     "text": [
      "Processing entry Coronary thrombosis is defined as the formation of...\n"
     ]
    },
    {
     "name": "stderr",
     "output_type": "stream",
     "text": [
      "100%|██████████| 943/943 [00:00<00:00, 652462.66it/s]\n",
      " 34%|███▍      | 1406/4109 [08:29<14:28,  3.11it/s]"
     ]
    },
    {
     "name": "stdout",
     "output_type": "stream",
     "text": [
      "Processing entry Valery Nikolaevich Kubasov was a Soviet Russian co...\n"
     ]
    },
    {
     "name": "stderr",
     "output_type": "stream",
     "text": [
      "100%|██████████| 951/951 [00:00<00:00, 383426.23it/s]\n",
      " 34%|███▍      | 1407/4109 [08:29<12:02,  3.74it/s]"
     ]
    },
    {
     "name": "stdout",
     "output_type": "stream",
     "text": [
      "Processing entry Callao is a seaside city and region on the Pacific...\n"
     ]
    },
    {
     "name": "stderr",
     "output_type": "stream",
     "text": [
      "100%|██████████| 1170/1170 [00:00<00:00, 744325.14it/s]\n",
      " 34%|███▍      | 1408/4109 [08:29<10:32,  4.27it/s]"
     ]
    },
    {
     "name": "stdout",
     "output_type": "stream",
     "text": [
      "Processing entry Reuters ROY terz is a news agency owned by Thomson...\n"
     ]
    },
    {
     "name": "stderr",
     "output_type": "stream",
     "text": [
      "100%|██████████| 3128/3128 [00:00<00:00, 995808.95it/s]\n",
      " 34%|███▍      | 1409/4109 [08:29<09:58,  4.51it/s]"
     ]
    },
    {
     "name": "stdout",
     "output_type": "stream",
     "text": [
      "Processing entry Austria Hungary, often referred to as the Austro H...\n"
     ]
    },
    {
     "name": "stderr",
     "output_type": "stream",
     "text": [
      "100%|██████████| 23262/23262 [00:00<00:00, 351193.59it/s]\n",
      " 34%|███▍      | 1410/4109 [08:31<26:52,  1.67it/s]"
     ]
    },
    {
     "name": "stdout",
     "output_type": "stream",
     "text": [
      "Processing entry The Institute of Electrical and Electronics Engine...\n"
     ]
    },
    {
     "name": "stderr",
     "output_type": "stream",
     "text": [
      "100%|██████████| 1458/1458 [00:00<00:00, 537419.39it/s]\n",
      " 34%|███▍      | 1411/4109 [08:31<20:33,  2.19it/s]"
     ]
    },
    {
     "name": "stdout",
     "output_type": "stream",
     "text": [
      "Processing entry Jakarta Kota Station is a railway station, located...\n"
     ]
    },
    {
     "name": "stderr",
     "output_type": "stream",
     "text": [
      "100%|██████████| 591/591 [00:00<00:00, 436491.22it/s]"
     ]
    },
    {
     "name": "stdout",
     "output_type": "stream",
     "text": [
      "Processing entry Jesus , also referred to as Jesus Christ or Jesus ...\n"
     ]
    },
    {
     "name": "stderr",
     "output_type": "stream",
     "text": [
      "\n",
      "100%|██████████| 15300/15300 [00:00<00:00, 595859.27it/s]\n",
      " 34%|███▍      | 1413/4109 [08:32<22:14,  2.02it/s]"
     ]
    },
    {
     "name": "stdout",
     "output_type": "stream",
     "text": [
      "Processing entry Chadlia Sa da Farhat Essebsi was the First Lady of...\n"
     ]
    },
    {
     "name": "stderr",
     "output_type": "stream",
     "text": [
      "100%|██████████| 206/206 [00:00<00:00, 310689.19it/s]\n"
     ]
    },
    {
     "name": "stdout",
     "output_type": "stream",
     "text": [
      "Processing entry Napoleon, also Napoleon Bonaparte , and later know...\n"
     ]
    },
    {
     "name": "stderr",
     "output_type": "stream",
     "text": [
      "100%|██████████| 20589/20589 [00:00<00:00, 423600.78it/s]\n",
      " 34%|███▍      | 1415/4109 [08:33<26:16,  1.71it/s]"
     ]
    },
    {
     "name": "stdout",
     "output_type": "stream",
     "text": [
      "Processing entry July 21 is the 202nd day of the year in the Gregor...\n"
     ]
    },
    {
     "name": "stderr",
     "output_type": "stream",
     "text": [
      "100%|██████████| 4050/4050 [00:00<00:00, 125228.03it/s]\n",
      " 34%|███▍      | 1416/4109 [08:34<25:01,  1.79it/s]"
     ]
    },
    {
     "name": "stdout",
     "output_type": "stream",
     "text": [
      "Processing entry October is the tenth month of the year in the Juli...\n"
     ]
    },
    {
     "name": "stderr",
     "output_type": "stream",
     "text": [
      "100%|██████████| 2006/2006 [00:00<00:00, 194695.68it/s]\n",
      " 34%|███▍      | 1417/4109 [08:34<21:35,  2.08it/s]"
     ]
    },
    {
     "name": "stdout",
     "output_type": "stream",
     "text": [
      "Processing entry Czechoslovakia, or Czecho Slovakia , was a soverei...\n"
     ]
    },
    {
     "name": "stderr",
     "output_type": "stream",
     "text": [
      "100%|██████████| 5087/5087 [00:00<00:00, 526591.25it/s]\n",
      " 35%|███▍      | 1418/4109 [08:34<21:13,  2.11it/s]"
     ]
    },
    {
     "name": "stdout",
     "output_type": "stream",
     "text": [
      "Processing entry Marguerite Jeanne Meg Japy Steinheil, Baroness Abi...\n"
     ]
    },
    {
     "name": "stderr",
     "output_type": "stream",
     "text": [
      "100%|██████████| 999/999 [00:00<00:00, 181280.16it/s]\n",
      " 35%|███▍      | 1419/4109 [08:35<16:57,  2.64it/s]"
     ]
    },
    {
     "name": "stdout",
     "output_type": "stream",
     "text": [
      "Processing entry McIntosh County is a county located in the U.S. st...\n"
     ]
    },
    {
     "name": "stderr",
     "output_type": "stream",
     "text": [
      "100%|██████████| 1732/1732 [00:00<00:00, 365033.64it/s]\n",
      " 35%|███▍      | 1420/4109 [08:35<14:13,  3.15it/s]"
     ]
    },
    {
     "name": "stdout",
     "output_type": "stream",
     "text": [
      "Processing entry Greenwich Mean Time is the mean solar time at the ...\n"
     ]
    },
    {
     "name": "stderr",
     "output_type": "stream",
     "text": [
      "100%|██████████| 1666/1666 [00:00<00:00, 432514.88it/s]\n",
      " 35%|███▍      | 1421/4109 [08:35<12:36,  3.55it/s]"
     ]
    },
    {
     "name": "stdout",
     "output_type": "stream",
     "text": [
      "Processing entry Names of the Serbs and Serbia are terms and other ...\n"
     ]
    },
    {
     "name": "stderr",
     "output_type": "stream",
     "text": [
      "100%|██████████| 2694/2694 [00:00<00:00, 412434.02it/s]\n",
      " 35%|███▍      | 1422/4109 [08:35<11:20,  3.95it/s]"
     ]
    },
    {
     "name": "stdout",
     "output_type": "stream",
     "text": [
      "Processing entry The Sherman Antitrust Act of 1890 is a United Stat...\n"
     ]
    },
    {
     "name": "stderr",
     "output_type": "stream",
     "text": [
      "100%|██████████| 5271/5271 [00:00<00:00, 617650.34it/s]\n",
      " 35%|███▍      | 1423/4109 [08:35<12:34,  3.56it/s]"
     ]
    },
    {
     "name": "stdout",
     "output_type": "stream",
     "text": [
      "Processing entry Scotch Irish Americans are American descendants of...\n"
     ]
    },
    {
     "name": "stderr",
     "output_type": "stream",
     "text": [
      "100%|██████████| 8673/8673 [00:00<00:00, 320002.10it/s]\n",
      " 35%|███▍      | 1424/4109 [08:36<17:41,  2.53it/s]"
     ]
    },
    {
     "name": "stdout",
     "output_type": "stream",
     "text": [
      "Processing entry Edward Charles Ted Titchmarsh was a leading Britis...\n"
     ]
    },
    {
     "name": "stderr",
     "output_type": "stream",
     "text": [
      "100%|██████████| 222/222 [00:00<00:00, 375760.89it/s]\n"
     ]
    },
    {
     "name": "stdout",
     "output_type": "stream",
     "text": [
      "Processing entry John Scott Award, created in 1816 as the John Scot...\n"
     ]
    },
    {
     "name": "stderr",
     "output_type": "stream",
     "text": [
      "100%|██████████| 230/230 [00:00<00:00, 490437.17it/s]\n"
     ]
    },
    {
     "name": "stdout",
     "output_type": "stream",
     "text": [
      "Processing entry Omni was a science and science fiction magazine pu...\n"
     ]
    },
    {
     "name": "stderr",
     "output_type": "stream",
     "text": [
      "100%|██████████| 2075/2075 [00:00<00:00, 457364.07it/s]\n",
      " 35%|███▍      | 1427/4109 [08:36<09:58,  4.48it/s]"
     ]
    },
    {
     "name": "stdout",
     "output_type": "stream",
     "text": [
      "Processing entry Integrated Services Digital Network is a set of co...\n"
     ]
    },
    {
     "name": "stderr",
     "output_type": "stream",
     "text": [
      "100%|██████████| 5638/5638 [00:00<00:00, 607404.86it/s]\n",
      " 35%|███▍      | 1428/4109 [08:37<12:04,  3.70it/s]"
     ]
    },
    {
     "name": "stdout",
     "output_type": "stream",
     "text": [
      "Processing entry The president of Germany, officially the Federal P...\n"
     ]
    },
    {
     "name": "stderr",
     "output_type": "stream",
     "text": [
      "100%|██████████| 5806/5806 [00:00<00:00, 634103.97it/s]\n",
      " 35%|███▍      | 1429/4109 [08:37<12:40,  3.52it/s]"
     ]
    },
    {
     "name": "stdout",
     "output_type": "stream",
     "text": [
      "Processing entry The Battle of Tirad Pass , sometimes referred to a...\n"
     ]
    },
    {
     "name": "stderr",
     "output_type": "stream",
     "text": [
      "100%|██████████| 1260/1260 [00:00<00:00, 354210.66it/s]\n",
      " 35%|███▍      | 1430/4109 [08:37<10:42,  4.17it/s]"
     ]
    },
    {
     "name": "stdout",
     "output_type": "stream",
     "text": [
      "Processing entry James Grover Thurber was an American cartoonist, w...\n"
     ]
    },
    {
     "name": "stderr",
     "output_type": "stream",
     "text": [
      "100%|██████████| 3439/3439 [00:00<00:00, 311726.56it/s]\n",
      " 35%|███▍      | 1431/4109 [08:38<11:39,  3.83it/s]"
     ]
    },
    {
     "name": "stdout",
     "output_type": "stream",
     "text": [
      "Processing entry A still is an apparatus used to distill liquid mix...\n"
     ]
    },
    {
     "name": "stderr",
     "output_type": "stream",
     "text": [
      "100%|██████████| 630/630 [00:00<00:00, 489970.61it/s]\n"
     ]
    },
    {
     "name": "stdout",
     "output_type": "stream",
     "text": [
      "Processing entry Dr. Henry Jekyll, nicknamed in some copies of the ...\n"
     ]
    },
    {
     "name": "stderr",
     "output_type": "stream",
     "text": [
      "100%|██████████| 5328/5328 [00:00<00:00, 487473.59it/s]\n",
      " 35%|███▍      | 1433/4109 [08:38<11:19,  3.94it/s]"
     ]
    },
    {
     "name": "stdout",
     "output_type": "stream",
     "text": [
      "Processing entry Irish Roman Catholics are an ethnoreligious group ...\n"
     ]
    },
    {
     "name": "stderr",
     "output_type": "stream",
     "text": [
      "100%|██████████| 1125/1125 [00:00<00:00, 242401.73it/s]\n",
      " 35%|███▍      | 1434/4109 [08:38<09:48,  4.54it/s]"
     ]
    },
    {
     "name": "stdout",
     "output_type": "stream",
     "text": [
      "Processing entry H, or h, is the eighth letter in the ISO basic Lat...\n"
     ]
    },
    {
     "name": "stderr",
     "output_type": "stream",
     "text": [
      "100%|██████████| 2246/2246 [00:00<00:00, 406735.75it/s]\n",
      " 35%|███▍      | 1435/4109 [08:38<09:31,  4.68it/s]"
     ]
    },
    {
     "name": "stdout",
     "output_type": "stream",
     "text": [
      "Processing entry A bracket is either of two tall fore or back facin...\n"
     ]
    },
    {
     "name": "stderr",
     "output_type": "stream",
     "text": [
      "100%|██████████| 4433/4433 [00:00<00:00, 1070552.14it/s]\n",
      " 35%|███▍      | 1436/4109 [08:39<11:21,  3.92it/s]"
     ]
    },
    {
     "name": "stdout",
     "output_type": "stream",
     "text": [
      "Processing entry The Kremlin is a fortified complex in the centre o...\n"
     ]
    },
    {
     "name": "stderr",
     "output_type": "stream",
     "text": [
      "100%|██████████| 2764/2764 [00:00<00:00, 1296472.41it/s]\n",
      " 35%|███▍      | 1437/4109 [08:39<11:03,  4.03it/s]"
     ]
    },
    {
     "name": "stdout",
     "output_type": "stream",
     "text": [
      "Processing entry The Pig or sometimes translated as the Boar is the...\n"
     ]
    },
    {
     "name": "stderr",
     "output_type": "stream",
     "text": [
      "100%|██████████| 1190/1190 [00:00<00:00, 659603.77it/s]\n"
     ]
    },
    {
     "name": "stdout",
     "output_type": "stream",
     "text": [
      "Processing entry The Negro Rebellion , Armed Uprising of the Indepe...\n"
     ]
    },
    {
     "name": "stderr",
     "output_type": "stream",
     "text": [
      "100%|██████████| 1105/1105 [00:00<00:00, 605131.99it/s]\n",
      " 35%|███▌      | 1439/4109 [08:39<08:02,  5.53it/s]"
     ]
    },
    {
     "name": "stdout",
     "output_type": "stream",
     "text": [
      "Processing entry Jacob Gould Schurman was a Canadian born American ...\n"
     ]
    },
    {
     "name": "stderr",
     "output_type": "stream",
     "text": [
      "100%|██████████| 1058/1058 [00:00<00:00, 309260.13it/s]\n"
     ]
    },
    {
     "name": "stdout",
     "output_type": "stream",
     "text": [
      "Processing entry Victor Emmanuel II was King of Sardinia from 1849 ...\n"
     ]
    },
    {
     "name": "stderr",
     "output_type": "stream",
     "text": [
      "100%|██████████| 2704/2704 [00:00<00:00, 355184.55it/s]\n",
      " 35%|███▌      | 1441/4109 [08:40<07:45,  5.74it/s]"
     ]
    },
    {
     "name": "stdout",
     "output_type": "stream",
     "text": [
      "Processing entry On May 16, 1918, a plantation owner was murdered, ...\n"
     ]
    },
    {
     "name": "stderr",
     "output_type": "stream",
     "text": [
      "100%|██████████| 3189/3189 [00:00<00:00, 586342.08it/s]\n",
      " 35%|███▌      | 1442/4109 [08:40<08:06,  5.48it/s]"
     ]
    },
    {
     "name": "stdout",
     "output_type": "stream",
     "text": [
      "Processing entry Paul David Hewson , known by his stage name Bono ,...\n"
     ]
    },
    {
     "name": "stderr",
     "output_type": "stream",
     "text": [
      "100%|██████████| 6934/6934 [00:00<00:00, 300224.05it/s]\n",
      " 35%|███▌      | 1443/4109 [08:40<12:18,  3.61it/s]"
     ]
    },
    {
     "name": "stdout",
     "output_type": "stream",
     "text": [
      "Processing entry June is the sixth month of the year in the Julian ...\n"
     ]
    },
    {
     "name": "stderr",
     "output_type": "stream",
     "text": [
      "100%|██████████| 1940/1940 [00:00<00:00, 175755.44it/s]\n",
      " 35%|███▌      | 1444/4109 [08:41<11:22,  3.90it/s]"
     ]
    },
    {
     "name": "stdout",
     "output_type": "stream",
     "text": [
      "Processing entry The Ibero American Exposition of 1929 was a world'...\n"
     ]
    },
    {
     "name": "stderr",
     "output_type": "stream",
     "text": [
      "100%|██████████| 1456/1456 [00:00<00:00, 387518.66it/s]\n",
      " 35%|███▌      | 1445/4109 [08:41<09:53,  4.49it/s]"
     ]
    },
    {
     "name": "stdout",
     "output_type": "stream",
     "text": [
      "Processing entry Belarus, officially the Republic of Belarus, is a ...\n"
     ]
    },
    {
     "name": "stderr",
     "output_type": "stream",
     "text": [
      "100%|██████████| 9834/9834 [00:00<00:00, 511708.63it/s]\n",
      " 35%|███▌      | 1446/4109 [08:41<14:34,  3.04it/s]"
     ]
    },
    {
     "name": "stdout",
     "output_type": "stream",
     "text": [
      "Processing entry December 21 is the 355th day of the year in the Gr...\n"
     ]
    },
    {
     "name": "stderr",
     "output_type": "stream",
     "text": [
      "100%|██████████| 3046/3046 [00:00<00:00, 206889.66it/s]\n",
      " 35%|███▌      | 1447/4109 [08:42<14:03,  3.16it/s]"
     ]
    },
    {
     "name": "stdout",
     "output_type": "stream",
     "text": [
      "Processing entry William B. Eerdmans Publishing Company is a religi...\n"
     ]
    },
    {
     "name": "stderr",
     "output_type": "stream",
     "text": [
      "100%|██████████| 347/347 [00:00<00:00, 468132.35it/s]\n"
     ]
    },
    {
     "name": "stdout",
     "output_type": "stream",
     "text": [
      "Processing entry This is a list of state leaders in the 19th centur...\n"
     ]
    },
    {
     "name": "stderr",
     "output_type": "stream",
     "text": [
      "100%|██████████| 14675/14675 [00:00<00:00, 32792.93it/s]\n",
      " 35%|███▌      | 1449/4109 [08:44<27:19,  1.62it/s]"
     ]
    },
    {
     "name": "stdout",
     "output_type": "stream",
     "text": [
      "Processing entry Qingdao is a major city in eastern Shandong Provin...\n"
     ]
    },
    {
     "name": "stderr",
     "output_type": "stream",
     "text": [
      "100%|██████████| 5243/5243 [00:00<00:00, 366616.14it/s]\n",
      " 35%|███▌      | 1450/4109 [08:44<24:49,  1.78it/s]"
     ]
    },
    {
     "name": "stdout",
     "output_type": "stream",
     "text": [
      "Processing entry A video coding format is a content representation ...\n"
     ]
    },
    {
     "name": "stderr",
     "output_type": "stream",
     "text": [
      "100%|██████████| 2622/2622 [00:00<00:00, 934761.16it/s]\n",
      " 35%|███▌      | 1451/4109 [08:44<20:52,  2.12it/s]"
     ]
    },
    {
     "name": "stdout",
     "output_type": "stream",
     "text": [
      "Processing entry Federal elections were held in Germany on 4 May 19...\n"
     ]
    },
    {
     "name": "stderr",
     "output_type": "stream",
     "text": [
      "100%|██████████| 201/201 [00:00<00:00, 550656.50it/s]\n"
     ]
    },
    {
     "name": "stdout",
     "output_type": "stream",
     "text": [
      "Processing entry Bunyoro is a Bantu kingdom in Western Uganda. It w...\n"
     ]
    },
    {
     "name": "stderr",
     "output_type": "stream",
     "text": [
      "100%|██████████| 3592/3592 [00:00<00:00, 645443.41it/s]\n",
      " 35%|███▌      | 1453/4109 [08:44<15:02,  2.94it/s]"
     ]
    },
    {
     "name": "stdout",
     "output_type": "stream",
     "text": [
      "Processing entry The Katipunan, officially known as the Kataastaasa...\n"
     ]
    },
    {
     "name": "stderr",
     "output_type": "stream",
     "text": [
      "100%|██████████| 10781/10781 [00:00<00:00, 224178.35it/s]\n",
      " 35%|███▌      | 1454/4109 [08:45<21:46,  2.03it/s]"
     ]
    },
    {
     "name": "stdout",
     "output_type": "stream",
     "text": [
      "Processing entry A cellular network or mobile network is a communic...\n"
     ]
    },
    {
     "name": "stderr",
     "output_type": "stream",
     "text": [
      "100%|██████████| 4104/4104 [00:00<00:00, 496436.05it/s]\n",
      " 35%|███▌      | 1455/4109 [08:46<19:30,  2.27it/s]"
     ]
    },
    {
     "name": "stdout",
     "output_type": "stream",
     "text": [
      "Processing entry December 1 is the 335th day of the year in the Gre...\n"
     ]
    },
    {
     "name": "stderr",
     "output_type": "stream",
     "text": [
      "100%|██████████| 4317/4317 [00:00<00:00, 98721.52it/s]\n",
      " 35%|███▌      | 1456/4109 [08:46<19:59,  2.21it/s]"
     ]
    },
    {
     "name": "stdout",
     "output_type": "stream",
     "text": [
      "Processing entry A computer network is a set of computers sharing r...\n"
     ]
    },
    {
     "name": "stderr",
     "output_type": "stream",
     "text": [
      "100%|██████████| 8794/8794 [00:00<00:00, 545268.82it/s]\n",
      " 35%|███▌      | 1457/4109 [08:47<23:14,  1.90it/s]"
     ]
    },
    {
     "name": "stdout",
     "output_type": "stream",
     "text": [
      "Processing entry Collective farming and communal farming are variou...\n"
     ]
    },
    {
     "name": "stderr",
     "output_type": "stream",
     "text": [
      "100%|██████████| 4909/4909 [00:00<00:00, 1215385.06it/s]\n",
      " 35%|███▌      | 1458/4109 [08:47<21:08,  2.09it/s]"
     ]
    },
    {
     "name": "stdout",
     "output_type": "stream",
     "text": [
      "Processing entry 1890 was a common year starting on Wednesday of th...\n"
     ]
    },
    {
     "name": "stderr",
     "output_type": "stream",
     "text": [
      "100%|██████████| 4042/4042 [00:00<00:00, 122000.97it/s]\n",
      " 36%|███▌      | 1459/4109 [08:48<20:12,  2.19it/s]"
     ]
    },
    {
     "name": "stdout",
     "output_type": "stream",
     "text": [
      "Processing entry The Siberian tiger or Amur tiger is a population o...\n"
     ]
    },
    {
     "name": "stderr",
     "output_type": "stream",
     "text": [
      "100%|██████████| 6900/6900 [00:00<00:00, 1303811.22it/s]\n",
      " 36%|███▌      | 1460/4109 [08:48<21:24,  2.06it/s]"
     ]
    },
    {
     "name": "stdout",
     "output_type": "stream",
     "text": [
      "Processing entry Benjamin of Petrograd , born Vasily Pavlovich Kaza...\n"
     ]
    },
    {
     "name": "stderr",
     "output_type": "stream",
     "text": [
      "100%|██████████| 1212/1212 [00:00<00:00, 469737.24it/s]\n",
      " 36%|███▌      | 1461/4109 [08:48<16:28,  2.68it/s]"
     ]
    },
    {
     "name": "stdout",
     "output_type": "stream",
     "text": [
      "Processing entry Chwa II Kabalega , was the ruler or Omukama of Bun...\n"
     ]
    },
    {
     "name": "stderr",
     "output_type": "stream",
     "text": [
      "100%|██████████| 370/370 [00:00<00:00, 711877.28it/s]\n"
     ]
    },
    {
     "name": "stdout",
     "output_type": "stream",
     "text": [
      "Processing entry The Congregation of the Oratory of Jesus and Mary ...\n"
     ]
    },
    {
     "name": "stderr",
     "output_type": "stream",
     "text": [
      "100%|██████████| 1104/1104 [00:00<00:00, 471827.15it/s]\n",
      " 36%|███▌      | 1463/4109 [08:49<10:51,  4.06it/s]"
     ]
    },
    {
     "name": "stdout",
     "output_type": "stream",
     "text": [
      "Processing entry Amies is a surname. Notable people with the surnam...\n"
     ]
    },
    {
     "name": "stderr",
     "output_type": "stream",
     "text": [
      "100%|██████████| 38/38 [00:00<00:00, 101582.89it/s]\n"
     ]
    },
    {
     "name": "stdout",
     "output_type": "stream",
     "text": [
      "Processing entry Egypt , officially the Arab Republic of Egypt, is ...\n"
     ]
    },
    {
     "name": "stderr",
     "output_type": "stream",
     "text": [
      "100%|██████████| 15920/15920 [00:00<00:00, 395811.02it/s]\n",
      " 36%|███▌      | 1465/4109 [08:50<17:14,  2.56it/s]"
     ]
    },
    {
     "name": "stdout",
     "output_type": "stream",
     "text": [
      "Processing entry The Army of Africa or Moroccan Army Corps was a fi...\n"
     ]
    },
    {
     "name": "stderr",
     "output_type": "stream",
     "text": [
      "100%|██████████| 1162/1162 [00:00<00:00, 496311.74it/s]\n",
      " 36%|███▌      | 1466/4109 [08:50<14:26,  3.05it/s]"
     ]
    },
    {
     "name": "stdout",
     "output_type": "stream",
     "text": [
      "Processing entry The coulomb is the unit of electric charge in the ...\n"
     ]
    },
    {
     "name": "stderr",
     "output_type": "stream",
     "text": [
      "100%|██████████| 663/663 [00:00<00:00, 1753356.59it/s]\n"
     ]
    },
    {
     "name": "stdout",
     "output_type": "stream",
     "text": [
      "Processing entry The American Civil War was a civil war in the Unit...\n"
     ]
    },
    {
     "name": "stderr",
     "output_type": "stream",
     "text": [
      "100%|██████████| 18959/18959 [00:00<00:00, 410179.25it/s]\n",
      " 36%|███▌      | 1468/4109 [08:51<22:27,  1.96it/s]"
     ]
    },
    {
     "name": "stdout",
     "output_type": "stream",
     "text": [
      "Processing entry The Progressive utilization theory is a socioecono...\n"
     ]
    },
    {
     "name": "stderr",
     "output_type": "stream",
     "text": [
      "100%|██████████| 3014/3014 [00:00<00:00, 743800.44it/s]\n",
      " 36%|███▌      | 1469/4109 [08:52<19:37,  2.24it/s]"
     ]
    },
    {
     "name": "stdout",
     "output_type": "stream",
     "text": [
      "Processing entry William Arnold Anthony was a U.S. physicist.  Biog...\n"
     ]
    },
    {
     "name": "stderr",
     "output_type": "stream",
     "text": [
      "100%|██████████| 531/531 [00:00<00:00, 295812.91it/s]\n"
     ]
    },
    {
     "name": "stdout",
     "output_type": "stream",
     "text": [
      "Processing entry February 16 is the 47th day of the year in the Gre...\n"
     ]
    },
    {
     "name": "stderr",
     "output_type": "stream",
     "text": [
      "100%|██████████| 3281/3281 [00:00<00:00, 162203.55it/s]\n",
      " 36%|███▌      | 1471/4109 [08:52<15:51,  2.77it/s]"
     ]
    },
    {
     "name": "stdout",
     "output_type": "stream",
     "text": [
      "Processing entry Opanci are traditional peasant shoes worn in South...\n"
     ]
    },
    {
     "name": "stderr",
     "output_type": "stream",
     "text": [
      "100%|██████████| 1353/1353 [00:00<00:00, 502781.37it/s]\n",
      " 36%|███▌      | 1472/4109 [08:52<13:55,  3.16it/s]"
     ]
    },
    {
     "name": "stdout",
     "output_type": "stream",
     "text": [
      "Processing entry Johannes Hermanus Michiel 'Jan' Kock was a Boer ge...\n"
     ]
    },
    {
     "name": "stderr",
     "output_type": "stream",
     "text": [
      "100%|██████████| 376/376 [00:00<00:00, 697813.41it/s]\n"
     ]
    },
    {
     "name": "stdout",
     "output_type": "stream",
     "text": [
      "Processing entry Aum hle is a municipality in Schleswig Holstein in...\n"
     ]
    },
    {
     "name": "stderr",
     "output_type": "stream",
     "text": [
      "100%|██████████| 263/263 [00:00<00:00, 342365.60it/s]\n"
     ]
    },
    {
     "name": "stdout",
     "output_type": "stream",
     "text": [
      "Processing entry The Besshi copper mine was a rich source of copper...\n"
     ]
    },
    {
     "name": "stderr",
     "output_type": "stream",
     "text": [
      "100%|██████████| 107/107 [00:00<00:00, 166095.68it/s]\n",
      " 36%|███▌      | 1475/4109 [08:52<08:04,  5.44it/s]"
     ]
    },
    {
     "name": "stdout",
     "output_type": "stream",
     "text": [
      "Processing entry Eugenie Peterson , known as Indra Devi, was a pion...\n"
     ]
    },
    {
     "name": "stderr",
     "output_type": "stream",
     "text": [
      "100%|██████████| 2208/2208 [00:00<00:00, 201475.51it/s]\n"
     ]
    },
    {
     "name": "stdout",
     "output_type": "stream",
     "text": [
      "Processing entry The Litvinov Protocol is the common name of an int...\n"
     ]
    },
    {
     "name": "stderr",
     "output_type": "stream",
     "text": [
      "100%|██████████| 1196/1196 [00:00<00:00, 28974.85it/s]\n",
      " 36%|███▌      | 1477/4109 [08:53<08:30,  5.15it/s]"
     ]
    },
    {
     "name": "stdout",
     "output_type": "stream",
     "text": [
      "Processing entry Frank Julian Sprague was an American naval officer...\n"
     ]
    },
    {
     "name": "stderr",
     "output_type": "stream",
     "text": [
      "100%|██████████| 2622/2622 [00:00<00:00, 417916.21it/s]\n",
      " 36%|███▌      | 1478/4109 [08:53<08:18,  5.28it/s]"
     ]
    },
    {
     "name": "stdout",
     "output_type": "stream",
     "text": [
      "Processing entry Sir John Fearns Nicoll was a British colonial admi...\n"
     ]
    },
    {
     "name": "stderr",
     "output_type": "stream",
     "text": [
      "100%|██████████| 290/290 [00:00<00:00, 271809.64it/s]"
     ]
    },
    {
     "name": "stdout",
     "output_type": "stream",
     "text": [
      "Processing entry The American frontier, also known as the Old West ...\n"
     ]
    },
    {
     "name": "stderr",
     "output_type": "stream",
     "text": [
      "\n",
      "100%|██████████| 26619/26619 [00:00<00:00, 708823.32it/s]\n",
      " 36%|███▌      | 1480/4109 [08:55<20:40,  2.12it/s]"
     ]
    },
    {
     "name": "stdout",
     "output_type": "stream",
     "text": [
      "Processing entry The Second Polish Republic adopted the March Const...\n"
     ]
    },
    {
     "name": "stderr",
     "output_type": "stream",
     "text": [
      "100%|██████████| 144/144 [00:00<00:00, 71039.73it/s]\n"
     ]
    },
    {
     "name": "stdout",
     "output_type": "stream",
     "text": [
      "Processing entry Modernization theory is used to explain the proces...\n"
     ]
    },
    {
     "name": "stderr",
     "output_type": "stream",
     "text": [
      "100%|██████████| 5167/5167 [00:00<00:00, 516392.70it/s]\n",
      " 36%|███▌      | 1482/4109 [08:55<17:17,  2.53it/s]"
     ]
    },
    {
     "name": "stdout",
     "output_type": "stream",
     "text": [
      "Processing entry Bears are carnivoran mammals of the family Ursidae...\n"
     ]
    },
    {
     "name": "stderr",
     "output_type": "stream",
     "text": [
      "100%|██████████| 6332/6332 [00:00<00:00, 617578.20it/s]\n",
      " 36%|███▌      | 1483/4109 [08:56<18:10,  2.41it/s]"
     ]
    },
    {
     "name": "stdout",
     "output_type": "stream",
     "text": [
      "Processing entry The Nome Gold Rush was a gold rush in Nome, Alaska...\n"
     ]
    },
    {
     "name": "stderr",
     "output_type": "stream",
     "text": [
      "100%|██████████| 1807/1807 [00:00<00:00, 623794.84it/s]\n",
      " 36%|███▌      | 1484/4109 [08:56<15:54,  2.75it/s]"
     ]
    },
    {
     "name": "stdout",
     "output_type": "stream",
     "text": [
      "Processing entry Francis Marion Crawford was an American writer not...\n"
     ]
    },
    {
     "name": "stderr",
     "output_type": "stream",
     "text": [
      "100%|██████████| 2978/2978 [00:00<00:00, 176389.04it/s]\n",
      " 36%|███▌      | 1485/4109 [08:56<15:23,  2.84it/s]"
     ]
    },
    {
     "name": "stdout",
     "output_type": "stream",
     "text": [
      "Processing entry 1970 was a common year starting on Thursday of the...\n"
     ]
    },
    {
     "name": "stderr",
     "output_type": "stream",
     "text": [
      "100%|██████████| 8143/8143 [00:00<00:00, 151943.74it/s]\n",
      " 36%|███▌      | 1486/4109 [08:57<19:38,  2.23it/s]"
     ]
    },
    {
     "name": "stdout",
     "output_type": "stream",
     "text": [
      "Processing entry Sofia is the capital and largest city of Bulgaria....\n"
     ]
    },
    {
     "name": "stderr",
     "output_type": "stream",
     "text": [
      "100%|██████████| 9556/9556 [00:00<00:00, 452721.23it/s]\n",
      " 36%|███▌      | 1487/4109 [08:58<22:50,  1.91it/s]"
     ]
    },
    {
     "name": "stdout",
     "output_type": "stream",
     "text": [
      "Processing entry The Capture of Malolos , also known as the Battle ...\n"
     ]
    },
    {
     "name": "stderr",
     "output_type": "stream",
     "text": [
      "100%|██████████| 734/734 [00:00<00:00, 429195.47it/s]\n"
     ]
    },
    {
     "name": "stdout",
     "output_type": "stream",
     "text": [
      "Processing entry Ernest James Haycox was an American writer of West...\n"
     ]
    },
    {
     "name": "stderr",
     "output_type": "stream",
     "text": [
      "100%|██████████| 1519/1519 [00:00<00:00, 1127636.77it/s]\n",
      " 36%|███▌      | 1489/4109 [08:58<15:01,  2.91it/s]"
     ]
    },
    {
     "name": "stdout",
     "output_type": "stream",
     "text": [
      "Processing entry 1968 was a leap year starting on Monday of the Gre...\n"
     ]
    },
    {
     "name": "stderr",
     "output_type": "stream",
     "text": [
      "100%|██████████| 11066/11066 [00:00<00:00, 88645.00it/s] \n",
      " 36%|███▋      | 1490/4109 [08:59<21:58,  1.99it/s]"
     ]
    },
    {
     "name": "stdout",
     "output_type": "stream",
     "text": [
      "Processing entry August 10 is the 222nd day of the year in the Greg...\n"
     ]
    },
    {
     "name": "stderr",
     "output_type": "stream",
     "text": [
      "100%|██████████| 4808/4808 [00:00<00:00, 75673.72it/s]\n",
      " 36%|███▋      | 1491/4109 [09:00<22:21,  1.95it/s]"
     ]
    },
    {
     "name": "stdout",
     "output_type": "stream",
     "text": [
      "Processing entry Denmark is a Nordic country in Northern Europe. It...\n"
     ]
    },
    {
     "name": "stderr",
     "output_type": "stream",
     "text": [
      "100%|██████████| 14188/14188 [00:00<00:00, 294082.57it/s]\n",
      " 36%|███▋      | 1492/4109 [09:01<29:38,  1.47it/s]"
     ]
    },
    {
     "name": "stdout",
     "output_type": "stream",
     "text": [
      "Processing entry Nigeria , officially the Federal Republic of Niger...\n"
     ]
    },
    {
     "name": "stderr",
     "output_type": "stream",
     "text": [
      "100%|██████████| 18811/18811 [00:00<00:00, 292547.02it/s]\n",
      " 36%|███▋      | 1493/4109 [09:02<38:13,  1.14it/s]"
     ]
    },
    {
     "name": "stdout",
     "output_type": "stream",
     "text": [
      "Processing entry The September 11 attacks, commonly known as 9 11, ...\n"
     ]
    },
    {
     "name": "stderr",
     "output_type": "stream",
     "text": [
      "100%|██████████| 15477/15477 [00:00<00:00, 317106.77it/s]\n",
      " 36%|███▋      | 1494/4109 [09:03<40:05,  1.09it/s]"
     ]
    },
    {
     "name": "stdout",
     "output_type": "stream",
     "text": [
      "Processing entry Phillips Petroleum Company was an American oil com...\n"
     ]
    },
    {
     "name": "stderr",
     "output_type": "stream",
     "text": [
      "100%|██████████| 1483/1483 [00:00<00:00, 400938.05it/s]\n",
      " 36%|███▋      | 1495/4109 [09:03<30:06,  1.45it/s]"
     ]
    },
    {
     "name": "stdout",
     "output_type": "stream",
     "text": [
      "Processing entry The following events occurred in September 1941:  ...\n"
     ]
    },
    {
     "name": "stderr",
     "output_type": "stream",
     "text": [
      "100%|██████████| 3585/3585 [00:00<00:00, 269101.42it/s]\n",
      " 36%|███▋      | 1496/4109 [09:04<25:27,  1.71it/s]"
     ]
    },
    {
     "name": "stdout",
     "output_type": "stream",
     "text": [
      "Processing entry Carlism is a Traditionalist and Legitimist politic...\n"
     ]
    },
    {
     "name": "stderr",
     "output_type": "stream",
     "text": [
      "100%|██████████| 8528/8528 [00:00<00:00, 350124.06it/s]\n",
      " 36%|███▋      | 1497/4109 [09:04<26:45,  1.63it/s]"
     ]
    },
    {
     "name": "stdout",
     "output_type": "stream",
     "text": [
      "Processing entry 1792 was a leap year starting on Sunday of the Gre...\n"
     ]
    },
    {
     "name": "stderr",
     "output_type": "stream",
     "text": [
      "100%|██████████| 2217/2217 [00:00<00:00, 409042.89it/s]\n",
      " 36%|███▋      | 1498/4109 [09:05<21:21,  2.04it/s]"
     ]
    },
    {
     "name": "stdout",
     "output_type": "stream",
     "text": [
      "Processing entry This is a list of state leaders in the 2nd century...\n"
     ]
    },
    {
     "name": "stderr",
     "output_type": "stream",
     "text": [
      "100%|██████████| 990/990 [00:00<00:00, 225929.65it/s]\n",
      " 36%|███▋      | 1499/4109 [09:05<16:58,  2.56it/s]"
     ]
    },
    {
     "name": "stdout",
     "output_type": "stream",
     "text": [
      "Processing entry 1815 was a common year starting on Sunday of the G...\n"
     ]
    },
    {
     "name": "stderr",
     "output_type": "stream",
     "text": [
      "100%|██████████| 2214/2214 [00:00<00:00, 178060.08it/s]\n",
      " 37%|███▋      | 1500/4109 [09:05<14:42,  2.96it/s]"
     ]
    },
    {
     "name": "stdout",
     "output_type": "stream",
     "text": [
      "Processing entry Scooby Doo, Where Are You! is an American animated...\n"
     ]
    },
    {
     "name": "stderr",
     "output_type": "stream",
     "text": [
      "100%|██████████| 1433/1433 [00:00<00:00, 462412.50it/s]\n",
      " 37%|███▋      | 1501/4109 [09:05<11:48,  3.68it/s]"
     ]
    },
    {
     "name": "stdout",
     "output_type": "stream",
     "text": [
      "Processing entry Herbert Eugene Ives was a scientist and engineer w...\n"
     ]
    },
    {
     "name": "stderr",
     "output_type": "stream",
     "text": [
      "100%|██████████| 1018/1018 [00:00<00:00, 1647299.95it/s]"
     ]
    },
    {
     "name": "stdout",
     "output_type": "stream",
     "text": [
      "Processing entry June 5 is the 156th day of the year in the Gregori...\n"
     ]
    },
    {
     "name": "stderr",
     "output_type": "stream",
     "text": [
      "\n",
      "100%|██████████| 3758/3758 [00:00<00:00, 130132.71it/s]\n",
      " 37%|███▋      | 1503/4109 [09:06<11:48,  3.68it/s]"
     ]
    },
    {
     "name": "stdout",
     "output_type": "stream",
     "text": [
      "Processing entry John Johnstone Wallack , was an American actor man...\n"
     ]
    },
    {
     "name": "stderr",
     "output_type": "stream",
     "text": [
      "100%|██████████| 723/723 [00:00<00:00, 339583.63it/s]\n"
     ]
    },
    {
     "name": "stdout",
     "output_type": "stream",
     "text": [
      "Processing entry Saint George , Latin: Georgius, Arabic:   ; died 2...\n"
     ]
    },
    {
     "name": "stderr",
     "output_type": "stream",
     "text": [
      "100%|██████████| 7242/7242 [00:00<00:00, 575079.98it/s]\n",
      " 37%|███▋      | 1505/4109 [09:06<12:19,  3.52it/s]"
     ]
    },
    {
     "name": "stdout",
     "output_type": "stream",
     "text": [
      "Processing entry In economics, demand is the quantity of a good tha...\n"
     ]
    },
    {
     "name": "stderr",
     "output_type": "stream",
     "text": [
      "100%|██████████| 3603/3603 [00:00<00:00, 749383.98it/s]\n",
      " 37%|███▋      | 1506/4109 [09:07<12:12,  3.55it/s]"
     ]
    },
    {
     "name": "stdout",
     "output_type": "stream",
     "text": [
      "Processing entry The Elbe ; Czech: Labe lab ; Low German: Ilv or El...\n"
     ]
    },
    {
     "name": "stderr",
     "output_type": "stream",
     "text": [
      "100%|██████████| 2426/2426 [00:00<00:00, 286050.31it/s]\n",
      " 37%|███▋      | 1507/4109 [09:07<11:32,  3.76it/s]"
     ]
    },
    {
     "name": "stdout",
     "output_type": "stream",
     "text": [
      "Processing entry Serbia, like most former monarchies in Europe, has...\n"
     ]
    },
    {
     "name": "stderr",
     "output_type": "stream",
     "text": [
      "100%|██████████| 424/424 [00:00<00:00, 488433.09it/s]\n"
     ]
    },
    {
     "name": "stdout",
     "output_type": "stream",
     "text": [
      "Processing entry May 20 is the 140th day of the year in the Gregori...\n"
     ]
    },
    {
     "name": "stderr",
     "output_type": "stream",
     "text": [
      "100%|██████████| 4316/4316 [00:00<00:00, 86292.51it/s]\n",
      " 37%|███▋      | 1509/4109 [09:07<12:01,  3.60it/s]"
     ]
    },
    {
     "name": "stdout",
     "output_type": "stream",
     "text": [
      "Processing entry 1774 was a common year starting on Saturday of the...\n"
     ]
    },
    {
     "name": "stderr",
     "output_type": "stream",
     "text": [
      "100%|██████████| 7015/7015 [00:00<00:00, 74592.58it/s]\n",
      " 37%|███▋      | 1510/4109 [09:08<17:23,  2.49it/s]"
     ]
    },
    {
     "name": "stdout",
     "output_type": "stream",
     "text": [
      "Processing entry In rail transport, a train is a series of connecte...\n"
     ]
    },
    {
     "name": "stderr",
     "output_type": "stream",
     "text": [
      "100%|██████████| 4878/4878 [00:00<00:00, 710065.07it/s]\n",
      " 37%|███▋      | 1511/4109 [09:09<17:03,  2.54it/s]"
     ]
    },
    {
     "name": "stdout",
     "output_type": "stream",
     "text": [
      "Processing entry Atmospheric electricity is the study of electrical...\n"
     ]
    },
    {
     "name": "stderr",
     "output_type": "stream",
     "text": [
      "100%|██████████| 2619/2619 [00:00<00:00, 709938.74it/s]\n",
      " 37%|███▋      | 1512/4109 [09:09<15:03,  2.87it/s]"
     ]
    },
    {
     "name": "stdout",
     "output_type": "stream",
     "text": [
      "Processing entry The Congress of Deputies is the lower house of the...\n"
     ]
    },
    {
     "name": "stderr",
     "output_type": "stream",
     "text": [
      "100%|██████████| 2332/2332 [00:00<00:00, 517628.97it/s]\n",
      " 37%|███▋      | 1513/4109 [09:09<12:59,  3.33it/s]"
     ]
    },
    {
     "name": "stdout",
     "output_type": "stream",
     "text": [
      "Processing entry May is the fifth month of the year in the Julian a...\n"
     ]
    },
    {
     "name": "stderr",
     "output_type": "stream",
     "text": [
      "100%|██████████| 2648/2648 [00:00<00:00, 222077.04it/s]\n",
      " 37%|███▋      | 1514/4109 [09:09<12:35,  3.44it/s]"
     ]
    },
    {
     "name": "stdout",
     "output_type": "stream",
     "text": [
      "Processing entry 1992 was a leap year starting on Wednesday of the ...\n"
     ]
    },
    {
     "name": "stderr",
     "output_type": "stream",
     "text": [
      "100%|██████████| 7637/7637 [00:00<00:00, 86748.78it/s]\n",
      " 37%|███▋      | 1515/4109 [09:10<19:05,  2.27it/s]"
     ]
    },
    {
     "name": "stdout",
     "output_type": "stream",
     "text": [
      "Processing entry Green is the color between cyan and yellow on the ...\n"
     ]
    },
    {
     "name": "stderr",
     "output_type": "stream",
     "text": [
      "100%|██████████| 7806/7806 [00:00<00:00, 590870.71it/s]\n",
      " 37%|███▋      | 1516/4109 [09:11<20:37,  2.10it/s]"
     ]
    },
    {
     "name": "stdout",
     "output_type": "stream",
     "text": [
      "Processing entry Jos Manuel Inocencio Pando Solares was a Bolivian ...\n"
     ]
    },
    {
     "name": "stderr",
     "output_type": "stream",
     "text": [
      "100%|██████████| 1382/1382 [00:00<00:00, 500002.43it/s]\n",
      " 37%|███▋      | 1517/4109 [09:11<16:05,  2.68it/s]"
     ]
    },
    {
     "name": "stdout",
     "output_type": "stream",
     "text": [
      "Processing entry 100 or one hundred is the natural number following...\n"
     ]
    },
    {
     "name": "stderr",
     "output_type": "stream",
     "text": [
      "100%|██████████| 775/775 [00:00<00:00, 554329.06it/s]\n",
      " 37%|███▋      | 1518/4109 [09:11<12:37,  3.42it/s]"
     ]
    },
    {
     "name": "stdout",
     "output_type": "stream",
     "text": [
      "Processing entry 1998 was a common year starting on Thursday of the...\n"
     ]
    },
    {
     "name": "stderr",
     "output_type": "stream",
     "text": [
      "100%|██████████| 5469/5469 [00:00<00:00, 100053.43it/s]\n",
      " 37%|███▋      | 1519/4109 [09:11<16:10,  2.67it/s]"
     ]
    },
    {
     "name": "stdout",
     "output_type": "stream",
     "text": [
      "Processing entry 1855 was a common year starting on Monday of the G...\n"
     ]
    },
    {
     "name": "stderr",
     "output_type": "stream",
     "text": [
      "100%|██████████| 1787/1787 [00:00<00:00, 153707.14it/s]\n",
      " 37%|███▋      | 1520/4109 [09:12<13:17,  3.25it/s]"
     ]
    },
    {
     "name": "stdout",
     "output_type": "stream",
     "text": [
      "Processing entry June 25 is the 176th day of the year in the Gregor...\n"
     ]
    },
    {
     "name": "stderr",
     "output_type": "stream",
     "text": [
      "100%|██████████| 3877/3877 [00:00<00:00, 144470.55it/s]\n",
      " 37%|███▋      | 1521/4109 [09:12<15:02,  2.87it/s]"
     ]
    },
    {
     "name": "stdout",
     "output_type": "stream",
     "text": [
      "Processing entry The Second Boer War , also known as the Boer War, ...\n"
     ]
    },
    {
     "name": "stderr",
     "output_type": "stream",
     "text": [
      "100%|██████████| 21146/21146 [00:00<00:00, 383677.25it/s]\n",
      " 37%|███▋      | 1522/4109 [09:13<30:07,  1.43it/s]"
     ]
    },
    {
     "name": "stdout",
     "output_type": "stream",
     "text": [
      "Processing entry Sir Winston Leonard Spencer Churchill, was a Briti...\n"
     ]
    },
    {
     "name": "stderr",
     "output_type": "stream",
     "text": [
      "100%|██████████| 19878/19878 [00:00<00:00, 537625.18it/s]\n",
      " 37%|███▋      | 1523/4109 [09:15<39:22,  1.09it/s]"
     ]
    },
    {
     "name": "stdout",
     "output_type": "stream",
     "text": [
      "Processing entry 1799 was a common year starting on Tuesday of the ...\n"
     ]
    },
    {
     "name": "stderr",
     "output_type": "stream",
     "text": [
      "100%|██████████| 2202/2202 [00:00<00:00, 149440.28it/s]\n",
      " 37%|███▋      | 1524/4109 [09:15<30:10,  1.43it/s]"
     ]
    },
    {
     "name": "stdout",
     "output_type": "stream",
     "text": [
      "Processing entry December 2 is the 336th day of the year in the Gre...\n"
     ]
    },
    {
     "name": "stderr",
     "output_type": "stream",
     "text": [
      "100%|██████████| 4075/4075 [00:00<00:00, 272792.10it/s]\n",
      " 37%|███▋      | 1525/4109 [09:16<26:44,  1.61it/s]"
     ]
    },
    {
     "name": "stdout",
     "output_type": "stream",
     "text": [
      "Processing entry Der Januskopf is a 1920 German silent film directe...\n"
     ]
    },
    {
     "name": "stderr",
     "output_type": "stream",
     "text": [
      "100%|██████████| 1014/1014 [00:00<00:00, 466801.04it/s]\n",
      " 37%|███▋      | 1526/4109 [09:16<20:37,  2.09it/s]"
     ]
    },
    {
     "name": "stdout",
     "output_type": "stream",
     "text": [
      "Processing entry Jean Etienne Valluy was a French general.  Early l...\n"
     ]
    },
    {
     "name": "stderr",
     "output_type": "stream",
     "text": [
      "100%|██████████| 942/942 [00:00<00:00, 535878.80it/s]\n",
      " 37%|███▋      | 1527/4109 [09:16<15:43,  2.74it/s]"
     ]
    },
    {
     "name": "stdout",
     "output_type": "stream",
     "text": [
      "Processing entry The Lower East Side, sometimes abbreviated as LES ...\n"
     ]
    },
    {
     "name": "stderr",
     "output_type": "stream",
     "text": [
      "100%|██████████| 6161/6161 [00:00<00:00, 339688.29it/s]\n",
      " 37%|███▋      | 1528/4109 [09:16<17:31,  2.45it/s]"
     ]
    },
    {
     "name": "stdout",
     "output_type": "stream",
     "text": [
      "Processing entry Pope Pius XII , born Eugenio Maria Giuseppe Giovan...\n"
     ]
    },
    {
     "name": "stderr",
     "output_type": "stream",
     "text": [
      "100%|██████████| 20505/20505 [00:00<00:00, 301703.50it/s]\n",
      " 37%|███▋      | 1529/4109 [09:18<34:56,  1.23it/s]"
     ]
    },
    {
     "name": "stdout",
     "output_type": "stream",
     "text": [
      "Processing entry Binoculars or field glasses are two refracting tel...\n"
     ]
    },
    {
     "name": "stderr",
     "output_type": "stream",
     "text": [
      "100%|██████████| 8777/8777 [00:00<00:00, 1238424.48it/s]\n",
      " 37%|███▋      | 1530/4109 [09:19<34:21,  1.25it/s]"
     ]
    },
    {
     "name": "stdout",
     "output_type": "stream",
     "text": [
      "Processing entry 1844 was a leap year starting on Monday of the Gre...\n"
     ]
    },
    {
     "name": "stderr",
     "output_type": "stream",
     "text": [
      "100%|██████████| 2297/2297 [00:00<00:00, 283938.47it/s]\n",
      " 37%|███▋      | 1531/4109 [09:19<27:31,  1.56it/s]"
     ]
    },
    {
     "name": "stdout",
     "output_type": "stream",
     "text": [
      "Processing entry May is the fifth month of the year in the Julian a...\n"
     ]
    },
    {
     "name": "stderr",
     "output_type": "stream",
     "text": [
      "100%|██████████| 2648/2648 [00:00<00:00, 148562.29it/s]\n",
      " 37%|███▋      | 1532/4109 [09:19<22:54,  1.87it/s]"
     ]
    },
    {
     "name": "stdout",
     "output_type": "stream",
     "text": [
      "Processing entry Events in the year 1899 in Bulgaria.  Incumbents  ...\n"
     ]
    },
    {
     "name": "stderr",
     "output_type": "stream",
     "text": [
      "100%|██████████| 34/34 [00:00<00:00, 67972.51it/s]\n"
     ]
    },
    {
     "name": "stdout",
     "output_type": "stream",
     "text": [
      "Processing entry June 3 is the 154th day of the year in the Gregori...\n"
     ]
    },
    {
     "name": "stderr",
     "output_type": "stream",
     "text": [
      "100%|██████████| 3596/3596 [00:00<00:00, 290583.13it/s]\n",
      " 37%|███▋      | 1534/4109 [09:20<16:28,  2.61it/s]"
     ]
    },
    {
     "name": "stdout",
     "output_type": "stream",
     "text": [
      "Processing entry 1998 was a common year starting on Thursday of the...\n"
     ]
    },
    {
     "name": "stderr",
     "output_type": "stream",
     "text": [
      "100%|██████████| 5469/5469 [00:00<00:00, 70727.35it/s]\n",
      " 37%|███▋      | 1535/4109 [09:20<17:55,  2.39it/s]"
     ]
    },
    {
     "name": "stdout",
     "output_type": "stream",
     "text": [
      "Processing entry 1700 was an exceptional common year starting on Fr...\n"
     ]
    },
    {
     "name": "stderr",
     "output_type": "stream",
     "text": [
      "100%|██████████| 3297/3297 [00:00<00:00, 234347.65it/s]\n",
      " 37%|███▋      | 1536/4109 [09:21<16:31,  2.60it/s]"
     ]
    },
    {
     "name": "stdout",
     "output_type": "stream",
     "text": [
      "Processing entry May 13 is the 133rd day of the year in the Gregori...\n"
     ]
    },
    {
     "name": "stderr",
     "output_type": "stream",
     "text": [
      "100%|██████████| 4667/4667 [00:00<00:00, 97089.12it/s]\n",
      " 37%|███▋      | 1537/4109 [09:21<17:25,  2.46it/s]"
     ]
    },
    {
     "name": "stdout",
     "output_type": "stream",
     "text": [
      "Processing entry 1820 was a leap year starting on Saturday of the G...\n"
     ]
    },
    {
     "name": "stderr",
     "output_type": "stream",
     "text": [
      "100%|██████████| 2025/2025 [00:00<00:00, 485229.98it/s]\n",
      " 37%|███▋      | 1538/4109 [09:21<14:48,  2.89it/s]"
     ]
    },
    {
     "name": "stdout",
     "output_type": "stream",
     "text": [
      "Processing entry Tesla STEM High School is a magnet school in Redmo...\n"
     ]
    },
    {
     "name": "stderr",
     "output_type": "stream",
     "text": [
      "100%|██████████| 620/620 [00:00<00:00, 420583.61it/s]\n"
     ]
    },
    {
     "name": "stdout",
     "output_type": "stream",
     "text": [
      "Processing entry Ab urbe condita , or anno urbis conditae , abbrevi...\n"
     ]
    },
    {
     "name": "stderr",
     "output_type": "stream",
     "text": [
      "100%|██████████| 639/639 [00:00<00:00, 560585.71it/s]\n",
      " 37%|███▋      | 1540/4109 [09:21<09:30,  4.50it/s]"
     ]
    },
    {
     "name": "stdout",
     "output_type": "stream",
     "text": [
      "Processing entry Aquila is a constellation on the celestial equator...\n"
     ]
    },
    {
     "name": "stderr",
     "output_type": "stream",
     "text": [
      "100%|██████████| 2112/2112 [00:00<00:00, 460533.93it/s]\n",
      " 38%|███▊      | 1541/4109 [09:22<09:41,  4.42it/s]"
     ]
    },
    {
     "name": "stdout",
     "output_type": "stream",
     "text": [
      "Processing entry September 6 is the 249th day of the year in the Gr...\n"
     ]
    },
    {
     "name": "stderr",
     "output_type": "stream",
     "text": [
      "100%|██████████| 4349/4349 [00:00<00:00, 159339.51it/s]\n",
      " 38%|███▊      | 1542/4109 [09:22<12:57,  3.30it/s]"
     ]
    },
    {
     "name": "stdout",
     "output_type": "stream",
     "text": [
      "Processing entry Circuit switching is a method of implementing a te...\n"
     ]
    },
    {
     "name": "stderr",
     "output_type": "stream",
     "text": [
      "100%|██████████| 977/977 [00:00<00:00, 579117.44it/s]\n"
     ]
    },
    {
     "name": "stdout",
     "output_type": "stream",
     "text": [
      "Processing entry August 11 is the 223rd day of the year in the Greg...\n"
     ]
    },
    {
     "name": "stderr",
     "output_type": "stream",
     "text": [
      "100%|██████████| 3592/3592 [00:00<00:00, 115571.80it/s]\n",
      " 38%|███▊      | 1544/4109 [09:23<11:57,  3.57it/s]"
     ]
    },
    {
     "name": "stdout",
     "output_type": "stream",
     "text": [
      "Processing entry IEEE Life Sciences is an initiative launched by IE...\n"
     ]
    },
    {
     "name": "stderr",
     "output_type": "stream",
     "text": [
      "100%|██████████| 1151/1151 [00:00<00:00, 357444.39it/s]\n",
      " 38%|███▊      | 1545/4109 [09:23<10:11,  4.20it/s]"
     ]
    },
    {
     "name": "stdout",
     "output_type": "stream",
     "text": [
      "Processing entry 1960 was a leap year starting on Friday of the Gre...\n"
     ]
    },
    {
     "name": "stderr",
     "output_type": "stream",
     "text": [
      "100%|██████████| 8515/8515 [00:00<00:00, 95242.98it/s]\n",
      " 38%|███▊      | 1546/4109 [09:24<17:01,  2.51it/s]"
     ]
    },
    {
     "name": "stdout",
     "output_type": "stream",
     "text": [
      "Processing entry John Pierpont Morgan Sr. was an American financier...\n"
     ]
    },
    {
     "name": "stderr",
     "output_type": "stream",
     "text": [
      "100%|██████████| 5085/5085 [00:00<00:00, 472811.10it/s]\n",
      " 38%|███▊      | 1547/4109 [09:24<17:58,  2.38it/s]"
     ]
    },
    {
     "name": "stdout",
     "output_type": "stream",
     "text": [
      "Processing entry The following events occurred in September 1939:  ...\n"
     ]
    },
    {
     "name": "stderr",
     "output_type": "stream",
     "text": [
      "100%|██████████| 5437/5437 [00:00<00:00, 360259.57it/s]\n",
      " 38%|███▊      | 1548/4109 [09:25<19:47,  2.16it/s]"
     ]
    },
    {
     "name": "stdout",
     "output_type": "stream",
     "text": [
      "Processing entry 1987 was a common year starting on Thursday of the...\n"
     ]
    },
    {
     "name": "stderr",
     "output_type": "stream",
     "text": [
      "100%|██████████| 8453/8453 [00:00<00:00, 71638.04it/s]\n",
      " 38%|███▊      | 1549/4109 [09:26<26:46,  1.59it/s]"
     ]
    },
    {
     "name": "stdout",
     "output_type": "stream",
     "text": [
      "Processing entry In Abrahamic religions, the Sabbath or Shabbat is ...\n"
     ]
    },
    {
     "name": "stderr",
     "output_type": "stream",
     "text": [
      "100%|██████████| 5456/5456 [00:00<00:00, 470102.56it/s]\n",
      " 38%|███▊      | 1550/4109 [09:26<24:52,  1.71it/s]"
     ]
    },
    {
     "name": "stdout",
     "output_type": "stream",
     "text": [
      "Processing entry August 18 is the 230th day of the year in the Greg...\n"
     ]
    },
    {
     "name": "stderr",
     "output_type": "stream",
     "text": [
      "100%|██████████| 3837/3837 [00:00<00:00, 280087.44it/s]\n",
      " 38%|███▊      | 1551/4109 [09:27<23:13,  1.84it/s]"
     ]
    },
    {
     "name": "stdout",
     "output_type": "stream",
     "text": [
      "Processing entry The Philippines ; Filipino: Pilipinas , officially...\n"
     ]
    },
    {
     "name": "stderr",
     "output_type": "stream",
     "text": [
      "100%|██████████| 11418/11418 [00:00<00:00, 310532.05it/s]\n",
      " 38%|███▊      | 1552/4109 [09:28<27:32,  1.55it/s]"
     ]
    },
    {
     "name": "stdout",
     "output_type": "stream",
     "text": [
      "Processing entry Roger Eliot Fry was an English painter and critic,...\n"
     ]
    },
    {
     "name": "stderr",
     "output_type": "stream",
     "text": [
      "100%|██████████| 2291/2291 [00:00<00:00, 433156.80it/s]\n",
      " 38%|███▊      | 1553/4109 [09:28<21:53,  1.95it/s]"
     ]
    },
    {
     "name": "stdout",
     "output_type": "stream",
     "text": [
      "Processing entry Tivadar Pusk s de Ditr  was a Hungarian inventor, ...\n"
     ]
    },
    {
     "name": "stderr",
     "output_type": "stream",
     "text": [
      "100%|██████████| 638/638 [00:00<00:00, 243957.15it/s]\n"
     ]
    },
    {
     "name": "stdout",
     "output_type": "stream",
     "text": [
      "Processing entry September 20 is the 263rd day of the year in the G...\n"
     ]
    },
    {
     "name": "stderr",
     "output_type": "stream",
     "text": [
      "100%|██████████| 3871/3871 [00:00<00:00, 116529.35it/s]\n",
      " 38%|███▊      | 1555/4109 [09:28<16:47,  2.54it/s]"
     ]
    },
    {
     "name": "stdout",
     "output_type": "stream",
     "text": [
      "Processing entry Elizabeth Pakenham, Countess of Longford, , better...\n"
     ]
    },
    {
     "name": "stderr",
     "output_type": "stream",
     "text": [
      "100%|██████████| 679/679 [00:00<00:00, 307951.17it/s]\n"
     ]
    },
    {
     "name": "stdout",
     "output_type": "stream",
     "text": [
      "Processing entry 1789 was a common year starting on Thursday of the...\n"
     ]
    },
    {
     "name": "stderr",
     "output_type": "stream",
     "text": [
      "100%|██████████| 2644/2644 [00:00<00:00, 474853.98it/s]\n",
      " 38%|███▊      | 1557/4109 [09:29<13:34,  3.14it/s]"
     ]
    },
    {
     "name": "stdout",
     "output_type": "stream",
     "text": [
      "Processing entry Admiral of the Fleet Sir Arthur Knyvet Wilson, 3rd...\n"
     ]
    },
    {
     "name": "stderr",
     "output_type": "stream",
     "text": [
      "100%|██████████| 1954/1954 [00:00<00:00, 436962.57it/s]\n",
      " 38%|███▊      | 1558/4109 [09:29<12:36,  3.37it/s]"
     ]
    },
    {
     "name": "stdout",
     "output_type": "stream",
     "text": [
      "Processing entry 1873 was a common year starting on Wednesday of th...\n"
     ]
    },
    {
     "name": "stderr",
     "output_type": "stream",
     "text": [
      "100%|██████████| 3351/3351 [00:00<00:00, 206598.65it/s]\n",
      " 38%|███▊      | 1559/4109 [09:29<13:17,  3.20it/s]"
     ]
    },
    {
     "name": "stdout",
     "output_type": "stream",
     "text": [
      "Processing entry A cable protection system protects subsea power ca...\n"
     ]
    },
    {
     "name": "stderr",
     "output_type": "stream",
     "text": [
      "100%|██████████| 1710/1710 [00:00<00:00, 1155325.36it/s]\n",
      " 38%|███▊      | 1560/4109 [09:29<11:48,  3.60it/s]"
     ]
    },
    {
     "name": "stdout",
     "output_type": "stream",
     "text": [
      "Processing entry The Art of the United Kingdom refers to all forms ...\n"
     ]
    },
    {
     "name": "stderr",
     "output_type": "stream",
     "text": [
      "100%|██████████| 9662/9662 [00:00<00:00, 289514.46it/s]\n",
      " 38%|███▊      | 1561/4109 [09:30<17:48,  2.38it/s]"
     ]
    },
    {
     "name": "stdout",
     "output_type": "stream",
     "text": [
      "Processing entry The St. George's Church in Oplenac , also known as...\n"
     ]
    },
    {
     "name": "stderr",
     "output_type": "stream",
     "text": [
      "100%|██████████| 2613/2613 [00:00<00:00, 556104.95it/s]\n",
      " 38%|███▊      | 1562/4109 [09:30<14:40,  2.89it/s]"
     ]
    },
    {
     "name": "stdout",
     "output_type": "stream",
     "text": [
      "Processing entry The Mediterranean Sea is a sea connected to the At...\n"
     ]
    },
    {
     "name": "stderr",
     "output_type": "stream",
     "text": [
      "100%|██████████| 9773/9773 [00:00<00:00, 852255.50it/s]\n",
      " 38%|███▊      | 1563/4109 [09:31<20:33,  2.06it/s]"
     ]
    },
    {
     "name": "stdout",
     "output_type": "stream",
     "text": [
      "Processing entry World War I or the First World War, often abbrevia...\n"
     ]
    },
    {
     "name": "stderr",
     "output_type": "stream",
     "text": [
      "100%|██████████| 27884/27884 [00:00<00:00, 193738.26it/s]\n",
      " 38%|███▊      | 1564/4109 [09:33<41:43,  1.02it/s]"
     ]
    },
    {
     "name": "stdout",
     "output_type": "stream",
     "text": [
      "Processing entry The Canadian Northern Railway was a historic Canad...\n"
     ]
    },
    {
     "name": "stderr",
     "output_type": "stream",
     "text": [
      "100%|██████████| 2175/2175 [00:00<00:00, 961489.38it/s]\n",
      " 38%|███▊      | 1565/4109 [09:34<31:16,  1.36it/s]"
     ]
    },
    {
     "name": "stdout",
     "output_type": "stream",
     "text": [
      "Processing entry Ella H. Brockway Avann was a 19th century American...\n"
     ]
    },
    {
     "name": "stderr",
     "output_type": "stream",
     "text": [
      "100%|██████████| 685/685 [00:00<00:00, 477258.84it/s]\n"
     ]
    },
    {
     "name": "stdout",
     "output_type": "stream",
     "text": [
      "Processing entry Paul Julius Reuter , later titled as Freiherr von ...\n"
     ]
    },
    {
     "name": "stderr",
     "output_type": "stream",
     "text": [
      "100%|██████████| 762/762 [00:00<00:00, 456514.73it/s]\n",
      " 38%|███▊      | 1567/4109 [09:34<18:19,  2.31it/s]"
     ]
    },
    {
     "name": "stdout",
     "output_type": "stream",
     "text": [
      "Processing entry Gangrene is a type of tissue death caused by a lac...\n"
     ]
    },
    {
     "name": "stderr",
     "output_type": "stream",
     "text": [
      "100%|██████████| 1908/1908 [00:00<00:00, 689831.22it/s]\n",
      " 38%|███▊      | 1568/4109 [09:34<16:04,  2.63it/s]"
     ]
    },
    {
     "name": "stdout",
     "output_type": "stream",
     "text": [
      "Processing entry John Philip Sousa was a Portuguese American compos...\n"
     ]
    },
    {
     "name": "stderr",
     "output_type": "stream",
     "text": [
      "100%|██████████| 4275/4275 [00:00<00:00, 232373.67it/s]\n",
      " 38%|███▊      | 1569/4109 [09:35<19:48,  2.14it/s]"
     ]
    },
    {
     "name": "stdout",
     "output_type": "stream",
     "text": [
      "Processing entry The Lyric Theatre is a West End theatre in Shaftes...\n"
     ]
    },
    {
     "name": "stderr",
     "output_type": "stream",
     "text": [
      "100%|██████████| 4137/4137 [00:00<00:00, 166371.06it/s]\n",
      " 38%|███▊      | 1570/4109 [09:35<18:35,  2.28it/s]"
     ]
    },
    {
     "name": "stdout",
     "output_type": "stream",
     "text": [
      "Processing entry February 19 is the 50th day of the year in the Gre...\n"
     ]
    },
    {
     "name": "stderr",
     "output_type": "stream",
     "text": [
      "100%|██████████| 3556/3556 [00:00<00:00, 197887.05it/s]\n",
      " 38%|███▊      | 1571/4109 [09:35<18:12,  2.32it/s]"
     ]
    },
    {
     "name": "stdout",
     "output_type": "stream",
     "text": [
      "Processing entry May Irene McAvoy was an American actress who worke...\n"
     ]
    },
    {
     "name": "stderr",
     "output_type": "stream",
     "text": [
      "100%|██████████| 456/456 [00:00<00:00, 152959.26it/s]\n"
     ]
    },
    {
     "name": "stdout",
     "output_type": "stream",
     "text": [
      "Processing entry Dinosaurs are a diverse group of reptiles of the c...\n"
     ]
    },
    {
     "name": "stderr",
     "output_type": "stream",
     "text": [
      "100%|██████████| 12362/12362 [00:00<00:00, 669740.71it/s]\n",
      " 38%|███▊      | 1573/4109 [09:37<22:47,  1.85it/s]"
     ]
    },
    {
     "name": "stdout",
     "output_type": "stream",
     "text": [
      "Processing entry AVV RAP, in the long form Amsterdamsche Voetbalver...\n"
     ]
    },
    {
     "name": "stderr",
     "output_type": "stream",
     "text": [
      "100%|██████████| 988/988 [00:00<00:00, 232624.47it/s]\n",
      " 38%|███▊      | 1574/4109 [09:37<19:27,  2.17it/s]"
     ]
    },
    {
     "name": "stdout",
     "output_type": "stream",
     "text": [
      "Processing entry This article is a list of things named after the e...\n"
     ]
    },
    {
     "name": "stderr",
     "output_type": "stream",
     "text": [
      "100%|██████████| 458/458 [00:00<00:00, 31023.76it/s]\n"
     ]
    },
    {
     "name": "stdout",
     "output_type": "stream",
     "text": [
      "Processing entry The Kingdom of the Two Sicilies was a kingdom in S...\n"
     ]
    },
    {
     "name": "stderr",
     "output_type": "stream",
     "text": [
      "100%|██████████| 4957/4957 [00:00<00:00, 982383.53it/s]\n",
      " 38%|███▊      | 1576/4109 [09:38<17:09,  2.46it/s]"
     ]
    },
    {
     "name": "stdout",
     "output_type": "stream",
     "text": [
      "Processing entry 1972 was a leap year starting on Saturday of the G...\n"
     ]
    },
    {
     "name": "stderr",
     "output_type": "stream",
     "text": [
      "100%|██████████| 10114/10114 [00:00<00:00, 55053.27it/s]\n",
      " 38%|███▊      | 1577/4109 [09:39<26:36,  1.59it/s]"
     ]
    },
    {
     "name": "stdout",
     "output_type": "stream",
     "text": [
      "Processing entry The Southeast Missouri Lead District, commonly cal...\n"
     ]
    },
    {
     "name": "stderr",
     "output_type": "stream",
     "text": [
      "100%|██████████| 586/586 [00:00<00:00, 170247.43it/s]\n",
      " 38%|███▊      | 1578/4109 [09:39<21:59,  1.92it/s]"
     ]
    },
    {
     "name": "stdout",
     "output_type": "stream",
     "text": [
      "Processing entry Adolph Wilhelm Hermann Kolbe was a major contribut...\n"
     ]
    },
    {
     "name": "stderr",
     "output_type": "stream",
     "text": [
      "100%|██████████| 1284/1284 [00:00<00:00, 1552013.35it/s]\n",
      " 38%|███▊      | 1579/4109 [09:39<18:07,  2.33it/s]"
     ]
    },
    {
     "name": "stdout",
     "output_type": "stream",
     "text": [
      "Processing entry June 6 is the 157th day of the year in the Gregori...\n"
     ]
    },
    {
     "name": "stderr",
     "output_type": "stream",
     "text": [
      "100%|██████████| 2686/2686 [00:00<00:00, 85999.90it/s]\n",
      " 38%|███▊      | 1580/4109 [09:40<17:11,  2.45it/s]"
     ]
    },
    {
     "name": "stdout",
     "output_type": "stream",
     "text": [
      "Processing entry UNESCO's Memory of the World Programme is an inter...\n"
     ]
    },
    {
     "name": "stderr",
     "output_type": "stream",
     "text": [
      "100%|██████████| 1318/1318 [00:00<00:00, 1374463.62it/s]\n",
      " 38%|███▊      | 1581/4109 [09:40<14:08,  2.98it/s]"
     ]
    },
    {
     "name": "stdout",
     "output_type": "stream",
     "text": [
      "Processing entry Ka iulani was the only child of Princess Miriam Li...\n"
     ]
    },
    {
     "name": "stderr",
     "output_type": "stream",
     "text": [
      "100%|██████████| 9557/9557 [00:00<00:00, 452748.15it/s]\n",
      " 39%|███▊      | 1582/4109 [09:41<23:52,  1.76it/s]"
     ]
    },
    {
     "name": "stdout",
     "output_type": "stream",
     "text": [
      "Processing entry Marie Fran ois Sadi Carnot was a French statesman,...\n"
     ]
    },
    {
     "name": "stderr",
     "output_type": "stream",
     "text": [
      "100%|██████████| 766/766 [00:00<00:00, 1113249.09it/s]\n",
      " 39%|███▊      | 1583/4109 [09:41<18:26,  2.28it/s]"
     ]
    },
    {
     "name": "stdout",
     "output_type": "stream",
     "text": [
      "Processing entry Second lieutenant is a junior commissioned officer...\n"
     ]
    },
    {
     "name": "stderr",
     "output_type": "stream",
     "text": [
      "100%|██████████| 1465/1465 [00:00<00:00, 956217.77it/s]\n",
      " 39%|███▊      | 1584/4109 [09:41<14:41,  2.86it/s]"
     ]
    },
    {
     "name": "stdout",
     "output_type": "stream",
     "text": [
      "Processing entry The Spanish Invasion of New Granada in 1815 1816 w...\n"
     ]
    },
    {
     "name": "stderr",
     "output_type": "stream",
     "text": [
      "100%|██████████| 853/853 [00:00<00:00, 1408005.24it/s]"
     ]
    },
    {
     "name": "stdout",
     "output_type": "stream",
     "text": [
      "Processing entry December 1 is the 335th day of the year in the Gre...\n"
     ]
    },
    {
     "name": "stderr",
     "output_type": "stream",
     "text": [
      "\n",
      "100%|██████████| 4317/4317 [00:00<00:00, 261538.17it/s]\n",
      " 39%|███▊      | 1586/4109 [09:42<13:05,  3.21it/s]"
     ]
    },
    {
     "name": "stdout",
     "output_type": "stream",
     "text": [
      "Processing entry Frederick Louis, Prince of Hohenlohe Ingelfingen  ...\n"
     ]
    },
    {
     "name": "stderr",
     "output_type": "stream",
     "text": [
      "100%|██████████| 965/965 [00:00<00:00, 1251547.11it/s]\n"
     ]
    },
    {
     "name": "stdout",
     "output_type": "stream",
     "text": [
      "Processing entry The following events occurred in May 1970:  May 1,...\n"
     ]
    },
    {
     "name": "stderr",
     "output_type": "stream",
     "text": [
      "100%|██████████| 9165/9165 [00:00<00:00, 163133.58it/s]\n",
      " 39%|███▊      | 1588/4109 [09:43<14:24,  2.92it/s]"
     ]
    },
    {
     "name": "stdout",
     "output_type": "stream",
     "text": [
      "Processing entry The 1950s  was a decade that began on January 1, 1...\n"
     ]
    },
    {
     "name": "stderr",
     "output_type": "stream",
     "text": [
      "100%|██████████| 6799/6799 [00:00<00:00, 178372.17it/s]\n",
      " 39%|███▊      | 1589/4109 [09:43<18:29,  2.27it/s]"
     ]
    },
    {
     "name": "stdout",
     "output_type": "stream",
     "text": [
      "Processing entry The General Conference on Weights and Measures is ...\n"
     ]
    },
    {
     "name": "stderr",
     "output_type": "stream",
     "text": [
      "100%|██████████| 1665/1665 [00:00<00:00, 166567.67it/s]\n",
      " 39%|███▊      | 1590/4109 [09:44<15:57,  2.63it/s]"
     ]
    },
    {
     "name": "stdout",
     "output_type": "stream",
     "text": [
      "Processing entry An island is an isolated piece of habitat that is ...\n"
     ]
    },
    {
     "name": "stderr",
     "output_type": "stream",
     "text": [
      "100%|██████████| 1761/1761 [00:00<00:00, 1339287.28it/s]\n",
      " 39%|███▊      | 1591/4109 [09:44<14:00,  3.00it/s]"
     ]
    },
    {
     "name": "stdout",
     "output_type": "stream",
     "text": [
      "Processing entry The Premier of Bermuda serves as head of governmen...\n"
     ]
    },
    {
     "name": "stderr",
     "output_type": "stream",
     "text": [
      "100%|██████████| 99/99 [00:00<00:00, 712240.30it/s]\n"
     ]
    },
    {
     "name": "stdout",
     "output_type": "stream",
     "text": [
      "Processing entry The death ray or death beam was a theoretical part...\n"
     ]
    },
    {
     "name": "stderr",
     "output_type": "stream",
     "text": [
      "100%|██████████| 860/860 [00:00<00:00, 889105.61it/s]\n",
      " 39%|███▉      | 1593/4109 [09:44<09:31,  4.40it/s]"
     ]
    },
    {
     "name": "stdout",
     "output_type": "stream",
     "text": [
      "Processing entry 1999 was a common year starting on Friday of the G...\n"
     ]
    },
    {
     "name": "stderr",
     "output_type": "stream",
     "text": [
      "100%|██████████| 6655/6655 [00:00<00:00, 108722.09it/s]\n",
      " 39%|███▉      | 1594/4109 [09:45<17:11,  2.44it/s]"
     ]
    },
    {
     "name": "stdout",
     "output_type": "stream",
     "text": [
      "Processing entry L, or l, is the twelfth letter of the modern Engli...\n"
     ]
    },
    {
     "name": "stderr",
     "output_type": "stream",
     "text": [
      "100%|██████████| 1071/1071 [00:00<00:00, 37993.62it/s]\n",
      " 39%|███▉      | 1595/4109 [09:45<15:55,  2.63it/s]"
     ]
    },
    {
     "name": "stdout",
     "output_type": "stream",
     "text": [
      "Processing entry The Farman F.60 Goliath was a French airliner and ...\n"
     ]
    },
    {
     "name": "stderr",
     "output_type": "stream",
     "text": [
      "100%|██████████| 2904/2904 [00:00<00:00, 238678.84it/s]\n",
      " 39%|███▉      | 1596/4109 [09:46<16:20,  2.56it/s]"
     ]
    },
    {
     "name": "stdout",
     "output_type": "stream",
     "text": [
      "Processing entry The Belarusian Auxiliary Police was a collaboratio...\n"
     ]
    },
    {
     "name": "stderr",
     "output_type": "stream",
     "text": [
      "100%|██████████| 630/630 [00:00<00:00, 1396623.42it/s]\n"
     ]
    },
    {
     "name": "stdout",
     "output_type": "stream",
     "text": [
      "Processing entry The 1916 United States Senate elections were elect...\n"
     ]
    },
    {
     "name": "stderr",
     "output_type": "stream",
     "text": [
      "100%|██████████| 755/755 [00:00<00:00, 146491.17it/s]\n",
      " 39%|███▉      | 1598/4109 [09:46<10:35,  3.95it/s]"
     ]
    },
    {
     "name": "stdout",
     "output_type": "stream",
     "text": [
      "Processing entry Sir Arthur Ignatius Conan Doyle was a British writ...\n"
     ]
    },
    {
     "name": "stderr",
     "output_type": "stream",
     "text": [
      "100%|██████████| 7077/7077 [00:00<00:00, 562030.70it/s]\n",
      " 39%|███▉      | 1599/4109 [09:46<13:03,  3.21it/s]"
     ]
    },
    {
     "name": "stdout",
     "output_type": "stream",
     "text": [
      "Processing entry Om  is a sacred sound, syllable, mantra, or an inv...\n"
     ]
    },
    {
     "name": "stderr",
     "output_type": "stream",
     "text": [
      "100%|██████████| 5202/5202 [00:00<00:00, 1353269.83it/s]\n",
      " 39%|███▉      | 1600/4109 [09:47<15:12,  2.75it/s]"
     ]
    },
    {
     "name": "stdout",
     "output_type": "stream",
     "text": [
      "Processing entry Matthew Stanley Matt Quay was an American politici...\n"
     ]
    },
    {
     "name": "stderr",
     "output_type": "stream",
     "text": [
      "100%|██████████| 11728/11728 [00:00<00:00, 223131.03it/s]\n",
      " 39%|███▉      | 1601/4109 [09:48<22:32,  1.85it/s]"
     ]
    },
    {
     "name": "stdout",
     "output_type": "stream",
     "text": [
      "Processing entry A strikebreaker is a person who works despite a st...\n"
     ]
    },
    {
     "name": "stderr",
     "output_type": "stream",
     "text": [
      "100%|██████████| 2085/2085 [00:00<00:00, 303882.27it/s]\n",
      " 39%|███▉      | 1602/4109 [09:48<18:33,  2.25it/s]"
     ]
    },
    {
     "name": "stdout",
     "output_type": "stream",
     "text": [
      "Processing entry French Somaliland was a French colony in the Horn ...\n"
     ]
    },
    {
     "name": "stderr",
     "output_type": "stream",
     "text": [
      "100%|██████████| 479/479 [00:00<00:00, 598829.10it/s]\n"
     ]
    },
    {
     "name": "stdout",
     "output_type": "stream",
     "text": [
      "Processing entry A patent medicine, sometimes called a proprietary ...\n"
     ]
    },
    {
     "name": "stderr",
     "output_type": "stream",
     "text": [
      "100%|██████████| 3772/3772 [00:00<00:00, 731704.50it/s]\n",
      " 39%|███▉      | 1604/4109 [09:49<14:59,  2.78it/s]"
     ]
    },
    {
     "name": "stdout",
     "output_type": "stream",
     "text": [
      "Processing entry Georg von B k sy was a Hungarian American biophysi...\n"
     ]
    },
    {
     "name": "stderr",
     "output_type": "stream",
     "text": [
      "100%|██████████| 1739/1739 [00:00<00:00, 274816.12it/s]\n",
      " 39%|███▉      | 1605/4109 [09:49<13:27,  3.10it/s]"
     ]
    },
    {
     "name": "stdout",
     "output_type": "stream",
     "text": [
      "Processing entry Maribor , German: ma ibo  ; also known by other hi...\n"
     ]
    },
    {
     "name": "stderr",
     "output_type": "stream",
     "text": [
      "100%|██████████| 4181/4181 [00:00<00:00, 183473.37it/s]\n",
      " 39%|███▉      | 1606/4109 [09:49<15:57,  2.61it/s]"
     ]
    },
    {
     "name": "stdout",
     "output_type": "stream",
     "text": [
      "Processing entry July 13 is the 194th day of the year in the Gregor...\n"
     ]
    },
    {
     "name": "stderr",
     "output_type": "stream",
     "text": [
      "100%|██████████| 3521/3521 [00:00<00:00, 141512.90it/s]\n",
      " 39%|███▉      | 1607/4109 [09:50<19:04,  2.19it/s]"
     ]
    },
    {
     "name": "stdout",
     "output_type": "stream",
     "text": [
      "Processing entry Paris is the capital and most populous city of Fra...\n"
     ]
    },
    {
     "name": "stderr",
     "output_type": "stream",
     "text": [
      "100%|██████████| 18939/18939 [00:00<00:00, 91354.59it/s] \n",
      " 39%|███▉      | 1608/4109 [09:52<36:31,  1.14it/s]"
     ]
    },
    {
     "name": "stdout",
     "output_type": "stream",
     "text": [
      "Processing entry Rwanda ; Kinyarwanda: u Rwanda u. wa .nda , offici...\n"
     ]
    },
    {
     "name": "stderr",
     "output_type": "stream",
     "text": [
      "100%|██████████| 10726/10726 [00:00<00:00, 411605.82it/s]\n",
      " 39%|███▉      | 1609/4109 [09:53<42:24,  1.02s/it]"
     ]
    },
    {
     "name": "stdout",
     "output_type": "stream",
     "text": [
      "Processing entry October 5 is the 278th day of the year in the Greg...\n"
     ]
    },
    {
     "name": "stderr",
     "output_type": "stream",
     "text": [
      "100%|██████████| 3940/3940 [00:00<00:00, 93914.96it/s]\n",
      " 39%|███▉      | 1610/4109 [09:54<40:20,  1.03it/s]"
     ]
    },
    {
     "name": "stdout",
     "output_type": "stream",
     "text": [
      "Processing entry John Logie Baird FRSE was a Scottish inventor, ele...\n"
     ]
    },
    {
     "name": "stderr",
     "output_type": "stream",
     "text": [
      "100%|██████████| 3129/3129 [00:00<00:00, 244886.87it/s]\n",
      " 39%|███▉      | 1611/4109 [09:55<33:29,  1.24it/s]"
     ]
    },
    {
     "name": "stdout",
     "output_type": "stream",
     "text": [
      "Processing entry July 25 is the 206th day of the year in the Gregor...\n"
     ]
    },
    {
     "name": "stderr",
     "output_type": "stream",
     "text": [
      "100%|██████████| 4487/4487 [00:00<00:00, 202747.59it/s]\n",
      " 39%|███▉      | 1612/4109 [09:55<32:12,  1.29it/s]"
     ]
    },
    {
     "name": "stdout",
     "output_type": "stream",
     "text": [
      "Processing entry The Dardanelles , also known as the Strait of Gall...\n"
     ]
    },
    {
     "name": "stderr",
     "output_type": "stream",
     "text": [
      "100%|██████████| 2694/2694 [00:00<00:00, 1364009.53it/s]\n",
      " 39%|███▉      | 1613/4109 [09:56<25:33,  1.63it/s]"
     ]
    },
    {
     "name": "stdout",
     "output_type": "stream",
     "text": [
      "Processing entry The Dreyfus affair was a political scandal that di...\n"
     ]
    },
    {
     "name": "stderr",
     "output_type": "stream",
     "text": [
      "100%|██████████| 21499/21499 [00:00<00:00, 160730.78it/s]\n",
      " 39%|███▉      | 1614/4109 [09:57<41:13,  1.01it/s]"
     ]
    },
    {
     "name": "stdout",
     "output_type": "stream",
     "text": [
      "Processing entry Pinilla is a surname. Notable people with the surn...\n"
     ]
    },
    {
     "name": "stderr",
     "output_type": "stream",
     "text": [
      "100%|██████████| 48/48 [00:00<00:00, 452419.31it/s]\n"
     ]
    },
    {
     "name": "stdout",
     "output_type": "stream",
     "text": [
      "Processing entry Oliver Mlakar is a Croatian television presenter. ...\n"
     ]
    },
    {
     "name": "stderr",
     "output_type": "stream",
     "text": [
      "100%|██████████| 259/259 [00:00<00:00, 1071326.17it/s]\n"
     ]
    },
    {
     "name": "stdout",
     "output_type": "stream",
     "text": [
      "Processing entry Jules mile Fr d ric Massenet was a French composer...\n"
     ]
    },
    {
     "name": "stderr",
     "output_type": "stream",
     "text": [
      "100%|██████████| 7435/7435 [00:00<00:00, 411564.45it/s]\n",
      " 39%|███▉      | 1617/4109 [09:58<23:38,  1.76it/s]"
     ]
    },
    {
     "name": "stdout",
     "output_type": "stream",
     "text": [
      "Processing entry James Naismith was a Canadian American physical ed...\n"
     ]
    },
    {
     "name": "stderr",
     "output_type": "stream",
     "text": [
      "100%|██████████| 3942/3942 [00:00<00:00, 311403.08it/s]\n",
      " 39%|███▉      | 1618/4109 [09:58<21:15,  1.95it/s]"
     ]
    },
    {
     "name": "stdout",
     "output_type": "stream",
     "text": [
      "Processing entry Yisrael ben Ze'ev Wolf Lipkin, also known as Israe...\n"
     ]
    },
    {
     "name": "stderr",
     "output_type": "stream",
     "text": [
      "100%|██████████| 2180/2180 [00:00<00:00, 970244.35it/s]\n",
      " 39%|███▉      | 1619/4109 [09:59<19:21,  2.14it/s]"
     ]
    },
    {
     "name": "stdout",
     "output_type": "stream",
     "text": [
      "Processing entry Florida is a state located in the Southeastern reg...\n"
     ]
    },
    {
     "name": "stderr",
     "output_type": "stream",
     "text": [
      "100%|██████████| 13561/13561 [00:00<00:00, 229979.37it/s]\n",
      " 39%|███▉      | 1620/4109 [10:00<30:14,  1.37it/s]"
     ]
    },
    {
     "name": "stdout",
     "output_type": "stream",
     "text": [
      "Processing entry During the Napoleonic Wars until 1810, Sweden and ...\n"
     ]
    },
    {
     "name": "stderr",
     "output_type": "stream",
     "text": [
      "100%|██████████| 562/562 [00:00<00:00, 204051.15it/s]\n",
      " 39%|███▉      | 1621/4109 [10:00<23:25,  1.77it/s]"
     ]
    },
    {
     "name": "stdout",
     "output_type": "stream",
     "text": [
      "Processing entry July 20 is the 201st day of the year in the Gregor...\n"
     ]
    },
    {
     "name": "stderr",
     "output_type": "stream",
     "text": [
      "100%|██████████| 4549/4549 [00:00<00:00, 53992.71it/s]\n",
      " 39%|███▉      | 1622/4109 [10:01<23:10,  1.79it/s]"
     ]
    },
    {
     "name": "stdout",
     "output_type": "stream",
     "text": [
      "Processing entry Space division multiple access is a channel access...\n"
     ]
    },
    {
     "name": "stderr",
     "output_type": "stream",
     "text": [
      "100%|██████████| 532/532 [00:00<00:00, 711306.89it/s]\n"
     ]
    },
    {
     "name": "stdout",
     "output_type": "stream",
     "text": [
      "Processing entry The current Constitution of the Republic of Serbia...\n"
     ]
    },
    {
     "name": "stderr",
     "output_type": "stream",
     "text": [
      "100%|██████████| 875/875 [00:00<00:00, 1077831.42it/s]\n",
      " 40%|███▉      | 1624/4109 [10:01<15:17,  2.71it/s]"
     ]
    },
    {
     "name": "stdout",
     "output_type": "stream",
     "text": [
      "Processing entry The argan Eight is a narrow gauge heritage railway...\n"
     ]
    },
    {
     "name": "stderr",
     "output_type": "stream",
     "text": [
      "100%|██████████| 1962/1962 [00:00<00:00, 1739058.42it/s]\n",
      " 40%|███▉      | 1625/4109 [10:01<13:31,  3.06it/s]"
     ]
    },
    {
     "name": "stdout",
     "output_type": "stream",
     "text": [
      "Processing entry An economy is an area of the production, distribut...\n"
     ]
    },
    {
     "name": "stderr",
     "output_type": "stream",
     "text": [
      "100%|██████████| 2228/2228 [00:00<00:00, 937302.84it/s]\n",
      " 40%|███▉      | 1626/4109 [10:02<12:17,  3.37it/s]"
     ]
    },
    {
     "name": "stdout",
     "output_type": "stream",
     "text": [
      "Processing entry In special economic zones business and trades laws...\n"
     ]
    },
    {
     "name": "stderr",
     "output_type": "stream",
     "text": [
      "100%|██████████| 1252/1252 [00:00<00:00, 283653.03it/s]\n"
     ]
    },
    {
     "name": "stdout",
     "output_type": "stream",
     "text": [
      "Processing entry The Boxers, officially known as the Society of Rig...\n"
     ]
    },
    {
     "name": "stderr",
     "output_type": "stream",
     "text": [
      "100%|██████████| 1329/1329 [00:00<00:00, 463746.26it/s]\n",
      " 40%|███▉      | 1628/4109 [10:02<08:26,  4.90it/s]"
     ]
    },
    {
     "name": "stdout",
     "output_type": "stream",
     "text": [
      "Processing entry Tr n Tr ng Kim , courtesy name L Th n, was a Vietn...\n"
     ]
    },
    {
     "name": "stderr",
     "output_type": "stream",
     "text": [
      "100%|██████████| 1751/1751 [00:00<00:00, 156506.55it/s]\n",
      " 40%|███▉      | 1629/4109 [10:02<07:54,  5.23it/s]"
     ]
    },
    {
     "name": "stdout",
     "output_type": "stream",
     "text": [
      "Processing entry Rennzweier is a veteran automobile manufactured by...\n"
     ]
    },
    {
     "name": "stderr",
     "output_type": "stream",
     "text": [
      "100%|██████████| 517/517 [00:00<00:00, 1350221.15it/s]\n"
     ]
    },
    {
     "name": "stdout",
     "output_type": "stream",
     "text": [
      "Processing entry Orbital angular momentum multiplexing is a physica...\n"
     ]
    },
    {
     "name": "stderr",
     "output_type": "stream",
     "text": [
      "100%|██████████| 1506/1506 [00:00<00:00, 107172.19it/s]\n",
      " 40%|███▉      | 1631/4109 [10:02<06:41,  6.17it/s]"
     ]
    },
    {
     "name": "stdout",
     "output_type": "stream",
     "text": [
      "Processing entry Sir Edmund Harry Elton, 8th Baronet was an English...\n"
     ]
    },
    {
     "name": "stderr",
     "output_type": "stream",
     "text": [
      "100%|██████████| 299/299 [00:00<00:00, 469347.64it/s]\n"
     ]
    },
    {
     "name": "stdout",
     "output_type": "stream",
     "text": [
      "Processing entry The 45th parallel north is a circle of latitude th...\n"
     ]
    },
    {
     "name": "stderr",
     "output_type": "stream",
     "text": [
      "100%|██████████| 1085/1085 [00:00<00:00, 155466.65it/s]\n",
      " 40%|███▉      | 1633/4109 [10:02<05:28,  7.53it/s]"
     ]
    },
    {
     "name": "stdout",
     "output_type": "stream",
     "text": [
      "Processing entry AFS Intercultural Programs is an international you...\n"
     ]
    },
    {
     "name": "stderr",
     "output_type": "stream",
     "text": [
      "100%|██████████| 2743/2743 [00:00<00:00, 403966.85it/s]\n",
      " 40%|███▉      | 1634/4109 [10:03<07:46,  5.31it/s]"
     ]
    },
    {
     "name": "stdout",
     "output_type": "stream",
     "text": [
      "Processing entry The Bronx Zoo is a zoo within Bronx Park in the Br...\n"
     ]
    },
    {
     "name": "stderr",
     "output_type": "stream",
     "text": [
      "100%|██████████| 12099/12099 [00:00<00:00, 259907.22it/s]\n",
      " 40%|███▉      | 1635/4109 [10:04<20:32,  2.01it/s]"
     ]
    },
    {
     "name": "stdout",
     "output_type": "stream",
     "text": [
      "Processing entry Francisco Remigio Morales Berm dez Cerruti was a P...\n"
     ]
    },
    {
     "name": "stderr",
     "output_type": "stream",
     "text": [
      "100%|██████████| 775/775 [00:00<00:00, 55447.09it/s]\n"
     ]
    },
    {
     "name": "stdout",
     "output_type": "stream",
     "text": [
      "Processing entry The Antarctic Circle is the most southerly of the ...\n"
     ]
    },
    {
     "name": "stderr",
     "output_type": "stream",
     "text": [
      "100%|██████████| 615/615 [00:00<00:00, 515590.04it/s]\n",
      " 40%|███▉      | 1637/4109 [10:04<14:09,  2.91it/s]"
     ]
    },
    {
     "name": "stdout",
     "output_type": "stream",
     "text": [
      "Processing entry The Danish Girl is a 2015 biographical romantic dr...\n"
     ]
    },
    {
     "name": "stderr",
     "output_type": "stream",
     "text": [
      "100%|██████████| 3058/3058 [00:00<00:00, 650348.93it/s]\n",
      " 40%|███▉      | 1638/4109 [10:05<13:51,  2.97it/s]"
     ]
    },
    {
     "name": "stdout",
     "output_type": "stream",
     "text": [
      "Processing entry Johannesburg , colloquially known as Jozi, Joburg,...\n"
     ]
    },
    {
     "name": "stderr",
     "output_type": "stream",
     "text": [
      "100%|██████████| 9893/9893 [00:00<00:00, 410172.19it/s]\n",
      " 40%|███▉      | 1639/4109 [10:06<20:37,  2.00it/s]"
     ]
    },
    {
     "name": "stdout",
     "output_type": "stream",
     "text": [
      "Processing entry Jaffe and its variant spellings Jaff and Yaffe are...\n"
     ]
    },
    {
     "name": "stderr",
     "output_type": "stream",
     "text": [
      "100%|██████████| 515/515 [00:00<00:00, 704522.69it/s]\n"
     ]
    },
    {
     "name": "stdout",
     "output_type": "stream",
     "text": [
      "Processing entry The Century Magazine was an illustrated monthly ma...\n"
     ]
    },
    {
     "name": "stderr",
     "output_type": "stream",
     "text": [
      "100%|██████████| 5640/5640 [00:00<00:00, 292879.47it/s]\n",
      " 40%|███▉      | 1641/4109 [10:06<17:18,  2.38it/s]"
     ]
    },
    {
     "name": "stdout",
     "output_type": "stream",
     "text": [
      "Processing entry 1818 was a common year starting on Thursday of the...\n"
     ]
    },
    {
     "name": "stderr",
     "output_type": "stream",
     "text": [
      "100%|██████████| 2126/2126 [00:00<00:00, 127190.77it/s]\n",
      " 40%|███▉      | 1642/4109 [10:07<16:42,  2.46it/s]"
     ]
    },
    {
     "name": "stdout",
     "output_type": "stream",
     "text": [
      "Processing entry The Institute of Electrical and Electronics Engine...\n"
     ]
    },
    {
     "name": "stderr",
     "output_type": "stream",
     "text": [
      "100%|██████████| 1458/1458 [00:00<00:00, 556695.06it/s]\n",
      " 40%|███▉      | 1643/4109 [10:07<14:20,  2.87it/s]"
     ]
    },
    {
     "name": "stdout",
     "output_type": "stream",
     "text": [
      "Processing entry An island is an isolated piece of habitat that is ...\n"
     ]
    },
    {
     "name": "stderr",
     "output_type": "stream",
     "text": [
      "100%|██████████| 1761/1761 [00:00<00:00, 715575.41it/s]\n",
      " 40%|████      | 1644/4109 [10:07<12:16,  3.35it/s]"
     ]
    },
    {
     "name": "stdout",
     "output_type": "stream",
     "text": [
      "Processing entry 1997 was a common year starting on Wednesday of th...\n"
     ]
    },
    {
     "name": "stderr",
     "output_type": "stream",
     "text": [
      "100%|██████████| 7220/7220 [00:00<00:00, 48038.85it/s]\n",
      " 40%|████      | 1645/4109 [10:08<22:59,  1.79it/s]"
     ]
    },
    {
     "name": "stdout",
     "output_type": "stream",
     "text": [
      "Processing entry 1886 was a common year starting on Friday of the G...\n"
     ]
    },
    {
     "name": "stderr",
     "output_type": "stream",
     "text": [
      "100%|██████████| 3470/3470 [00:00<00:00, 57128.98it/s]\n",
      " 40%|████      | 1646/4109 [10:09<21:38,  1.90it/s]"
     ]
    },
    {
     "name": "stdout",
     "output_type": "stream",
     "text": [
      "Processing entry Uxbridge is a suburban town in West London and the...\n"
     ]
    },
    {
     "name": "stderr",
     "output_type": "stream",
     "text": [
      "100%|██████████| 5362/5362 [00:00<00:00, 790866.06it/s]\n",
      " 40%|████      | 1647/4109 [10:09<21:27,  1.91it/s]"
     ]
    },
    {
     "name": "stdout",
     "output_type": "stream",
     "text": [
      "Processing entry IEEE Access is a peer reviewed open access scienti...\n"
     ]
    },
    {
     "name": "stderr",
     "output_type": "stream",
     "text": [
      "100%|██████████| 175/175 [00:00<00:00, 228163.88it/s]\n"
     ]
    },
    {
     "name": "stdout",
     "output_type": "stream",
     "text": [
      "Processing entry Ravi Shankar is an Indian yoga guru, a spiritual l...\n"
     ]
    },
    {
     "name": "stderr",
     "output_type": "stream",
     "text": [
      "100%|██████████| 2059/2059 [00:00<00:00, 572911.76it/s]\n",
      " 40%|████      | 1649/4109 [10:10<14:25,  2.84it/s]"
     ]
    },
    {
     "name": "stdout",
     "output_type": "stream",
     "text": [
      "Processing entry This is a list of sovereign states in the 1990s, g...\n"
     ]
    },
    {
     "name": "stderr",
     "output_type": "stream",
     "text": [
      "100%|██████████| 845/845 [00:00<00:00, 1676531.16it/s]\n"
     ]
    },
    {
     "name": "stdout",
     "output_type": "stream",
     "text": [
      "Processing entry The Institute of Electrical and Electronics Engine...\n"
     ]
    },
    {
     "name": "stderr",
     "output_type": "stream",
     "text": [
      "100%|██████████| 1458/1458 [00:00<00:00, 1255707.44it/s]\n",
      " 40%|████      | 1651/4109 [10:10<10:48,  3.79it/s]"
     ]
    },
    {
     "name": "stdout",
     "output_type": "stream",
     "text": [
      "Processing entry The Fahrenheit scale is a temperature scale based ...\n"
     ]
    },
    {
     "name": "stderr",
     "output_type": "stream",
     "text": [
      "100%|██████████| 2024/2024 [00:00<00:00, 205456.84it/s]\n",
      " 40%|████      | 1652/4109 [10:10<10:47,  3.79it/s]"
     ]
    },
    {
     "name": "stdout",
     "output_type": "stream",
     "text": [
      "Processing entry This is a list of sovereign states in the 1920s, g...\n"
     ]
    },
    {
     "name": "stderr",
     "output_type": "stream",
     "text": [
      "100%|██████████| 75/75 [00:00<00:00, 171242.68it/s]\n"
     ]
    },
    {
     "name": "stdout",
     "output_type": "stream",
     "text": [
      "Processing entry Capsizing or keeling over occurs when a boat or sh...\n"
     ]
    },
    {
     "name": "stderr",
     "output_type": "stream",
     "text": [
      "100%|██████████| 2862/2862 [00:00<00:00, 1016693.32it/s]\n",
      " 40%|████      | 1654/4109 [10:10<09:39,  4.24it/s]"
     ]
    },
    {
     "name": "stdout",
     "output_type": "stream",
     "text": [
      "Processing entry The Tesla World Light is an 8 minute 2017 black an...\n"
     ]
    },
    {
     "name": "stderr",
     "output_type": "stream",
     "text": [
      "100%|██████████| 560/560 [00:00<00:00, 444766.19it/s]\n"
     ]
    },
    {
     "name": "stdout",
     "output_type": "stream",
     "text": [
      "Processing entry The civil rights movement was a political movement...\n"
     ]
    }
   ],
   "source": [
    "main()"
   ]
  }
 ],
 "metadata": {
  "kernelspec": {
   "display_name": "Python 3.9.6 ('base')",
   "language": "python",
   "name": "python3"
  },
  "language_info": {
   "codemirror_mode": {
    "name": "ipython",
    "version": 3
   },
   "file_extension": ".py",
   "mimetype": "text/x-python",
   "name": "python",
   "nbconvert_exporter": "python",
   "pygments_lexer": "ipython3",
   "version": "3.9.6"
  },
  "orig_nbformat": 4,
  "vscode": {
   "interpreter": {
    "hash": "6e8cf12211551e1ecfb7b84827bd23b348fb076393a508e20e995a8149682546"
   }
  }
 },
 "nbformat": 4,
 "nbformat_minor": 2
}
